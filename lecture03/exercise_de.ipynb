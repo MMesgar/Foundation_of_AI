{
 "cells": [
  {
   "cell_type": "markdown",
   "metadata": {},
   "source": [
    "# Übung: Agenten\n",
    "\n",
    "Stand: SoSe 2022\n",
    "\n",
    "Geschätzte benötigte Zeit: 90 Minuten\n",
    "\n",
    "Autor: Jenny Kozielski\n",
    "\n",
    "______"
   ]
  },
  {
   "cell_type": "markdown",
   "metadata": {},
   "source": [
    "# Präsenzübung"
   ]
  },
  {
   "cell_type": "markdown",
   "metadata": {},
   "source": [
    "# Ziele\n",
    "\n",
    "Nach Abschluss dieser Übung können Sie:\n",
    "\n",
    " - gute und schlechte Leistungsbewertungen erklären\n",
    " - PEAS Beschreibungen erstellen und erklären\n",
    " - Umgebungsvariablen erstellen und erklären"
   ]
  },
  {
   "cell_type": "markdown",
   "metadata": {},
   "source": [
    "**Erinnerung: Bitte laden Sie diese Übung auf [Google Colab](https://colab.research.google.com/) hoch, damit Sie an den Aufgaben arbeiten können**"
   ]
  },
  {
   "cell_type": "markdown",
   "metadata": {},
   "source": [
    "**Lese-Material:\n",
    "Obligatorisch: Kapitel 2.1-2.4 von Russell & Norvig**"
   ]
  },
  {
   "cell_type": "markdown",
   "metadata": {},
   "source": [
    "# Aufgabe 1\n",
    "### Russell & Norvig, Sektion 2 Intelligente Agenten, 2.2, deutsche Version: Seite 63\n",
    "\n",
    "Betrachten Sie folgendes Szenario: Ein Staubsaugroboter erhält als Leistungsbewertung/Leistungsmaß möglichst viel Schmutz aufzusaugen.</br>\n",
    "a) Wie kann der Roboter die Leistungsbewertung (unsinnigerweise) maximieren?</br>\n",
    "b) Was wäre ein besser gewähltes Leistungsmaß?"
   ]
  },
  {
   "cell_type": "markdown",
   "metadata": {},
   "source": [
    "<details><summary>Klicken Sie hier für die Lösung</summary>\n",
    "\n",
    "## Lösung:\n",
    "    \n",
    "a) Der Roboter kann aufgesaugten Schmutz auskippen und neu aufsaugen.</br>\n",
    "b) Sauberer Boden - Ein gewünschter Zustand ist meist das besser gewählte Leistungsmaß\n",
    "\n",
    "</details>"
   ]
  },
  {
   "cell_type": "markdown",
   "metadata": {},
   "source": [
    "# Aufgabe 2\n",
    "### Russell & Norvig, Sektion 2 Intelligente Agenten, 2.2, deutsche Version: Seite 64\n",
    "\n",
    "Angenommen ein Staubsaugroboter würde immer wieder den selben Saugprozess durchführen ohne zu merken, dass es schon seit vielen Stunden keinen Schmutz mehr gibt. Der Roboter verlässt sich zu sehr auf das Vorwissen des Entwicklers und nicht genug auf die eigene Wahrnehmung. Dies nennt man fehlende ... ?"
   ]
  },
  {
   "cell_type": "markdown",
   "metadata": {},
   "source": [
    "<details><summary>Klicken Sie hier für die Lösung</summary>\n",
    "\n",
    "## Lösung:    \n",
    "    \n",
    "Autonomie\n",
    "    \n",
    "</details>"
   ]
  },
  {
   "cell_type": "markdown",
   "metadata": {},
   "source": [
    "# Aufgabe 3\n",
    "### Russell & Norvig, Sektion 2 Intelligente Agenten, 2.4.3, deutsche Version: Seite 78\n",
    "\n",
    "Nehmen Sie als Beispiel einen autofahrenden Agenten. Dieser weiß, dass wenn er 100 km gefahren ist, 100 km von seinem Ursprungsort entfernt ist, und er weiß, dass wenn ein Auto ihn überholt, es näher kommt als es noch vor einem Moment war.</br>\n",
    "a) Dieses Wissen darüber, wie die Welt funktioniert, wird als ... bezeichnet.</br>\n",
    "b) Ein solcher Agent ist ein ... Agent."
   ]
  },
  {
   "cell_type": "markdown",
   "metadata": {},
   "source": [
    "<details><summary>Klicken Sie hier für die Lösung</summary>\n",
    "\n",
    "## Lösung\n",
    "\n",
    "a) Modell</br>\n",
    "b) modellbasierter\n",
    "\n",
    "</details>"
   ]
  },
  {
   "cell_type": "markdown",
   "metadata": {},
   "source": [
    "# Aufgabe 4"
   ]
  },
  {
   "cell_type": "markdown",
   "metadata": {},
   "source": [
    "## Aufgabe 4.1\n",
    "\n",
    "Wie gut sich ein Agent verhält, wird sowohl von der Leistungsbewertung/dem Leistungsmaß (performance measure) als auch von der Nützlichkeitsfunktion (utility functions) gemessen. Erklären Sie den Unterschied zwischen beiden."
   ]
  },
  {
   "cell_type": "markdown",
   "metadata": {
    "tags": [
     "solution"
    ]
   },
   "source": [
    "<details><summary>Klicken Sie hier für die Lösung</summary>\n",
    "\n",
    "Das performance measure ist global, d.h. es spezifiziert nur, was das angestrebte Gesamtziel ist, macht aber keine Aussagen über die individuellen Schritte um dahin zu gelangen. Die utility function ist lokal, d.h. sie bewertet die Nützlichkeit einzelner Schritte oder Zustände.\n",
    "</details>"
   ]
  },
  {
   "cell_type": "markdown",
   "metadata": {},
   "source": [
    "## Aufgabe 4.2\n",
    "\n",
    "Definieren Sie mindestens zwei verschiedene performance measures für einen Poker-Agenten. Erläutern Sie,\n",
    "welche davon für einen Agenten leichter zu erreichen sein wird.\n"
   ]
  },
  {
   "cell_type": "markdown",
   "metadata": {
    "tags": [
     "solution"
    ]
   },
   "source": [
    "<details><summary>Klicken Sie hier für die Lösung</summary>\n",
    "\n",
    "Eine mögliche Antwort:\n",
    "\n",
    "<ul>\n",
    "    <li>Gewinne so viel Geld wie möglich. Schwierig. Man spielt gegen andere Agenten, die auch gewinnen wollen.</li>\n",
    "    <li>Verliere so wenig Geld wie möglich. Leicht(er). Man setzt immer den minimalen Betrag und tut sonst nichts.</li>\n",
    "</ul>\n",
    "</details>"
   ]
  },
  {
   "cell_type": "markdown",
   "metadata": {},
   "source": [
    "## Aufgabe 4.3\n",
    "\n",
    "Entwerfen Sie PEAS-Beschreibungen für die folgenden Problemstellungen (PEAS = Performance measure,\n",
    "Environment, Actuators, Sensors).<br>\n",
    "\n",
    "\n",
    "* Rasenmäher\n",
    "* Pflegeroboter\n",
    "* Übersetzer für Sprachnachrichten\n",
    "* Agent, der Hotels auswählt\n",
    "* Kreditvergabe"
   ]
  },
  {
   "cell_type": "markdown",
   "metadata": {
    "tags": [
     "solution"
    ]
   },
   "source": [
    "<details><summary>Klicken Sie hier für die Lösung</summary>\n",
    "\n",
    "| Task | Performance measures | Environment | Actuators | Sensors |\n",
    "| ---- | --- | --- | --- | --- |\n",
    "| Rasenmäher | sauberes Mähen, niedrige Dauer des Vorgangs | Rasen | Elektromotor, Schneidewerkzeug, Display | Knöpfe, USB Schnittstelle, Stoßsensor, Regensensor |\n",
    "| Pflegeroboter | Gesundheitszustand, emotionaler Zustand, rechtliche Maßgaben | Altenheim, Wohnung | Roboterarme, Räder | Kontaktsensor, Bildanalyse, medizinische Daten, Mikrophon |\n",
    "| Übersetzer | Korrektes Übersetzen einer Nachricht, Korrekte Ausprache der Übersetzung | Sprachnachricht, Benutzer | Sprachausgaben,  Bildschirmausgaben | Spracheingabe |\n",
    "| Hotelsuche | Preis/Leistungsverhältnis, Distanz zum gewünschten Ort | Internet oder Datenbank | Ergebnisausgabe | Eingegebene Informationen des Nutzers |\n",
    "| Kreditvergabe | Möglichst viele Kunden korrekt nach ihrer Kreditwürdigkeit bewerten | Kunden, Angestellte, Datenbank | Anzeigen einer Bewertung, Eingabeaufforderung | Eingegebene Informationen über den Kunden |#\n",
    "</details"
   ]
  },
  {
   "cell_type": "markdown",
   "metadata": {},
   "source": [
    "## Aufgabe 4.4\n",
    "\n",
    "Entwerfen Sie Umgebungs-Beschreibungen für die oben genannten Problemstellungen. Spezifizieren Sie die\n",
    "Kategorien Observability, Certainty, Temporal succession, Continuity, Scale und Population."
   ]
  },
  {
   "cell_type": "markdown",
   "metadata": {
    "tags": [
     "solution"
    ]
   },
   "source": [
    "<details><summary>Klicken Sie hier für die Lösung</summary>\n",
    "\n",
    "| Task | Observability | Certainty | Succession | Continuity | Scale | Population |\n",
    "| ---- | --- | --- | --- | --- | --- | --- | \n",
    "| Rasenmäher | partial | stochastic | sequential | dynamic | continuous | single |\n",
    "| Pflegeroboter | partial | stochastic | sequential | dynamic | continuous | more likely single |\n",
    "| Übersetzer | fully | deterministic | episodic | static | continuous | single |\n",
    "| Hotelsuche | partial | deterministic | episodic | dynamic | continuous | single |\n",
    "| Kreditvergabe | fully | strategic | episodic |  static | continuous | single |\n",
    "\n",
    "Mit Lernkomponente wird episodic zu sequential. <br>\n",
    "Dies sind nur einige mögliche Lösungen. Andere Angaben können je nach Modellierung auch richtig sein.\n",
    "</details>"
   ]
  }
 ],
 "metadata": {
  "kernelspec": {
   "display_name": "Python 3 (ipykernel)",
   "language": "python",
   "name": "python3"
  },
  "language_info": {
   "codemirror_mode": {
    "name": "ipython",
    "version": 3
   },
   "file_extension": ".py",
   "mimetype": "text/x-python",
   "name": "python",
   "nbconvert_exporter": "python",
   "pygments_lexer": "ipython3",
   "version": "3.7.13"
  },
  "varInspector": {
   "cols": {
    "lenName": 16,
    "lenType": 16,
    "lenVar": 40
   },
   "kernels_config": {
    "python": {
     "delete_cmd_postfix": "",
     "delete_cmd_prefix": "del ",
     "library": "var_list.py",
     "varRefreshCmd": "print(var_dic_list())"
    },
    "r": {
     "delete_cmd_postfix": ") ",
     "delete_cmd_prefix": "rm(",
     "library": "var_list.r",
     "varRefreshCmd": "cat(var_dic_list()) "
    }
   },
   "types_to_exclude": [
    "module",
    "function",
    "builtin_function_or_method",
    "instance",
    "_Feature"
   ],
   "window_display": false
  }
 },
 "nbformat": 4,
 "nbformat_minor": 2
}
