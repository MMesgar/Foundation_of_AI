{
 "cells": [
  {
   "cell_type": "markdown",
   "metadata": {},
   "source": [
    "# Exercise: Agents\n",
    "\n",
    "Version: SoSe 2022\n",
    "\n",
    "Estimated time needed: 60 minutes\n",
    "\n",
    "Author: Jenny Kozielski\n",
    "\n",
    "Deadline : Friday, 06.05.2022 (11:55 p.m.)\n",
    "\n",
    "______"
   ]
  },
  {
   "cell_type": "markdown",
   "metadata": {},
   "source": [
    "# Homework"
   ]
  },
  {
   "cell_type": "markdown",
   "metadata": {},
   "source": [
    "### Submission guidelines\n",
    "* You can reach up to 10 homework points for every homework submission. 10 homework points correspond to one exam point.\n",
    "* In the course of the semester, there will be extra bonus points (where each bonus point equals to one exam point) for the homeworks. These will be given in the form of e.g. challenges inside the homeworks. More information will be given in the corresponding homeworks.\n",
    "* The submission has to be done by a team of two to four people. **Individual submissions will not be graded**. The team members do not have to attend the same exercise group. If there are any problems regarding this guideline, please reach out to a tutor.\n",
    "* Please state the **name and matriculation number of all team members** in every submission **clearly**.\n",
    "* Only **one team member should submit** the homework. If more than one version of the same homework is submitted by accident (submitted by more than one group member), please reach out to a tutor **as soon as possible**. Otherwise, the first submitted homework will be graded.\n",
    "* The submission must be in a Jupyter Notebook format (.ipynb). Submissions in **other formats will not be graded**. If there are any problems regarding this guideline, please reach out to a tutor.\n",
    "* It is not necessary to also submit the part of the exercise discussed by the tutor, please only submit the homework part.\n",
    "* If you want to insert pictures in your homework, insert them like this: Uplaod the picture to Google Drive. Right click on it. Click on \"Get shareable link\". Set the accessibility to \"Anyone with link\". Copy the link. Create a text cell where you want to insert the picture. Insert the link as follows: ``![picture description]``(insert link here, inside these brackets). Change the link as follows: From \"https://drive.google.com/file/d/XXXXX/view?usp=sharing\" to \"https://drive.google.com/uc?id=XXXXX\". XXXXX describes the individual ID, which will be in your link."
   ]
  },
  {
   "cell_type": "markdown",
   "metadata": {},
   "source": [
    "# Task 1\n",
    "### 4 homework points"
   ]
  },
  {
   "cell_type": "markdown",
   "metadata": {},
   "source": [
    "Create PEAS descriptions for the following agents. Justify your answers, if it is not self-explanatory:<br>\n",
    "(a) Mensch-ärger-dich-nicht / Ludo <br>\n",
    "(b) Self-driving subway <br>\n",
    "(c) stock trader <br>"
   ]
  },
  {
   "cell_type": "markdown",
   "metadata": {},
   "source": [
    "#  Task 2\n",
    "### 6 homework points"
   ]
  },
  {
   "cell_type": "markdown",
   "metadata": {},
   "source": [
    "Describe the environments in which the agents operate using the categories Observability, Certainty, Temporal Succession, Continuity, Scale, and Population. Justify your answers."
   ]
  }
 ],
 "metadata": {
  "kernelspec": {
   "display_name": "Python 3 (ipykernel)",
   "language": "python",
   "name": "python3"
  },
  "language_info": {
   "codemirror_mode": {
    "name": "ipython",
    "version": 3
   },
   "file_extension": ".py",
   "mimetype": "text/x-python",
   "name": "python",
   "nbconvert_exporter": "python",
   "pygments_lexer": "ipython3",
   "version": "3.7.13"
  },
  "varInspector": {
   "cols": {
    "lenName": 16,
    "lenType": 16,
    "lenVar": 40
   },
   "kernels_config": {
    "python": {
     "delete_cmd_postfix": "",
     "delete_cmd_prefix": "del ",
     "library": "var_list.py",
     "varRefreshCmd": "print(var_dic_list())"
    },
    "r": {
     "delete_cmd_postfix": ") ",
     "delete_cmd_prefix": "rm(",
     "library": "var_list.r",
     "varRefreshCmd": "cat(var_dic_list()) "
    }
   },
   "types_to_exclude": [
    "module",
    "function",
    "builtin_function_or_method",
    "instance",
    "_Feature"
   ],
   "window_display": false
  }
 },
 "nbformat": 4,
 "nbformat_minor": 2
}
