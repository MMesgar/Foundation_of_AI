{
 "cells": [
  {
   "cell_type": "markdown",
   "metadata": {},
   "source": [
    "# Übung: Agenten\n",
    "\n",
    "Stand: SoSe 2022\n",
    "\n",
    "Geschätzte benötigte Zeit: 60 Minuten\n",
    "\n",
    "Autor: Jenny Kozielski\n",
    "\n",
    "Abgabe: Freitag, 06.05.2022 (23:55 Uhr)\n",
    "\n",
    "______"
   ]
  },
  {
   "cell_type": "markdown",
   "metadata": {},
   "source": [
    "## Hausübung"
   ]
  },
  {
   "cell_type": "markdown",
   "metadata": {},
   "source": [
    "### Abgaberichtlinien\n",
    "* Jede Hausübung bringt maximal 10 Hausaufgabenpunkte. 10 Hausaufgabenpunkte entsprechen einem Klausurpunkt.\n",
    "* Im Laufe des Semesters kann es zusätzliche Bonuspunkte (= 1 Klausurpunkt) für Hausübungen geben, in Form von z.B. Challenges, weitere Informationen folgen bei den betreffenden Hausübungen.\n",
    "* Die Abgabe erfolgt in Zweier- bis Viererteams. **Einzelabgaben werden nicht gewertet**. Die Teammitglieder müssen nicht in derselben Übungsgruppe sein. Bei Problemen bzw. Einzelfällen hinsichtlich dieser Richtlinie kontaktieren Sie einen Tutor.\n",
    "* In der Abgabe müssen alle Teammitglieder mit **Namen und Matrikelnummern gut sichtbar** genannt werden.\n",
    "* Es muss immer nur **ein Teammitglied der Gruppe abgeben**. Sollten aus Versehen mehrere Abgaben der selben Übung erfolgen, kommunizieren Sie dies **zeitnah** an einen Tutor, ansonsten wird die erste korrigierte Abgabe gewertet.\n",
    "* Die Abgabe soll als Jupyter-Notebook erfolgen (.ipynb). Abgaben in einem **anderen Format werden nicht gewertet**. Bei Problemen hinsichtlich dieser Richtlinie kontaktieren Sie einen Tutor.\n",
    "* Es ist nicht nötig, den Präsenzübungsteil in der Abgabe mit abzugeben. Es wird lediglich der Hausübungsteil gewertet.\n",
    "* Wenn Sie Bilder in der Hausaufgaben abgeben wollen, fügen Sie diese folgendermaßen ein: Laden Sie das entsprechende Bild bei Google Drive hoch. Klicken Sie per Rechtsklick auf das Bild. Klicken Sie auf \"Link abrufen\". Setzen Sie die Zugangsberechtigung auf \"Jeder, der über den Link verfügt\". Kopieren Sie den Link. Erstellen Sie eine Textzelle im Notebook in der Sie das Bild einfügen möchten. Fügen Sie den Link folgendermaßen ein: ``![Bildbeschreibung]``(Link hier einfügen, in diesen Klammern). Ändern Sie den Link folgendermaßen: Von \"https://drive.google.com/file/d/XXXXX/view?usp=sharing\" zu \"https://drive.google.com/uc?id=XXXXX\". XXXXX bezeichnet in diesem Fall die individuelle ID, die in Ihrem Link vorkommt."
   ]
  },
  {
   "cell_type": "markdown",
   "metadata": {},
   "source": [
    "# Aufgabe 1:\n",
    "### 4 Hausaufgabenpunkte\n",
    "\n",
    "Erstellen Sie PEAS-Beschreibungen für die folgenden Agenten. Begründen Sie Ihre Antworten, wenn diese nicht selbsterklärend ist:<br>\n",
    "(a) Mensch-ärger-dich-nicht<br>\n",
    "(b) Selbstfahrende U-Bahn<br>\n",
    "(c) Aktienhändler<br>"
   ]
  },
  {
   "cell_type": "markdown",
   "metadata": {},
   "source": [
    "# Aufgabe 1:\n",
    "### 6 Hausaufgabenpunkte\n",
    "\n",
    "Beschreiben Sie die Umgebungen, in denen die Agenten operieren, anhand der Kategorien Observability, Certainty, Temporal Succession, Continuity, Scale, und Population. Begründen Sie Ihre Antworten.\n"
   ]
  }
 ],
 "metadata": {
  "kernelspec": {
   "display_name": "Python 3 (ipykernel)",
   "language": "python",
   "name": "python3"
  },
  "language_info": {
   "codemirror_mode": {
    "name": "ipython",
    "version": 3
   },
   "file_extension": ".py",
   "mimetype": "text/x-python",
   "name": "python",
   "nbconvert_exporter": "python",
   "pygments_lexer": "ipython3",
   "version": "3.7.13"
  },
  "varInspector": {
   "cols": {
    "lenName": 16,
    "lenType": 16,
    "lenVar": 40
   },
   "kernels_config": {
    "python": {
     "delete_cmd_postfix": "",
     "delete_cmd_prefix": "del ",
     "library": "var_list.py",
     "varRefreshCmd": "print(var_dic_list())"
    },
    "r": {
     "delete_cmd_postfix": ") ",
     "delete_cmd_prefix": "rm(",
     "library": "var_list.r",
     "varRefreshCmd": "cat(var_dic_list()) "
    }
   },
   "types_to_exclude": [
    "module",
    "function",
    "builtin_function_or_method",
    "instance",
    "_Feature"
   ],
   "window_display": false
  }
 },
 "nbformat": 4,
 "nbformat_minor": 2
}
