{
 "cells": [
  {
   "cell_type": "markdown",
   "metadata": {},
   "source": [
    "# Exercise: Agents\n",
    "\n",
    "Version: SoSe 2022\n",
    "\n",
    "Estimated time needed: 60 minutes\n",
    "\n",
    "Author: Jenny Kozielski\n",
    "\n",
    "______"
   ]
  },
  {
   "cell_type": "markdown",
   "metadata": {},
   "source": [
    "# Objectives\n",
    "\n",
    "After completing this exercise you will be able to:\n",
    "\n",
    " - explain good and bad performance measures\n",
    " - create and explain PEAS description\n",
    " - create and explain environment descriptions"
   ]
  },
  {
   "cell_type": "markdown",
   "metadata": {},
   "source": [
    "**Reminder: Please upload this exercise on [Google Colab](https://colab.research.google.com/) so you would be able to work on the tasks**"
   ]
  },
  {
   "cell_type": "markdown",
   "metadata": {},
   "source": [
    "**Reading material:\n",
    "Mandatory: Chapter 2.1-2.4 of Russell & Norvig**"
   ]
  },
  {
   "cell_type": "markdown",
   "metadata": {},
   "source": [
    "# Task 1\n",
    "### Russell & Norvig, Section 2 Intelligent Agents, 2.2, german version: page 63\n",
    "\n",
    "Take the following scenario: A vaccuum robot gets the performance measure to vaccuum as much dirt as possible.</br>\n",
    "a) How can the robot (absurdly) maximize the performance measure?</br>\n",
    "b) What would be a better performance measure?"
   ]
  },
  {
   "cell_type": "markdown",
   "metadata": {},
   "source": [
    "<details><summary>Click here for the solution</summary>\n",
    "\n",
    "## Solution:\n",
    "\n",
    "True- Early AI systems like Microworlds tried out different combinations of steps until a solution was found, it was believed by the researchers that scaling up to larger problems was a matter of faster hardware, however, due to the intractability of a lot of AI problems this was not the case.\n",
    "\n",
    "</details>"
   ]
  },
  {
   "cell_type": "markdown",
   "metadata": {},
   "source": [
    "# Task 2\n",
    "### Russell & Norvig, Section 2 Intelligent Agents, 2.2, german version: page 64\n",
    "\n",
    "Given there would be vaccuuming robot, which would vaccuum again and again for hours, without noticing that there is no dirt. The robot relys too much on the previous knowledge of the developer and not enough on its own perception. This is called missing ... ?"
   ]
  },
  {
   "cell_type": "markdown",
   "metadata": {},
   "source": [
    "<details><summary>Click here for the solution</summary>\n",
    "\n",
    "autonomy\n",
    "\n",
    "</details>"
   ]
  },
  {
   "cell_type": "markdown",
   "metadata": {},
   "source": [
    "# Task 3\n",
    "### Russell & Norvig, Sevtion 2 Intelligent Agents, 2.4.3, german version: page 78\n",
    "\n",
    "Take a car driving agent as an example. They know, that when they drove 100 km, they are 100 km from the starting spot away, and he knows that if another car passes them, that car will be closer than it was a moment ago.</br>\n",
    "a) This knowledge about how the world works is called ...</br>\n",
    "b) Such an agent is an ... agent."
   ]
  },
  {
   "cell_type": "markdown",
   "metadata": {},
   "source": [
    "<details><summary>Click here for the solution</summary>\n",
    "\n",
    "a) model</br>\n",
    "b) model-based\n",
    "\n",
    "</details>"
   ]
  },
  {
   "cell_type": "markdown",
   "metadata": {},
   "source": [
    "# Task 4"
   ]
  },
  {
   "cell_type": "markdown",
   "metadata": {},
   "source": [
    "## Task 4.1\n",
    "\n",
    "How well an agent behaves is measured by both the performance measure and the utility function. Explain the difference between the two."
   ]
  },
  {
   "cell_type": "markdown",
   "metadata": {
    "tags": [
     "solution"
    ]
   },
   "source": [
    "<details><summary>Click here for the solution</summary>\n",
    "\n",
    "The performance measure is global, i.e. it only specifies what the end goal is and does not give instructions for the individual steps of how to achieve it. The utility function is local, i.e. it measures the usefulness of every step or state.\n",
    "</details>"
   ]
  },
  {
   "cell_type": "markdown",
   "metadata": {},
   "source": [
    "## Task 4.2\n",
    "\n",
    "Define at least two different performance measures for a poker agent. Explain which of these will be easier for an agent to achieve."
   ]
  },
  {
   "cell_type": "markdown",
   "metadata": {
    "tags": [
     "solution"
    ]
   },
   "source": [
    " <details><summary>Click here for the solution</summary>\n",
    "\n",
    "A possible answer:\n",
    "\n",
    "<ul>\n",
    "    <li>Win as much money as possible. It would be hard, because the agent has to compete with other agents who also want to win.</li>\n",
    "    <li>Lose as little money as possible. It would be easier, because the agent always bets the minimum amount and does nothing otherwise.</li>\n",
    "</ul>\n",
    "</details>"
   ]
  },
  {
   "cell_type": "markdown",
   "metadata": {},
   "source": [
    "## Task 4.3\n",
    "\n",
    "Design PEAS descriptions for the following issues (PEAS = Performance measure, Environment, Actuators, Sensors).\n",
    "\n",
    "* Lawnmower\n",
    "* Nursing robot\n",
    "* Translator for voice messages\n",
    "* Agent that selects hotels\n",
    "* Bank lending"
   ]
  },
  {
   "cell_type": "markdown",
   "metadata": {
    "tags": [
     "solution"
    ]
   },
   "source": [
    "<details><summary>Click here for the solution</summary>\n",
    "\n",
    "| Task | Performance measures | Environment | Actuators | Sensors |\n",
    "| ---- | --- | --- | --- | --- |\n",
    "| Lawn mower | Clean mowing, takes a reasonable time to do the job | Lawn | Electric motor, cutting tool, display | Buttons, USB interface, bump sensors, rain sensors |\n",
    "| Nurse robot | Health condition, emotional condition, legal requirements | Retirement home, apartment | Robot arms, wheels | Contact sensors, image analysis, medical data, microphone |\n",
    "| Translator | Correct translation of an input, correct pronounciation of the translation | Voice message, user | Voice output,  screen output | Voice input |\n",
    "| Hotel seeker | Price-performance ratio, distance to the desired place | Internet or database | Result output | Information inputted by user |\n",
    "| Credit lending | Rate as many customers correctly according to their credit-worthiness | Customers, employees, database | Display of a rating, input prompt | Entered information about the customers |\n",
    "</details>"
   ]
  },
  {
   "cell_type": "markdown",
   "metadata": {},
   "source": [
    "## Task 4.4\n",
    "\n",
    "Design environment descriptions for the above issues. Specify the categories Observability, Certainty, Temporal succession, Continuity, Scale and Population."
   ]
  },
  {
   "cell_type": "markdown",
   "metadata": {
    "tags": [
     "solution"
    ]
   },
   "source": [
    "<details><summary>Click here for the solution</summary>\n",
    "\n",
    "| Task | Observability | Certainty | Succession | Continuity | Scale | Population |\n",
    "| ---- | --- | --- | --- | --- | --- | --- | \n",
    "| Lawn mower | partial | stochastic | sequential | dynamic | continuous | single |\n",
    "| Nurse robot | partial | stochastic | sequential | dynamic | continuous | more likely single |\n",
    "| Translator | fully | deterministic | episodic | static | continuous | single |\n",
    "| Hotel seeker | partial | deterministic | episodic | dynamic | continuous | single |\n",
    "| Credit lending | fully | strategic | episodic |  static | continuous | single |\n",
    "\n",
    "With learning components, episodic becomes sequential.<br>\n",
    "These are just some possible solutions. Other solutions with other modelling strategies could also be correct.\n",
    "</details>"
   ]
  }
 ],
 "metadata": {
  "kernelspec": {
   "display_name": "Python 3 (ipykernel)",
   "language": "python",
   "name": "python3"
  },
  "language_info": {
   "codemirror_mode": {
    "name": "ipython",
    "version": 3
   },
   "file_extension": ".py",
   "mimetype": "text/x-python",
   "name": "python",
   "nbconvert_exporter": "python",
   "pygments_lexer": "ipython3",
   "version": "3.7.13"
  },
  "varInspector": {
   "cols": {
    "lenName": 16,
    "lenType": 16,
    "lenVar": 40
   },
   "kernels_config": {
    "python": {
     "delete_cmd_postfix": "",
     "delete_cmd_prefix": "del ",
     "library": "var_list.py",
     "varRefreshCmd": "print(var_dic_list())"
    },
    "r": {
     "delete_cmd_postfix": ") ",
     "delete_cmd_prefix": "rm(",
     "library": "var_list.r",
     "varRefreshCmd": "cat(var_dic_list()) "
    }
   },
   "types_to_exclude": [
    "module",
    "function",
    "builtin_function_or_method",
    "instance",
    "_Feature"
   ],
   "window_display": false
  }
 },
 "nbformat": 4,
 "nbformat_minor": 2
}
