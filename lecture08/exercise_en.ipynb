{
 "cells": [
  {
   "cell_type": "markdown",
   "metadata": {},
   "source": [
    "# Exercise: Machine Learning Basics\n",
    "\n",
    "Version: SoSe 2022\n",
    "\n",
    "Estimated time needed: 90 minutes\n",
    "\n",
    "Author: Jenny Kozielski\n",
    "\n",
    "______"
   ]
  },
  {
   "cell_type": "markdown",
   "metadata": {},
   "source": [
    "# Objectives\n",
    "\n",
    "After completing this exercise you will be able to:\n",
    "\n",
    "- Recognize good features and define them\n",
    "- Explain basic conecpts of linear regression and apply simplified linear regression\n",
    "- Calculate information gain\n",
    "- Understand and interprete onfusion matrices\n",
    "- Understand and calculate accuracy, precision, recall and $F_1$-measure, as well as make statements in this regard for new problems"
   ]
  },
  {
   "cell_type": "markdown",
   "metadata": {},
   "source": [
    "**Reminder: Please upload this exercise on [Google Colab](https://colab.research.google.com/) so you would be able to work on the tasks**"
   ]
  },
  {
   "cell_type": "markdown",
   "metadata": {},
   "source": [
    "**Reading material:<br>\n",
    "Mandatory: Chapter 18.1-18.3 of Russell & Norvig**"
   ]
  },
  {
   "cell_type": "markdown",
   "metadata": {},
   "source": [
    "# Task 1\n",
    "### Russell & Norvig, Chapter 18 Learning from Examples, 18.2, german version (3. edition): page 812\n",
    "\n",
    "What is occam's razor?"
   ]
  },
  {
   "cell_type": "markdown",
   "metadata": {},
   "source": [
    "<details><summary>Click here for the solution</summary>\n",
    "\n",
    "## Solution:\n",
    "\n",
    "The principle, that the simplest hypothesis, which is consistent with the data, gets picked.\n",
    "</details>"
   ]
  },
  {
   "cell_type": "markdown",
   "metadata": {},
   "source": [
    "# Task 2\n",
    "### Russell & Norvig, Chapter 18 Learning from Examples, 18.3.6, german version (3. edition): page 823\n",
    "### + Own Research\n",
    "\n",
    "How can a learning algorithm handle it, if for an instance one feature could not be recorded (N/A Wert, missing values)?"
   ]
  },
  {
   "cell_type": "markdown",
   "metadata": {},
   "source": [
    "<details><summary>Click here for the solution</summary>\n",
    "\n",
    "## Solution:    \n",
    "    \n",
    "For example:<br>\n",
    "* delete instance\n",
    "* use median of the feature\n",
    "* feature will be determined due to other features and probability\n",
    "\n",
    "</details>"
   ]
  },
  {
   "cell_type": "markdown",
   "metadata": {},
   "source": [
    "# Feature Engineering"
   ]
  },
  {
   "cell_type": "markdown",
   "metadata": {},
   "source": [
    "# Task 3\n",
    "\n",
    "The SCHUFA calculates for each person the probability that this person will meet your payment obligations in the future. Which features do you think will be used for this? Create a list of possible features. Describe how the feature is collected/measured and name the type of values (binary, nominal, ordinal, numeric)."
   ]
  },
  {
   "cell_type": "markdown",
   "metadata": {
    "tags": [
     "solution"
    ]
   },
   "source": [
    "<details><summary>Click here for the solution</summary>\n",
    "\n",
    "## Solution:\n",
    "\n",
    "Example:\n",
    "* Age (date of birth): numeric\n",
    "* Sex (name?): binary/nominal\n",
    "* Number of accounts (bank query): numeric\n",
    "* Number of reminders in the last year (?)\n",
    "* Place of residence (PLZ): nominal (Attention, PLZ is not \"real\" numeric, only 5-digit numbers)\n",
    "* Credit card debt (bank query): numeric\n",
    "* ..-\n",
    "\n",
    "It is not known exactly which data the Schufa uses.\n",
    "    \n",
    "</details>"
   ]
  },
  {
   "cell_type": "markdown",
   "metadata": {},
   "source": [
    "# Task 4\n",
    "\n",
    "You are commissioned by a company to design a system for the automatic classification of computer games into age categories.\n",
    "The list of categories is '0', '6', '12' and '18'.\n",
    "This is the minimum age to play the game.\n",
    "For each game there is the following meta information, which can be used for classification:\n",
    "* the name of the game,\n",
    "* dthe name of the developer company,\n",
    "* a text describing the content of the game."
   ]
  },
  {
   "cell_type": "markdown",
   "metadata": {},
   "source": [
    "1. Define four features that you can use for classification. Explain why they might be helpful."
   ]
  },
  {
   "cell_type": "markdown",
   "metadata": {
    "tags": [
     "solution"
    ]
   },
   "source": [
    "<details><summary>Click here for the solution</summary>\n",
    "\n",
    "## Solution:\n",
    "\n",
    "Frequency distribution of words, name of game, name of developer company, contains special words (e.g.\n",
    "Sex, murder, . . . )\n",
    "</details>"
   ]
  },
  {
   "cell_type": "markdown",
   "metadata": {},
   "source": [
    "2. How would you divide the data if you wanted to train the best possible classifier, but at the same time want to check if it is really the best one? Justify your division."
   ]
  },
  {
   "cell_type": "markdown",
   "metadata": {
    "tags": [
     "solution"
    ]
   },
   "source": [
    "<details><summary>Click here for the solution</summary>\n",
    "\n",
    "## Solution:\n",
    "\n",
    "Randomized division into training set and test set (ratio 9:1 or 8:2). Cross-validation or Leave-one-out on the training set and final test on the test set\n",
    "</details>"
   ]
  },
  {
   "cell_type": "markdown",
   "metadata": {},
   "source": [
    "3. In addition to the existing metadata, you will be given the opportunity to request any other information about the Game that is commonly known (other than the age rating itself). Name three additional features that are likely to increase classification accuracy. Explain briefly why you think these features will be helpful."
   ]
  },
  {
   "cell_type": "markdown",
   "metadata": {
    "tags": [
     "solution"
    ]
   },
   "source": [
    "<details><summary>Click here for the solution</summary>\n",
    "\n",
    "## Solution:\n",
    "\n",
    "* Play time: Children's games rather short. Adult games rather long.\n",
    "* Genre: Shooter often FSK 18, Jump n' run rather rare.\n",
    "* Known characters: Children's games often contain well-known repetitive characters that are easy to remember.\n",
    "and usually perform a mascot function.\n",
    "* Name of the chief developer: In the games industry, a certain chief developer often works on games that are very similar or even successors.\n",
    "    \n",
    "</details>"
   ]
  },
  {
   "cell_type": "markdown",
   "metadata": {},
   "source": [
    "# Information Gain"
   ]
  },
  {
   "cell_type": "markdown",
   "metadata": {},
   "source": [
    "# Task 5\n",
    "\n",
    "You have the following (fictitious) patient data and the corresponding diagnoses."
   ]
  },
  {
   "cell_type": "markdown",
   "metadata": {},
   "source": [
    "| Patient | Fieber | Übergeben | Durchfall | Zittern | Diagnose                  |\n",
    "|---------|--------|-----------|-----------|---------|---------------------------|\n",
    "| 1       | nein   | nein      | nein      | nein    | gesund (g)                |\n",
    "| 2       | leicht | nein      | nein      | nein    | Grippe (G)                |\n",
    "| 3       | hoch   | nein      | nein      | ja      | Grippe (G)                |\n",
    "| 4       | hoch   | ja        | ja        | nein    | Salmonellenvergiftung (S) |\n",
    "| 5       | leicht | nein      | ja        | nein    | Salmonellenvergiftung (S) |\n",
    "| 6       | nein   | ja        | ja        | nein    | Darmentzündung (D)        |\n",
    "| 7       | leicht | ja        | ja        | nein    | Darmentzündung (D)        |"
   ]
  },
  {
   "cell_type": "markdown",
   "metadata": {},
   "source": [
    "What symptom should you ask a patient about first? Calculate the Information Gain for each feature."
   ]
  },
  {
   "cell_type": "markdown",
   "metadata": {
    "tags": [
     "solution"
    ]
   },
   "source": [
    "<details><summary>Click here for the solution</summary>\n",
    "\n",
    "## Solution:\n",
    "\n",
    "Sample calculation for the first (root) node.\n",
    "* Entropy of the given dataset:\n",
    "$ Entropy(S) = -\\frac{1}{7}log_2(\\frac{2}{7})-\\frac{2}{7}log_2(\\frac{2}{7})-\\frac{2}{7}log_2(\\frac{2}{7})-\\frac{2}{7}log_2(\\frac{2}{7})$\n",
    "* Consider attribute x = \"Fieber\"\n",
    "\n",
    "| Values     | g      | G    | S   | D    | Entropy(Si)                 |\n",
    "|------------|--------|------|-----|------|-----------------------------|\n",
    "| S1(nein)   | *      | -    | -   | *    | [1/2, 0, 0, 1/2] –> 1       |\n",
    "| S2(leicht) | -      | *    | *   | *    | [0, 1/3, 1/3, 1/3] –> 1.585 |\n",
    "| S3(hoch)   | -      | *    | *   | -    | [0, 1/2, 1/2, 0] –> 1       |\n",
    "\n",
    "$ Entropy(S|Fieber) = \\frac{2}{7}*1+\\frac{3}{7}*1.585+\\frac{2}{7}*1 = 1.251$\n",
    "<br>\n",
    "* Consider attribute x = \"Übergeben\"\n",
    "\n",
    "| Values   | g      | G    | S   | D    | Entropy(Si)               |\n",
    "|----------|--------|------|-----|------|---------------------------|\n",
    "| S1(ja)   | -      |  -   | *   | **   | [0, 0, 1/3, 2/3] –> 0.918 |\n",
    "| S2(nein) | *      | **   | *   |  -   | [1/4, 2/4, 1/4, 0] –> 1.5 |\n",
    "\n",
    "$ Entropy(S|Übergeben) = \\frac{3}{7}*0.918+\\frac{4}{7}*1.5 = 1.251$\n",
    "<br>\n",
    "\n",
    "* Consider attribute x = \"Durchfall\"\n",
    "\n",
    "| Values   | g      | G    | S   | D    | Entropy(Si)               |\n",
    "|----------|--------|------|-----|------|---------------------------|\n",
    "| S1(ja)   | -      | -    | **  | **   | [0, 0, 2/4, 2/4] –> 1     |\n",
    "| S2(nein) | *      | **   | -   | -    | [1/3, 2/3, 0, 0] –> 0.918 |\n",
    "\n",
    "$ Entropy(S|Durchfall) = \\frac{4}{7}*1+\\frac{3}{7}*0.918 = 0.965$\n",
    "<br>\n",
    "\n",
    "* Consider attribute x = \"Zittern\"\n",
    "\n",
    "| Values   | g      | G    | S   | D    | Entropy(Si)                  |\n",
    "|----------|--------|------|-----|------|------------------------------|\n",
    "| S1(ja)   | -      | *    | -   | -    | [0, 1, 0, 0] –>0             |\n",
    "| S2(nein) | *      | *    | **  | **   | [1/6, 1/6, 2/6, 2/6] –>1.918 |\n",
    "\n",
    "$ Entropy(S|Zittern) = \\frac{1}{7}*0+\\frac{6}{7}*1.918 = 1.644$\n",
    "\n",
    "\n",
    "The attribute that maximizes the Information Gain.\n",
    "* Fieber: $Gain(S) = Ent(s) - Ent(S|Fieber) = 1.95 - 1.251 = 0.699$\n",
    "* Erbrechen: $Gain(S) = Ent(s) - Ent(S|Erbrechen) = 1.95 - 1.251 = 0.699$\n",
    "* Durchfall: $Gain(S) = Ent(s) - Ent(S|Durchfall) = 1.95 - 0.965 = 0.985$\n",
    "* Zittern: $Gain(S) = Ent(s) - Ent(S|Zittern) = 1.95 - 1.251 = 0.699$\n",
    "    \n",
    "The attribute \"Durchfall\" is the most effective attribute; it maximizes the Information Gain.\n",
    "    \n",
    "</details>"
   ]
  },
  {
   "cell_type": "markdown",
   "metadata": {},
   "source": [
    "# Evaluation"
   ]
  },
  {
   "cell_type": "markdown",
   "metadata": {},
   "source": [
    "# Task 6\n",
    "\n",
    "Which of the following statements regarding confusion matrices are true or false?"
   ]
  },
  {
   "cell_type": "markdown",
   "metadata": {},
   "source": [
    "1. The entries on the main diagonal are always 1."
   ]
  },
  {
   "cell_type": "markdown",
   "metadata": {
    "tags": [
     "solution"
    ]
   },
   "source": [
    "<details><summary>Click here for the solution</summary>\n",
    "\n",
    "## Solution:\n",
    "\n",
    "Wrong, the entries on the main diagonal represent the number of correctly classified instances.\n",
    "\n",
    "</details>"
   ]
  },
  {
   "cell_type": "markdown",
   "metadata": {},
   "source": [
    "2. The cell (i , j) contains the number of times the class i was wrongly classified as j (under the condition i ̸= j)."
   ]
  },
  {
   "cell_type": "markdown",
   "metadata": {
    "tags": [
     "solution"
    ]
   },
   "source": [
    "<details><summary>Click here for the solution</summary>\n",
    "\n",
    "## Solution:\n",
    "    \n",
    "Correct\n",
    "</details>"
   ]
  },
  {
   "cell_type": "markdown",
   "metadata": {},
   "source": [
    "3. The Confusion Matrix can be used to identify problems with classification."
   ]
  },
  {
   "cell_type": "markdown",
   "metadata": {
    "tags": [
     "solution"
    ]
   },
   "source": [
    "<details><summary>Click here for the solution</summary>\n",
    "\n",
    "## Solution:\n",
    "\n",
    "Correct. For example, if class i is very often misclassified as class j, this is an important hint to look for features that differentiate classes i and j.\n",
    "    \n",
    "</details>"
   ]
  },
  {
   "cell_type": "markdown",
   "metadata": {},
   "source": [
    "4. The Confusion Matrix can be used to compare two different classifiers."
   ]
  },
  {
   "cell_type": "markdown",
   "metadata": {
    "tags": [
     "solution"
    ]
   },
   "source": [
    "<details><summary>Click here for the solution</summary>\n",
    "\n",
    "## Solution:\n",
    "\n",
    "Correct\n",
    "</details>"
   ]
  },
  {
   "cell_type": "markdown",
   "metadata": {},
   "source": [
    "5. The number of columns is always equal to the number of rows."
   ]
  },
  {
   "cell_type": "markdown",
   "metadata": {
    "tags": [
     "solution"
    ]
   },
   "source": [
    "<details><summary>Click here for the solution</summary>\n",
    "\n",
    "## Solution:\n",
    "    \n",
    "Correct\n",
    "</details>"
   ]
  },
  {
   "cell_type": "markdown",
   "metadata": {},
   "source": [
    "# Task 7\n",
    "\n",
    "The system from Task 5. for the automatic classification of computer games into age categories is developed in two variants. Which of the two variants would you recommend if the top priority is to protect children from games that are not age-appropriate? Explain your decision."
   ]
  },
  {
   "cell_type": "code",
   "execution_count": 4,
   "metadata": {},
   "outputs": [
    {
     "data": {
      "image/png": "[encoded data removed]",
      "text/plain": [
       "<Figure size 432x288 with 3 Axes>"
      ]
     },
     "metadata": {
      "needs_background": "light"
     },
     "output_type": "display_data"
    }
   ],
   "source": [
    "import seaborn as sn\n",
    "import pandas as pd\n",
    "import matplotlib.pyplot as plt\n",
    "\n",
    "sys1 = [[25, 0, 0, 0],\n",
    "        [ 7,18, 0, 0],\n",
    "        [ 4, 0,19, 2],\n",
    "        [ 0, 0, 0,25]]\n",
    "\n",
    "sys2 = [[14, 4, 4, 4],\n",
    "        [ 0,18, 7, 0],\n",
    "        [ 0, 0,25, 4],\n",
    "        [ 0, 0, 0,26]] \n",
    "\n",
    "labels = [0,6,12,18]\n",
    "\n",
    "%matplotlib inline\n",
    "fig, ax = plt.subplots(1,2, sharey='row')\n",
    "sn.set(font_scale=1.4)#for label size\n",
    "sn.heatmap(pd.DataFrame(sys1, range(4), range(4)), ax=ax[0], cmap=\"GnBu\", xticklabels=labels, yticklabels=labels, annot=True, annot_kws={\"size\": 16}, cbar=False).set_title(\"System 1\");\n",
    "sn.heatmap(pd.DataFrame(sys2, range(4), range(4)), ax=ax[1], cmap=\"GnBu\", xticklabels=labels, yticklabels=labels, annot=True, annot_kws={\"size\": 16}).set_title(\"System 2\");\n",
    "plt.xlabel('prediction');\n",
    "plt.ylabel('gold');"
   ]
  },
  {
   "cell_type": "markdown",
   "metadata": {},
   "source": [
    "<details><summary>Click here for the solution</summary>\n",
    "\n",
    "## Solution:\n",
    "\n",
    "System 2, because System 1 would release dangerous games for children\n",
    "</details>"
   ]
  },
  {
   "cell_type": "markdown",
   "metadata": {},
   "source": [
    "# Task 8\n",
    "\n",
    "A classifier for the detection of spam emails is given. On a test set of emails it shows the following results:\n",
    "\n",
    "| Mail-ID | Manuelle Einordnung | Automatische Einordnung | TP/FP/TN/FN |\n",
    "| --- | --- | --- | --- |\n",
    "| 1 | ok | ok |  |\n",
    "| 2 | ok | ok |  |\n",
    "| 3 | spam | spam |  |\n",
    "| 4 | spam | ok |  |\n",
    "| 5 | ok | spam |  |\n",
    "| 6 | ok | ok |  |"
   ]
  },
  {
   "cell_type": "markdown",
   "metadata": {},
   "source": [
    "1. Calculate Accuracy, Precision(spam), Recall(spam), and $F_1$-measure.\n",
    "\n",
    "$$acc = \\frac{TP+TN}{TP+TN+FP+FN}$$ (acc = all correct classified instances/all instances)\n",
    "\n",
    "$$P = \\frac{TP}{TP+FP}$$\n",
    "\n",
    "$$R = \\frac{TP}{TP+FN}$$\n",
    "\n",
    "$$F_1 = \\frac{2 \\times P  \\times R}{P+R}$$"
   ]
  },
  {
   "cell_type": "markdown",
   "metadata": {
    "tags": [
     "solution"
    ]
   },
   "source": [
    "<details><summary>Click here for the solution</summary>\n",
    "\n",
    "## Solution:\n",
    "\n",
    "| Mail-ID | Manuelle Einordnung | Automatische Einordnung | TP/FP/TN/FN |\n",
    "| --- | --- | --- | --- |\n",
    "| 1 | ok | ok | TN |\n",
    "| 2 | ok | ok | TN |\n",
    "| 3 | spam | spam | TP |\n",
    "| 4 | spam | ok | FN |\n",
    "| 5 | ok | spam | FP |\n",
    "| 6 | ok | ok | TN |\n",
    "\n",
    "* $TP = 1$\n",
    "* $FP = 1$\n",
    "* $FN = 1$\n",
    "* $TN = 3$\n",
    "* $acc = \\frac{2}{3}$\n",
    "* $P(spam) = \\frac{1}{2}$\n",
    "* $R(spam) = \\frac{1}{2}$\n",
    "* $F_1(spam) = \\frac{1}{2}$\n",
    "\n",
    "$$acc = \\frac{4}{6}$$\n",
    "    \n",
    "$$P = \\frac{1}{1+1}$$\n",
    "\n",
    "$$R = \\frac{1}{1+1}$$\n",
    "    \n",
    "$$F_1 = \\frac{2 \\times \\frac{1}{2} \\times \\frac{1}{2}}{\\frac{1}{2} + \\frac{1}{2}} = \\frac{1}{2}$$       \n",
    "    \n",
    "</details>"
   ]
  },
  {
   "cell_type": "markdown",
   "metadata": {},
   "source": [
    "2. With which strategy can you maximize the Recall(SPAM) simply? Calculate A, P, and $F_1$ for this case."
   ]
  },
  {
   "cell_type": "markdown",
   "metadata": {
    "tags": [
     "solution"
    ]
   },
   "source": [
    "<details><summary>Click here for the solution</summary>\n",
    "\n",
    "## Solution:\n",
    "\n",
    "| Mail-ID | Manuelle Einordnung | Automatische Einordnung | TP/FP/TN/FN |\n",
    "| --- | --- | --- | --- |\n",
    "| 1 | ok | spam | FP |\n",
    "| 2 | ok | spam | FP |\n",
    "| 3 | spam | spam | TP |\n",
    "| 4 | spam | spam | TP |\n",
    "| 5 | ok | spam | FP |\n",
    "| 6 | ok | spam | FP |\n",
    "\n",
    "* $TP = 2$\n",
    "* $FP = 4$\n",
    "* $FN = 0$\n",
    "* $TN = 0$\n",
    "* $acc = \\frac{1}{3}$\n",
    "* $P(spam) = \\frac{1}{3}$\n",
    "* $R(spam) = 1$\n",
    "* $F_1(spam) = \\frac{1}{2}$    \n",
    "    \n",
    "    \n",
    "If all emails are classified as spam, the recall is automatically maximum (= catch most instances), since there won't be any FN.\n",
    "In this case $A = P$, because there is no FN or TN.\n",
    "Since we have only two real spam mails in the test record, the precision is $\\frac{2}{6} = \\frac{1}{3}$\n",
    "\n",
    "$$acc = \\frac{2}{6}$$\n",
    "    \n",
    "$$P = \\frac{2}{2+4}$$\n",
    "\n",
    "$$R = \\frac{2}{2+0}$$    \n",
    "    \n",
    "$$F_1 = \\frac{2 \\times \\frac{1}{3} \\times 1}{1+\\frac{1}{3}} = \\frac{1}{2}$$\n",
    "    \n",
    "</details>"
   ]
  },
  {
   "cell_type": "markdown",
   "metadata": {},
   "source": [
    "3. What is the Majority Class (MC) in the above example? What is P(MC), R(MC), and F1 for a classifier that always assigns the Majority Class?"
   ]
  },
  {
   "cell_type": "markdown",
   "metadata": {
    "tags": [
     "solution"
    ]
   },
   "source": [
    "<details><summary>Click here for the solution</summary>\n",
    "\n",
    "## Solution:\n",
    "\n",
    "| Mail-ID | Manuelle Einordnung | Automatische Einordnung | TP/FP/TN/FN |\n",
    "| --- | --- | --- | --- |\n",
    "| 1 | ok | ok | TP |\n",
    "| 2 | ok | ok | TP |\n",
    "| 3 | spam | ok | FP |\n",
    "| 4 | spam | ok | FP |\n",
    "| 5 | ok | ok | TP |\n",
    "| 6 | ok | ok | TP |\n",
    "\n",
    "* $TP = 4$\n",
    "* $FP = 2$\n",
    "* $FN = 0$\n",
    "* $TN = 0$\n",
    "* $acc = \\frac{2}{3}$\n",
    "* $P(ok) = \\frac{2}{3}$\n",
    "* $R(ok) = 1$\n",
    "* $F_1(ok) = \\frac{4}{5}$        \n",
    "    \n",
    "The Majority Class is the most common class in the data set.\n",
    "In this case it is OK with 4 occurrences (against SPAM with only 2 occurrences).\n",
    "Recall is automatically maximum. In this case $A = P$, because there is no FN or TN.\n",
    "Since we have four emails of the class OK, the Precision is $\\frac{4}{6} = \\frac{2}{3}$.\n",
    "\n",
    "$$acc = \\frac{4}{6}$$\n",
    "    \n",
    "$$P = \\frac{4}{4+2}$$\n",
    "\n",
    "$$R = \\frac{4}{4+0}$$    \n",
    "    \n",
    "$$F_1 = \\frac{2 \\times \\frac{2}{3} \\times 1}{\\frac{2}{3} + 1} = \\frac{4}{5}$$\n",
    "    \n",
    "</details>"
   ]
  },
  {
   "cell_type": "markdown",
   "metadata": {},
   "source": [
    "4. Discuss what features based on the text of the mail a classifier could use to classify a given email into OK/SPAM classes."
   ]
  },
  {
   "cell_type": "markdown",
   "metadata": {
    "tags": [
     "solution"
    ]
   },
   "source": [
    "<details><summary>Click here for the solution</summary>\n",
    "\n",
    "## Solution:\n",
    "\n",
    "* Percentage of uppercase words\n",
    "* Percentage of multiple punctuation marks\n",
    "* Percentage of hyperlinks included\n",
    "* Contains certain words (Viagra, etc)\n",
    "* ...\n",
    "</details>"
   ]
  }
 ],
 "metadata": {
  "kernelspec": {
   "display_name": "Python 3 (ipykernel)",
   "language": "python",
   "name": "python3"
  },
  "language_info": {
   "codemirror_mode": {
    "name": "ipython",
    "version": 3
   },
   "file_extension": ".py",
   "mimetype": "text/x-python",
   "name": "python",
   "nbconvert_exporter": "python",
   "pygments_lexer": "ipython3",
   "version": "3.7.13"
  },
  "varInspector": {
   "cols": {
    "lenName": 16,
    "lenType": 16,
    "lenVar": 40
   },
   "kernels_config": {
    "python": {
     "delete_cmd_postfix": "",
     "delete_cmd_prefix": "del ",
     "library": "var_list.py",
     "varRefreshCmd": "print(var_dic_list())"
    },
    "r": {
     "delete_cmd_postfix": ") ",
     "delete_cmd_prefix": "rm(",
     "library": "var_list.r",
     "varRefreshCmd": "cat(var_dic_list()) "
    }
   },
   "types_to_exclude": [
    "module",
    "function",
    "builtin_function_or_method",
    "instance",
    "_Feature"
   ],
   "window_display": false
  }
 },
 "nbformat": 4,
 "nbformat_minor": 2
}
