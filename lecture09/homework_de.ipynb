{
 "cells": [
  {
   "cell_type": "markdown",
   "metadata": {},
   "source": [
    "# Übung: Machine Learning Algorithmen & Clustering\n",
    "\n",
    "Stand: SoSe 2022\n",
    "\n",
    "Geschätzte benötigte Zeit: 60 Minuten\n",
    "\n",
    "Autor: Jenny Kozielski\n",
    "\n",
    "Abgabe: Freitag, 24.06.2022 (23:55 Uhr)\n",
    "\n",
    "______"
   ]
  },
  {
   "cell_type": "markdown",
   "metadata": {},
   "source": [
    "# Hausübung"
   ]
  },
  {
   "cell_type": "markdown",
   "metadata": {},
   "source": [
    "### Abgaberichtlinien\n",
    "* Jede Hausübung bringt maximal 10 Hausaufgabenpunkte. 10 Hausaufgabenpunkte entsprechen einem Klausurpunkt.\n",
    "* Im Laufe des Semesters kann es zusätzliche Bonuspunkte (= 1 Klausurpunkt) für Hausübungen geben, in Form von z.B. Challenges, weitere Informationen folgen bei den betreffenden Hausübungen.\n",
    "* Die Abgabe erfolgt in Zweier- bis Viererteams. **Einzelabgaben werden nicht gewertet**. Die Teammitglieder müssen nicht in derselben Übungsgruppe sein. Bei Problemen bzw. Einzelfällen hinsichtlich dieser Richtlinie kontaktieren Sie einen Tutor.\n",
    "* In der Abgabe müssen alle Teammitglieder mit **Namen und Matrikelnummern gut sichtbar** genannt werden.\n",
    "* Es muss immer nur **ein Teammitglied der Gruppe abgeben**. Sollten aus Versehen mehrere Abgaben der selben Übung erfolgen, kommunizieren Sie dies **zeitnah** an einen Tutor, ansonsten wird die erste korrigierte Abgabe gewertet.\n",
    "* Die Abgabe soll als Jupyter-Notebook erfolgen (.ipynb). Abgaben in einem **anderen Format werden nicht gewertet**. Bei Problemen hinsichtlich dieser Richtlinie kontaktieren Sie einen Tutor.\n",
    "* Es ist nicht nötig, den Präsenzübungsteil in der Abgabe mit abzugeben. Es wird lediglich der Hausübungsteil gewertet.\n",
    "* Wenn Sie Bilder in der Hausaufgaben abgeben wollen, fügen Sie diese folgendermaßen ein: Laden Sie das entsprechende Bild bei Google Drive hoch. Klicken Sie per Rechtsklick auf das Bild. Klicken Sie auf \"Link abrufen\". Setzen Sie die Zugangsberechtigung auf \"Jeder, der über den Link verfügt\". Kopieren Sie den Link. Erstellen Sie eine Textzelle im Notebook in der Sie das Bild einfügen möchten. Fügen Sie den Link folgendermaßen ein: ``![Bildbeschreibung]``(Link hier einfügen, in diesen Klammern). Ändern Sie den Link folgendermaßen: Von \"https://drive.google.com/file/d/XXXXX/view?usp=sharing\" zu \"https://drive.google.com/uc?id=XXXXX\". XXXXX bezeichnet in diesem Fall die individuelle ID, die in Ihrem Link vorkommt."
   ]
  },
  {
   "cell_type": "markdown",
   "metadata": {},
   "source": [
    "# Aufgabe 1:\n",
    "### 10 Hausaufgabenpunkte\n",
    "\n",
    "\n",
    "Gehen Sie jeden der folgenden Schritte durch und berichten Sie kurz über Ihr Vorgehen:<br><br>\n",
    "\n",
    "1. Erstellen Sie einen kurzen dummy Datensatz (MeinDatensatz.csv) mit mindestens 20 Instanzen zu einem Thema Ihrer Wahl. Sie sollen keine echten Daten recherchieren, Sie können sich die Daten selber ausdenken, sie sollten lediglich potentiell realistisch sein können und Sinn ergeben. Dieser sollte min. 2 Features und ein gold label enthalten. <br> Falls Ihnen kein Thema einfällt können sie eins der folgenden wählen:\n",
    "<ul>\n",
    "    <li> Lieblingsbücher (target: 1-5 Sternebewertung) </li>\n",
    "    <li> Fernsehserien (target: Genre) </li>\n",
    "    <li> Schmuck (target: Preis) </li>\n",
    "</ul>\n",
    "<br>\n",
    "2. Nutzen Sie die Daten im Machine Learning Prozess. <br> Dazu gehört: Daten aufsplitten, Classifier aussuchen (Begründen Sie Ihre Wahl, z.B. durch Recherche und ausprobieren verschiedener Classifier), Test-Daten klassifizieren. Sie müssen die Daten an sich nicht visualisieren.<br>\n",
    "<br><br>\n",
    "3. Evaluieren Sie die Ergebnisse. Geben Sie dafür Beispiele zu mindestens 2 von Ihnen gewählten Evaluierungsmaßen und beschreiben Sie als wie gut Sie die Ergebnisse halten und was man evtl. verbessern könnte.<br><br>\n",
    "\n",
    "__Hinweis!__ In der Abgabe müssen folgende Elemente enthalten sein:\n",
    "1. Datensatz\n",
    "2. Code\n",
    "3. Ein kurzer Bericht über die Vorgehensweise und Beantwortung der 3. Aufgabe\n",
    "4. Ausgaben wie z.B. Evaluierungsmaße\n",
    "\n",
    "\n",
    "Die Punkte 2 bis 4 sind zusammen in einem Jupyter Notebook abzugeben.\n",
    "\n",
    "Die Daten können Sie beispielsweise so im Notebook einfügen:\n",
    "```\n",
    "from google.colab import files\n",
    "uploaded = files.upload()\n",
    "\n",
    "import io\n",
    "import pandas as pd\n",
    "\n",
    "df = pd.read_csv(io.BytesIO(uploaded['Filename.csv']))\n",
    "```"
   ]
  }
 ],
 "metadata": {
  "kernelspec": {
   "display_name": "Python 3 (ipykernel)",
   "language": "python",
   "name": "python3"
  },
  "language_info": {
   "codemirror_mode": {
    "name": "ipython",
    "version": 3
   },
   "file_extension": ".py",
   "mimetype": "text/x-python",
   "name": "python",
   "nbconvert_exporter": "python",
   "pygments_lexer": "ipython3",
   "version": "3.7.13"
  },
  "varInspector": {
   "cols": {
    "lenName": 16,
    "lenType": 16,
    "lenVar": 40
   },
   "kernels_config": {
    "python": {
     "delete_cmd_postfix": "",
     "delete_cmd_prefix": "del ",
     "library": "var_list.py",
     "varRefreshCmd": "print(var_dic_list())"
    },
    "r": {
     "delete_cmd_postfix": ") ",
     "delete_cmd_prefix": "rm(",
     "library": "var_list.r",
     "varRefreshCmd": "cat(var_dic_list()) "
    }
   },
   "types_to_exclude": [
    "module",
    "function",
    "builtin_function_or_method",
    "instance",
    "_Feature"
   ],
   "window_display": false
  }
 },
 "nbformat": 4,
 "nbformat_minor": 2
}
