{
 "cells": [
  {
   "cell_type": "markdown",
   "metadata": {},
   "source": [
    "# Exercise: Machine Learning Algorithms & Clustering\n",
    "\n",
    "Version: SoSe 2022\n",
    "\n",
    "Estimated time needed: 60 minutes\n",
    "\n",
    "Author: Jenny Kozielski\n",
    "\n",
    "Deadline : Friday, 24.06.2022 (11:55 p.m.)\n",
    "\n",
    "______"
   ]
  },
  {
   "cell_type": "markdown",
   "metadata": {},
   "source": [
    "# Homework"
   ]
  },
  {
   "cell_type": "markdown",
   "metadata": {},
   "source": [
    "### Submission guidelines\n",
    "* You can reach up to 10 homework points for every homework submission. 10 homework points correspond to one exam point.\n",
    "* In the course of the semester, there will be extra bonus points (where each bonus point equals to one exam point) for the homeworks. These will be given in the form of e.g. challenges inside the homeworks. More information will be given in the corresponding homeworks.\n",
    "* The submission has to be done by a team of two to four people. **Individual submissions will not be graded**. The team members do not have to attend the same exercise group. If there are any problems regarding this guideline, please reach out to a tutor.\n",
    "* Please state the **name and matriculation number of all team members** in every submission **clearly**.\n",
    "* Only **one team member should submit** the homework. If more than one version of the same homework is submitted by accident (submitted by more than one group member), please reach out to a tutor **as soon as possible**. Otherwise, the first submitted homework will be graded.\n",
    "* The submission must be in a Jupyter Notebook format (.ipynb). Submissions in **other formats will not be graded**. If there are any problems regarding this guideline, please reach out to a tutor.\n",
    "* It is not necessary to also submit the part of the exercise discussed by the tutor, please only submit the homework part.\n",
    "* In case you want to insert pictures in your homework, insert them like this: Uplaod the picture to Google Drive. Right click on it. Click on \"Get shareable link\". Set the accessibility to \"Anyone with link\". Copy the link. Create a text cell where you want to insert the picture. Insert the link as follows: ``![picture description]``(insert link here, inside these brackets). Change the link as follows: From \"https://drive.google.com/file/d/XXXXX/view?usp=sharing\" to \"https://drive.google.com/uc?id=XXXXX\". XXXXX describes the individual ID, which will be in your link."
   ]
  },
  {
   "cell_type": "markdown",
   "metadata": {},
   "source": [
    "# Task 1\n",
    "### 10 homework points\n",
    "\n",
    "<i>Go through the following steps and make a short report on your approach: </i>\n",
    "\n",
    "\n",
    "1. Create a short dummy record (MyDataset.csv) with at least 20 instances on a topic of your choice. You should not research data, you can come up with your own approximated data, it should just at least potentially be realistic and it should make sense. This should contain at least 2 features and a gold label. <br/> If you can't think of a topic, you can choose one of the following:\n",
    "<br>\n",
    "<ul>\n",
    "    <li><i> Favourite books (target: 1-5 star rating) </i></li>\n",
    "    <li><i> TV series (target: genre) </i></li>\n",
    "    <li><i> Jewellery (target: price)</i></li>\n",
    "</ul>\n",
    "<br>\n",
    "2. Use the data in the machine learning process. <br> This includes: splitting the data, selecting classifiers (justify your choice, e.g. by research or trying out different classifiers), classifying test data. You don't need to visualize the data.\n",
    "<br><br>\n",
    "3. Evaluate the results. Give examples of at least 2 evaluation measures you have chosen and describe how well you think the results are and what could be improved. <br>\n",
    "\n",
    "__NOTE!__ The following elements must be included in the submission:<br>\n",
    "1. data set\n",
    "2. code\n",
    "3. a brief report on the approach taken and the answer to the 3. task\n",
    "4. outputs such as evaluation measures\n",
    "\n",
    "\n",
    "The tasks 2 to 4 are to be handed in together in a Jupyter notebook.\n",
    "\n",
    "You can use your data in the notebook e.g. like this:\n",
    "```\n",
    "from google.colab import files\n",
    "uploaded = files.upload()\n",
    "\n",
    "import io\n",
    "import pandas as pd\n",
    "\n",
    "df = pd.read_csv(io.BytesIO(uploaded['Filename.csv']))\n",
    "```"
   ]
  }
 ],
 "metadata": {
  "kernelspec": {
   "display_name": "Python 3 (ipykernel)",
   "language": "python",
   "name": "python3"
  },
  "language_info": {
   "codemirror_mode": {
    "name": "ipython",
    "version": 3
   },
   "file_extension": ".py",
   "mimetype": "text/x-python",
   "name": "python",
   "nbconvert_exporter": "python",
   "pygments_lexer": "ipython3",
   "version": "3.7.13"
  },
  "varInspector": {
   "cols": {
    "lenName": 16,
    "lenType": 16,
    "lenVar": 40
   },
   "kernels_config": {
    "python": {
     "delete_cmd_postfix": "",
     "delete_cmd_prefix": "del ",
     "library": "var_list.py",
     "varRefreshCmd": "print(var_dic_list())"
    },
    "r": {
     "delete_cmd_postfix": ") ",
     "delete_cmd_prefix": "rm(",
     "library": "var_list.r",
     "varRefreshCmd": "cat(var_dic_list()) "
    }
   },
   "types_to_exclude": [
    "module",
    "function",
    "builtin_function_or_method",
    "instance",
    "_Feature"
   ],
   "window_display": false
  }
 },
 "nbformat": 4,
 "nbformat_minor": 2
}
