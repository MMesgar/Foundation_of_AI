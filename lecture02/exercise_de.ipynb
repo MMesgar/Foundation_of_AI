{
 "cells": [
  {
   "cell_type": "markdown",
   "metadata": {},
   "source": [
    "# Übung: Intelligenz\n",
    "\n",
    "Version: SoSe 2022\n",
    "\n",
    "Veranschlagte Zeit: 40 minutes\n",
    "\n",
    "Autor: Clara Siepmann\n",
    "______"
   ]
  },
  {
   "cell_type": "markdown",
   "metadata": {},
   "source": [
    "# Ziele\n",
    "\n",
    "Nach dieser Übung sollten Sie:\n",
    "\n",
    " - eine generelle Idee haben, was Regular Expressions sind\n",
    " - einen ersten Eindruck des simple ELIZA Programs haben"
   ]
  },
  {
   "cell_type": "markdown",
   "metadata": {},
   "source": [
    "# Aufgabe 1\n",
    "\n",
    "**Sie haben vier verschiedene Arten kennengelernt um AI zu kategorisieren. Welche der zwei folgenden Kategorien war nicht dabei? (Russel Norvig, 1.1)**\n",
    "\n",
    "\n",
    "1. Systeme, die wie Menschen denken.\n",
    "2. Systeme, die wie Menschen handeln.\n",
    "3. Systeme, die Emotionen wie Menschen fühlen.\n",
    "4. Systeme, die emotional handeln wie Menschen.\n",
    "5. Systeme, die rational denken.\n",
    "6. Systeme, die rational handeln."
   ]
  },
  {
   "cell_type": "markdown",
   "metadata": {},
   "source": [
    "<details><summary>Lösung</summary>\n",
    "\n",
    "1,2,5,6 sind richtig und 3,4 sind falsch.\n",
    "\n",
    "</details>"
   ]
  },
  {
   "cell_type": "markdown",
   "metadata": {},
   "source": [
    "# Aufgabe 2\n",
    "\n",
    "**Der Turing-Test ist eine Möglichkeit um herauszufinden ob ein System intelligent ist. Turing nimmt an, dass ein System vier Eigenschaften haben muss um den Test bestehen zu können: Natural Language processing, Wissensrepräsentation, automated reasoning, maschinelles Lernen. (siehe Russel Norvig 26.1 & 26.3)** \n",
    "\n",
    "**Wenn ein System den \"Total Turing Test\" als Erweiterung des Originals bestehen soll, welche zusätzlichen Fähigkeiten benötigt das System dann?**"
   ]
  },
  {
   "cell_type": "markdown",
   "metadata": {},
   "source": [
    "<details><summary>Lösung</summary>\n",
    "\n",
    "Computer vision & robotics. Der \"Total Turing Test\" überträgt zusätzlich ein Video Signal\n",
    "\n",
    "</details>"
   ]
  },
  {
   "cell_type": "markdown",
   "metadata": {},
   "source": [
    "# Task 3\n",
    "**Welches der drei Statements ist richtig? (siehe Russel Norvig 26.1 & 26.3)**\n",
    "\n",
    "1. *Weak AI* ist der Name für eine künstliche Intelligenz die für eine spezifische Aufgabe entwickelt wurde, zum Beispiel Schach spielen.\n",
    "2. *Strong AI* meint kein spezifisches System, sondern eine philosophische Hypothese.\n",
    "3. Der Begriff *Technological Singularity* beschreibt einen Agenten, der nur eine einzige Technology benutzt.\n"
   ]
  },
  {
   "cell_type": "markdown",
   "metadata": {},
   "source": [
    "<details><summary>Lösung</summary>\n",
    "\n",
    "\n",
    "1. Ist falsch, *weak AI* beschreibt eine philosophische Hypothese nach der Maschinen so handeln können, als wären sie intelligent.\n",
    "2. Ist richtig, *strong AI* beschreibt die Hypothese, dass Maschinen tatsächlich so denken, als wären sie intelligent.\n",
    "3. Ist falsch, der Begriff beschreibt die Entwicklung einer super intelligenten Maschine. Diese Maschine wäre die letzte Maschine, die durch Menschen gebaut werden würde, da die Maschine nun besser wäre solche Maschinen zu entwickeln.\n",
    "\n",
    "</details>"
   ]
  },
  {
   "cell_type": "markdown",
   "metadata": {},
   "source": [
    "# Task 4\n",
    "\n",
    "Die nächsten Aufgaben drehen sich um Regular Expressions. Bitte versuchen Sie die Fragen zu beantworten. Danach können Sie selber kreativ werden und Dinge ausprobieren.\n",
    "\n",
    "\n",
    "## Was sind Regular Expressions (RegEx)\n",
    "\n",
    "Durch Regular Expressions ist es möglich Suchmuster zu definieren um gewisse Ausdrücke in einem Text zu finden. Zum Beispiel kann man in dem Satz \"I really like the AI course and my tutor is the best.\" alle Wörter finden, die den Buchstaben e in der Mitte enthalten. Mehr Informationen finden Sie in der Tabelle unten und im Beispiel Code.\n"
   ]
  },
  {
   "cell_type": "markdown",
   "metadata": {},
   "source": [
    "## Special characters (spezielle Zeichen)\n",
    "\n",
    "Wenn man RegEx benutzt, haben manche Zeichen(kombinationen) eine besondere Bedeutung. Diese können genutzt werden um zu definieren, dass man ein Muster z.B. am Anfang eines Strings sucht. Eine Auswahl der special Characters finden Sie in der Tabelle unten.\n",
    "\n",
    "\n",
    "|special character| Description | example|\n",
    "|:-|:------------- | :-----------------\n",
    "|[]|matches a set of characters, characters can be listed individually, or as a range (indicated with using \"-\"); other special characters are ignored inside of []; if you want to match all but one character you can use \"^\" at the beginning of the expression|[abc] and [a-c] both matches the characters \"a\", \"b\", \"c\"; [^5] matches all characters but the character \"5\"|\n",
    "|.|matches all characters but a newline character||\n",
    "|\\*|previous character can be matched *zero* or more times (called greedy)|\"ca*t\" matches \"ct\",\"cat\", \"caat\", \"caaat\"...|\n",
    "|+|previous character can be matched *one* or more times| \"ca+t\" matches \"cat\", \"caat\", \"caaat\"|\n",
    "|?|previous character can be matched *zero* or *one* time| \"AI$-course\" matches either \"AIcourse\" or \"AI-course\"|\n",
    "|\\\\| adding it to a special character escapes the special meaning of the character, so that it will be handled as a normal one| \"\\\\[\" finds the character \"[\"|\n",
    "|\\d|matches any decimal digit, can be used in []|is equivalent [0-9]|\n",
    "|\\D|matches any none decimal digit, can be used in []| is equivalent to [^0-9]|\n",
    "|\\s|matches any whitespace character, can be used in []||\n",
    "|\\S|matches any non-whitespace character, can be used in []||\n",
    "|\\w|matches any alphanumeric character, can be used in []| all characters & digits|\n",
    "|\\W|matches any non-alphanumeric character, can be used in []||\n",
    "\n",
    "Sie möchten mehr über RegEx wissen? Hier ist ein Tutorial https://docs.python.org/3/howto/regex.html\n"
   ]
  },
  {
   "cell_type": "markdown",
   "metadata": {},
   "source": [
    "## Code Beispiele\n",
    "\n",
    "Um RegEx in Python benutzen zu können, müssen wir das Modul re importieren (Keine Sorge, wir kümmern uns ums importieren). Weiter unten finden Sie Code Beispiele\n"
   ]
  },
  {
   "cell_type": "markdown",
   "metadata": {},
   "source": [
    "#### Step 0: RegEx und Test String anpassen."
   ]
  },
  {
   "cell_type": "code",
   "execution_count": null,
   "metadata": {},
   "outputs": [],
   "source": [
    "import re\n",
    "\n",
    "# define a RegEx\n",
    "expression=\"I feel [a-z]*\"\n",
    "\n",
    "# define the test string\n",
    "test = \"I feel sad and I feel lonely.\""
   ]
  },
  {
   "cell_type": "markdown",
   "metadata": {},
   "source": [
    "#### Step 1: Schauen ob es einen Treffer zwischen RegEx und String gibt"
   ]
  },
  {
   "cell_type": "code",
   "execution_count": null,
   "metadata": {},
   "outputs": [],
   "source": [
    "print(\"String:\", test)\n",
    "print(\"Expression:\", expression)\n",
    "\n",
    "# You can use the match function\n",
    "testMatch = re.match(expression, test)\n",
    "\n",
    "\n",
    "if testMatch: \n",
    "    print(\"Hit\")"
   ]
  },
  {
   "cell_type": "markdown",
   "metadata": {},
   "source": [
    "#### Step 2: Alle teilweisen Treffer ausgeben"
   ]
  },
  {
   "cell_type": "code",
   "execution_count": null,
   "metadata": {},
   "outputs": [],
   "source": [
    "# to get all partial matches, we need to compile the pattern first\n",
    "pattern = re.compile(expression)\n",
    "\n",
    "#object, which finds all matches in the string\n",
    "matcher = pattern.findall(test)\n",
    "\n",
    "#print all matches\n",
    "\n",
    "for idx, element in enumerate(matcher):\n",
    "    print('Match {}: {}'.format(str(idx), element))\n"
   ]
  },
  {
   "cell_type": "markdown",
   "metadata": {},
   "source": [
    "#### Step 3: Verschiedene Gruppen für die Treffer definieren"
   ]
  },
  {
   "cell_type": "code",
   "execution_count": null,
   "metadata": {},
   "outputs": [],
   "source": [
    "#if you want to return your matches in a list, finditer is a better choice as it returns an iterator object\n",
    "text = \"I feel sad and I feel lonely.\"\n",
    "print(text)\n",
    "print()\n",
    "\n",
    "for m in re.finditer(r\"(I) feel ([a-z]*)\", text):\n",
    "    print(\"phrase: \" + m.group(0))\n",
    "    print(\"who: \" + m.group(1)) #returns the match of the first ()\n",
    "    print(\"feeling: \" + m.group(2)) #returns the match of the second ()\n",
    "    print()"
   ]
  },
  {
   "cell_type": "markdown",
   "metadata": {},
   "source": [
    "#### Step 4: Den String anpassen"
   ]
  },
  {
   "cell_type": "code",
   "execution_count": null,
   "metadata": {},
   "outputs": [],
   "source": [
    "#creating a matcher object\n",
    "matcher = re.compile(\"(I) feel ([a-z]*)\").search(test)\n",
    "\n",
    "#replace the second group of the first match with \"very happy\"\n",
    "toBeReplaced = str(matcher.group(2)) \n",
    "replacement = \"very happy\"\n",
    "modifiedString = test.replace(toBeReplaced, replacement)\n",
    "print(\"Your modified String: \" + modifiedString)\n",
    "\n",
    "#You can also do string replacement directly without a matcher\n",
    "toBeReplaced2 = \"and I\"\n",
    "secondReplacement = \"because you\"\n",
    "secondModification = modifiedString.replace(toBeReplaced2, secondReplacement)\n",
    "print(\"After the second modification:\", secondModification)"
   ]
  },
  {
   "cell_type": "markdown",
   "metadata": {},
   "source": [
    "#### Step 5: Greedy vs. Lazy"
   ]
  },
  {
   "cell_type": "markdown",
   "metadata": {},
   "source": [
    "Regular Expressions können'greedy' und 'lazy' ausgeführt werden. Dieses beeinflusst stark, was gefunden wird. Matchen Sie die Wörter, die durch ```<begin>``` und ```<end>``` eingeschlossen werden. \n",
    "Wenn Sie 'greedy' verwenden, werden Sie nur einen Match finden, das erste ```<begin>``` und das **letzte** ```<end>```. Wenn Sie mit 'greedy' arbeiten, bedeutet ```[.*]```, dass der gesamte Text bis zu dessen Ende gelesen wird, und die Sequenz dann, beginnend vom Ende des Strings, zurückverfolgt wird, bis ein ```<end>``` gefunden wird.\n",
    "In anderen Worten sieht die Regular Expression nie das ```<end>``` hinter \"Duisburg\", sondern nur jenes hinter \"Hamburg\", welches in diesem Fall zu einem falschen Ergebnis führt."
   ]
  },
  {
   "cell_type": "code",
   "execution_count": null,
   "metadata": {},
   "outputs": [],
   "source": [
    "text = \"I am sad because I have to move from <begin>Duisburg<end> to rainy <begin>Hamburg<end> next week.\"\n",
    "print(\"Original text: \" + text)\n",
    "\n",
    "for m in re.finditer(r\"<begin>.*<end>\", text):\n",
    "    print(\"Greedy match: \" + m.group())\n",
    "    \n",
    "#The lazy way works as expected - note the additional question mark in the expression\n",
    "for m in re.finditer(r\"<begin>.*?<end>\", text):\n",
    "    print(\"Lazy match: \" + m.group())"
   ]
  },
  {
   "cell_type": "markdown",
   "metadata": {},
   "source": [
    "# Task 4.1\n",
    "**Schreib eine Funktion, die ein Wort und eine Liste an RegEx übergeben bekommt und den Index des ersten RegEx zurück gibt, die passt. Wenn es keinen Treffer gibt, gib eine -1 zurück**\n",
    "\n"
   ]
  },
  {
   "cell_type": "code",
   "execution_count": null,
   "metadata": {},
   "outputs": [],
   "source": [
    "# Write your code here\n",
    "import re\n",
    "\n",
    "def word_expression_match(input_word, list_of_expressions):\n",
    "    \n",
    "    # uncomment the for loop\n",
    "    # for index, exp in enumerate(list_of_expressions):        \n",
    "\n",
    "        # check if the word matches the expression exp. if True: return the index\n",
    "        \n",
    "    return -1"
   ]
  },
  {
   "cell_type": "code",
   "execution_count": null,
   "metadata": {},
   "outputs": [],
   "source": [
    "# run this cell to check your function\n",
    "expression1 = r\"l[a-z]+en\"\n",
    "expression2 = r\"([01]?\\d|2[0-3]):([0-5]\\d)\"\n",
    "expression3 = r\"^[a-zA-Z0-9_\\.+-]+@[a-zA-Z0-9_\\.~-]+\\.[a-zA-Z]{2,}$\"\n",
    "list_of_expressions = [expression1, expression2, expression3]\n",
    "\n",
    "input_word = 'laufen'\n",
    "\n",
    "print(word_expression_match(input_word, list_of_expressions))"
   ]
  },
  {
   "cell_type": "markdown",
   "metadata": {},
   "source": [
    "<details><summary>Lösung</summary>\n",
    "\n",
    "```Python\n",
    "    import re\n",
    "    \n",
    "    def word_expression_match(input_word, list_of_expressions):\n",
    "    \n",
    "        for index, exp in enumerate(list_of_expressions):        \n",
    "\n",
    "            # check if the word matches the expression exp\n",
    "            if re.search(exp, input_word):\n",
    "                return index\n",
    "            # if True: return the index \n",
    "\n",
    "        return -1\n",
    "    \n",
    "```\n",
    " </details>"
   ]
  },
  {
   "cell_type": "markdown",
   "metadata": {},
   "source": [
    "# Task 4.2\n",
    "\n",
    "**Jetzt schauen Sie sich die Klasse SimpleEliza an. Vervollständingen Sie den Code. Lassen Sie den Code laufen und schauen Sie welche Dialoge möglich sind.**\n"
   ]
  },
  {
   "cell_type": "code",
   "execution_count": 1,
   "metadata": {},
   "outputs": [],
   "source": [
    "# Write your code here\n",
    "import random\n",
    "\n",
    "class SimpleEliza:\n",
    "\n",
    "    # Eliza's 'intelligence'\n",
    "    def run(self):\n",
    "        \n",
    "        welcome = \"Hallo. Worüber möchten Sie mit mir reden?\"\n",
    "        \n",
    "        goodbye = \"Auf Wiedersehen\"\n",
    "        \n",
    "        feelings = [\"ängstlich\", \"bedrückt\", \"einsam\", \"erfreut\", \"gestresst\", \"glücklich\", \"traurig\", \"unzufrieden\"]\n",
    "        \n",
    "        dummy_sentences = [\n",
    "            \"Erzählen Sie mir mehr davon.\",\n",
    "            \"Interessant.\",\n",
    "            \"Können Sie das noch etwas genauer erklären?\",\n",
    "            \"Was denken Sie darüber?\"\n",
    "        ]\n",
    "\n",
    "        \n",
    "        # TODO: To greet the user, print the welcome string\n",
    "        \n",
    "\n",
    "        # Process user input. Processing continues until the user says goodbye. \n",
    "        s = \"\"\n",
    "        while s != goodbye:\n",
    "            \n",
    "            # Read user input\n",
    "            s = input()\n",
    "            \n",
    "            if s == goodbye:\n",
    "                \n",
    "                # TODO: print the goodbye string\n",
    "                \n",
    "                # exist from the loop using the break command\n",
    "                break\n",
    "                \n",
    "            answer = \"\"\n",
    "            \n",
    "            # Check for feelings\n",
    "            for feeling in feelings:\n",
    "                \n",
    "                if feeling in s:\n",
    "                    # Found feeling -> generate answer\n",
    "                    answer = \"Wieso fühlen Sie sich \" + feeling + \"?\"\n",
    "                    \n",
    "                    # stop processing user input\n",
    "                    break\n",
    "            \n",
    "            \n",
    "            # If no feeling has been detected, generate a dummy answer.\n",
    "            if len(answer) == 0:\n",
    "                \n",
    "                # replace \"None\" in the following line\n",
    "                # with a random sentence from the dummy_sentences (hint: use random.choice())\n",
    "                answer = None\n",
    "                \n",
    "            print(answer)\n",
    "\n",
    "\n"
   ]
  },
  {
   "cell_type": "markdown",
   "metadata": {},
   "source": [
    "<details><summary>Lösung</summary>\n",
    "\n",
    "```Python\n",
    "import random\n",
    "\n",
    "class SimpleEliza:\n",
    "\n",
    "    # Eliza's 'intelligence'\n",
    "    def run(self):\n",
    "        \n",
    "        welcome = \"Hallo. Worüber möchten Sie mit mir reden?\"\n",
    "        \n",
    "        goodbye = \"Auf Wiedersehen\"\n",
    "        \n",
    "        feelings = [\"ängstlich\", \"bedrückt\", \"einsam\", \"erfreut\", \"gestresst\", \"glücklich\", \"traurig\", \"unzufrieden\"]\n",
    "        \n",
    "        dummy_sentences = [\n",
    "            \"Erzählen Sie mir mehr davon.\",\n",
    "            \"Interessant.\",\n",
    "            \"Können Sie das noch etwas genauer erklären?\",\n",
    "            \"Was denken Sie darüber?\"\n",
    "        ]\n",
    "\n",
    "        # Greet the user\n",
    "        # TODO: print the welcome string\n",
    "        print(welcome)\n",
    "\n",
    "        # Process user input. Processing continues until the user says goodbye. \n",
    "        s = \"\"\n",
    "        while s != goodbye:\n",
    "            # Read user input\n",
    "            s = input()\n",
    "            \n",
    "            if s == goodbye:\n",
    "                print(goodbye)\n",
    "                break\n",
    "                \n",
    "            answer = \"\"\n",
    "            \n",
    "            # Check for feelings\n",
    "            for feeling in feelings:\n",
    "                \n",
    "                if feeling in s:\n",
    "                    # Found feeling -> generate answer\n",
    "                    answer = \"Wieso fühlen Sie sich \" + feeling + \"?\"\n",
    "                    # stop processing user input\n",
    "                    break\n",
    "            \n",
    "            # If no feeling has been detected, generate a dummy answer.\n",
    "            if len(answer) == 0:\n",
    "                # output random sentence\n",
    "                answer = random.choice(dummy_sentences)\n",
    "\n",
    "            print(answer)\n",
    "```\n",
    "\n",
    "</details>"
   ]
  },
  {
   "cell_type": "markdown",
   "metadata": {},
   "source": [
    "\n",
    "## Vielen Dank für die Teilnahme an dieser Übung!\n",
    "\n",
    "______\n",
    "\n",
    "\n",
    "## Other Contributors\n",
    "\n",
    "N/A"
   ]
  },
  {
   "cell_type": "code",
   "execution_count": null,
   "metadata": {},
   "outputs": [],
   "source": []
  }
 ],
 "metadata": {
  "kernelspec": {
   "display_name": "Python 3 (ipykernel)",
   "language": "python",
   "name": "python3"
  },
  "language_info": {
   "codemirror_mode": {
    "name": "ipython",
    "version": 3
   },
   "file_extension": ".py",
   "mimetype": "text/x-python",
   "name": "python",
   "nbconvert_exporter": "python",
   "pygments_lexer": "ipython3",
   "version": "3.8.8"
  },
  "varInspector": {
   "cols": {
    "lenName": 16,
    "lenType": 16,
    "lenVar": 40
   },
   "kernels_config": {
    "python": {
     "delete_cmd_postfix": "",
     "delete_cmd_prefix": "del ",
     "library": "var_list.py",
     "varRefreshCmd": "print(var_dic_list())"
    },
    "r": {
     "delete_cmd_postfix": ") ",
     "delete_cmd_prefix": "rm(",
     "library": "var_list.r",
     "varRefreshCmd": "cat(var_dic_list()) "
    }
   },
   "types_to_exclude": [
    "module",
    "function",
    "builtin_function_or_method",
    "instance",
    "_Feature"
   ],
   "window_display": false
  }
 },
 "nbformat": 4,
 "nbformat_minor": 2
}
