{
 "cells": [
  {
   "cell_type": "markdown",
   "metadata": {},
   "source": [
    "# Exercise: Intelligence\n",
    "\n",
    "Version: SoSe 2022\n",
    "\n",
    "Estimated time needed: 40 minutes\n",
    "\n",
    "Author: Clara Siepmann\n",
    "______"
   ]
  },
  {
   "cell_type": "markdown",
   "metadata": {},
   "source": [
    "# Objectives\n",
    "\n",
    "After completing this lab you will be able to:\n",
    "\n",
    " - have some ideas about regular expressions\n",
    " - a first impression about the ELIZA program"
   ]
  },
  {
   "cell_type": "markdown",
   "metadata": {},
   "source": [
    "# Task 1\n",
    "\n",
    "**You have heard about 4 different ways to categorize AI. Which two of the following categories is wrong? (Russel Norvig, 1.1)**\n",
    "\n",
    "1. Systems that think like humans.\n",
    "2. Systems that act like humans.\n",
    "3. Systems that feel emotions like humans.\n",
    "4. Systems that act emotionally like humans.\n",
    "5. Systems that think rationally.\n",
    "6. Systems that act rationally"
   ]
  },
  {
   "cell_type": "markdown",
   "metadata": {},
   "source": [
    "<details><summary>Click here for the solution</summary>\n",
    "\n",
    "1,2,5,6 are right and 3,4 are wrong \n",
    "\n",
    "</details>"
   ]
  },
  {
   "cell_type": "markdown",
   "metadata": {},
   "source": [
    "# Task 2\n",
    "**The Turing test is one way to find out if a system is intelligent. In Turing proposes 4 kinds of capapilities a system would need to pass the test: natural langugage processing, knowledge representation, automated reasoning, machine learning. (see Russel Norvig 26.1 & 26.3)**\n",
    "\n",
    "**If a system wants to pass the total Turing Test, an extension of the original one, which additionall capabilities do the system need?**"
   ]
  },
  {
   "cell_type": "markdown",
   "metadata": {},
   "source": [
    "<details><summary>Click here for the solution</summary>\n",
    "\n",
    "Computer vision & robotics. The total Turing Test includes a video signal\n",
    "\n",
    "</details>"
   ]
  },
  {
   "cell_type": "markdown",
   "metadata": {},
   "source": [
    "# Task 3\n",
    "**Which of the three Statements is right? (see Russel Norvig 26.1 & 26.3)**\n",
    "1. Weak AI is the name for an AI, which is developed for a specific task, e.g. playing chess.\n",
    "2. Strong AI does not mean a specific system, but rather a  philosophic hypothesis.\n",
    "3. The term \"technological Singularity\" describes an agent that uses only one technology."
   ]
  },
  {
   "cell_type": "markdown",
   "metadata": {},
   "source": [
    "<details><summary>Click here for the solution</summary>\n",
    "\n",
    "1. is wrong, weak AI describes the philosophic hypothesis, that machines can act as if they were intelligent.\n",
    "2. is right, this describes the hypothesis, that machines actually think, if they act intelligent\n",
    "3. is wrong, this describes the development of a super intelligent machine. This machine would be the last machine constructed by humans, because the machine itself would be better in doing such things. \n",
    "\n",
    "</details>"
   ]
  },
  {
   "cell_type": "markdown",
   "metadata": {},
   "source": [
    "# Task 4\n",
    "\n",
    "The next few task will be about Regular Expressions. Please try to solve the questions. After that, get creative and play around if you like\n",
    "\n",
    "## What are Regular Expressions (RegEx)\n",
    "With using Regular Expressions, you can define search patterns to find certain expressions in text. For example if you have the sentence: \"I really like the AI course and my tutor is the best.\" it is possible to find all words in the sentence, which contains an e in the middle of the sentence. For more information see the example code and the table below."
   ]
  },
  {
   "cell_type": "markdown",
   "metadata": {},
   "source": [
    "## Special characters\n",
    "\n",
    "With using RegEx where are some special characters to define, that we want to match a pattern in the beginning of a string, the end or other things. You can find some of the special characters and their meaning in the table below.\n",
    "\n",
    "|special character| Description | example|\n",
    "|:-|:------------- | :-----------------\n",
    "|[]|matches a set of characters, characters can be listed individually, or as a range (indicated with using \"-\"); other special characters are ignored inside of []; if you want to match all but one character you can use \"^\" at the beginning of the expression|[abc] and [a-c] both matches the characters \"a\", \"b\", \"c\"; [^5] matches all characters but the character \"5\"|\n",
    "|.|matches all characters but a newline character||\n",
    "|\\*|previous character can be matched *zero* or more times (called greedy)|\"ca*t\" matches \"ct\",\"cat\", \"caat\", \"caaat\"...|\n",
    "|+|previous character can be matched *one* or more times| \"ca+t\" matches \"cat\", \"caat\", \"caaat\"|\n",
    "|?|previous character can be matched *zero* or *one* time| \"AI$-course\" matches either \"AIcourse\" or \"AI-course\"|\n",
    "|\\| adding it to a special character escapes the special meaning of the character, so that it will be handled as a normal one| \"\\[\" finds the character \"[\"|\n",
    "|\\d|matches any decimal digit, can be used in []|is equivalent [0-9]|\n",
    "|\\D|matches any none decimal digit, can be used in []| is equivalent to [^0-9]|\n",
    "|\\s|matches any whitespace character, can be used in []||\n",
    "|\\S|matches any non-whitespace character, can be used in []||\n",
    "|\\w|matches any alphanumeric character, can be used in []| all characters & digits|\n",
    "|\\W|matches any non-alphanumeric character, can be used in []||\n",
    "\n",
    "You want to learn more about RegEx? Take a look here https://docs.python.org/3/howto/regex.html\n"
   ]
  },
  {
   "cell_type": "markdown",
   "metadata": {},
   "source": [
    "## Code examples\n",
    "\n",
    "To use RegEx in Python, we need to import the module re (don't worry about importing, we are doing it for you). See some working examples below."
   ]
  },
  {
   "cell_type": "markdown",
   "metadata": {},
   "source": [
    "#### Step 0: Modify the regular expression and the test string"
   ]
  },
  {
   "cell_type": "code",
   "execution_count": null,
   "metadata": {},
   "outputs": [],
   "source": [
    "import re\n",
    "\n",
    "# define a RegEx\n",
    "expression=\"I feel [a-z]*\"\n",
    "\n",
    "# define the test string\n",
    "test = \"I feel sad and I feel lonely.\""
   ]
  },
  {
   "cell_type": "markdown",
   "metadata": {},
   "source": [
    "#### Step 1: Check for match"
   ]
  },
  {
   "cell_type": "code",
   "execution_count": null,
   "metadata": {},
   "outputs": [],
   "source": [
    "print(\"String:\", test)\n",
    "print(\"Expression:\", expression)\n",
    "\n",
    "# You can use the match function\n",
    "testMatch = re.match(expression, test)\n",
    "\n",
    "\n",
    "if testMatch: \n",
    "    print(\"Hit\")"
   ]
  },
  {
   "cell_type": "markdown",
   "metadata": {},
   "source": [
    "#### Step 2: Get all partial matches"
   ]
  },
  {
   "cell_type": "code",
   "execution_count": null,
   "metadata": {},
   "outputs": [],
   "source": [
    "# to get all partial matches, we need to compile the pattern first\n",
    "pattern = re.compile(expression)\n",
    "\n",
    "#object, which finds all matches in the string\n",
    "matcher = pattern.findall(test)\n",
    "\n",
    "#print all matches\n",
    "\n",
    "for idx, element in enumerate(matcher):\n",
    "    print('Match {}: {}'.format(str(idx), element))\n"
   ]
  },
  {
   "cell_type": "markdown",
   "metadata": {},
   "source": [
    "#### Step 3: Define different groups for your match"
   ]
  },
  {
   "cell_type": "code",
   "execution_count": null,
   "metadata": {},
   "outputs": [],
   "source": [
    "#if you want to return your matches in a list, finditer is a better choice as it returns an iterator object\n",
    "text = \"I feel sad and I feel lonely.\"\n",
    "print(text)\n",
    "print()\n",
    "\n",
    "for m in re.finditer(r\"(I) feel ([a-z]*)\", text):\n",
    "    print(\"phrase: \" + m.group(0))\n",
    "    print(\"who: \" + m.group(1)) #returns the match of the first ()\n",
    "    print(\"feeling: \" + m.group(2)) #returns the match of the second ()\n",
    "    print()"
   ]
  },
  {
   "cell_type": "markdown",
   "metadata": {},
   "source": [
    "#### Step 4: Modify the string"
   ]
  },
  {
   "cell_type": "code",
   "execution_count": null,
   "metadata": {},
   "outputs": [],
   "source": [
    "#creating a matcher object\n",
    "matcher = re.compile(\"(I) feel ([a-z]*)\").search(test)\n",
    "\n",
    "#replace the second group of the first match with \"very happy\"\n",
    "toBeReplaced = str(matcher.group(2)) \n",
    "replacement = \"very happy\"\n",
    "modifiedString = test.replace(toBeReplaced, replacement)\n",
    "print(\"Your modified String: \" + modifiedString)\n",
    "\n",
    "#You can also do string replacement directly without a matcher\n",
    "toBeReplaced2 = \"and I\"\n",
    "secondReplacement = \"because you\"\n",
    "secondModification = modifiedString.replace(toBeReplaced2, secondReplacement)\n",
    "print(\"After the second modification:\", secondModification)"
   ]
  },
  {
   "cell_type": "markdown",
   "metadata": {},
   "source": [
    "#### Step 5: Greedy vs. Lazy"
   ]
  },
  {
   "cell_type": "markdown",
   "metadata": {},
   "source": [
    "*Regular expressions can be executed in a greedy and lazy fashion, which influences greatly what is found.\n",
    "Match the words enclosed by ```<begin>``` and ```<end>```.\n",
    "The greedy way finds only one match, the first ```<begin>``` and the the **last** ```<end>```. \n",
    "*When working greedily, the* ```[.*]``` *means that the full text is read until its end and then beginning from the end of the string the sequence is backtracked until a matching ```<end>``` is found. In other words, the regular expression never sees the ```<end>``` behind \"Duisburg\" but only behind \"Hamburg\", which leads in this case to an incorrect result.*"
   ]
  },
  {
   "cell_type": "code",
   "execution_count": null,
   "metadata": {},
   "outputs": [],
   "source": [
    "text = \"I am sad because I have to move from <begin>Duisburg<end> to rainy <begin>Hamburg<end> next week.\"\n",
    "print(\"Original text: \" + text)\n",
    "\n",
    "for m in re.finditer(r\"<begin>.*<end>\", text):\n",
    "    print(\"Greedy match: \" + m.group())\n",
    "    \n",
    "#The lazy way works as expected - note the additional question mark in the expression\n",
    "for m in re.finditer(r\"<begin>.*?<end>\", text):\n",
    "    print(\"Lazy match: \" + m.group())"
   ]
  },
  {
   "cell_type": "markdown",
   "metadata": {},
   "source": [
    "# Task 4.1\n",
    "\n",
    "**Write a function that gets a word and a list of regular expressions and returns the index of the first regular expresion that matches the word. If there is no match, return -1.**\n"
   ]
  },
  {
   "cell_type": "code",
   "execution_count": null,
   "metadata": {},
   "outputs": [],
   "source": [
    "# Write your code here\n",
    "import re\n",
    "\n",
    "def word_expression_match(input_word, list_of_expressions):\n",
    "    \n",
    "    # uncomment the for loop\n",
    "    # for index, exp in enumerate(list_of_expressions):        \n",
    "\n",
    "        # check if the word matches the expression exp. if True: return the index\n",
    "        \n",
    "    return -1"
   ]
  },
  {
   "cell_type": "code",
   "execution_count": null,
   "metadata": {},
   "outputs": [],
   "source": [
    "# run this cell to check your function\n",
    "expression1 = r\"l[a-z]+en\"\n",
    "expression2 = r\"([01]?\\d|2[0-3]):([0-5]\\d)\"\n",
    "expression3 = r\"^[a-zA-Z0-9_\\.+-]+@[a-zA-Z0-9_\\.~-]+\\.[a-zA-Z]{2,}$\"\n",
    "list_of_expressions = [expression1, expression2, expression3]\n",
    "\n",
    "input_word = 'laufen'\n",
    "\n",
    "print(word_expression_match(input_word, list_of_expressions))"
   ]
  },
  {
   "cell_type": "markdown",
   "metadata": {},
   "source": [
    "<details><summary>Click here for the solution</summary>\n",
    "\n",
    "```Python\n",
    "    import re\n",
    "    \n",
    "    def word_expression_match(input_word, list_of_expressions):\n",
    "    \n",
    "        for index, exp in enumerate(list_of_expressions):        \n",
    "\n",
    "            # check if the word matches the expression exp\n",
    "            if re.search(exp, input_word):\n",
    "                return index\n",
    "            # if True: return the index \n",
    "\n",
    "        return -1\n",
    "    \n",
    "```\n",
    " </details>"
   ]
  },
  {
   "cell_type": "markdown",
   "metadata": {},
   "source": [
    "# Task 4.2\n",
    "**Now look at the class SimpleEliza. Complete TODOs in the code. Run the program and test which dialogs are possible.** "
   ]
  },
  {
   "cell_type": "code",
   "execution_count": null,
   "metadata": {},
   "outputs": [],
   "source": [
    "# Write your code here\n",
    "import random\n",
    "\n",
    "class SimpleEliza:\n",
    "\n",
    "    # Eliza's 'intelligence'\n",
    "    def run(self):\n",
    "        \n",
    "        welcome = \"Hello, what would you like to talk to me about?\"\n",
    "        \n",
    "        goodbye = \"Goodbye\"\n",
    "        \n",
    "        feelings = [\"anxious\", \"depressed\", \"lonely\", \"pleased\", \"stressed\", \"happy\", \"sad\", \"dissatisfied\"]\n",
    "        \n",
    "        dummy_sentences = [\n",
    "            \"Please tell me more.\",\n",
    "            \"Interesting.\",\n",
    "            \"Could you add some explanation?\",\n",
    "            \"What are you thinking about this?\"\n",
    "        ]\n",
    "\n",
    "        \n",
    "        # TODO: To greet the user, print the welcome string\n",
    "        \n",
    "\n",
    "        # Process user input. Processing continues until the user says goodbye. \n",
    "        s = \"\"\n",
    "        while s != goodbye:\n",
    "            \n",
    "            # Read user input\n",
    "            s = input()\n",
    "            \n",
    "            if s == goodbye:\n",
    "                \n",
    "                # TODO: print the goodbye string\n",
    "                \n",
    "                # exist from the loop using the break command\n",
    "                break\n",
    "                \n",
    "            answer = \"\"\n",
    "            \n",
    "            # Check for feelings\n",
    "            for feeling in feelings:\n",
    "                \n",
    "                if feeling in s:\n",
    "                    # Found feeling -> generate answer\n",
    "                    answer = \"Why are you feeling \" + feeling + \"?\"\n",
    "                    \n",
    "                    # stop processing user input\n",
    "                    break\n",
    "            \n",
    "            \n",
    "            # If no feeling has been detected, generate a dummy answer.\n",
    "            if len(answer) == 0:\n",
    "                \n",
    "                # replace \"None\" in the following line\n",
    "                # with a random sentence from the dummy_sentences (hint: use random.choice())\n",
    "                answer = None\n",
    "                \n",
    "            print(answer)\n",
    "\n",
    "\n"
   ]
  },
  {
   "cell_type": "code",
   "execution_count": null,
   "metadata": {},
   "outputs": [],
   "source": [
    "my_eliza = SimpleEliza()\n",
    "my_eliza.run()"
   ]
  },
  {
   "cell_type": "markdown",
   "metadata": {},
   "source": [
    "<details><summary>Click here for the solution</summary>\n",
    "\n",
    "```Python\n",
    "import random\n",
    "\n",
    "class SimpleEliza:\n",
    "\n",
    "    # Eliza's 'intelligence'\n",
    "    def run(self):\n",
    "        \n",
    "        welcome = \"Hello, what would you like to talk to me about?\"\n",
    "        \n",
    "        goodbye = \"Goodbye\"\n",
    "        \n",
    "        feelings = [\"anxious\", \"depressed\", \"lonely\", \"pleased\", \"stressed\", \"happy\", \"sad\", \"dissatisfied\"]\n",
    "        \n",
    "        dummy_sentences = [\n",
    "            \"Please tell me more.\",\n",
    "            \"Interesting.\",\n",
    "            \"Could you add some explanation?\",\n",
    "            \"What are you thinking about this?\"\n",
    "        ]\n",
    "\n",
    "        # Greet the user\n",
    "        # TODO: print the welcome string\n",
    "        print(welcome)\n",
    "\n",
    "        # Process user input. Processing continues until the user says goodbye. \n",
    "        s = \"\"\n",
    "        while s != goodbye:\n",
    "            # Read user input\n",
    "            s = input()\n",
    "            \n",
    "            if s == goodbye:\n",
    "                print(goodbye)\n",
    "                break\n",
    "                \n",
    "            answer = \"\"\n",
    "            \n",
    "            # Check for feelings\n",
    "            for feeling in feelings:\n",
    "                \n",
    "                if feeling in s:\n",
    "                    # Found feeling -> generate answer\n",
    "                    answer = \"Why are you feeling \" + feeling + \"?\"\n",
    "                    # stop processing user input\n",
    "                    break\n",
    "            \n",
    "            # If no feeling has been detected, generate a dummy answer.\n",
    "            if len(answer) == 0:\n",
    "                # output random sentence\n",
    "                answer = random.choice(dummy_sentences)\n",
    "\n",
    "            print(answer)\n",
    "```\n",
    "\n",
    "</details>"
   ]
  },
  {
   "cell_type": "markdown",
   "metadata": {},
   "source": [
    "\n",
    "## Thank you for completing this lab!\n",
    "\n",
    "______\n",
    "\n",
    "\n",
    "## Other Contributors\n",
    "\n",
    "N/A"
   ]
  }
 ],
 "metadata": {
  "kernelspec": {
   "display_name": "Python 3 (ipykernel)",
   "language": "python",
   "name": "python3"
  },
  "language_info": {
   "codemirror_mode": {
    "name": "ipython",
    "version": 3
   },
   "file_extension": ".py",
   "mimetype": "text/x-python",
   "name": "python",
   "nbconvert_exporter": "python",
   "pygments_lexer": "ipython3",
   "version": "3.8.8"
  },
  "varInspector": {
   "cols": {
    "lenName": 16,
    "lenType": 16,
    "lenVar": 40
   },
   "kernels_config": {
    "python": {
     "delete_cmd_postfix": "",
     "delete_cmd_prefix": "del ",
     "library": "var_list.py",
     "varRefreshCmd": "print(var_dic_list())"
    },
    "r": {
     "delete_cmd_postfix": ") ",
     "delete_cmd_prefix": "rm(",
     "library": "var_list.r",
     "varRefreshCmd": "cat(var_dic_list()) "
    }
   },
   "types_to_exclude": [
    "module",
    "function",
    "builtin_function_or_method",
    "instance",
    "_Feature"
   ],
   "window_display": false
  }
 },
 "nbformat": 4,
 "nbformat_minor": 2
}
