{
 "cells": [
  {
   "cell_type": "markdown",
   "metadata": {},
   "source": [
    "# Homework: Intelligenz\n",
    "\n",
    "Version: SoSe 2022\n",
    "\n",
    "Veranschlagte Zeit: 45 Minuten\n",
    "\n",
    "Author: Clara Siepmann\n",
    "\n",
    "Deadline: 29.04.2022\n",
    "\n",
    "______"
   ]
  },
  {
   "cell_type": "markdown",
   "metadata": {},
   "source": [
    "## Abgaberichtlinien\n",
    "* Jede Hausübung bringt maximal 10 Hausaufgabenpunkte. 10 Hausaufgabenpunkte entsprechen einem Klausurpunkt.\n",
    "* Im Laufe des Semesters kann es zusätzliche Bonuspunkte (= 1 Klausurpunkt) für Hausübungen geben, in Form von z.B. Challenges, weitere Informationen folgen bei den betreffenden Hausübungen.\n",
    "* Die Abgabe erfolgt in Zweier- oder Dreierteams. **Einzelabgaben werden nicht gewertet**. Die Teammitglieder müssen nicht in derselben Übungsgruppe sein. Bei Problemen bzw. Einzelfällen hinsichtlich dieser Richtlinie kontaktieren Sie einen Tutor.\n",
    "* In der Abgabe müssen alle Teammitglieder mit **Namen und Matrikelnummern gut sichtbar** genannt werden.\n",
    "* Es muss immer nur **ein Teammitglied der Gruppe abgeben**. Sollten aus Versehen mehrere Abgaben der selben Übung erfolgen, kommunizieren Sie dies **zeitnah** an einen Tutor, ansonsten wird die erste korrigierte Abgabe gewertet.\n",
    "* Die Abgabe soll als Jupyter-Notebook erfolgen (.ipynb). Abgaben in einem **anderen Format werden nicht gewertet**. Bei Problemen hinsichtlich dieser Richtlinie kontaktieren Sie einen Tutor.\n",
    "* Es ist nicht nötig, den Präsenzübungsteil in der Abgabe mit abzugeben. Es wird lediglich der Hausübungsteil gewertet.\n",
    "* Wenn Bilder mit abgegeben werden, ist es erlaubt, diese zusammen mit dem Notebook als zip-Ordner abzugeben. Diese sollten folgendermaßen eingefügt werden: ``![Beispiel1](Beispielbild1.PNG)`` (ohne Apostrophe in einer Markdown-Cell)."
   ]
  },
  {
   "cell_type": "markdown",
   "metadata": {},
   "source": [
    "# Task 1\n",
    "\n",
    "**Russel & Norvig präsentieren im Kapitel 26.3 sechs ethische Probleme, die im Zusammenhang mit AI auftreten können. Zählen Sie vier dieser Probleme auf und nennen Sie entweder eine mögliche Lösung, ein Gegenargument oder eine Design Guideline für jedes der Probleme.** 4 Punkte\n",
    "\n"
   ]
  },
  {
   "cell_type": "markdown",
   "metadata": {},
   "source": [
    "# Platz für Ihre Lösung\n",
    "\n",
    "-\n",
    "\n"
   ]
  },
  {
   "cell_type": "markdown",
   "metadata": {},
   "source": [
    "# Task 2\n",
    "\n",
    "## Task 2.1\n",
    "**Erweitern Sie den Beispielcode einer simplen Eliza Implementierung, um die unten beschriebenen Fähigkeiten zu ermöglichen. Verwenden Sie dabei reguläre Ausdrücke (regular expressions). Kommentieren Sie ihren Code!**\n",
    "\n",
    "* **Eliza sollte in der Lage sein, auf die Nennung von Familienmitgliedern (\"Vater\", \"Schwester\", etc) zu reagieren.**\n",
    "* **Eliza sollte Negationen in den Aussagen erkennen können.**\n",
    "* **Eliza sollte die Konjunktionen \"und\" und \"oder\" unterscheiden und unterschiedlich reagieren können.**\n",
    "* **Eine Fähigkeit Ihrer Wahl.**\n"
   ]
  },
  {
   "cell_type": "code",
   "execution_count": null,
   "metadata": {},
   "outputs": [],
   "source": [
    "import random\n",
    "\n",
    "class SimpleEliza:\n",
    "\n",
    "    # Eliza's 'intelligence'\n",
    "    def run(self, input_sent):\n",
    "\n",
    "        welcome = \"Hallo. Worüber möchten Sie mit mir reden?\"\n",
    "        goodbye = \"Auf Wiedersehen\"\n",
    "        feelings = [\"ängstlich\", \"bedrückt\", \"einsam\", \"erfreut\", \"gestresst\", \"glücklich\", \"traurig\", \"unzufrieden\"]\n",
    "        dummy_sentences = [\n",
    "            \"Erzählen Sie mir mehr davon.\",\n",
    "            \"Interessant.\",\n",
    "            \"Können Sie das noch etwas genauer erklären?\",\n",
    "            \"Was denken Sie darüber?\"\n",
    "        ]\n",
    "\n",
    "        \n",
    "        # Process user input. Processing continues until the user says goodbye. \n",
    "        s = input_sent\n",
    "        \n",
    "        if s == goodbye:\n",
    "            \n",
    "            return goodbye\n",
    "\n",
    "        answer = \"\"\n",
    "\n",
    "        # Check for feelings\n",
    "        for feeling in feelings:\n",
    "\n",
    "            if feeling in s:\n",
    "               \n",
    "                # Found feeling -> generate answer\n",
    "                \n",
    "                answer = \"Why are you feeling \" + feeling + \"?\"\n",
    "                \n",
    "                # stop processing user input\n",
    "                return answer\n",
    "\n",
    "        #TODO: Check for family members\n",
    "\n",
    "        #TODO: Check for negations\n",
    "\n",
    "        #TODO: distinguish between and & or\n",
    "\n",
    "        #TODO: ability of your choice\n",
    "\n",
    "        # output random sentence\n",
    "        answer =  random.choice(dummy_sentences)\n",
    "        return answer"
   ]
  },
  {
   "cell_type": "markdown",
   "metadata": {},
   "source": [
    "Nutzen Sie die Zellen unten um Ihre Implementierung zu testen. **Bitte lassen Sie für die Abgabe den Output der Zellen im Notebook**\n",
    "\n",
    "\n",
    "Für Familienmitglieder: \n",
    "* Ich denke mein Vater ist verantwortlich.\n",
    "* Ich hasse meine Schwester.\n",
    "* Meine Mutter weiß am Besten was gut für mich ist.\n",
    "\n",
    "Negationen:\n",
    "* Ich bin nicht zufrieden mit den Ergebnissen.\n",
    "* Mein Bruder mag mich nicht.\n",
    "* Meine Kollegen sind nicht die Schlausten.\n",
    "\n",
    "Konjunktionen:\n",
    "* Ich denke, dass ist traurig und lustig zugleich.\n",
    "* Soll ich über meine Kindheit oder meine aktuelle Situation erzählen?\n",
    "* Ich mag beide Arten von Filmen, Action und Romantik.\n"
   ]
  },
  {
   "cell_type": "code",
   "execution_count": null,
   "metadata": {},
   "outputs": [],
   "source": [
    "my_eliza = SimpleEliza()"
   ]
  },
  {
   "cell_type": "code",
   "execution_count": null,
   "metadata": {},
   "outputs": [],
   "source": [
    "for inp_sent in [\"Ich denke mein Vater ist verantwortlich.\",  \n",
    "                 \"Ich hasse meine Schwester.\", \"Meine Mutter weiß am Besten was gut für mich ist.\"]:\n",
    "    answer = my_eliza.run(inp_sent)\n",
    "    print(f\"User: {inp_sent} \\nEliza: {answer}\")\n",
    "    print(f\"*\"*10)"
   ]
  },
  {
   "cell_type": "code",
   "execution_count": null,
   "metadata": {},
   "outputs": [],
   "source": [
    "for inp_sent in [\"Ich bin nicht zufrieden mit den Ergebnissen.\", \n",
    "                 \"Mein Bruder mag mich nicht.\", \"Meine Kollegen sind nicht die Schlausten.\"]:\n",
    "    answer = my_eliza.run(inp_sent)\n",
    "    print(f\"User: {inp_sent} \\nEliza: {answer}\")\n",
    "    print(f\"*\"*10)"
   ]
  },
  {
   "cell_type": "code",
   "execution_count": null,
   "metadata": {},
   "outputs": [],
   "source": [
    "for inp_sent in [\"Ich denke, dass ist traurig und lustig zugleich.\", \n",
    "                 \"Soll ich über meine Kindheit oder meine aktuelle Situation erzählen?\",\n",
    "                 \"Ich mag beide Arten von Filmen, Action und Romantik.\"]:\n",
    "    answer = my_eliza.run(inp_sent)\n",
    "    print(f\"User: {inp_sent} \\nEliza: {answer}\")\n",
    "    print(f\"*\"*10)"
   ]
  },
  {
   "cell_type": "markdown",
   "metadata": {},
   "source": [
    "## Task 2.2\n",
    "\n",
    "**Ergänzen Sie bitte in der Zelle unten Beispielsätze, um die von Ihnen gewählte Fähigkeit zu testen. Nachdem Sie die Sätze hinzugefügt haben, führen Sie bitte die Zelle aus. *Bitte lassen Sie den Output für die Abgabe im Notebook*. Erklären Sie im Anschluss in Stichpunkte, wie diese Fähigkeit ELIZA verbessert.** (1 Punkt)"
   ]
  },
  {
   "cell_type": "code",
   "execution_count": null,
   "metadata": {},
   "outputs": [],
   "source": [
    "for inp_sent in []: #Add example sentences, that show how your implemented ability works\n",
    "    answer = my_eliza.run(inp_sent)\n",
    "    print(f\"User: {inp_sent} \\nEliza: {answer}\")\n",
    "    print(f\"*\"*10)"
   ]
  },
  {
   "cell_type": "markdown",
   "metadata": {},
   "source": [
    "## Hier ist Platz für die Erklärung Ihrer gewählten Fähigkeit\n",
    "\n",
    "-"
   ]
  },
  {
   "cell_type": "markdown",
   "metadata": {},
   "source": [
    "\n",
    "## Vielen Dank für die Teilnahme\n",
    "\n",
    "______\n",
    "\n",
    "\n",
    "## Other Contributors\n",
    "\n",
    "N/A"
   ]
  },
  {
   "cell_type": "code",
   "execution_count": null,
   "metadata": {},
   "outputs": [],
   "source": []
  }
 ],
 "metadata": {
  "kernelspec": {
   "display_name": "Python 3 (ipykernel)",
   "language": "python",
   "name": "python3"
  },
  "language_info": {
   "codemirror_mode": {
    "name": "ipython",
    "version": 3
   },
   "file_extension": ".py",
   "mimetype": "text/x-python",
   "name": "python",
   "nbconvert_exporter": "python",
   "pygments_lexer": "ipython3",
   "version": "3.8.8"
  },
  "varInspector": {
   "cols": {
    "lenName": 16,
    "lenType": 16,
    "lenVar": 40
   },
   "kernels_config": {
    "python": {
     "delete_cmd_postfix": "",
     "delete_cmd_prefix": "del ",
     "library": "var_list.py",
     "varRefreshCmd": "print(var_dic_list())"
    },
    "r": {
     "delete_cmd_postfix": ") ",
     "delete_cmd_prefix": "rm(",
     "library": "var_list.r",
     "varRefreshCmd": "cat(var_dic_list()) "
    }
   },
   "types_to_exclude": [
    "module",
    "function",
    "builtin_function_or_method",
    "instance",
    "_Feature"
   ],
   "window_display": false
  }
 },
 "nbformat": 4,
 "nbformat_minor": 2
}
