{
 "cells": [
  {
   "cell_type": "markdown",
   "metadata": {},
   "source": [
    "# Homework: Intelligence\n",
    "\n",
    "Version: SoSe 2022\n",
    "\n",
    "Estimated time needed: 45 minutes\n",
    "\n",
    "Author: Clara Siepmann\n",
    "\n",
    "Deadline: 29.04.22\n",
    "______"
   ]
  },
  {
   "cell_type": "markdown",
   "metadata": {},
   "source": [
    "## Submission guidelines\n",
    "\n",
    "* You can reach up to 10 homework points for every homework submission. 10 homework points correspond to one exam point.\n",
    "* In the course of the semester, there will be extra bonus points (where each bonus point equals to one exam point) for the homeworks. These will be given in the form of e.g. challenges inside the homeworks. More information will be given in the corresponding homeworks.\n",
    "* The submission has to be done by a team of three or four people. **Other types of submissions will not be graded**. The team members do not have to attend the same exercise group. If there are any problems regarding this guideline, please reach out to a tutor.\n",
    "* Please state the **name and matriculation number of all team members** in every submission **explicitly**.\n",
    "* Only **one team member should submit** the homework. If more than one version of the same homework is submitted by accident (submitted by more than one group member), please reach out to a tutor **as soon as possible**. Otherwise, the first submitted homework will be graded.\n",
    "* The submission must be in a Jupyter Notebook format (.ipynb). Submissions in **other formats will not be graded**. If there are any problems regarding this guideline, please reach out to a tutor.\n",
    "* If pictures need to be submitted, it is allowed to hand them in in a zip folder, together with the notebook. They should be added to the notebook like this: ``![example1](examplepicture1.PNG)`` (without apostrophs in a Markdown-Cell)."
   ]
  },
  {
   "cell_type": "markdown",
   "metadata": {},
   "source": [
    "# Task 1\n",
    "\n",
    "**In chaper 26.3 of Russel & Norvig they present six ethical problems with AI. List four of the six ethical problems and name one possible solution/ counter argument/ design guideline for each listed problem. Please use bulletpoints (see Russel Norvig, 26.3)** 4 Points \n"
   ]
  },
  {
   "cell_type": "markdown",
   "metadata": {},
   "source": [
    "# Write your solution here\n",
    "\n",
    "-\n",
    "\n"
   ]
  },
  {
   "cell_type": "markdown",
   "metadata": {},
   "source": [
    "# Task 2\n",
    "\n",
    "## Task 2.1\n",
    "**Extend the sample code of a simple Eliza implementation to enable the capabilities described below. Use regular expressions. Comment your code!** 4 Points \n",
    "\n",
    "* **Eliza should be able to respond to family members (\"father\", \"sister\", etc).**\n",
    "* **Eliza should be able to recognize negations in the statements.**\n",
    "* **Eliza should be able to distinguish the conjunctions \"and\" and \"or\" and react differently.**\n",
    "* **An ability of your choice.**\n"
   ]
  },
  {
   "cell_type": "code",
   "execution_count": null,
   "metadata": {},
   "outputs": [],
   "source": [
    "import random\n",
    "\n",
    "class SimpleEliza:\n",
    "\n",
    "    # Eliza's 'intelligence'\n",
    "    def run(self, input_sent):\n",
    "\n",
    "        welcome = \"Hello, what would you like to talk to me about?\"\n",
    "\n",
    "        goodbye = \"Goodbye\"\n",
    "\n",
    "        feelings = [\"anxious\", \"depressed\", \"lonely\", \"pleased\", \"stressed\", \"happy\", \"sad\", \"dissatisfied\"]\n",
    "\n",
    "        dummy_sentences = [\n",
    "            \"Please tell me more.\",\n",
    "            \"Interesting.\",\n",
    "            \"Could you add some explanation?\",\n",
    "            \"What are you thinking about this?\"\n",
    "        ]\n",
    "\n",
    "        \n",
    "        # Process user input. Processing continues until the user says goodbye. \n",
    "        s = input_sent\n",
    "        \n",
    "        if s == goodbye:\n",
    "            \n",
    "            return goodbye\n",
    "\n",
    "        answer = \"\"\n",
    "\n",
    "        # Check for feelings\n",
    "        for feeling in feelings:\n",
    "\n",
    "            if feeling in s:\n",
    "               \n",
    "                # Found feeling -> generate answer\n",
    "                \n",
    "                answer = \"Why are you feeling \" + feeling + \"?\"\n",
    "                \n",
    "                # stop processing user input\n",
    "                return answer\n",
    "\n",
    "        #TODO: Check for family members\n",
    "\n",
    "        #TODO: Check for negations\n",
    "\n",
    "        #TODO: distinguish between and & or\n",
    "\n",
    "        #TODO: ability of your choice\n",
    "\n",
    "        # output random sentence\n",
    "        answer =  random.choice(dummy_sentences)\n",
    "        return answer"
   ]
  },
  {
   "cell_type": "markdown",
   "metadata": {},
   "source": [
    "To test if your implementation is correct, you can use the following cells.\n",
    "**LEAVE THE OUTPUT OF YOUR CELLS IN NOTEBOOK.**\n",
    "\n",
    "For family members: \n",
    "* I think my father is responsible. \n",
    "* I hate my sister.\n",
    "* My mother knows what is best for me.\n",
    "\n",
    "For negations:\n",
    "* I am not happy about the results.\n",
    "* My brother does not like me.\n",
    "* My collegues are not the smartest.\n",
    "\n",
    "For conjunctions:\n",
    "* I think this is sad and funny at the same time.\n",
    "* Do you want me to tell you about my childhood or about the current situation?\n",
    "* I like both kind of movies action films and romance. "
   ]
  },
  {
   "cell_type": "code",
   "execution_count": null,
   "metadata": {},
   "outputs": [],
   "source": [
    "my_eliza = SimpleEliza()"
   ]
  },
  {
   "cell_type": "code",
   "execution_count": null,
   "metadata": {},
   "outputs": [],
   "source": [
    "for inp_sent in [\"I think my father is responsible\",  \"I hate my sister\", \"My mother knows what is best for me\"]:\n",
    "    answer = my_eliza.run(inp_sent)\n",
    "    print(f\"User: {inp_sent} \\nEliza: {answer}\")\n",
    "    print(f\"*\"*10)"
   ]
  },
  {
   "cell_type": "code",
   "execution_count": null,
   "metadata": {},
   "outputs": [],
   "source": [
    "for inp_sent in [\"I am not happy about the results.\", \"My brother does not like me.\", \n",
    "\"My collegues are not the smartest.\"]:\n",
    "    answer = my_eliza.run(inp_sent)\n",
    "    print(f\"User: {inp_sent} \\nEliza: {answer}\")\n",
    "    print(f\"*\"*10)"
   ]
  },
  {
   "cell_type": "code",
   "execution_count": null,
   "metadata": {},
   "outputs": [],
   "source": [
    "for inp_sent in [\"I think this is sad and funny at the same time.\", \n",
    "                 \"Do you want me to tell you about my childhood or about the current situation?\",\n",
    "                 \"I like both kind of movies action films and romance.\"]:\n",
    "    answer = my_eliza.run(inp_sent)\n",
    "    print(f\"User: {inp_sent} \\nEliza: {answer}\")\n",
    "    print(f\"*\"*10)"
   ]
  },
  {
   "cell_type": "markdown",
   "metadata": {},
   "source": [
    "## Task 2.2\n",
    "\n",
    "**Add some example sentences for the ability of your choice in the cell below. These example sentences should provide a good understanding of the ability. After adding the example sentences, please run the cell and *keep the output in the notebook*. Then explain in bullet points how this ability improves ELIZA** (1 point)\n"
   ]
  },
  {
   "cell_type": "code",
   "execution_count": null,
   "metadata": {},
   "outputs": [],
   "source": [
    "for inp_sent in []: #Add example sentences, that show how your implemented ability works\n",
    "    answer = my_eliza.run(inp_sent)\n",
    "    print(f\"User: {inp_sent} \\nEliza: {answer}\")\n",
    "    print(f\"*\"*10)"
   ]
  },
  {
   "cell_type": "markdown",
   "metadata": {},
   "source": [
    "## Add the explanation of your choosen ability here\n",
    "\n",
    "-"
   ]
  },
  {
   "cell_type": "markdown",
   "metadata": {},
   "source": [
    "\n",
    "## Thank you for completing this lab!\n",
    "\n",
    "______\n",
    "\n",
    "\n",
    "## Other Contributors\n",
    "\n",
    "N/A"
   ]
  }
 ],
 "metadata": {
  "kernelspec": {
   "display_name": "Python 3",
   "language": "python",
   "name": "python3"
  },
  "language_info": {
   "codemirror_mode": {
    "name": "ipython",
    "version": 3
   },
   "file_extension": ".py",
   "mimetype": "text/x-python",
   "name": "python",
   "nbconvert_exporter": "python",
   "pygments_lexer": "ipython3",
   "version": "3.7.1"
  },
  "varInspector": {
   "cols": {
    "lenName": 16,
    "lenType": 16,
    "lenVar": 40
   },
   "kernels_config": {
    "python": {
     "delete_cmd_postfix": "",
     "delete_cmd_prefix": "del ",
     "library": "var_list.py",
     "varRefreshCmd": "print(var_dic_list())"
    },
    "r": {
     "delete_cmd_postfix": ") ",
     "delete_cmd_prefix": "rm(",
     "library": "var_list.r",
     "varRefreshCmd": "cat(var_dic_list()) "
    }
   },
   "types_to_exclude": [
    "module",
    "function",
    "builtin_function_or_method",
    "instance",
    "_Feature"
   ],
   "window_display": false
  }
 },
 "nbformat": 4,
 "nbformat_minor": 2
}
