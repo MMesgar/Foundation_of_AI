{
  "cells": [
    {
      "cell_type": "markdown",
      "metadata": {
        "id": "3dyCAow268-T"
      },
      "source": [
        "# Exercise: informed Search\n",
        "\n",
        "Version: SoSe 2022\n",
        "\n",
        "Estimated time needed: 90 minutes\n",
        "\n",
        "Author: Mohamed Abdelmagied\n",
        "______"
      ]
    },
    {
      "cell_type": "markdown",
      "metadata": {
        "id": "UIYXMub99LZM"
      },
      "source": [
        "# Objectives\n",
        "\n",
        "After completing this exercise, you will be able to:\n",
        "\n",
        "- understand and implement greedy best-first search to solve search problems.\n",
        "- understand and implement A* search to solve search problems.\n",
        "- implement a solver for the 8-puzzle problem\n",
        "- define and analyze heuristics used in search algorithms."
      ]
    },
    {
      "cell_type": "markdown",
      "metadata": {
        "id": "yUwJ9Xxgy1Jm"
      },
      "source": [
        "# Task 1\n",
        "Fill in the blank:\n",
        "\n",
        "An admissable heuristic is a function that never _____________________ the true cost to reach the goal"
      ]
    },
    {
      "cell_type": "markdown",
      "metadata": {
        "id": "VKhM0mtJzvsR"
      },
      "source": [
        "<details><summary>Click here for the solution</summary>\n",
        "\n",
        "Solution: overestimates\n",
        "</details>"
      ]
    },
    {
      "cell_type": "markdown",
      "metadata": {
        "id": "c4PSrdMdz6ni"
      },
      "source": [
        "# Task 2:\n",
        "\n",
        "True or False:\n",
        "Greedy best-first search is always complete in a finite state space."
      ]
    },
    {
      "cell_type": "markdown",
      "metadata": {
        "id": "LBHuuAD50J5K"
      },
      "source": [
        "<details><summary>Click here for the solution</summary>\n",
        "\n",
        "Solution: False, since the heuristic may keep on suggesting deadlocks because according to the heuristic they are closer to the goal whereas in reality, they have no path to the goal\n",
        "</details>"
      ]
    },
    {
      "cell_type": "markdown",
      "metadata": {
        "id": "vYbSZmYw16_w"
      },
      "source": [
        "# Task 3\n",
        "True or False:\n",
        "$A^*$ is practical for large scale problems given a consistent heuristic."
      ]
    },
    {
      "cell_type": "markdown",
      "metadata": {
        "id": "wfOCJhzq2fjz"
      },
      "source": [
        "<details><summary>Click here for the solution</summary>\n",
        "\n",
        "Solution: False, although a good heuristic can save a lot compared to an uninformed search. The algorithm still has a very large memory complexity that makes it impractical in large state spaces\n",
        "</details>"
      ]
    },
    {
      "cell_type": "markdown",
      "source": [
        "#Task 4"
      ],
      "metadata": {
        "id": "QZ3EjTAyLnhm"
      }
    },
    {
      "cell_type": "markdown",
      "metadata": {
        "id": "7K8_rP8x8syz"
      },
      "source": [
        "## Task 4.1\n",
        "\n",
        "Find the way from **Arad** to **Bucharest** by reference to the map of Romania. Use **Greedy Best First Search**.\n",
        "\n",
        "![Romania_map](https://raw.githubusercontent.com/MMesgar/Foundation_of_AI/master/lecture05/images/Karte_Romania_Heuristik.PNG)"
      ]
    },
    {
      "cell_type": "markdown",
      "metadata": {
        "id": "JV9b9_au9EfU"
      },
      "source": [
        "<details><summary>Click here for the solution</summary>\n",
        "\n",
        "Using greedy best-first search:\n",
        "\n",
        "![01](https://raw.githubusercontent.com/MMesgar/Foundation_of_AI/master/lecture05/images/greedy_arad_bucharest/01.png)\n",
        "![02](https://raw.githubusercontent.com/MMesgar/Foundation_of_AI/master/lecture05/images/greedy_arad_bucharest/02.png)\n",
        "![03](https://raw.githubusercontent.com/MMesgar/Foundation_of_AI/master/lecture05/images/greedy_arad_bucharest/03.png)\n",
        "![04](https://raw.githubusercontent.com/MMesgar/Foundation_of_AI/master/lecture05/images/greedy_arad_bucharest/04.png)\n",
        "\n",
        "</details>"
      ]
    },
    {
      "cell_type": "markdown",
      "metadata": {
        "id": "Sme89hdNBjVe"
      },
      "source": [
        "## Task 4.2\n",
        "\n",
        "Find the way from **Arad** to **Bucharest** by reference to the map of Romania. Use **$A^∗$** Search."
      ]
    },
    {
      "cell_type": "markdown",
      "metadata": {
        "id": "zLqLSie1CET2"
      },
      "source": [
        "<details><summary>Click here for the solution</summary>\n",
        "\n",
        "Using **$A^∗$** Search:\n",
        "\n",
        "![01](https://raw.githubusercontent.com/MMesgar/Foundation_of_AI/master/lecture05/images/a_star_arad_bucharest/01.png)\n",
        "![02](https://raw.githubusercontent.com/MMesgar/Foundation_of_AI/master/lecture05/images/a_star_arad_bucharest/02.png)\n",
        "![03](https://raw.githubusercontent.com/MMesgar/Foundation_of_AI/master/lecture05/images/a_star_arad_bucharest/03.png)\n",
        "![04](https://raw.githubusercontent.com/MMesgar/Foundation_of_AI/master/lecture05/images/a_star_arad_bucharest/04.png)\n",
        "![05](https://raw.githubusercontent.com/MMesgar/Foundation_of_AI/master/lecture05/images/a_star_arad_bucharest/05.png)\n",
        "![06](https://raw.githubusercontent.com/MMesgar/Foundation_of_AI/master/lecture05/images/a_star_arad_bucharest/06.png)\n",
        "\n",
        "</details>"
      ]
    },
    {
      "cell_type": "markdown",
      "metadata": {
        "id": "5aUedOgADglL"
      },
      "source": [
        "## Task 4.3\n",
        "\n",
        "![8_puzzle](https://raw.githubusercontent.com/MMesgar/Foundation_of_AI/master/lecture05/images/8_puzzle.png)\n",
        "\n",
        "\n",
        "Given the above 8-puzzle, indicate which nodes are expanded using the **$A^∗$-Search**. Use the **Manhattan Distance** as a heuristic."
      ]
    },
    {
      "cell_type": "markdown",
      "metadata": {
        "id": "uJosriA4EvCu"
      },
      "source": [
        "<details><summary>Click here for the solution</summary>\n",
        "\n",
        "![8_puzzle_solution](https://raw.githubusercontent.com/MMesgar/Foundation_of_AI/master/lecture05/images/8_puzzle_solution.png)\n",
        "\n",
        "The solution as a list of expanded nodes: (1)-(3)-(6)-(9)\n",
        "\n",
        "Note: Nodes that reappear in the search repeatedly are not included in this representation as the evaluation function would keep on increasing that these nodes will not be reconsidered.\n",
        "</details>"
      ]
    },
    {
      "cell_type": "markdown",
      "metadata": {
        "id": "uugP7j9slnZ3"
      },
      "source": [
        "## Task 4.4\n",
        "\n",
        "The code cell below is an implementation for the 8-puzzle problem using a greedy best-first search approach. It is based on the solver in the Github repository aima-code, which is a project that includes python implementations for problems introduced in Artificial Intelligence: A Modern Approach(Book of Russel and Norvig):\n",
        "\n",
        "https://github.com/aimacode/aima-python\n",
        "\n",
        "For the code below:\n",
        "- implement missing parts of the functions result, goal_test, and h according to comments.\n",
        "- implement missing parts of the while loop outside the scope of the Eightpuzzle class according to comments."
      ]
    },
    {
      "cell_type": "code",
      "execution_count": null,
      "metadata": {
        "id": "_zSuNZfmn__C"
      },
      "outputs": [],
      "source": [
        "class EightPuzzle:\n",
        "    \"\"\" The problem of sliding tiles numbered from 1 to 8 on a 3x3 board, where one of the\n",
        "    squares is a blank. A state is represented as a tuple of length 9, where  element at\n",
        "    index i represents the tile number  at index i (0 if it's an empty square) \"\"\"\n",
        "\n",
        "    def __init__(self, initial, goal=(1, 2, 3, 4, 5, 6, 7, 8, 0)):\n",
        "        \"\"\" Define goal state and initialize a problem \"\"\"\n",
        "        self.initial=initial\n",
        "        self.goal=goal\n",
        "\n",
        "    def find_blank_square(self, state):\n",
        "        \"\"\"Return the index of the blank square in a given state\"\"\"\n",
        "\n",
        "        return state.index(0)\n",
        "\n",
        "    def actions(self, state):\n",
        "        \"\"\" Return the actions that can be executed in the given state.\n",
        "        The result would be a list, since there are only four possible actions\n",
        "        in any given state of the environment \"\"\"\n",
        "\n",
        "        possible_actions = ['UP', 'DOWN', 'LEFT', 'RIGHT']\n",
        "        index_blank_square = self.find_blank_square(state)\n",
        "\n",
        "        if index_blank_square % 3 == 0:\n",
        "            possible_actions.remove('LEFT')\n",
        "        if index_blank_square < 3:\n",
        "            possible_actions.remove('UP')\n",
        "        if index_blank_square % 3 == 2:\n",
        "            possible_actions.remove('RIGHT')\n",
        "        if index_blank_square > 5:\n",
        "            possible_actions.remove('DOWN')\n",
        "\n",
        "        return possible_actions\n",
        "\n",
        "    def result(self, state, action):\n",
        "        \"\"\" Given state and action, return a new state that is the result of the action.\n",
        "        Action is assumed to be a valid action in the state \"\"\"\n",
        "\n",
        "        # blank is the index of the blank square\n",
        "        blank = self.find_blank_square(state)\n",
        "        new_state = list(state)\n",
        "\n",
        "        #define the shift that should be done to blank square according to action\n",
        "        delta = {'UP': -3, 'DOWN': 3, 'LEFT': -1, 'RIGHT': 1}\n",
        "        #define the index of the tile that is to be swapped with blank\n",
        "        neighbor = None\n",
        "\n",
        "        #swap both tiles\n",
        "        new_state[blank], new_state[neighbor] = None,None\n",
        "\n",
        "        #return new_state as tuple\n",
        "        return -1\n",
        "\n",
        "    def goal_test(self, state):\n",
        "        \"\"\" Given a state, return True if state is a goal state or False, otherwise \"\"\"\n",
        "        #write the return expression\n",
        "        return None\n",
        "\n",
        "    def check_solvability(self, state):\n",
        "        \"\"\" Checks if the given state is solvable \"\"\"\n",
        "\n",
        "        inversion = 0\n",
        "        for i in range(len(state)):\n",
        "            for j in range(i + 1, len(state)):\n",
        "                if (state[i] > state[j]) and state[i] != 0 and state[j] != 0:\n",
        "                    inversion += 1\n",
        "\n",
        "        return inversion % 2 == 0\n",
        "\n",
        "    def h(self, state):\n",
        "        \"\"\" Return the heuristic value for a given state. Default heuristic function used is \n",
        "        h(n) = number of misplaced tiles \"\"\"\n",
        "        #write the return expression\n",
        "        return None\n",
        "\n",
        "#initializa start state\n",
        "start=(1,0,3,4,2,6,7,5,8)\n",
        "#initialize the problem\n",
        "eight_puzzle=EightPuzzle(start)\n",
        "current_state=start\n",
        "#initilize the solvability of the problem\n",
        "solvable=False\n",
        "if(eight_puzzle.check_solvability(start)):\n",
        "  solvable=True\n",
        "seen=set([start])\n",
        "\n",
        "while(not eight_puzzle.goal_test(current_state) and solvable):\n",
        "  #initilize best_state as current_state\n",
        "  best_state=None\n",
        "  for action in eight_puzzle.actions(current_state):\n",
        "    #produce new states according to possible actions\n",
        "    new_state=eight_puzzle.result(None,None)\n",
        "    if eight_puzzle.h(new_state)<eight_puzzle.h(best_state) and new_state not in seen:\n",
        "      #update best state if new_state has a better heuristic\n",
        "      best_state=None\n",
        "  \n",
        "  if best_state==current_state:\n",
        "    break\n",
        "  else:\n",
        "    #update and print current_state\n",
        "    current_state=None\n",
        "    print(current_state)\n",
        "\n",
        "if eight_puzzle.goal_test(current_state):\n",
        "  print(\"solved\")\n",
        "else:\n",
        "  print(\"unsolvable\")"
      ]
    },
    {
      "cell_type": "markdown",
      "metadata": {
        "id": "MdXjAulJoM1y"
      },
      "source": [
        "<details><summary>Click here for the solution</summary>\n",
        "\n",
        "```python\n",
        "class EightPuzzle:\n",
        "    \"\"\" The problem of sliding tiles numbered from 1 to 8 on a 3x3 board, where one of the\n",
        "    squares is a blank. A state is represented as a tuple of length 9, where  element at\n",
        "    index i represents the tile number  at index i (0 if it's an empty square) \"\"\"\n",
        "\n",
        "    def __init__(self, initial, goal=(1, 2, 3, 4, 5, 6, 7, 8, 0)):\n",
        "        \"\"\" Define goal state and initialize a problem \"\"\"\n",
        "        self.initial=initial\n",
        "        self.goal=goal\n",
        "\n",
        "    def find_blank_square(self, state):\n",
        "        \"\"\"Return the index of the blank square in a given state\"\"\"\n",
        "\n",
        "        return state.index(0)\n",
        "\n",
        "    def actions(self, state):\n",
        "        \"\"\" Return the actions that can be executed in the given state.\n",
        "        The result would be a list, since there are only four possible actions\n",
        "        in any given state of the environment \"\"\"\n",
        "\n",
        "        possible_actions = ['UP', 'DOWN', 'LEFT', 'RIGHT']\n",
        "        index_blank_square = self.find_blank_square(state)\n",
        "\n",
        "        if index_blank_square % 3 == 0:\n",
        "            possible_actions.remove('LEFT')\n",
        "        if index_blank_square < 3:\n",
        "            possible_actions.remove('UP')\n",
        "        if index_blank_square % 3 == 2:\n",
        "            possible_actions.remove('RIGHT')\n",
        "        if index_blank_square > 5:\n",
        "            possible_actions.remove('DOWN')\n",
        "\n",
        "        return possible_actions\n",
        "\n",
        "    def result(self, state, action):\n",
        "        \"\"\" Given state and action, return a new state that is the result of the action.\n",
        "        Action is assumed to be a valid action in the state \"\"\"\n",
        "\n",
        "        # blank is the index of the blank square\n",
        "        blank = self.find_blank_square(state)\n",
        "        new_state = list(state)\n",
        "\n",
        "        #define the shift that should be done to blank square according to action\n",
        "        delta = {'UP': -3, 'DOWN': 3, 'LEFT': -1, 'RIGHT': 1}\n",
        "        #define the index of the tile that is to be swapped with blank\n",
        "        neighbor = blank + delta[action]\n",
        "\n",
        "        #swap both tiles\n",
        "        new_state[blank], new_state[neighbor] = new_state[neighbor], new_state[blank]\n",
        "\n",
        "        #return new_state as tuple\n",
        "        return tuple(new_state)\n",
        "\n",
        "    def goal_test(self, state):\n",
        "        \"\"\" Given a state, return True if state is a goal state or False, otherwise \"\"\"\n",
        "\n",
        "        return state == self.goal\n",
        "\n",
        "    def check_solvability(self, state):\n",
        "        \"\"\" Checks if the given state is solvable \"\"\"\n",
        "\n",
        "        inversion = 0\n",
        "        for i in range(len(state)):\n",
        "            for j in range(i + 1, len(state)):\n",
        "                if (state[i] > state[j]) and state[i] != 0 and state[j] != 0:\n",
        "                    inversion += 1\n",
        "\n",
        "        return inversion % 2 == 0\n",
        "\n",
        "    def h(self, state):\n",
        "        \"\"\" Return the heuristic value for a given state. Default heuristic function used is \n",
        "        h(n) = number of misplaced tiles \"\"\"\n",
        "        return sum(s != g for (s, g) in zip(state, self.goal))\n",
        "\n",
        "#initializa start state\n",
        "start=(1,0,3,4,2,6,7,5,8)\n",
        "#initialize the problem\n",
        "eight_puzzle=EightPuzzle(start)\n",
        "current_state=start\n",
        "#initilize the solvability of the problem\n",
        "solvable=False\n",
        "if(eight_puzzle.check_solvability(start)):\n",
        "  solvable=True\n",
        "seen=set([root])\n",
        "\n",
        "while(not eight_puzzle.goal_test(current_state) and solvable):\n",
        "  #initilize best_state as current_state\n",
        "  best_state=current_state\n",
        "  for action in eight_puzzle.actions(current_state):\n",
        "    #produce new states according to possible actions\n",
        "    new_state=eight_puzzle.result(current_state,action)\n",
        "    if eight_puzzle.h(new_state)<eight_puzzle.h(best_state) and new_state not in seen:\n",
        "      #update best state if new_state has a better heuristic\n",
        "      best_state=new_state\n",
        "  if current_state==best_state:\n",
        "    break\n",
        "  else:\n",
        "    #update and print current_state\n",
        "    current_state=best_state\n",
        "    print(current_state)\n",
        "\n",
        "if eight_puzzle.goal_test(current_state):\n",
        "  print(\"solved\")\n",
        "else:\n",
        "  print(\"unsolvable\")\n",
        "  ```\n",
        "\n",
        "</details>"
      ]
    },
    {
      "cell_type": "markdown",
      "metadata": {
        "id": "D3U7VeeeGvFB"
      },
      "source": [
        "# Task 5\n",
        "\n",
        "Which of the following functions implements the Manhattan Distance and which the Euclidean Distance? Explain your answer.\n",
        "\n",
        "```python\n",
        "import math\n",
        "\n",
        "def dist1(v1, v2):\n",
        "    sum_diff = 0\n",
        "    for i in range(0, len(v1)):\n",
        "        sum_diff += (v1[i] - v2[i])**2\n",
        "\n",
        "    return math.sqrt(sum_diff)\n",
        "\n",
        "def dist2(v1, v2):\n",
        "    sum_diff = 0\n",
        "    for i in range(0, len(v1)):\n",
        "        sum_diff += abs(v1[i] - v2[i])\n",
        "\n",
        "    return sum_diff\n",
        "  ```"
      ]
    },
    {
      "cell_type": "markdown",
      "metadata": {
        "id": "elvRZIOPIqK8"
      },
      "source": [
        "<details><summary>Click here for the solution</summary>\n",
        "\n",
        "- Manhattan Distance:x1 - x2, y1 - y2, z1 - z2, absolute values are added\n",
        "- Euclidean Distance:x1 - x2, y1 - y2, z1 - z2, they are first squared, then added and then the square root is returned\n",
        "\n",
        "dist1 = Euklidische Distanz, dist2 = Manhattan Distanz\n",
        "\n",
        "</details>"
      ]
    },
    {
      "cell_type": "markdown",
      "source": [
        "#Task 6"
      ],
      "metadata": {
        "id": "j0XV3ivQMHFl"
      }
    },
    {
      "cell_type": "markdown",
      "metadata": {
        "id": "OWgXgxVRMIPs"
      },
      "source": [
        "## Task 6.1\n",
        "\n",
        "Show that the heuristics $h_{MIS}$ and $h_{MAN}$ are consistent for the 8- puzzle."
      ]
    },
    {
      "cell_type": "markdown",
      "metadata": {
        "id": "421l0HG0MU8p"
      },
      "source": [
        "<details><summary>Click here for the solution</summary>\n",
        "\n",
        "For a heuristic to be consistent, it must be shown that:\n",
        "\n",
        "$h(n)≤ c(n,a,n')+h(n')$\n",
        "\n",
        "The cost of any action in the problem is set to one$→$ c(n,a,n')=1\n",
        "$→$We should show that: \n",
        "$h(n)≤ 1+h(n')$\n",
        "\n",
        "The $h_{MIS}$ calculates the number of misplaced tiles. With one action, the number of misplaced tiles can be reduced maximally by one.\n",
        "$→$$h(n′) ≥ h(n) − 1$\n",
        "\n",
        "The $h_{MAN}$ sums up the number of fields that should be shifted for a tile to be placed in its correct position over all tiles. With one action(one shift), this number would change for only one tile.\n",
        "$→$ The sum can only maximally be reduced by one.\n",
        "\n",
        "</details>"
      ]
    },
    {
      "cell_type": "markdown",
      "metadata": {
        "id": "qWiUlk77PKmb"
      },
      "source": [
        "## Task 6.2\n",
        "\n",
        "Show that the combination of two admissible heuristics through max is admissible again."
      ]
    },
    {
      "cell_type": "markdown",
      "metadata": {
        "id": "2Jy4fuVHPc_W"
      },
      "source": [
        "<details><summary>Click here for the solution</summary>\n",
        "\n",
        "Let h,h' be two admissable heuristics.\n",
        "-->$h(n) ≤ h^∗(n)$ and $h′(n) ≤ h^∗(n)$\n",
        "\n",
        "Now let be the result of the maximum operator of $h$ and $h′$\n",
        "-->$g(n) := max(h(n),h′(n))$\n",
        "-->$g(n) = h(n)$ or $g(n) = h'(n)$\n",
        "\n",
        "if $g(n)=h(n)$\n",
        "-->$g(n) ≤ h^∗(n)$\n",
        "\n",
        "if $g(n)=h'(n)$\n",
        "-->$g(n) ≤ h^∗(n)$\n",
        "\n",
        "</details>"
      ]
    },
    {
      "cell_type": "markdown",
      "metadata": {
        "id": "ABgIGCS0RSDJ"
      },
      "source": [
        "## Task 6.3\n",
        "\n",
        "A heuristic that always returns 0 is obviously admissible because it never overestimates the true costs (but it does not seem to be particularly useful). Which search method you already know corresponds to $A^∗$ with this heuristic?"
      ]
    },
    {
      "cell_type": "markdown",
      "metadata": {
        "id": "eEsN85t3R_12"
      },
      "source": [
        "<details><summary>Click here for the solution</summary>\n",
        "\n",
        "Uniform cost search\n",
        "</details>"
      ]
    },
    {
      "cell_type": "markdown",
      "metadata": {
        "id": "t_dcgslzqM7Y"
      },
      "source": [
        "\n",
        "## Thank you for completing this lab!\n",
        "\n",
        "______\n",
        "\n",
        "\n",
        "## Other Contributors\n",
        "\n",
        "N/A"
      ]
    }
  ],
  "metadata": {
    "colab": {
      "name": "exercise_en.ipynb",
      "provenance": []
    },
    "kernelspec": {
      "display_name": "Python 3 (ipykernel)",
      "language": "python",
      "name": "python3"
    },
    "language_info": {
      "codemirror_mode": {
        "name": "ipython",
        "version": 3
      },
      "file_extension": ".py",
      "mimetype": "text/x-python",
      "name": "python",
      "nbconvert_exporter": "python",
      "pygments_lexer": "ipython3",
      "version": "3.10.4"
    },
    "nbTranslate": {
      "displayLangs": [
        "*"
      ],
      "hotkey": "alt-t",
      "langInMainMenu": true,
      "sourceLang": "en",
      "targetLang": "fr",
      "useGoogleTranslate": true
    }
  },
  "nbformat": 4,
  "nbformat_minor": 0
}