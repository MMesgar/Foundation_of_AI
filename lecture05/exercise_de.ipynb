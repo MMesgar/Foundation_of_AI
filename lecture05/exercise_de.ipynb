{
  "cells": [
    {
      "cell_type": "markdown",
      "metadata": {
        "lang": "de",
        "id": "4Os3vvZA7jhX"
      },
      "source": [
        "# Übung: informierte Suche\n",
        "\n",
        "Stand: SoSe 2022\n",
        "\n",
        "Geschätzte benötigte Zeit: 90 Minuten\n",
        "\n",
        "Autor: Mohamed Abdelmagied\n",
        "______"
      ]
    },
    {
      "cell_type": "markdown",
      "metadata": {
        "lang": "de",
        "id": "AUpBrmRZ7jhZ"
      },
      "source": [
        "# Ziele\n",
        "\n",
        "Nach Abschluss dieser Übung können Sie:\n",
        "\n",
        "- Greedy Best First Search verstehen und implementieren, um Suchprobleme zu lösen.\n",
        "- A*-Suche verstehen und implementieren, um Suchprobleme zu lösen.\n",
        "- Implementierung eines Lösers für das 8-Puzzle-Problem\n",
        "- Definieren und Analysieren von Heuristiken, die in Suchalgorithmen verwendet werden."
      ]
    },
    {
      "cell_type": "markdown",
      "metadata": {
        "lang": "de",
        "id": "Hp78cXpz7jha"
      },
      "source": [
        "# Aufgabe 1\n",
        "Fülle die Lücke aus:\n",
        "\n",
        "Eine zulässige Heuristik ist eine Funktion, die niemals die wahren Kosten zum Erreichen des Ziels _____________________ "
      ]
    },
    {
      "cell_type": "markdown",
      "metadata": {
        "lang": "de",
        "id": "7KwiB4Ve7jha"
      },
      "source": [
        "<details><summary>Klicken Sie hier für die Lösung</summary>\n",
        "\n",
        "Lösung: Überschätzt\n",
        "</details>"
      ]
    },
    {
      "cell_type": "markdown",
      "metadata": {
        "lang": "de",
        "id": "LFhxGZi67jhb"
      },
      "source": [
        "# Aufgabe 2:\n",
        "\n",
        "Richtig oder falsch:\n",
        "Die greedy Best-First-Suche ist in einem endlichen Zustandsraum immer vollständig."
      ]
    },
    {
      "cell_type": "markdown",
      "metadata": {
        "lang": "de",
        "id": "7dPoOhXZ7jhc"
      },
      "source": [
        "<details><summary>Klicken Sie hier für die Lösung</summary>\n",
        "\n",
        "Lösung: Falsch, da die Heuristik möglicherweise weiterhin Deadlocks auswählt, weil sie laut Heuristik näher am Ziel sind, während sie in Wirklichkeit keinen Weg zum Ziel haben\n",
        "</details>"
      ]
    },
    {
      "cell_type": "markdown",
      "metadata": {
        "lang": "de",
        "id": "dV1QvBaM7jhc"
      },
      "source": [
        "# Aufgabe 3\n",
        "Richtig oder falsch:\n",
        "$A^*$ ist praktisch für große Probleme, wenn eine konsistente Heuristik gegeben ist."
      ]
    },
    {
      "cell_type": "markdown",
      "metadata": {
        "lang": "de",
        "id": "70z_kJ9Y7jhd"
      },
      "source": [
        "<details><summary>Klicken Sie hier für die Lösung</summary>\n",
        "\n",
        "Lösung: Falsch, obwohl eine gute Heuristik im Vergleich zu einer uninformierten Suche viel sparen kann. Der Algorithmus hat immer noch eine sehr große Speicherkomplexität, die ihn in großen Zustandsräumen unpraktisch macht\n",
        "</details>"
      ]
    },
    {
      "cell_type": "markdown",
      "source": [
        "# Aufgabe 4"
      ],
      "metadata": {
        "id": "5sJhd9E3QJ0l"
      }
    },
    {
      "cell_type": "markdown",
      "metadata": {
        "lang": "de",
        "id": "4etIjy-T7jhe"
      },
      "source": [
        "## Aufgabe 4.1\n",
        "\n",
        "Finden Sie anhand der Karte Rumäniens den Weg von **Arad** nach **Bucharest**. Verwenden\n",
        "Sie **Greedy Best First Search**.\n",
        "\n",
        "\n",
        "![Rumänien_Karte](https://raw.githubusercontent.com/MMesgar/Foundation_of_AI/master/lecture05/images/Karte_Romania_Heuristik.PNG)"
      ]
    },
    {
      "cell_type": "markdown",
      "metadata": {
        "lang": "de",
        "id": "EO6GHceC7jhf"
      },
      "source": [
        "<details><summary>Klicken Sie hier für die Lösung</summary>\n",
        "\n",
        "Verwenden der greedy Best-First-Suche:\n",
        "\n",
        "![01](https://raw.githubusercontent.com/MMesgar/Foundation_of_AI/master/lecture05/images/greedy_arad_bucharest/01.png)\n",
        "![02](https://raw.githubusercontent.com/MMesgar/Foundation_of_AI/master/lecture05/images/greedy_arad_bucharest/02.png)\n",
        "![03](https://raw.githubusercontent.com/MMesgar/Foundation_of_AI/master/lecture05/images/greedy_arad_bucharest/03.png)\n",
        "![04](https://raw.githubusercontent.com/MMesgar/Foundation_of_AI/master/lecture05/images/greedy_arad_bucharest/04.png)\n",
        "\n",
        "</details>"
      ]
    },
    {
      "cell_type": "markdown",
      "metadata": {
        "lang": "de",
        "id": "horOSGax7jhg"
      },
      "source": [
        "## Aufgabe 4.2\n",
        "\n",
        "Finden Sie anhand der Karte Rumäniens den Weg von Arad nach Bucharest. Verwenden Sie **A<sup>∗</sup>** Search."
      ]
    },
    {
      "cell_type": "markdown",
      "metadata": {
        "lang": "de",
        "id": "4AtJ9T_D7jhg"
      },
      "source": [
        "<details><summary>Klicken Sie hier für die Lösung</summary>\n",
        "\n",
        "Verwenden der **$A^∗$**-Suche:\n",
        "\n",
        "![01](https://raw.githubusercontent.com/MMesgar/Foundation_of_AI/master/lecture05/images/a_star_arad_bucharest/01.png )\n",
        "![02](https://raw.github.com/MMesgar/Foundation_of_AI/master/lecture05/images/a_star_arad_bucharest/02.png )\n",
        "![03](https://raw.githubusercontent.com/MMesgar/Foundation_of_AI/master/lecture05/images/a_star_arad_bucharest/03.png )\n",
        "![04](https://raw.githubusercontent.com/MMesgar/Foundation_of_AI/master/lecture05/images/a_star_arad_bucharest/04.png )\n",
        "![05](https://raw.githubusercontent.com/MMesgar/Foundation_of_AI/master/lecture05/images/a_star_arad_bucharest/05.png )\n",
        "![06](https://raw.githubusercontent.com/MMesgar/Foundation_of_AI/master/lecture05/images/a_star_arad_bucharest/06.png )\n",
        "\n",
        "</details>"
      ]
    },
    {
      "cell_type": "markdown",
      "metadata": {
        "lang": "de",
        "id": "T0Ke9Utd7jhh"
      },
      "source": [
        "## Aufgabe 4.3\n",
        "\n",
        "![8_puzzle](https://raw.githubusercontent.com/MMesgar/Foundation_of_AI/master/lecture05/images/8_puzzle.png)\n",
        "\n",
        "Gegeben sei ein 8-Puzzle:\n",
        "\n",
        "Geben Sie an, welche Knoten unter Verwendung der **A<sup>∗</sup>-Suche** expandiert werden. Verwenden Sie die **Manhattan-Distanz** als Heuristik.\n"
      ]
    },
    {
      "cell_type": "markdown",
      "metadata": {
        "lang": "de",
        "id": "3yLEshNe7jhi"
      },
      "source": [
        "<details><summary>Klicken Sie hier für die Lösung</summary>\n",
        "\n",
        "![8_puzzle_solution](https://raw.githubusercontent.com/MMesgar/Foundation_of_AI/master/lecture05/images/8_puzzle_solution.png)\n",
        "\n",
        "Die Lösung als Liste der expandierten Knoten: (1) - (3) - (6) - (9)\n",
        "\n",
        "Hinweis: Die Knoten, die wiederholt auftauchen, fehlen in der Darstellung, die Evaluierungsfunktion wäre aber immer so groß, dass diese nicht weiter betrachtet werden. Nach A* müssten der Vollständigkeit halber alle Knoten vorkommen und eine Evaluierungsfunktion berechnet werden.\n",
        "\n",
        "</details>"
      ]
    },
    {
      "cell_type": "markdown",
      "metadata": {
        "lang": "de",
        "id": "2k8Qj_OE7jhi"
      },
      "source": [
        "## Aufgabe 4.4\n",
        "\n",
        "Die folgende Codezelle ist eine Implementierung für das 8-Puzzle-Problem unter Verwendung eines Greedy-Best-First-Search-Ansatzes. Es basiert auf dem Solver im Github-Repository aima-code, einem Projekt, das Python-Implementierungen für Probleme enthält, die in Artificial Intelligence: A Modern Approach (Book of Russel and Norvig) eingeführt wurden:\n",
        "\n",
        "https://github.com/aimacode/aima-python\n",
        "\n",
        "Für den folgenden Code:\n",
        "- fehlende Teile der Funktionen result, goal_test und h gemäß den Kommentaren implementieren.\n",
        "- Implementierung fehlender Teile der While-Schleife außerhalb des Bereichs der Eightpuzzle-Klasse gemäß den Kommentaren."
      ]
    },
    {
      "cell_type": "code",
      "execution_count": null,
      "metadata": {
        "id": "_zSuNZfmn__C"
      },
      "outputs": [],
      "source": [
        "class EightPuzzle:\n",
        "    \"\"\" The problem of sliding tiles numbered from 1 to 8 on a 3x3 board, where one of the\n",
        "    squares is a blank. A state is represented as a tuple of length 9, where  element at\n",
        "    index i represents the tile number  at index i (0 if it's an empty square) \"\"\"\n",
        "\n",
        "    def __init__(self, initial, goal=(1, 2, 3, 4, 5, 6, 7, 8, 0)):\n",
        "        \"\"\" Define goal state and initialize a problem \"\"\"\n",
        "        self.initial=initial\n",
        "        self.goal=goal\n",
        "\n",
        "    def find_blank_square(self, state):\n",
        "        \"\"\"Return the index of the blank square in a given state\"\"\"\n",
        "\n",
        "        return state.index(0)\n",
        "\n",
        "    def actions(self, state):\n",
        "        \"\"\" Return the actions that can be executed in the given state.\n",
        "        The result would be a list, since there are only four possible actions\n",
        "        in any given state of the environment \"\"\"\n",
        "\n",
        "        possible_actions = ['UP', 'DOWN', 'LEFT', 'RIGHT']\n",
        "        index_blank_square = self.find_blank_square(state)\n",
        "\n",
        "        if index_blank_square % 3 == 0:\n",
        "            possible_actions.remove('LEFT')\n",
        "        if index_blank_square < 3:\n",
        "            possible_actions.remove('UP')\n",
        "        if index_blank_square % 3 == 2:\n",
        "            possible_actions.remove('RIGHT')\n",
        "        if index_blank_square > 5:\n",
        "            possible_actions.remove('DOWN')\n",
        "\n",
        "        return possible_actions\n",
        "\n",
        "    def result(self, state, action):\n",
        "        \"\"\" Given state and action, return a new state that is the result of the action.\n",
        "        Action is assumed to be a valid action in the state \"\"\"\n",
        "\n",
        "        # blank is the index of the blank square\n",
        "        blank = self.find_blank_square(state)\n",
        "        new_state = list(state)\n",
        "\n",
        "        #define the shift that should be done to blank square according to action\n",
        "        delta = {'UP': -3, 'DOWN': 3, 'LEFT': -1, 'RIGHT': 1}\n",
        "        #define the index of the tile that is to be swapped with blank\n",
        "        neighbor = None\n",
        "\n",
        "        #swap both tiles\n",
        "        new_state[blank], new_state[neighbor] = None,None\n",
        "\n",
        "        #return new_state as tuple\n",
        "        return -1\n",
        "\n",
        "    def goal_test(self, state):\n",
        "        \"\"\" Given a state, return True if state is a goal state or False, otherwise \"\"\"\n",
        "        #write the return expression\n",
        "        return None\n",
        "\n",
        "    def check_solvability(self, state):\n",
        "        \"\"\" Checks if the given state is solvable \"\"\"\n",
        "\n",
        "        inversion = 0\n",
        "        for i in range(len(state)):\n",
        "            for j in range(i + 1, len(state)):\n",
        "                if (state[i] > state[j]) and state[i] != 0 and state[j] != 0:\n",
        "                    inversion += 1\n",
        "\n",
        "        return inversion % 2 == 0\n",
        "\n",
        "    def h(self, state):\n",
        "        \"\"\" Return the heuristic value for a given state. Default heuristic function used is \n",
        "        h(n) = number of misplaced tiles \"\"\"\n",
        "        #write the return expression\n",
        "        return None\n",
        "\n",
        "#initializa start state\n",
        "start=(1,0,3,4,2,6,7,5,8)\n",
        "#initialize the problem\n",
        "eight_puzzle=EightPuzzle(start)\n",
        "current_state=start\n",
        "#initilize the solvability of the problem\n",
        "solvable=False\n",
        "if(eight_puzzle.check_solvability(start)):\n",
        "  solvable=True\n",
        "seen=set([start])\n",
        "\n",
        "while(not eight_puzzle.goal_test(current_state) and solvable):\n",
        "  #initilize best_state as current_state\n",
        "  best_state=None\n",
        "  for action in eight_puzzle.actions(current_state):\n",
        "    #produce new states according to possible actions\n",
        "    new_state=eight_puzzle.result(None,None)\n",
        "    if eight_puzzle.h(new_state)<eight_puzzle.h(best_state) and new_state not in seen:\n",
        "      #update best state if new_state has a better heuristic\n",
        "      best_state=None\n",
        "  \n",
        "  if best_state==current_state:\n",
        "    break\n",
        "  else:\n",
        "    #update and print current_state\n",
        "    current_state=None\n",
        "    print(current_state)\n",
        "\n",
        "if eight_puzzle.goal_test(current_state):\n",
        "  print(\"solved\")\n",
        "else:\n",
        "  print(\"unsolvable\")"
      ]
    },
    {
      "cell_type": "markdown",
      "metadata": {
        "id": "MdXjAulJoM1y"
      },
      "source": [
        "<details><summary>Click here for the solution</summary>\n",
        "\n",
        "```python\n",
        "class EightPuzzle:\n",
        "    \"\"\" The problem of sliding tiles numbered from 1 to 8 on a 3x3 board, where one of the\n",
        "    squares is a blank. A state is represented as a tuple of length 9, where  element at\n",
        "    index i represents the tile number  at index i (0 if it's an empty square) \"\"\"\n",
        "\n",
        "    def __init__(self, initial, goal=(1, 2, 3, 4, 5, 6, 7, 8, 0)):\n",
        "        \"\"\" Define goal state and initialize a problem \"\"\"\n",
        "        self.initial=initial\n",
        "        self.goal=goal\n",
        "\n",
        "    def find_blank_square(self, state):\n",
        "        \"\"\"Return the index of the blank square in a given state\"\"\"\n",
        "\n",
        "        return state.index(0)\n",
        "\n",
        "    def actions(self, state):\n",
        "        \"\"\" Return the actions that can be executed in the given state.\n",
        "        The result would be a list, since there are only four possible actions\n",
        "        in any given state of the environment \"\"\"\n",
        "\n",
        "        possible_actions = ['UP', 'DOWN', 'LEFT', 'RIGHT']\n",
        "        index_blank_square = self.find_blank_square(state)\n",
        "\n",
        "        if index_blank_square % 3 == 0:\n",
        "            possible_actions.remove('LEFT')\n",
        "        if index_blank_square < 3:\n",
        "            possible_actions.remove('UP')\n",
        "        if index_blank_square % 3 == 2:\n",
        "            possible_actions.remove('RIGHT')\n",
        "        if index_blank_square > 5:\n",
        "            possible_actions.remove('DOWN')\n",
        "\n",
        "        return possible_actions\n",
        "\n",
        "    def result(self, state, action):\n",
        "        \"\"\" Given state and action, return a new state that is the result of the action.\n",
        "        Action is assumed to be a valid action in the state \"\"\"\n",
        "\n",
        "        # blank is the index of the blank square\n",
        "        blank = self.find_blank_square(state)\n",
        "        new_state = list(state)\n",
        "\n",
        "        #define the shift that should be done to blank square according to action\n",
        "        delta = {'UP': -3, 'DOWN': 3, 'LEFT': -1, 'RIGHT': 1}\n",
        "        #define the index of the tile that is to be swapped with blank\n",
        "        neighbor = blank + delta[action]\n",
        "\n",
        "        #swap both tiles\n",
        "        new_state[blank], new_state[neighbor] = new_state[neighbor], new_state[blank]\n",
        "\n",
        "        #return new_state as tuple\n",
        "        return tuple(new_state)\n",
        "\n",
        "    def goal_test(self, state):\n",
        "        \"\"\" Given a state, return True if state is a goal state or False, otherwise \"\"\"\n",
        "\n",
        "        return state == self.goal\n",
        "\n",
        "    def check_solvability(self, state):\n",
        "        \"\"\" Checks if the given state is solvable \"\"\"\n",
        "\n",
        "        inversion = 0\n",
        "        for i in range(len(state)):\n",
        "            for j in range(i + 1, len(state)):\n",
        "                if (state[i] > state[j]) and state[i] != 0 and state[j] != 0:\n",
        "                    inversion += 1\n",
        "\n",
        "        return inversion % 2 == 0\n",
        "\n",
        "    def h(self, state):\n",
        "        \"\"\" Return the heuristic value for a given state. Default heuristic function used is \n",
        "        h(n) = number of misplaced tiles \"\"\"\n",
        "        return sum(s != g for (s, g) in zip(state, self.goal))\n",
        "\n",
        "#initializa start state\n",
        "start=(1,0,3,4,2,6,7,5,8)\n",
        "#initialize the problem\n",
        "eight_puzzle=EightPuzzle(start)\n",
        "current_state=start\n",
        "#initilize the solvability of the problem\n",
        "solvable=False\n",
        "if(eight_puzzle.check_solvability(start)):\n",
        "  solvable=True\n",
        "seen=set([root])\n",
        "\n",
        "while(not eight_puzzle.goal_test(current_state) and solvable):\n",
        "  #initilize best_state as current_state\n",
        "  best_state=current_state\n",
        "  for action in eight_puzzle.actions(current_state):\n",
        "    #produce new states according to possible actions\n",
        "    new_state=eight_puzzle.result(current_state,action)\n",
        "    if eight_puzzle.h(new_state)<eight_puzzle.h(best_state) and new_state not in seen:\n",
        "      #update best state if new_state has a better heuristic\n",
        "      best_state=new_state\n",
        "  if current_state==best_state:\n",
        "    break\n",
        "  else:\n",
        "    #update and print current_state\n",
        "    current_state=best_state\n",
        "    print(current_state)\n",
        "\n",
        "if eight_puzzle.goal_test(current_state):\n",
        "  print(\"solved\")\n",
        "else:\n",
        "  print(\"unsolvable\")\n",
        "  ```\n",
        "\n",
        "</details>"
      ]
    },
    {
      "cell_type": "markdown",
      "metadata": {
        "id": "D3U7VeeeGvFB",
        "lang": "en"
      },
      "source": [
        "# Aufgabe 5\n",
        "\n",
        "Welche der folgenden Funktionen implementiert die Manhattan Distanz und welche die Euklidische Distanz? Erläutern Sie Ihre Antwort.\n",
        "\n",
        "\n",
        "```python\n",
        "import math\n",
        "\n",
        "def dist1(v1, v2):\n",
        "    sum_diff = 0\n",
        "    for i in range(0, len(v1)):\n",
        "        sum_diff += (v1[i] - v2[i])**2\n",
        "\n",
        "    return math.sqrt(sum_diff)\n",
        "\n",
        "def dist2(v1, v2):\n",
        "    sum_diff = 0\n",
        "    for i in range(0, len(v1)):\n",
        "        sum_diff += abs(v1[i] - v2[i])\n",
        "\n",
        "    return sum_diff\n",
        "  ```"
      ]
    },
    {
      "cell_type": "markdown",
      "metadata": {
        "lang": "de",
        "id": "97ds_iXh7jhm"
      },
      "source": [
        "<details><summary>Klicken Sie hier für die Lösung</summary>\n",
        "\n",
        "* Manhattan Distanz: x1 - x2, y1 - y2, z1 - z2, absoluten Werte addieren\n",
        "* Euklidische Distanz: x1 - x2, y1 - y2, z1 - z2; quadrieren, addieren, Wurzel ziehen\n",
        "* dist1 = Euklidische Distanz, dist2 = Manhattan Distanz\n",
        "</div>\n",
        "\n",
        "</details>"
      ]
    },
    {
      "cell_type": "markdown",
      "source": [
        "# Augabe 6"
      ],
      "metadata": {
        "id": "a9K5hBcaQac9"
      }
    },
    {
      "cell_type": "markdown",
      "metadata": {
        "lang": "de",
        "id": "AfLnJkx27jho"
      },
      "source": [
        "## Aufgabe 6.1\n",
        "\n",
        "Zeigen Sie, dass die Heuristiken $h_{MIS}$ und $h_{MAN}$ für das 8-Rätsel konsistent sind."
      ]
    },
    {
      "cell_type": "markdown",
      "metadata": {
        "lang": "de",
        "id": "Apx6jI_E7jho"
      },
      "source": [
        "<details><summary>Klicken Sie hier für die Lösung</summary>\n",
        "\n",
        "Damit eine Heuristik konsistent ist, muss gezeigt werden, dass:\n",
        "\n",
        "$h(n)≤ c(n,a,n')+h(n')$\n",
        "\n",
        "Die Kosten jeder Aktion im Problem werden auf eins gesetzt --> c(n,a,n')=1\n",
        "-> Wir sollten zeigen, dass:\n",
        "$h(n)≤ 1+h(n')$\n",
        "\n",
        "Der $h_{MIS}$ berechnet die Anzahl der falsch platzierten Stein. Mit einer Aktion kann die Anzahl der verlegten Steine maximal um eins reduziert werden.\n",
        "-->$h(n′) ≥ h(n) − 1$\n",
        "\n",
        "Die $h_{MAN}$ Heuristik zählt die Anzahl der Felder, die überquert werden müssen, um zur Zielposition zu gelangen (summiert über alle Steine). Mit einem Zug ändert sich die entsprechende Anzahl nur für einen Stein. Daher kann die Summe maximal um eins verringert werden.\n",
        "\n",
        "</details>"
      ]
    },
    {
      "cell_type": "markdown",
      "metadata": {
        "lang": "de",
        "id": "RwjO5Vfk7jho"
      },
      "source": [
        "## Aufgabe 6.2\n",
        "\n",
        "Zeigen Sie, dass die Kombination zweier zulässiger (admissible) Heuristiken mittels max wieder zulässig (admissible) ist.\n"
      ]
    },
    {
      "cell_type": "markdown",
      "metadata": {
        "lang": "de",
        "id": "bvEWuvyP7jhp"
      },
      "source": [
        "<details><summary>Klicken Sie hier für die Lösung</summary>\n",
        "\n",
        "Seien h,h' zwei zulässige Heuristiken.\n",
        "->$h(n) ≤ h^∗(n)$ und $h′(n) ≤ h^∗(n)$\n",
        "\n",
        "Sei nun das Ergebnis des Maximum-Operators von $h$ und $h′$\n",
        "-->$g(n) := max(h(n),h′(n))$\n",
        "-->$g(n) = h(n)$ oder $g(n) = h'(n)$\n",
        "\n",
        "wenn $g(n)=h(n)$\n",
        "-->$g(n) ≤ h^∗(n)$\n",
        "\n",
        "wenn $g(n)=h'(n)$\n",
        "-->$g(n) ≤ h^∗(n)$\n",
        "\n",
        "</details>"
      ]
    },
    {
      "cell_type": "markdown",
      "metadata": {
        "lang": "de",
        "id": "88Oslbkc7jhp"
      },
      "source": [
        "## Aufgabe 6.3\n",
        "\n",
        "Eine Heuristik, die immer 0 zurückgibt, ist offensichtlich zulässig, weil sie die wahren Kosten nie überschätzt (scheint aber nicht besonders nützlich zu sein). Welche Suchmethode, die Sie bereits kennen, entspricht $A^∗$ mit dieser Heuristik?"
      ]
    },
    {
      "cell_type": "markdown",
      "metadata": {
        "lang": "de",
        "id": "TaNtq7-17jhp"
      },
      "source": [
        "<details><summary>Klicken Sie hier für die Lösung</summary>\n",
        "\n",
        "uniforme Kostensuche\n",
        "</details>"
      ]
    },
    {
      "cell_type": "markdown",
      "metadata": {
        "lang": "de",
        "id": "cZPgrsdS7jhp"
      },
      "source": [
        "## Vielen Dank, dass Sie dieses Lab abgeschlossen haben!\n",
        "\n",
        "______\n",
        "\n",
        "\n",
        "## Andere Mitwirkende\n",
        "\n",
        "N / A"
      ]
    }
  ],
  "metadata": {
    "colab": {
      "name": "exercise_de.ipynb",
      "provenance": []
    },
    "kernelspec": {
      "display_name": "Python 3 (ipykernel)",
      "language": "python",
      "name": "python3"
    },
    "language_info": {
      "codemirror_mode": {
        "name": "ipython",
        "version": 3
      },
      "file_extension": ".py",
      "mimetype": "text/x-python",
      "name": "python",
      "nbconvert_exporter": "python",
      "pygments_lexer": "ipython3",
      "version": "3.10.4"
    },
    "nbTranslate": {
      "displayLangs": [
        "de"
      ],
      "hotkey": "alt-t",
      "langInMainMenu": true,
      "sourceLang": "en",
      "targetLang": "de",
      "useGoogleTranslate": true
    }
  },
  "nbformat": 4,
  "nbformat_minor": 0
}