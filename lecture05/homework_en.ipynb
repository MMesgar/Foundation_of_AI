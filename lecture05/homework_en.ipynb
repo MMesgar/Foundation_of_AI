{
  "cells": [
    {
      "cell_type": "markdown",
      "metadata": {
        "id": "oMFMkjEvCdS1"
      },
      "source": [
        "# Exercise: Informed Search\n",
        "\n",
        "Version: SoSe 2022\n",
        "\n",
        "Estimated time needed: 60 minutes\n",
        "\n",
        "Author: Mohamed Abdelmagied\n",
        "\n",
        "Deadline : Friday, 20.05.2022 (11:55 p.m.)\n",
        "\n",
        "______"
      ]
    },
    {
      "cell_type": "markdown",
      "metadata": {
        "id": "lY6PapH8C69w"
      },
      "source": [
        "# Homework"
      ]
    },
    {
      "cell_type": "markdown",
      "metadata": {
        "id": "DUg4amTUDEsp"
      },
      "source": [
        "### Submission guidelines\n",
        "* You can reach up to 10 homework points for every homework submission. 10 homework points correspond to one exam point.\n",
        "* In the course of the semester, there will be extra bonus points (where each bonus point equals to one exam point) for the homeworks. These will be given in the form of e.g. challenges inside the homeworks. More information will be given in the corresponding homeworks.\n",
        "* The submission has to be done by a team of two to four people. **Individual submissions will not be graded**. The team members do not have to attend the same exercise group. If there are any problems regarding this guideline, please reach out to a tutor.\n",
        "* Please state the **name and matriculation number of all team members** in every submission **clearly**.\n",
        "* Only **one team member should submit** the homework. If more than one version of the same homework is submitted by accident (submitted by more than one group member), please reach out to a tutor **as soon as possible**. Otherwise, the first submitted homework will be graded.\n",
        "* The submission must be in a Jupyter Notebook format (.ipynb). Submissions in **other formats will not be graded**. If there are any problems regarding this guideline, please reach out to a tutor.\n",
        "* It is not necessary to also submit the part of the exercise discussed by the tutor, please only submit the homework part.\n",
        "* If you want to insert pictures in your homework, insert them like this: Uplaod the picture to Google Drive. Right click on it. Click on \"Get shareable link\". Set the accessibility to \"Anyone with link\". Copy the link. Create a text cell where you want to insert the picture. Insert the link as follows: ``![picture description]``(insert link here, inside these brackets). Change the link as follows: From \"https://drive.google.com/file/d/XXXXX/view?usp=sharing\" to \"https://drive.google.com/uc?id=XXXXX\". XXXXX describes the individual ID, which will be in your link."
      ]
    },
    {
      "cell_type": "markdown",
      "metadata": {
        "id": "sgG3ICr7DLVT"
      },
      "source": [
        "**Recommendation: For drawing diagrams including the state graph, you could use draw.io which is an online tool for drawing diagrams**\n",
        "\n",
        "https://app.diagrams.net/\n",
        "\n"
      ]
    },
    {
      "cell_type": "markdown",
      "metadata": {
        "id": "6S99xHNmDnH9"
      },
      "source": [
        "Given the following map of south germany:\n",
        "\n",
        "![sud_deutschland](https://raw.githubusercontent.com/MMesgar/Foundation_of_AI/master/lecture05/images/Karte_Sueddeutschland.png)"
      ]
    },
    {
      "cell_type": "markdown",
      "metadata": {
        "id": "Yi1O6xLMDPwq"
      },
      "source": [
        "# Task 1.1\n",
        "### 4 Homework points\n",
        "\n",
        "Determine the way from Mannheim to Ulm. The costs are the distances on the map and the heuristic is the airline distance (SLD). Create a tree and write down the evaluation function for every node.\n",
        "\n",
        "1. Use Greedy Best First Search\n",
        "2. Use $A^∗$ Search\n",
        "\n",
        "write down the order in which nodes are expanded"
      ]
    },
    {
      "cell_type": "markdown",
      "metadata": {
        "id": "-hhF2R-tECeB"
      },
      "source": [
        "**insert the search tree in this cell**"
      ]
    },
    {
      "cell_type": "markdown",
      "metadata": {
        "id": "6KGIynIsELpw"
      },
      "source": [
        "**write down the order of expanded nodes in this cell**"
      ]
    },
    {
      "cell_type": "markdown",
      "metadata": {
        "id": "GdJCPWLyEV1F"
      },
      "source": [
        "# Task 1.2\n",
        "\n",
        "### 2 Homework points\n",
        "\n"
      ]
    },
    {
      "cell_type": "markdown",
      "metadata": {
        "id": "9beIKqvWE7UO"
      },
      "source": [
        "Use Greedy Best First Search to determine the route from Innsbruck to Ulm. The heuristic is the airline distance (SLD) on the map.write down the order in which the nodes are expanded. Create a tree and write down the evaluation function for every node."
      ]
    },
    {
      "cell_type": "markdown",
      "metadata": {
        "id": "hzq6eUTkFOQx"
      },
      "source": [
        "**insert the search tree in this cell**"
      ]
    },
    {
      "cell_type": "markdown",
      "metadata": {
        "id": "SnQGpbLQFVRr"
      },
      "source": [
        "**write down the order of expanded nodes in this cell**"
      ]
    },
    {
      "cell_type": "markdown",
      "metadata": {
        "id": "ywWzRlxDFfNp"
      },
      "source": [
        "# Task 1.3\n",
        "### 4 Homework Points\n",
        "\n",
        "Use $A^*$ Search to determine the route from Linz to Ulm. The costs are the distances on the map and the heuristic is the airline distance (SLD).<br>\n",
        "ATTENTION: On the way from Munich to Ulm a cucumber truck has been overturned. The track had to be blocked\n",
        "and can not be used in both directions!\n",
        "write down the order in which the nodes are expanded. Create a tree and write down the evaluation function for every node."
      ]
    },
    {
      "cell_type": "markdown",
      "metadata": {
        "id": "-brgd3k8F468"
      },
      "source": [
        "**insert the search tree in this cell**"
      ]
    },
    {
      "cell_type": "markdown",
      "metadata": {
        "id": "3dBq6RNfGRKa"
      },
      "source": [
        "**write down the order of expanded nodes in this cell**"
      ]
    },
    {
      "cell_type": "markdown",
      "metadata": {
        "id": "UsOxNP-WJ-ls"
      },
      "source": [
        "\n",
        "## Thank you for completing this lab!\n",
        "\n",
        "______\n",
        "\n",
        "\n",
        "## Other Contributors\n",
        "\n",
        "N/A"
      ]
    }
  ],
  "metadata": {
    "colab": {
      "name": "homework_en.ipynb",
      "provenance": []
    },
    "kernelspec": {
      "display_name": "Python 3 (ipykernel)",
      "language": "python",
      "name": "python3"
    },
    "language_info": {
      "codemirror_mode": {
        "name": "ipython",
        "version": 3
      },
      "file_extension": ".py",
      "mimetype": "text/x-python",
      "name": "python",
      "nbconvert_exporter": "python",
      "pygments_lexer": "ipython3",
      "version": "3.10.4"
    },
    "nbTranslate": {
      "displayLangs": [
        "*"
      ],
      "hotkey": "alt-t",
      "langInMainMenu": true,
      "sourceLang": "en",
      "targetLang": "fr",
      "useGoogleTranslate": true
    }
  },
  "nbformat": 4,
  "nbformat_minor": 0
}