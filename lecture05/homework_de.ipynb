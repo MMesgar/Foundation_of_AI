{
  "cells": [
    {
      "cell_type": "markdown",
      "metadata": {
        "lang": "de",
        "id": "DRgAd-NpfOrE"
      },
      "source": [
        "# Übung: Informierte Suche\n",
        "\n",
        "Stand: SoSe 2022\n",
        "\n",
        "Geschätzte benötigte Zeit: 60 Minuten\n",
        "\n",
        "Autor: Mohamed Abdelmagied\n",
        "\n",
        "Einsendeschluss : Freitag, 20.05.2022 (23:55 Uhr)\n",
        "\n",
        "______"
      ]
    },
    {
      "cell_type": "markdown",
      "metadata": {
        "lang": "de",
        "id": "bpqwzF-tfOrI"
      },
      "source": [
        "## Hausübung"
      ]
    },
    {
      "cell_type": "markdown",
      "metadata": {
        "id": "DUg4amTUDEsp",
        "lang": "en"
      },
      "source": [
        "### Abgaberichtlinien\n",
        "* Jede Hausübung bringt maximal 10 Hausaufgabenpunkte. 10 Hausaufgabenpunkte entsprechen einem Klausurpunkt.\n",
        "* Im Laufe des Semesters kann es zusätzliche Bonuspunkte (= 1 Klausurpunkt) für Hausübungen geben, in Form von z.B. Challenges, weitere Informationen folgen bei den betreffenden Hausübungen.\n",
        "* Die Abgabe erfolgt in Zweier- bis Viererteams. **Einzelabgaben werden nicht gewertet**. Die Teammitglieder müssen nicht in derselben Übungsgruppe sein. Bei Problemen bzw. Einzelfällen hinsichtlich dieser Richtlinie kontaktieren Sie einen Tutor.\n",
        "* In der Abgabe müssen alle Teammitglieder mit **Namen und Matrikelnummern gut sichtbar** genannt werden.\n",
        "* Es muss immer nur **ein Teammitglied der Gruppe abgeben**. Sollten aus Versehen mehrere Abgaben der selben Übung erfolgen, kommunizieren Sie dies **zeitnah** an einen Tutor, ansonsten wird die erste korrigierte Abgabe gewertet.\n",
        "* Die Abgabe soll als Jupyter-Notebook erfolgen (.ipynb). Abgaben in einem **anderen Format werden nicht gewertet**. Bei Problemen hinsichtlich dieser Richtlinie kontaktieren Sie einen Tutor.\n",
        "* Es ist nicht nötig, den Präsenzübungsteil in der Abgabe mit abzugeben. Es wird lediglich der Hausübungsteil gewertet.\n",
        "* Wenn Sie Bilder in der Hausaufgaben abgeben wollen, fügen Sie diese folgendermaßen ein: Laden Sie das entsprechende Bild bei Google Drive hoch. Klicken Sie per Rechtsklick auf das Bild. Klicken Sie auf \"Link abrufen\". Setzen Sie die Zugangsberechtigung auf \"Jeder, der über den Link verfügt\". Kopieren Sie den Link. Erstellen Sie eine Textzelle im Notebook in der Sie das Bild einfügen möchten. Fügen Sie den Link folgendermaßen ein: ``![Bildbeschreibung]``(Link hier einfügen, in diesen Klammern). Ändern Sie den Link folgendermaßen: Von \"https://drive.google.com/file/d/XXXXX/view?usp=sharing\" zu \"https://drive.google.com/uc?id=XXXXX\". XXXXX bezeichnet in diesem Fall die individuelle ID, die in Ihrem Link vorkommt."
      ]
    },
    {
      "cell_type": "markdown",
      "metadata": {
        "id": "sgG3ICr7DLVT"
      },
      "source": [
        "**Empfehlung: Zum Zeichnen von Diagrammen einschließlich des Zustandsgraphen können Sie draw.io verwenden, ein Online-Tool zum Zeichnen von Diagrammen**\n",
        "\n",
        "https://app.diagrams.net/\n",
        "\n"
      ]
    },
    {
      "cell_type": "markdown",
      "metadata": {
        "lang": "de",
        "id": "JH0alWHzfOrM"
      },
      "source": [
        "Gegeben sei folgende Karte von Süddeutschland:\n",
        "\n",
        "![sud_deutschland](https://raw.github.com/MMesgar/Foundation_of_AI/master/lecture05/images/Karte_Sueddeutschland.png)"
      ]
    },
    {
      "cell_type": "markdown",
      "metadata": {
        "lang": "de",
        "id": "V2Kd00W3fOrM"
      },
      "source": [
        "# Aufgabe 1.1\n",
        "### 4 Hausaufgabenpunkte\n",
        "\n",
        "Bestimmen Sie den Weg von Mannheim nach Ulm. Als Kosten dienen die Distanzen auf der Karte und\n",
        "als Heuristik die Luftliniendistanz (SLD).<br>\n",
        "\n",
        "1. Verwenden Sie Greedy Best First Search,\n",
        "2. Verwenden Sie A<sup>∗</sup> Search.\n",
        "\n",
        "Notieren Sie die Reihenfolge, in der die Knoten expandiert werden. Erstellen Sie jeweils einen Baum (z.B. mit draw.io) und geben Sie pro Knoten die Evaluierungsfunktion an."
      ]
    },
    {
      "cell_type": "markdown",
      "metadata": {
        "lang": "de",
        "id": "CDHj2WwZfOrN"
      },
      "source": [
        "**Bitte fügen Sie den Suchbaum in diese Zelle ein**"
      ]
    },
    {
      "cell_type": "markdown",
      "metadata": {
        "lang": "de",
        "id": "7QCTd8DqfOrO"
      },
      "source": [
        "**Bitte notieren Sie die Reihenfolge der expandierten Knoten in dieser Zelle**"
      ]
    },
    {
      "cell_type": "markdown",
      "metadata": {
        "lang": "de",
        "id": "Jl5BkoaXfOrP"
      },
      "source": [
        "# Aufgabe 1.2\n",
        "\n",
        "### 2 Hausaufgabenpunkte"
      ]
    },
    {
      "cell_type": "markdown",
      "metadata": {
        "lang": "de",
        "id": "Pf3TGCqvfOrP"
      },
      "source": [
        "Verwenden Sie Greedy Best First Search um den Weg von Innsbruck nach Ulm zu bestimmen. Als Heuristik dient die\n",
        "Luftliniendistanz (SLD) auf der Karte. Notieren Sie die Reihenfolge, in der die Knoten expandiert\n",
        "werden. Erstellen Sie jeweils einen Baum (z.B. mit draw.io) und geben Sie pro Knoten die Evaluierungsfunktion an.\n"
      ]
    },
    {
      "cell_type": "markdown",
      "metadata": {
        "lang": "de",
        "id": "kTFoBHIofOrQ"
      },
      "source": [
        "**Bitte fügen Sie den Suchbaum in diese Zelle ein**"
      ]
    },
    {
      "cell_type": "markdown",
      "metadata": {
        "lang": "de",
        "id": "uz8VIP9cfOrQ"
      },
      "source": [
        "**Bitte notieren Sie die Reihenfolge der expandierten Knoten in dieser Zelle**"
      ]
    },
    {
      "cell_type": "markdown",
      "metadata": {
        "lang": "de",
        "id": "SoaddMX5fOrR"
      },
      "source": [
        "# Aufgabe 1.3\n",
        "### 4 Hausaufgabenpunkte\n",
        "\n",
        "Verwenden Sie A* Search um den Weg von Linz nach Ulm zu bestimmen.<br>\n",
        "Als Kosten dienen die Distanzen auf der Karte und als Heuristik die Luftliniendistanz (SLD).<br>\n",
        "ACHTUNG: Auf der Strecke von München nach Ulm ist ein Gurkenlaster umgekippt. Die Strecke musste gesperrt\n",
        "werden und kann somit in beide Richtungen nicht befahren werden!<br><br>\n",
        "Notieren Sie die Reihenfolge, in der die Knoten expandiert werden. Erstellen Sie jeweils einen Baum (z.B. mit draw.io) und geben Sie pro Knoten die Evaluierungsfunktion an."
      ]
    },
    {
      "cell_type": "markdown",
      "metadata": {
        "lang": "de",
        "id": "v3FmSHIzfOrR"
      },
      "source": [
        "**Bitte fügen Sie den Suchbaum in diese Zelle ein**"
      ]
    },
    {
      "cell_type": "markdown",
      "metadata": {
        "lang": "de",
        "id": "sytLvFa4fOrR"
      },
      "source": [
        "**Bitte notieren Sie die Reihenfolge der expandierten Knoten in dieser Zelle**"
      ]
    },
    {
      "cell_type": "markdown",
      "metadata": {
        "id": "UsOxNP-WJ-ls"
      },
      "source": [
        "\n",
        "## Thank you for completing this lab!\n",
        "\n",
        "______\n",
        "\n",
        "\n",
        "## Other Contributors\n",
        "\n",
        "N/A"
      ]
    }
  ],
  "metadata": {
    "colab": {
      "name": "homework_de.ipynb",
      "provenance": []
    },
    "kernelspec": {
      "display_name": "Python 3 (ipykernel)",
      "language": "python",
      "name": "python3"
    },
    "language_info": {
      "codemirror_mode": {
        "name": "ipython",
        "version": 3
      },
      "file_extension": ".py",
      "mimetype": "text/x-python",
      "name": "python",
      "nbconvert_exporter": "python",
      "pygments_lexer": "ipython3",
      "version": "3.10.4"
    },
    "nbTranslate": {
      "displayLangs": [
        "de"
      ],
      "hotkey": "alt-t",
      "langInMainMenu": true,
      "sourceLang": "en",
      "targetLang": "de",
      "useGoogleTranslate": true
    }
  },
  "nbformat": 4,
  "nbformat_minor": 0
}