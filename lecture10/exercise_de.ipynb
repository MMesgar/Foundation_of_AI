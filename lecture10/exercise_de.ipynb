{
 "cells": [
  {
   "cell_type": "markdown",
   "metadata": {
    "id": "iaUYeLeFxpEn"
   },
   "source": [
    "# Übung: Deep Learning\n",
    "\n",
    "Version: SoSe 2022\n",
    "\n",
    "Geschätzte Zeit: 90 Minuten\n",
    "\n",
    "Author: Clara Siepmann\n",
    "\n",
    "______"
   ]
  },
  {
   "cell_type": "markdown",
   "metadata": {
    "id": "AKUMiohOxpEp"
   },
   "source": [
    "# Ziele\n",
    "\n",
    "Nach dieser Übung:\n",
    "\n",
    " - haben Sie ein grundlegendes Verständnis für Deep Learning\n",
    " - können Sie einfache Deep Learning Algoithmen implementieren."
   ]
  },
  {
   "cell_type": "markdown",
   "metadata": {
    "id": "YVvMLo_5xpEq"
   },
   "source": [
    "**Erinnerung: Bitte laden Sie diese Übung bei [Google Colab](https://colab.research.google.com/) hoch.**"
   ]
  },
  {
   "cell_type": "markdown",
   "metadata": {
    "id": "hh6FMBTbxpEq"
   },
   "source": [
    "**Reading material:\n",
    "Mandatory: Goodfellow et al. (2016): Chapter 1 (Introduction)**"
   ]
  },
  {
   "cell_type": "markdown",
   "metadata": {
    "id": "We_frcWkxpEr"
   },
   "source": [
    "# Task 1\n",
    "\n",
    "Eine der größten Challenges für künstliche Intelligenz ist die Frage wie informales Wissen codiert werden kann.\n",
    "\n",
    "Wahr oder falsch?"
   ]
  },
  {
   "cell_type": "markdown",
   "metadata": {
    "id": "VER6eQXGxpEr"
   },
   "source": [
    "<details><summary>Lösung</summary>\n",
    "\n",
    "## Lösung:\n",
    "\n",
    "Wahr\n",
    "\n",
    "</details>"
   ]
  },
  {
   "cell_type": "markdown",
   "metadata": {
    "id": "6nSml__6xpEs"
   },
   "source": [
    "# Task 2\n",
    "\n",
    "\n",
    "In Deep Learning werden komplizierte Konzepte aus einfacheren Konzepten abgeleitet.\n",
    "\n",
    "Wahr oder falsch?"
   ]
  },
  {
   "cell_type": "markdown",
   "metadata": {
    "id": "-WL8mSTpxpEs"
   },
   "source": [
    "<details><summary>Lösung</summary>\n",
    "\n",
    "## Lösung:    \n",
    "    \n",
    "Wahr. Zum Beispiel bestehen Kanten & Ecken aus einfachen Linien und können anhand dieser Linien erkannt werden. \n",
    "    \n",
    "</details>"
   ]
  },
  {
   "cell_type": "markdown",
   "metadata": {
    "id": "nTG75tkfxpEs"
   },
   "source": [
    "# Task 3\n",
    "Deep Learning ist ein neues Themenfeld und wurde früher nicht diskutiert.\n",
    "\n",
    "Wahr oder falsch?"
   ]
  },
  {
   "cell_type": "markdown",
   "metadata": {
    "id": "nKlEmUknxpEt"
   },
   "source": [
    "<details><summary>Lösung</summary>\n",
    "\n",
    "## Lösung:     \n",
    "Falsch, die ersten Konzepte wurden in den 1940er diskutiert.\n",
    "\n",
    "</details>"
   ]
  },
  {
   "cell_type": "markdown",
   "metadata": {
    "id": "1duJrZAJxpEt"
   },
   "source": [
    "# Task 4"
   ]
  },
  {
   "cell_type": "markdown",
   "metadata": {
    "id": "ezMoT5d1hVuu"
   },
   "source": [
    "Später in dieser Übung benötigen Sie die Bilddatei House.png. Sie können das Bild im gitHub im selben Ordner wie diese Übung finden. Sie können die Datei entweder hier hochladen oder zu ihrem Drive hinzufügen.\n"
   ]
  },
  {
   "cell_type": "code",
   "execution_count": 1,
   "metadata": {
    "id": "OUXlnqxwhj0z"
   },
   "outputs": [],
   "source": [
    "#Add the source to House.png here\n",
    "img_source = \"/House.png\""
   ]
  },
  {
   "cell_type": "markdown",
   "metadata": {
    "id": "1yATbfxOxpEt"
   },
   "source": [
    "## Task 4.1\n",
    "\n",
    "\n",
    "Warum und wofür werden neuronale Netze genutzt?"
   ]
  },
  {
   "cell_type": "markdown",
   "metadata": {
    "id": "LjXT8PZBxpEu",
    "tags": [
     "solution"
    ]
   },
   "source": [
    "<details><summary>Lösung</summary>\n",
    "\n",
    "## Lösung:    \n",
    "* Inspiration am Aufbau des Gehirns\n",
    "* Verarbeitet Bilder, sequenzen und generiert Daten\n",
    "* Mustererkennung bei Daten: automatische Featureexaktraktion, angefangen mit einfachen low-level Representationen, identifzieren von relevanten Muster in den Daten\n",
    "</details>"
   ]
  },
  {
   "cell_type": "markdown",
   "metadata": {
    "id": "KC6MVxbwxpEu"
   },
   "source": [
    "## Task 4.2\n",
    "\n",
    "Wie ist der grundlegende Aufbau eines Neural Networks?"
   ]
  },
  {
   "cell_type": "markdown",
   "metadata": {
    "id": "6GolnaDNxpEv",
    "tags": [
     "solution"
    ]
   },
   "source": [
    " <details><summary>Lösung</summary>\n",
    "\n",
    "## Lösung:    \n",
    "\n",
    "Aufbau eines Neurons:\n",
    "* Bias b\n",
    "* Input x (determined by data)\n",
    "* Parameters: w (learned by our model)\n",
    "* Activation function: σ (can be varied)\n",
    "* Output: σ(w • x)\n",
    "    \n",
    "Aufbau des Netzes:\n",
    "* Schichten aus Neuronen (Input, Hidden, Output)\n",
    "* Verbindungen zwischen den Schichten\n",
    "</details>"
   ]
  },
  {
   "cell_type": "markdown",
   "metadata": {
    "id": "_oIL5XTBxpEv"
   },
   "source": [
    "## Task 4.3\n",
    "\n",
    "Wie wird der Output dieses Neurons berechnet? Als Aktivierungsfunktion verwenden wir ReLu (Rectified Linear Units, y = max(0, x))\n",
    "\n",
    "![neuron](https://raw.githubusercontent.com/MMesgar/Foundation_of_AI/master/lecture10/img/neuron.png)"
   ]
  },
  {
   "cell_type": "markdown",
   "metadata": {
    "id": "XRJ02c-cxpEw",
    "tags": [
     "solution"
    ]
   },
   "source": [
    "<details><summary>Lösung</summary>\n",
    "    \n",
    "## Lösung:    \n",
    "\n",
    "ŷ = σ(w_1*x_1 + w_2*x_2 + w_3*x_3 + b)\n",
    "\n",
    "ŷ = σ(0.8*1 + 0.4*5 + 0.5*3 + 1*0.4) \n",
    "\n",
    "ŷ = σ(4.7) \n",
    "\n",
    "ŷ = max(0, (4.7)) \n",
    "\n",
    "ŷ = 4.7 \n",
    "\n",
    "</details>"
   ]
  },
  {
   "cell_type": "markdown",
   "metadata": {
    "id": "MA1D0MduxpEw"
   },
   "source": [
    "## Task 5\n",
    "\n",
    "Die automatische Erkennung von handgeschriebenen Zahlen ist eine wichtige Anwendung z.B. für das automatische Sortieren von Briefen nach der Postleitzahl. Der bekannteste Datensatz für dieses Problem ist der sogenannte MNIST Datensatz (http://yann.lecun.com/exdb/mnist/). \n",
    "\n",
    "Er enthält 60000 Bilder mit handgeschriebenen Zahlen. Jedes Bild wird als ein Vektor von Pixeln repräsentiert. Der Wert ist dabei die Farbe des Pixels (0 = weiß, 255 = schwarz). Das Ziel ist es, auf jedem Bild automatisch die dazugehörige Zahl zu identifizieren. Für diesen Task gibt es also zehn Klassen: Alle Zahlen von 0-9."
   ]
  },
  {
   "cell_type": "code",
   "execution_count": null,
   "metadata": {
    "id": "Ghd5hlHY0LoZ"
   },
   "outputs": [],
   "source": [
    "import numpy as np\n",
    "\n",
    "from random import randint\n",
    "from random import sample\n",
    "\n",
    "import matplotlib\n",
    "import matplotlib.pyplot as plt\n",
    "\n",
    "import tensorflow as tf\n",
    "import keras\n",
    "from keras.models import Sequential, load_model\n",
    "from keras.datasets import mnist\n",
    "from keras.layers.core import Dense, Dropout, Activation\n",
    "from keras.utils import np_utils"
   ]
  },
  {
   "cell_type": "code",
   "execution_count": null,
   "metadata": {
    "id": "VpZfCuo-0Pdq"
   },
   "outputs": [],
   "source": [
    "import keras\n",
    "import tensorflow\n",
    "print(keras.__version__)\n",
    "print(tensorflow.__version__)\n",
    "sess = tf.compat.v1.Session(config=tf.compat.v1.ConfigProto(log_device_placement=True))\n",
    "print(sess)"
   ]
  },
  {
   "cell_type": "code",
   "execution_count": null,
   "metadata": {
    "id": "w69zJgQR0R0P"
   },
   "outputs": [],
   "source": [
    "#Load the dataset MNIST Handwritten Digits dataset\n",
    "(x_train, y_train), (x_test, y_test) = mnist.load_data()"
   ]
  },
  {
   "cell_type": "markdown",
   "metadata": {
    "id": "JGSBPPvf0XXc"
   },
   "source": [
    "## Task 5.1\n",
    "Gucken Sie sich zunächst den Datensatz noch einmal genauer an, indem Sie sich einzelne Beispiele ausgeben lassen. "
   ]
  },
  {
   "cell_type": "code",
   "execution_count": null,
   "metadata": {
    "id": "VJSkeEWP0fq-"
   },
   "outputs": [],
   "source": [
    "examples = sample(list(x_train), 16)\n",
    "\n",
    "#Feel free to adjust this value to scale the output\n",
    "plt.rcParams['figure.dpi'] = 100\n",
    "\n",
    "for i in range(len(examples)):\n",
    "    ax = plt.subplot(4, 4, i + 1)\n",
    "    ax.axis('off')\n",
    "    ax.imshow(x_train[i], cmap='Greys')"
   ]
  },
  {
   "cell_type": "markdown",
   "metadata": {
    "id": "5pMGPsID0nNg"
   },
   "source": [
    "Warum empfielt es sich, für dieses Problem Machine Learning zu verwenden? Was könnten die Schwierigkeiten bei anderen Methoden sein? "
   ]
  },
  {
   "cell_type": "markdown",
   "metadata": {
    "id": "QHSUO3MFxpEx",
    "tags": [
     "solution"
    ]
   },
   "source": [
    "<details><summary>Lösung</summary>\n",
    "    \n",
    "## Lösung:    \n",
    "* Jeder Mensch hat eine eigene Handschrift, sodass die Zeichen bei jeder Person unterschiedlich aussehen.\n",
    "* Man kann nicht einfach festlegen, welche Pixel schwarz genau sein müssen, damit die Ziffer zum Beispiel eine \"1\" darstellt (Es können immer unterschiedliche sein).\n",
    "* Machine Learning Algorithmen sind in der Lage, zu lernen, was genau zum Beispiel eine \"3\" zu einer \"3\" macht.\n",
    "</details>"
   ]
  },
  {
   "cell_type": "markdown",
   "metadata": {
    "id": "6d1a_51r06Yk"
   },
   "source": [
    "# Task 6\n",
    "\n",
    "Neuronale Netze, sind sehr gut in der Lage, dieses Problem zu lösen. Im Rahmen dieser Aufgabe wollen wir ein neuronales Netz bauen, das handgeschriebene Ziffern erkennen kann.\n",
    "\n",
    "## Task 6.1\n",
    "\n",
    "Passen Sie die Klassenvektoren (y_train und y_test) so an, dass wir sie für das neuronale Netz verwenden können. "
   ]
  },
  {
   "cell_type": "code",
   "execution_count": null,
   "metadata": {
    "id": "HYMTEn1L1Q3x"
   },
   "outputs": [],
   "source": [
    "# Convert class vectors to binary class matrices\n",
    "# Change num_classes to the number of classes we need\n",
    "num_classes = 10\n",
    "y_train_one_hot = keras.utils.np_utils.to_categorical(y_train, num_classes)\n",
    "y_test_one_hot = keras.utils.np_utils.to_categorical(y_test, num_classes)\n",
    "\n",
    "# print first 5 labels as categorial and one-hot\n",
    "#Change the print out\n",
    "for i in range(5):\n",
    "    print(None, \" -> \", None)"
   ]
  },
  {
   "cell_type": "markdown",
   "metadata": {
    "id": "FOeg9f3m1r1w"
   },
   "source": [
    "<details><summary>Lösung</summary>\n",
    "    \n",
    "## Lösung:    \n",
    "```python\n",
    "# Convert class vectors to binary class matrices\n",
    "# Change num_classes to the number of classes we need\n",
    "num_classes = 10\n",
    "y_train_one_hot = keras.utils.np_utils.to_categorical(y_train, num_classes)\n",
    "y_test_one_hot = keras.utils.np_utils.to_categorical(y_test, num_classes)\n",
    "\n",
    "# print first 5 labels as categorial and one-hot\n",
    "#Change the print out\n",
    "for i in range(5):\n",
    "    print(y_train[i], \" -> \", y_train_one_hot[i])\n",
    "```\n",
    "</details>"
   ]
  },
  {
   "cell_type": "markdown",
   "metadata": {
    "id": "b8QfUkPL2oRd"
   },
   "source": [
    "## Task 6.2\n",
    "\n",
    "Passen Sie die Eingabedaten (x_train und x_test) so an, dass wir sie für das neuronale Netz verwenden können."
   ]
  },
  {
   "cell_type": "code",
   "execution_count": null,
   "metadata": {
    "id": "5tbDbqL01mBD"
   },
   "outputs": [],
   "source": [
    "# normalize into [0,1]\n",
    "def normalize_data(x):\n",
    "    x = x.astype('float32')\n",
    "    x /= 255\n",
    "    return x\n",
    "\n",
    "img_rows, img_cols = 28, 28\n",
    "image_size = img_rows * img_cols\n",
    "\n",
    "# Flatten the images as we are not using CNN here\n",
    "print(\"Original shape: \", x_train.shape)\n",
    "x_train_reshaped = x_train.reshape(x_train.shape[0], image_size)\n",
    "x_test_reshaped = x_test.reshape(x_test.shape[0], image_size)\n",
    "print(\"After flattening: \", x_train_reshaped.shape)\n",
    "\n",
    "# Normalize the pixel values\n",
    "#define x_train_reshaped & x_test_reshaped\n",
    "x_train_reshaped = normalize_data(None)\n",
    "x_test_reshaped = normalize_data(None)"
   ]
  },
  {
   "cell_type": "markdown",
   "metadata": {
    "id": "JHDFeq1s3C-C"
   },
   "source": [
    "<details><summary>Lösung</summary>\n",
    "    \n",
    "## Lösung:    \n",
    "```python\n",
    "# normalize into [0,1]\n",
    "def normalize_data(x):\n",
    "    x = x.astype('float32')\n",
    "    x /= 255\n",
    "    return x\n",
    "\n",
    "img_rows, img_cols = 28, 28\n",
    "image_size = img_rows * img_cols\n",
    "\n",
    "# Flatten the images as we are not using CNN here\n",
    "print(\"Original shape: \", x_train.shape)\n",
    "x_train_reshaped = x_train.reshape(x_train.shape[0], image_size)\n",
    "x_test_reshaped = x_test.reshape(x_test.shape[0], image_size)\n",
    "print(\"After flattening: \", x_train_reshaped.shape)\n",
    "\n",
    "# Normalize the pixel values\n",
    "#define x_train_reshaped & x_test_reshaped\n",
    "x_train_reshaped = normalize_data(x_train_reshaped)\n",
    "x_test_reshaped = normalize_data(x_test_reshaped)\n",
    "```\n",
    "</details>"
   ]
  },
  {
   "cell_type": "markdown",
   "metadata": {
    "id": "Kpg2rt1aU34k"
   },
   "source": [
    "## Task 7.1\n",
    "\n",
    "Bauen Sie ein neuronales Netz, welches in der Lage ist, handgeschriebene Ziffern zu erkennen. Experimentieren Sie dabei auch mit den Parametern. Was fällt Ihnen auf?\n",
    "Orientieren Sie sich dabei an der Dokumentation: https://keras.io/layers/core/\n",
    "\n",
    "Gegeben sind folgende Hilfsfunktionen:"
   ]
  },
  {
   "cell_type": "code",
   "execution_count": null,
   "metadata": {
    "id": "ZHPUS_3TVC08"
   },
   "outputs": [],
   "source": [
    "def fit_model(model, xtrain, ytrain):\n",
    "    history = model.fit(xtrain, ytrain,\n",
    "                        batch_size=batch_size,\n",
    "                        epochs=epochs,\n",
    "                        verbose=True,\n",
    "                        validation_split=.1)\n",
    "    return history\n",
    "    \n",
    "def evaluate_model(model, history, xtest, ytest):\n",
    "    score = model.evaluate(xtest, ytest, verbose=False)\n",
    "\n",
    "    plt.plot(history.history['acc'])\n",
    "    plt.plot(history.history['val_acc'])\n",
    "    plt.title('model accuracy')\n",
    "    plt.ylabel('accuracy')\n",
    "    plt.xlabel('epoch')\n",
    "    plt.legend(['training', 'validation'], loc='best')\n",
    "    plt.show()\n",
    " \n",
    "    print(\"Test loss: \", score[0])\n",
    "    print(\"Test accuracy: \", score[1])"
   ]
  },
  {
   "cell_type": "code",
   "execution_count": null,
   "metadata": {
    "id": "LXtIXwNKVI5E"
   },
   "outputs": [],
   "source": [
    "batch_size = 128\n",
    "epochs = 5\n",
    "\n",
    "#Your model:\n",
    "\n",
    "\n",
    "#Here you can modify your model\n",
    "\n",
    "model.compile(\n",
    "    optimizer=\"sgd\",\n",
    "    loss='categorical_crossentropy',\n",
    "    metrics=['acc'])\n",
    "\n",
    "#Train the neural network\n",
    "history = fit_model(model, x_train_reshaped, y_train_one_hot)\n",
    "\n",
    "#Evaluate the neural network\n",
    "evaluate_model(model, history, x_test_reshaped, y_test_one_hot)"
   ]
  },
  {
   "cell_type": "markdown",
   "metadata": {
    "id": "u1ouRA1jVr2l"
   },
   "source": [
    "<details><summary>Lösung</summary>\n",
    "    \n",
    "## Lösung:    \n",
    "```python\n",
    "model = Sequential()\n",
    "model.add(Dense(128, activation='relu', input_shape=(image_size,)))\n",
    "model.add(Dropout(0.2))\n",
    "model.add(Dense(128, activation='relu'))\n",
    "model.add(Dropout(0.2))\n",
    "model.add(Dense(num_classes, activation='softmax'))\n",
    "model.summary()\n",
    "```\n",
    "</details>"
   ]
  },
  {
   "cell_type": "markdown",
   "metadata": {
    "id": "chqWvJ93WY5b"
   },
   "source": [
    "## Task 7.2\n",
    "\n",
    "Wie viele Input- und Outputknoten (Nodes) gibt es? Wäre auch eine andere Zahl denkbar? "
   ]
  },
  {
   "cell_type": "markdown",
   "metadata": {
    "id": "T4IZj4GfWmOC"
   },
   "source": [
    "<details><summary>Lösung</summary>\n",
    "    \n",
    "## Lösung:    \n",
    "* Input 28*28,\n",
    "* Output: 10\n",
    "* Keine andere Zahl denkbar, Input und Output sind durch die Trainingsdaten vorgegeben\n",
    "</details>"
   ]
  },
  {
   "cell_type": "markdown",
   "metadata": {
    "id": "IIAxb4dxWzQ-"
   },
   "source": [
    "\n",
    "Schauen Sie sich unseren Lösungsvorschlag an. Wie viele Knoten sind im hidden layer vorgesehen? Wäre auch eine andere Zahl denkbar?"
   ]
  },
  {
   "cell_type": "markdown",
   "metadata": {
    "id": "ZEnOOghQXNSD"
   },
   "source": [
    "<details><summary>Lösung</summary>\n",
    "    \n",
    "## Lösung:    \n",
    "* 2\n",
    "* Abhängig vom Code, auch andere Anzahl denkbar\n",
    "</details>"
   ]
  },
  {
   "cell_type": "markdown",
   "metadata": {
    "id": "fLgOm0VQXbA8"
   },
   "source": [
    "Welche weiteren Hyperarameter gibt es? "
   ]
  },
  {
   "cell_type": "markdown",
   "metadata": {
    "id": "hYpmQMEAXd6H"
   },
   "source": [
    "<details><summary>Lösung</summary>\n",
    "    \n",
    "## Lösung:    \n",
    "* Learning Rate\n",
    "* Regularization\n",
    "* Anzahl der Knoten und Hidden Layers / The number of nodes and hidden layers\n",
    "* Activation Function\n",
    "* Loss Function\n",
    "</details>"
   ]
  },
  {
   "cell_type": "markdown",
   "metadata": {
    "id": "mT5zhgG1Xoo2"
   },
   "source": [
    "Welche Activation Functions werden hier verwendet und welche anderen Aktivierungsfunktionen gibt es? "
   ]
  },
  {
   "cell_type": "markdown",
   "metadata": {
    "id": "1VSb7M46Xp7X"
   },
   "source": [
    "<details><summary>Lösung</summary>\n",
    "    \n",
    "## Lösung:    \n",
    "* Hier: ReLu & Softmax\n",
    "* Andere: Sigmoid, Tanh\n",
    "\n",
    "</details>"
   ]
  },
  {
   "cell_type": "markdown",
   "metadata": {
    "id": "r2eZwTOuYCkx"
   },
   "source": [
    "Warum werden die Aktivierungsfunktionen im Code in dieser Reihenfolge verwendet? "
   ]
  },
  {
   "cell_type": "markdown",
   "metadata": {
    "id": "yK6s0SfaYE5K"
   },
   "source": [
    "<details><summary>Lösung</summary>\n",
    "    \n",
    "## Lösung:    \n",
    "* ReLu in allen hidden layer: kann auch eine andere Aktivierungsfunktion sein.\n",
    "* Softmax für das Output layer: wird für eine Wahrscheinlichkeitsverteilung benötigt.\n",
    "\n",
    "</details>"
   ]
  },
  {
   "cell_type": "markdown",
   "metadata": {
    "id": "PgeSpGbCYVOA"
   },
   "source": [
    "Im Code werden 'epochs' und 'batch_size' definiert. Was versteht man darunter? "
   ]
  },
  {
   "cell_type": "markdown",
   "metadata": {
    "id": "QkXlJj-8YXUF"
   },
   "source": [
    "<details><summary>Lösung</summary>\n",
    "    \n",
    "## Lösung:    \n",
    "* epochs: Hyperparameter, der definiert wie oft die Trainingsdaten den Lernalgorithmus durchlaufen\n",
    "* batch size: Anzahl Trainingsinstanzen in einem batch, batch: Daten werden zur Berechnung in batches aufgeteilt\n",
    "\n",
    "</details>"
   ]
  },
  {
   "cell_type": "markdown",
   "metadata": {
    "id": "MF98lj9VZUT_"
   },
   "source": [
    "# Task 8\n",
    "## Task 8.1\n",
    "\n",
    "Convolutional Neural Networks enthalten Schichten, in denen die Aktivität mithilfe von diskreter Faltung (Convolution) berechnet wird.\n",
    "\n",
    "Gegeben ist der Filter b\n",
    "\n",
    "$$b = \\begin{bmatrix} -1 &  1 \\\\ 1 & -1 \\end{bmatrix}$$\n",
    "\n",
    "und als Eingabe das Bild f\n",
    "\n",
    "$$f = \\begin{bmatrix} 0 & 0.1 & 0.5 \\\\ 0 & 0.7 & 0.2 \\\\ 0.9 & 0.2 & 0 \\end{bmatrix}$$\n",
    "\n",
    "Berechnen Sie das Ergebnis der diskreten Faltung. Verwenden Sie hierfür die Aktivierungsfunktion f mit:\n",
    "\n",
    "$$f(x) = max(x, 0)$$"
   ]
  },
  {
   "cell_type": "markdown",
   "metadata": {
    "id": "a0saU1QLaP6H"
   },
   "source": [
    "<details><summary>Lösung</summary>\n",
    "    \n",
    "## Lösung:    \n",
    "\n",
    "Rechenschritte:\n",
    "    \n",
    "<ol>\n",
    "    <li> Schritt: $$f(-1 * 0 + 1 * 0.1 + 1 * 0 -1 * 0.7) = f(-0.6) = 0 $$ </li>\n",
    "    <li> Schritt: $$f(-1 * 0.1 + 1 * 0.5 + 1 * 0.7 - 1 * 0.2) = f(-0.1 + 0.5 + 0.7 - 0.2) = f(0.9) = 0.9$$ </li>\n",
    "    <li> Schritt: $$f(-1 * 0 + 1 * 0.7 + 1 * 0.9 - 1 * 0.2) = f(0.7 + 0.9 - 0.2) = f(1.4) = 1.4$$ </li>\n",
    "    <li> Schritt: $$f(-1 * 0.7 + 1 * 0.2 + 1 * 0.2 - 1 * 0) = f(-0.7 + 0.2 + 0.2) = f(-0.3) = 0$$ </li>\n",
    "</ol>\n",
    "\n",
    "Ergebnis:\n",
    "\n",
    "$$\\begin{bmatrix} 0 & 0.9 \\\\ 1.4 & 0 \\end{bmatrix}$$\n",
    "    \n",
    "</div>\n",
    "\n",
    "</details>"
   ]
  },
  {
   "cell_type": "markdown",
   "metadata": {
    "id": "fLp1oCmTad_q"
   },
   "source": [
    "Für welches Feature könnte der Filter zuständig sein?"
   ]
  },
  {
   "cell_type": "markdown",
   "metadata": {
    "id": "cRfPaHiGag6n"
   },
   "source": [
    "<details><summary>Lösung</summary>\n",
    "    \n",
    "## Lösung:    \n",
    "    \n",
    "Der Filter ist in der Lage, weiße, diagonale Linien in einem Bild zu entdecken.\n",
    "\n",
    "</details>"
   ]
  },
  {
   "cell_type": "markdown",
   "metadata": {
    "id": "g03kp8mkbgOR"
   },
   "source": [
    "## Task 8.2\n",
    "Entwickeln sie einen Filter mit einer Höhe und Breite von 3, welcher in der Lage ist, vertikale Kanten zu entdecken."
   ]
  },
  {
   "cell_type": "code",
   "execution_count": null,
   "metadata": {
    "id": "HRCsaGzAbiGN"
   },
   "outputs": [],
   "source": [
    "import cv2\n",
    "from PIL import Image\n",
    "\n",
    "\n",
    "def convolve(img, kernel):\n",
    "    img_w, img_h = img.shape\n",
    "    ker_w, ker_h = kernel.shape\n",
    "    \n",
    "    # Add a padding to make sure that the original shape is maintained.\n",
    "    pad = (ker_w - 1) // 2\n",
    "    img_pad = cv2.copyMakeBorder(img, pad, pad, pad, pad, cv2.BORDER_REPLICATE)\n",
    "    \n",
    "    # Create the output matrix\n",
    "    output = np.zeros((img_w, img_h), dtype=\"float32\")\n",
    "    \n",
    "    # Compute the convolution.\n",
    "    for i in range(img_w):\n",
    "        for j in range(img_h):\n",
    "            output[i][j] = np.sum(img_pad[i:i+ker_w, j:j+ker_h]*kernel)\n",
    "    \n",
    "    return output\n",
    "\n",
    "img = cv2.imread(img_source, cv2.IMREAD_GRAYSCALE)\n",
    "\n",
    "# Change the filter here.\n",
    "kernel = np.asarray([[-1, -1, 1],\n",
    "                     [-1, -1, 1],\n",
    "                     [-1, -1, 1]])\n",
    "\n",
    "# Compute the feature map.\n",
    "convolved = convolve(img, kernel)\n",
    "\n",
    "plt.imshow(img, cmap='gray', interpolation='nearest', vmin=0, vmax=255)\n",
    "plt.show()\n",
    "\n",
    "plt.imshow(convolved, cmap='gray', interpolation='nearest', vmin=0, vmax=255)\n",
    "plt.show()\n",
    "print(convolved)"
   ]
  },
  {
   "cell_type": "markdown",
   "metadata": {
    "id": "h2KPM9J4bnsJ"
   },
   "source": [
    "<details><summary>Lösung</summary>\n",
    "    \n",
    "## Lösung:    \n",
    "    \n",
    "```python\n",
    "# Vertical\n",
    "kernel = np.asarray([[-1, 0, +1],\n",
    "                     [-1, 0, +1],\n",
    "                     [-1, 0, +1]])\n",
    "\n",
    "# vertical.\n",
    "kernel = np.asarray([[-1, -1, 1],\n",
    "                     [-1, -1, 1],\n",
    "                     [-1, -1, 1]])\n",
    "\n",
    "# horizontal.\n",
    "kernel = np.asarray([[+1, +1, +1],\n",
    "                     [ 0,  0,  0],\n",
    "                     [-1, -1, -1]])\n",
    "\n",
    "```\n",
    "\n",
    "</details>"
   ]
  },
  {
   "cell_type": "markdown",
   "metadata": {
    "id": "YFyuL0uNb7sG"
   },
   "source": [
    "Zusätzlich enthalten Convolutional Neural Networks sogenannte Pooling Layers. Hier werden überflüssige Informationen verworfen.\n",
    "Berechnen Sie die Ausgabe einer 2x2-Max-Pooling-Layer für folgenden Input: \n",
    "\n",
    "$$\\begin{bmatrix} 0.8 & 0.2 & 0.4 & 0.2\\\\ 0.9 & 0.5 & -0.4 & 0.2 \\\\ 0.1 & 0.1 & -0.6 & -0.4 \\\\ -0.2 & 0.9 & -0.3 & 0.6 \\end{bmatrix}$$"
   ]
  },
  {
   "cell_type": "markdown",
   "metadata": {
    "id": "fQgNdJuQcKAi"
   },
   "source": [
    "<details><summary>Lösung</summary>\n",
    "    \n",
    "## Lösung:    \n",
    "    \n",
    "\n",
    "\n",
    "$$\\begin{bmatrix} 0.9 & 0.4 \\\\ 0.9 & 0.6 \\end{bmatrix}$$\n",
    "\n",
    "</details>"
   ]
  },
  {
   "cell_type": "markdown",
   "metadata": {
    "id": "sMpHRQHncUue"
   },
   "source": [
    "Im Folgenden sehen Sie, wie ein Convolutional Neural Network mithilfe von Keras implementiert werden kann."
   ]
  },
  {
   "cell_type": "code",
   "execution_count": null,
   "metadata": {
    "id": "Rr3IoeYKcAe_"
   },
   "outputs": [],
   "source": [
    "from keras import backend as K\n",
    "from keras.layers import Dense, Dropout, Flatten\n",
    "from keras.layers import Conv2D, MaxPooling2D\n",
    "\n",
    "if K.image_data_format() == 'channels_first':\n",
    "    x_train_reshaped = x_train.reshape(x_train.shape[0], 1, img_rows, img_cols)\n",
    "    x_test_reshaped = x_test.reshape(x_test.shape[0], 1, img_rows, img_cols)\n",
    "    input_shape = (1, img_rows, img_cols)\n",
    "else:\n",
    "    x_train_reshaped = x_train.reshape(x_train.shape[0], img_rows, img_cols, 1)\n",
    "    x_test_reshaped = x_test.reshape(x_test.shape[0], img_rows, img_cols, 1)\n",
    "    input_shape = (img_rows, img_cols, 1)\n",
    "\n",
    "x_train_reshaped = normalize_data(x_train_reshaped)\n",
    "x_test_reshaped = normalize_data(x_test_reshaped)\n",
    "\n",
    "# train with less data (takes too long otherwise)\n",
    "x_train_small = x_train_reshaped[:6000,:]\n",
    "y_train_small = y_train_one_hot[:6000,:]\n",
    "print(x_train_small.shape)\n",
    "\n",
    "model = Sequential()\n",
    "model.add(Conv2D(32, kernel_size=(5, 5),\n",
    "                 activation='relu',\n",
    "                 input_shape=input_shape))\n",
    "model.add(Conv2D(64, (5, 5), activation='relu'))\n",
    "model.add(MaxPooling2D(pool_size=(2, 2)))\n",
    "model.add(Dropout(0.25))\n",
    "model.add(Flatten())\n",
    "model.add(Dense(128, activation='relu'))\n",
    "model.add(Dropout(0.5))\n",
    "model.add(Dense(num_classes, activation='softmax'))\n",
    "model.summary()\n",
    "\n",
    "model.compile(\n",
    "    optimizer=\"adadelta\",\n",
    "    loss='categorical_crossentropy',\n",
    "    metrics=['acc'])\n",
    "\n",
    "history = fit_model(model, x_train_small, y_train_small)\n",
    "evaluate_model(model, history, x_test_reshaped, y_test_one_hot)"
   ]
  },
  {
   "cell_type": "markdown",
   "metadata": {
    "id": "eeXm_WgEcdWy"
   },
   "source": [
    "Apply model"
   ]
  },
  {
   "cell_type": "code",
   "execution_count": null,
   "metadata": {
    "id": "FbO0PjIrcfZe"
   },
   "outputs": [],
   "source": [
    "input_form = \"\"\"\n",
    "<table>\n",
    "<td style=\"border-style: none;\">\n",
    "<div style=\"border: solid 2px #666; width: 143px; height: 144px;\">\n",
    "<canvas width=\"140\" height=\"140\"></canvas>\n",
    "</div></td>\n",
    "<td style=\"border-style: none;\">\n",
    "<button onclick=\"clear_value()\">Clear</button>\n",
    "<button onclick=\"classify_digit()\">Classify</button>\n",
    "</td>\n",
    "</table>\n",
    "\"\"\"\n",
    "\n",
    "javascript = '''\n",
    "<script type=\"text/Javascript\">\n",
    "    var pixels = [];\n",
    "    for (var i = 0; i < 28*28; i++) pixels[i] = 0;\n",
    "    var click = 0;\n",
    "\n",
    "    var canvas = document.querySelector(\"canvas\");\n",
    "    canvas.addEventListener(\"mousemove\", function(e){\n",
    "        if (e.buttons == 1) {\n",
    "            click = 1;\n",
    "            canvas.getContext(\"2d\").fillStyle = \"rgb(0,0,0)\";\n",
    "            canvas.getContext(\"2d\").fillRect(e.offsetX, e.offsetY, 8, 8);\n",
    "            x = Math.floor(e.offsetY * 0.2);\n",
    "            y = Math.floor(e.offsetX * 0.2) + 1;\n",
    "            for (var dy = 0; dy < 2; dy++){\n",
    "                for (var dx = 0; dx < 2; dx++){\n",
    "                    if ((x + dx < 28) && (y + dy < 28)){\n",
    "                        pixels[(y+dy)+(x+dx)*28] = 1;\n",
    "                    }\n",
    "                }\n",
    "            }\n",
    "        } else {\n",
    "            if (click == 1) set_value();\n",
    "            click = 0;\n",
    "        }\n",
    "    });\n",
    "    \n",
    "    function set_value(){\n",
    "        var result = \"\";\n",
    "        for (var i = 0; i < 28*28; i++) result += pixels[i] + \",\";\n",
    "        var kernel = IPython.notebook.kernel;\n",
    "        kernel.execute(\"image = [\" + result + \"]\");\n",
    "    }\n",
    "    \n",
    "    function clear_value(){\n",
    "        canvas.getContext(\"2d\").fillStyle = \"rgb(255,255,255)\";\n",
    "        canvas.getContext(\"2d\").fillRect(0, 0, 140, 140);\n",
    "        for (var i = 0; i < 28*28; i++) pixels[i] = 0;\n",
    "    }\n",
    "    \n",
    "    function classify_digit() {\n",
    "        IPython.notebook.execute_cells([IPython.notebook.get_selected_index()+1])\n",
    "    }\n",
    "</script>\n",
    "'''\n",
    "\n",
    "from IPython.display import HTML\n",
    "HTML(input_form + javascript)"
   ]
  },
  {
   "cell_type": "markdown",
   "metadata": {
    "id": "aLGuHuxAlKLR"
   },
   "source": [
    " \n",
    "Der Code unten funktioniert nicht in Colab. Versuchen Sie ihn in Jupyter auszuführen. Oder schicken Sie uns ihre Lösung.\n"
   ]
  },
  {
   "cell_type": "code",
   "execution_count": null,
   "metadata": {
    "id": "gO2bLjgpcixI"
   },
   "outputs": [],
   "source": [
    "img_array = np.array(image)\n",
    "img_array = img_array.reshape(1, 28, 28, 1)\n",
    "predictions = model.predict(img_array)\n",
    "\n",
    "%matplotlib inline \n",
    "fig = plt.figure(figsize=(4,2))\n",
    "subplot = fig.add_subplot(1,1,1)\n",
    "subplot.set_xticks(range(10))\n",
    "subplot.set_xlim(-0.5,9.5)\n",
    "subplot.set_ylim(0,1)\n",
    "subplot.bar(range(10), predictions[0], align='center')\n",
    "fig.show()"
   ]
  },
  {
   "cell_type": "markdown",
   "metadata": {
    "id": "1Dni5uI-cmd2"
   },
   "source": [
    "Anmerkung: Damit dieses Zeichentool funktioniert, muss der Code mit dem Convolutional Neural Network ausgeführt worden sein."
   ]
  }
 ],
 "metadata": {
  "colab": {
   "collapsed_sections": [],
   "name": "exercise_en.ipynb",
   "provenance": []
  },
  "kernelspec": {
   "display_name": "Python 3 (ipykernel)",
   "language": "python",
   "name": "python3"
  },
  "language_info": {
   "codemirror_mode": {
    "name": "ipython",
    "version": 3
   },
   "file_extension": ".py",
   "mimetype": "text/x-python",
   "name": "python",
   "nbconvert_exporter": "python",
   "pygments_lexer": "ipython3",
   "version": "3.8.8"
  },
  "varInspector": {
   "cols": {
    "lenName": 16,
    "lenType": 16,
    "lenVar": 40
   },
   "kernels_config": {
    "python": {
     "delete_cmd_postfix": "",
     "delete_cmd_prefix": "del ",
     "library": "var_list.py",
     "varRefreshCmd": "print(var_dic_list())"
    },
    "r": {
     "delete_cmd_postfix": ") ",
     "delete_cmd_prefix": "rm(",
     "library": "var_list.r",
     "varRefreshCmd": "cat(var_dic_list()) "
    }
   },
   "types_to_exclude": [
    "module",
    "function",
    "builtin_function_or_method",
    "instance",
    "_Feature"
   ],
   "window_display": false
  }
 },
 "nbformat": 4,
 "nbformat_minor": 1
}
