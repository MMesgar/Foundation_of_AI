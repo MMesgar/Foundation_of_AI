{
 "cells": [
  {
   "cell_type": "markdown",
   "metadata": {
    "id": "iaUYeLeFxpEn"
   },
   "source": [
    "# Exercise: Deep Learning\n",
    "\n",
    "Version: SoSe 2022\n",
    "\n",
    "Estimated time needed: 90 minutes\n",
    "\n",
    "Author: Clara Siepmann\n",
    "\n",
    "______"
   ]
  },
  {
   "cell_type": "markdown",
   "metadata": {
    "id": "AKUMiohOxpEp"
   },
   "source": [
    "# Objectives\n",
    "\n",
    "After completing this exercise you will be able to:\n",
    "\n",
    " - have a basic understanding of deep learning algorithms\n",
    " - implement a basic deep learning algorithm"
   ]
  },
  {
   "cell_type": "markdown",
   "metadata": {
    "id": "YVvMLo_5xpEq"
   },
   "source": [
    "**Reminder: Please upload this exercise on [Google Colab](https://colab.research.google.com/) so you would be able to work on the tasks**"
   ]
  },
  {
   "cell_type": "markdown",
   "metadata": {
    "id": "hh6FMBTbxpEq"
   },
   "source": [
    "**Reading material:\n",
    "Mandatory: Goodfellow et al. (2016): Chapter 1 (Introduction)**"
   ]
  },
  {
   "cell_type": "markdown",
   "metadata": {
    "id": "We_frcWkxpEr"
   },
   "source": [
    "# Task 1\n",
    "One of the main challenges for artificial intelligence is the question of how to capture informal knowlegde.\n",
    "\n",
    "True or false?"
   ]
  },
  {
   "cell_type": "markdown",
   "metadata": {
    "id": "VER6eQXGxpEr"
   },
   "source": [
    "<details><summary>Click here for the solution</summary>\n",
    "\n",
    "## Solution:\n",
    "\n",
    "True\n",
    "\n",
    "</details>"
   ]
  },
  {
   "cell_type": "markdown",
   "metadata": {
    "id": "6nSml__6xpEs"
   },
   "source": [
    "# Task 2\n",
    "Deep learning builds more complicated concepts from simpler concepts.\n",
    "\n",
    "True or false?"
   ]
  },
  {
   "cell_type": "markdown",
   "metadata": {
    "id": "-WL8mSTpxpEs"
   },
   "source": [
    "<details><summary>Click here for the solution</summary>\n",
    "\n",
    "## Solution:    \n",
    "    \n",
    "True. For example corners & contours are build from edges and can be detected using the edges.\n",
    "\n",
    "</details>"
   ]
  },
  {
   "cell_type": "markdown",
   "metadata": {
    "id": "nTG75tkfxpEs"
   },
   "source": [
    "# Task 3\n",
    "Deep learning is a new topic and has not be discussed before.\n",
    "\n",
    "True or false?"
   ]
  },
  {
   "cell_type": "markdown",
   "metadata": {
    "id": "nKlEmUknxpEt"
   },
   "source": [
    "<details><summary>Click here for the solution</summary>\n",
    "\n",
    "## Solution:    \n",
    "    \n",
    "False, the first concepts were developed in the 1940s. \n",
    "\n",
    "</details>"
   ]
  },
  {
   "cell_type": "markdown",
   "metadata": {
    "id": "1duJrZAJxpEt"
   },
   "source": [
    "# Task 4"
   ]
  },
  {
   "cell_type": "markdown",
   "metadata": {
    "id": "ezMoT5d1hVuu"
   },
   "source": [
    "Later in this exercise you need the image House.png. You can find it in the gitHub. Either upload it manually to this notebook or add it to your drive\n"
   ]
  },
  {
   "cell_type": "code",
   "execution_count": null,
   "metadata": {
    "id": "OUXlnqxwhj0z"
   },
   "outputs": [],
   "source": [
    "img_source = \"/House.png\""
   ]
  },
  {
   "cell_type": "markdown",
   "metadata": {
    "id": "1yATbfxOxpEt"
   },
   "source": [
    "## Task 4.1\n",
    "\n",
    "Why and what are neural networks used for?"
   ]
  },
  {
   "cell_type": "markdown",
   "metadata": {
    "id": "LjXT8PZBxpEu",
    "tags": [
     "solution"
    ]
   },
   "source": [
    "<details><summary>Click here for the solution</summary>\n",
    "\n",
    "## Solution:    \n",
    "\n",
    "* Neural networks are inspired by the brain structure\n",
    "* Processing images, Processing sequences, Generating data\n",
    "* detecting patterns in data: automate the feature development, start with very basic low-level representations & identify relevant patterns in the data\n",
    "</details>"
   ]
  },
  {
   "cell_type": "markdown",
   "metadata": {
    "id": "KC6MVxbwxpEu"
   },
   "source": [
    "## Task 4.2\n",
    "\n",
    "What is the basic structure of a neural network?"
   ]
  },
  {
   "cell_type": "markdown",
   "metadata": {
    "id": "6GolnaDNxpEv",
    "tags": [
     "solution"
    ]
   },
   "source": [
    " <details><summary>Click here for the solution</summary>\n",
    "\n",
    "## Solution:    \n",
    "\n",
    "A neuron consists of:\n",
    "* Bias b\n",
    "* Input x (determined by data)\n",
    "* Parameters: w (learned by our model)\n",
    "* Activation function: σ (can be varied)\n",
    "* Output: σ(w • x)\n",
    "A network consists of:\n",
    "* Layers of neurons (Input, Hidden, Output)\n",
    "* Connections between the layers\n",
    "</details>"
   ]
  },
  {
   "cell_type": "markdown",
   "metadata": {
    "id": "_oIL5XTBxpEv"
   },
   "source": [
    "## Task 4.3\n",
    "\n",
    "How is the output of this neuron calculated? We use ReLu (Rectified Linear Units, y = max(0, x)) as the activation function.\n",
    "\n",
    "![neuron](https://raw.githubusercontent.com/MMesgar/Foundation_of_AI/master/lecture10/img/neuron.png)"
   ]
  },
  {
   "cell_type": "markdown",
   "metadata": {
    "id": "XRJ02c-cxpEw",
    "tags": [
     "solution"
    ]
   },
   "source": [
    "<details><summary>Click here for the solution</summary>\n",
    "    \n",
    "## Solution:    \n",
    "\n",
    "ŷ = σ(w_1*x_1 + w_2*x_2 + w_3*x_3 + b)\n",
    "\n",
    "ŷ = σ(0.8*1 + 0.4*5 + 0.5*3 + 1*0.4) \n",
    "\n",
    "ŷ = σ(4.7) \n",
    "\n",
    "ŷ = max(0, (4.7)) \n",
    "\n",
    "ŷ = 4.7 \n",
    "\n",
    "</details>"
   ]
  },
  {
   "cell_type": "markdown",
   "metadata": {
    "id": "MA1D0MduxpEw"
   },
   "source": [
    "## Task 5\n",
    "\n",
    "The automatic recognition of handwritten numbers is an important application, e.g. for the automatic sorting of letters by postal code. The best known dataset for this problem is the so-called MNIST dataset (http://yann.lecun.com/exdb/mnist/). \n",
    "It contains 60000 pictures with handwritten numbers. Each image is represented as a vector of pixels. The value is the color of the pixel (0 = white, 255 = black). The aim is to automatically identify the corresponding number on each image. There are ten classes for this task: All numbers from 0-9."
   ]
  },
  {
   "cell_type": "code",
   "execution_count": null,
   "metadata": {
    "id": "Ghd5hlHY0LoZ"
   },
   "outputs": [],
   "source": [
    "import numpy as np\n",
    "\n",
    "from random import randint\n",
    "from random import sample\n",
    "\n",
    "import matplotlib\n",
    "import matplotlib.pyplot as plt\n",
    "\n",
    "import tensorflow as tf\n",
    "import keras\n",
    "from keras.models import Sequential, load_model\n",
    "from keras.datasets import mnist\n",
    "from keras.layers.core import Dense, Dropout, Activation\n",
    "from keras.utils import np_utils"
   ]
  },
  {
   "cell_type": "code",
   "execution_count": null,
   "metadata": {
    "id": "VpZfCuo-0Pdq"
   },
   "outputs": [],
   "source": [
    "import keras\n",
    "import tensorflow\n",
    "print(keras.__version__)\n",
    "print(tensorflow.__version__)\n",
    "sess = tf.compat.v1.Session(config=tf.compat.v1.ConfigProto(log_device_placement=True))\n",
    "print(sess)"
   ]
  },
  {
   "cell_type": "code",
   "execution_count": null,
   "metadata": {
    "id": "w69zJgQR0R0P"
   },
   "outputs": [],
   "source": [
    "#Load the dataset MNIST Handwritten Digits dataset\n",
    "(x_train, y_train), (x_test, y_test) = mnist.load_data()"
   ]
  },
  {
   "cell_type": "markdown",
   "metadata": {
    "id": "JGSBPPvf0XXc"
   },
   "source": [
    "## Task 5.1\n",
    "First, take a closer look at the data by displaying individual examples."
   ]
  },
  {
   "cell_type": "code",
   "execution_count": null,
   "metadata": {
    "id": "VJSkeEWP0fq-"
   },
   "outputs": [],
   "source": [
    "examples = sample(list(x_train), 16)\n",
    "\n",
    "#Feel free to adjust this value to scale the output\n",
    "plt.rcParams['figure.dpi'] = 100\n",
    "\n",
    "for i in range(len(examples)):\n",
    "    ax = plt.subplot(4, 4, i + 1)\n",
    "    ax.axis('off')\n",
    "    ax.imshow(x_train[i], cmap='Greys')"
   ]
  },
  {
   "cell_type": "markdown",
   "metadata": {
    "id": "5pMGPsID0nNg"
   },
   "source": [
    "Why is it a good idea to use Machine Learning for this problem? What might be the difficulties you would encounter using other methods?"
   ]
  },
  {
   "cell_type": "markdown",
   "metadata": {
    "id": "QHSUO3MFxpEx",
    "tags": [
     "solution"
    ]
   },
   "source": [
    "<details><summary>Click here for the solution</summary>\n",
    "    \n",
    "## Solution:    \n",
    "* Every person has his own handwriting, so the numbers would look differently when written by a different person.\n",
    "* We can't simply determine exactly which pixel should be black so that the character on the image represents a \"1\" (because it might look differently for each person).\n",
    "* Machine Learning algorithms are able to learn, what exactly makes a \"3\", for example, a \"3\".\n",
    "</details>"
   ]
  },
  {
   "cell_type": "markdown",
   "metadata": {
    "id": "6d1a_51r06Yk"
   },
   "source": [
    "# Task 6\n",
    "\n",
    "Neural networks, as discussed in Task 1, are very well able to solve this problem. As part of this task, we want to build a neural network that can recognize handwritten numbers.\n",
    "\n",
    "## Task 6.1\n",
    "\n",
    "Adjust the class vectors (y_train and y_test) so that we can use them for the neural network."
   ]
  },
  {
   "cell_type": "code",
   "execution_count": null,
   "metadata": {
    "id": "HYMTEn1L1Q3x"
   },
   "outputs": [],
   "source": [
    "# Convert class vectors to binary class matrices\n",
    "# Change num_classes to the number of classes we need\n",
    "num_classes = 10\n",
    "y_train_one_hot = keras.utils.np_utils.to_categorical(y_train, num_classes)\n",
    "y_test_one_hot = keras.utils.np_utils.to_categorical(y_test, num_classes)\n",
    "\n",
    "# print first 5 labels as categorial and one-hot\n",
    "#Change the print out\n",
    "for i in range(5):\n",
    "    print(None, \" -> \", None)"
   ]
  },
  {
   "cell_type": "markdown",
   "metadata": {
    "id": "FOeg9f3m1r1w"
   },
   "source": [
    "<details><summary>Click here for the solution</summary>\n",
    "    \n",
    "## Solution:    \n",
    "```python\n",
    "# Convert class vectors to binary class matrices\n",
    "# Change num_classes to the number of classes we need\n",
    "num_classes = 10\n",
    "y_train_one_hot = keras.utils.np_utils.to_categorical(y_train, num_classes)\n",
    "y_test_one_hot = keras.utils.np_utils.to_categorical(y_test, num_classes)\n",
    "\n",
    "# print first 5 labels as categorial and one-hot\n",
    "#Change the print out\n",
    "for i in range(5):\n",
    "    print(y_train[i], \" -> \", y_train_one_hot[i])\n",
    "```\n",
    "</details>"
   ]
  },
  {
   "cell_type": "markdown",
   "metadata": {
    "id": "b8QfUkPL2oRd"
   },
   "source": [
    "## Task 6.2\n",
    "\n",
    "Adjust the input data (x_train and x_test) so that we can use them for the neural network"
   ]
  },
  {
   "cell_type": "code",
   "execution_count": null,
   "metadata": {
    "id": "5tbDbqL01mBD"
   },
   "outputs": [],
   "source": [
    "# normalize into [0,1]\n",
    "def normalize_data(x):\n",
    "    x = x.astype('float32')\n",
    "    x /= 255\n",
    "    return x\n",
    "\n",
    "img_rows, img_cols = 28, 28\n",
    "image_size = img_rows * img_cols\n",
    "\n",
    "# Flatten the images as we are not using CNN here\n",
    "print(\"Original shape: \", x_train.shape)\n",
    "x_train_reshaped = x_train.reshape(x_train.shape[0], image_size)\n",
    "x_test_reshaped = x_test.reshape(x_test.shape[0], image_size)\n",
    "print(\"After flattening: \", x_train_reshaped.shape)\n",
    "\n",
    "# Normalize the pixel values\n",
    "#define x_train_reshaped & x_test_reshaped\n",
    "x_train_reshaped = normalize_data(None)\n",
    "x_test_reshaped = normalize_data(None)"
   ]
  },
  {
   "cell_type": "markdown",
   "metadata": {
    "id": "JHDFeq1s3C-C"
   },
   "source": [
    "<details><summary>Click here for the solution</summary>\n",
    "    \n",
    "## Solution:    \n",
    "```python\n",
    "# normalize into [0,1]\n",
    "def normalize_data(x):\n",
    "    x = x.astype('float32')\n",
    "    x /= 255\n",
    "    return x\n",
    "\n",
    "img_rows, img_cols = 28, 28\n",
    "image_size = img_rows * img_cols\n",
    "\n",
    "# Flatten the images as we are not using CNN here\n",
    "print(\"Original shape: \", x_train.shape)\n",
    "x_train_reshaped = x_train.reshape(x_train.shape[0], image_size)\n",
    "x_test_reshaped = x_test.reshape(x_test.shape[0], image_size)\n",
    "print(\"After flattening: \", x_train_reshaped.shape)\n",
    "\n",
    "# Normalize the pixel values\n",
    "#define x_train_reshaped & x_test_reshaped\n",
    "x_train_reshaped = normalize_data(x_train_reshaped)\n",
    "x_test_reshaped = normalize_data(x_test_reshaped)\n",
    "```\n",
    "</details>"
   ]
  },
  {
   "cell_type": "markdown",
   "metadata": {
    "id": "Kpg2rt1aU34k"
   },
   "source": [
    "## Task 7.1\n",
    "\n",
    "Build a neural network capable of recognizing handwritten numbers. Experiment with the parameters as well. What do you notice? \n",
    "Use the documentation: https://keras.io/layers/core/\n",
    "\n",
    "The following help functions are given:"
   ]
  },
  {
   "cell_type": "markdown",
   "metadata": {
    "id": "f5hh9cysVqKm"
   },
   "source": []
  },
  {
   "cell_type": "code",
   "execution_count": null,
   "metadata": {
    "id": "ZHPUS_3TVC08"
   },
   "outputs": [],
   "source": [
    "def fit_model(model, xtrain, ytrain):\n",
    "    history = model.fit(xtrain, ytrain,\n",
    "                        batch_size=batch_size,\n",
    "                        epochs=epochs,\n",
    "                        verbose=True,\n",
    "                        validation_split=.1)\n",
    "    return history\n",
    "    \n",
    "def evaluate_model(model, history, xtest, ytest):\n",
    "    score = model.evaluate(xtest, ytest, verbose=False)\n",
    "\n",
    "    plt.plot(history.history['acc'])\n",
    "    plt.plot(history.history['val_acc'])\n",
    "    plt.title('model accuracy')\n",
    "    plt.ylabel('accuracy')\n",
    "    plt.xlabel('epoch')\n",
    "    plt.legend(['training', 'validation'], loc='best')\n",
    "    plt.show()\n",
    " \n",
    "    print(\"Test loss: \", score[0])\n",
    "    print(\"Test accuracy: \", score[1])"
   ]
  },
  {
   "cell_type": "code",
   "execution_count": null,
   "metadata": {
    "id": "LXtIXwNKVI5E"
   },
   "outputs": [],
   "source": [
    "batch_size = 128\n",
    "epochs = 5\n",
    "\n",
    "#Your model:\n",
    "\n",
    "\n",
    "#Here you can modify your model\n",
    "\n",
    "model.compile(\n",
    "    optimizer=\"sgd\",\n",
    "    loss='categorical_crossentropy',\n",
    "    metrics=['acc'])\n",
    "\n",
    "#Train the neural network\n",
    "history = fit_model(model, x_train_reshaped, y_train_one_hot)\n",
    "\n",
    "#Evaluate the neural network\n",
    "evaluate_model(model, history, x_test_reshaped, y_test_one_hot)"
   ]
  },
  {
   "cell_type": "markdown",
   "metadata": {
    "id": "u1ouRA1jVr2l"
   },
   "source": [
    "<details><summary>Click here for the solution</summary>\n",
    "    \n",
    "## Solution:    \n",
    "```python\n",
    "model = Sequential()\n",
    "model.add(Dense(128, activation='relu', input_shape=(image_size,)))\n",
    "model.add(Dropout(0.2))\n",
    "model.add(Dense(128, activation='relu'))\n",
    "model.add(Dropout(0.2))\n",
    "model.add(Dense(num_classes, activation='softmax'))\n",
    "model.summary()\n",
    "```\n",
    "</details>"
   ]
  },
  {
   "cell_type": "markdown",
   "metadata": {
    "id": "chqWvJ93WY5b"
   },
   "source": [
    "## Task 7.2\n",
    "\n",
    "How many input and output nodes are there? Could it be a different number?"
   ]
  },
  {
   "cell_type": "markdown",
   "metadata": {
    "id": "T4IZj4GfWmOC"
   },
   "source": [
    "<details><summary>Click here for the solution</summary>\n",
    "    \n",
    "## Solution:    \n",
    "* Input 28*28,\n",
    "* Output: 10\n",
    "* It could not be a different number because the input and output are given by the training data.\n",
    "</details>"
   ]
  },
  {
   "cell_type": "markdown",
   "metadata": {
    "id": "IIAxb4dxWzQ-"
   },
   "source": [
    "Look at our proposed solution. How many nodes are there in the hidden layer? Could it be a different number?"
   ]
  },
  {
   "cell_type": "markdown",
   "metadata": {
    "id": "ZEnOOghQXNSD"
   },
   "source": [
    "<details><summary>Click here for the solution</summary>\n",
    "    \n",
    "## Solution:    \n",
    "* 2\n",
    "* depends on the code, therefore it could be a different number\n",
    "</details>"
   ]
  },
  {
   "cell_type": "markdown",
   "metadata": {
    "id": "fLgOm0VQXbA8"
   },
   "source": [
    "Which other hyperparameters are there?"
   ]
  },
  {
   "cell_type": "markdown",
   "metadata": {
    "id": "hYpmQMEAXd6H"
   },
   "source": [
    "<details><summary>Click here for the solution</summary>\n",
    "    \n",
    "## Solution:    \n",
    "* Learning Rate\n",
    "* Regularization\n",
    "* Anzahl der Knoten und Hidden Layers / The number of nodes and hidden layers\n",
    "* Activation Function\n",
    "* Loss Function\n",
    "</details>"
   ]
  },
  {
   "cell_type": "markdown",
   "metadata": {
    "id": "mT5zhgG1Xoo2"
   },
   "source": [
    "Which activation functions are used in our solution and which other activation functions are there?"
   ]
  },
  {
   "cell_type": "markdown",
   "metadata": {
    "id": "1VSb7M46Xp7X"
   },
   "source": [
    "<details><summary>Click here for the solution</summary>\n",
    "    \n",
    "## Solution:    \n",
    "* Used here: ReLu & Softmax\n",
    "* Others: Sigmoid, Tanh\n",
    "\n",
    "</details>"
   ]
  },
  {
   "cell_type": "markdown",
   "metadata": {
    "id": "r2eZwTOuYCkx"
   },
   "source": [
    "Why are the activation functions in the code used in this order?"
   ]
  },
  {
   "cell_type": "markdown",
   "metadata": {
    "id": "yK6s0SfaYE5K"
   },
   "source": [
    "<details><summary>Click here for the solution</summary>\n",
    "    \n",
    "## Solution:    \n",
    "* ReLu in all the hidden layers: it could also have been another activation function.\n",
    "* Softmax for the output layer: necessary for the probability distribution.\n",
    "\n",
    "</details>"
   ]
  },
  {
   "cell_type": "markdown",
   "metadata": {
    "id": "PgeSpGbCYVOA"
   },
   "source": [
    "The code defines 'epochs' and 'batch_size'. What do they mean?"
   ]
  },
  {
   "cell_type": "markdown",
   "metadata": {
    "id": "QkXlJj-8YXUF"
   },
   "source": [
    "<details><summary>Click here for the solution</summary>\n",
    "    \n",
    "## Solution:    \n",
    "* epochs: hyperparameter that defines the number of times that the learning algorithm will work through the entire training dataset\n",
    "* batch size: total number of training examples present in a single batch, batch: dataset divided into number of batches for calculation\n",
    "\n",
    "</details>"
   ]
  },
  {
   "cell_type": "markdown",
   "metadata": {
    "id": "MF98lj9VZUT_"
   },
   "source": [
    "# Task 8\n",
    "## Task 8.1\n",
    "\n",
    "Convolutional Neural Networks contain layers in which activity is calculated using discrete convolution.\n",
    "\n",
    "Given is filter b\n",
    "\n",
    "$$b = \\begin{bmatrix} -1 &  1 \\\\ 1 & -1 \\end{bmatrix}$$\n",
    "\n",
    "and as input the image f\n",
    "\n",
    "$$f = \\begin{bmatrix} 0 & 0.1 & 0.5 \\\\ 0 & 0.7 & 0.2 \\\\ 0.9 & 0.2 & 0 \\end{bmatrix}$$\n",
    "\n",
    "Calculate the result of the discrete convolution. To do this, use the activation function f with:\n",
    "\n",
    "$$f(x) = max(x, 0)$$"
   ]
  },
  {
   "cell_type": "markdown",
   "metadata": {
    "id": "a0saU1QLaP6H"
   },
   "source": [
    "<details><summary>Click here for the solution</summary>\n",
    "    \n",
    "## Solution:    \n",
    "\n",
    "Calculation steps:\n",
    "    \n",
    "<ol>\n",
    "    <li> Step: $$f(-1 * 0 + 1 * 0.1 + 1 * 0 -1 * 0.7) = f(-0.6) = 0 $$ </li>\n",
    "    <li> Step: $$f(-1 * 0.1 + 1 * 0.5 + 1 * 0.7 - 1 * 0.2) = f(-0.1 + 0.5 + 0.7 - 0.2) = f(0.9) = 0.9$$ </li>\n",
    "    <li> Step: $$f(-1 * 0 + 1 * 0.7 + 1 * 0.9 - 1 * 0.2) = f(0.7 + 0.9 - 0.2) = f(1.4) = 1.4$$ </li>\n",
    "    <li> Step: $$f(-1 * 0.7 + 1 * 0.2 + 1 * 0.2 - 1 * 0) = f(-0.7 + 0.2 + 0.2) = f(-0.3) = 0$$ </li>\n",
    "</ol>\n",
    "\n",
    "Result:\n",
    "\n",
    "$$\\begin{bmatrix} 0 & 0.9 \\\\ 1.4 & 0 \\end{bmatrix}$$\n",
    "    \n",
    "</div>\n",
    "\n",
    "</details>"
   ]
  },
  {
   "cell_type": "markdown",
   "metadata": {
    "id": "fLp1oCmTad_q"
   },
   "source": [
    "For which feature could the filter be responsible?"
   ]
  },
  {
   "cell_type": "markdown",
   "metadata": {
    "id": "cRfPaHiGag6n"
   },
   "source": [
    "<details><summary>Click here for the solution</summary>\n",
    "    \n",
    "## Solution:    \n",
    "    \n",
    "The filter can recognize white, diagonal lines on a picture.\n",
    "\n",
    "</details>"
   ]
  },
  {
   "cell_type": "markdown",
   "metadata": {
    "id": "g03kp8mkbgOR"
   },
   "source": [
    "## Task 8.2\n",
    "Develop a filter with a height and width of 3 which is capable of detecting vertical edges"
   ]
  },
  {
   "cell_type": "code",
   "execution_count": null,
   "metadata": {
    "id": "HRCsaGzAbiGN"
   },
   "outputs": [],
   "source": [
    "import cv2\n",
    "from PIL import Image\n",
    "\n",
    "\n",
    "def convolve(img, kernel):\n",
    "    img_w, img_h = img.shape\n",
    "    ker_w, ker_h = kernel.shape\n",
    "    \n",
    "    # Add a padding to make sure that the original shape is maintained.\n",
    "    pad = (ker_w - 1) // 2\n",
    "    img_pad = cv2.copyMakeBorder(img, pad, pad, pad, pad, cv2.BORDER_REPLICATE)\n",
    "    \n",
    "    # Create the output matrix\n",
    "    output = np.zeros((img_w, img_h), dtype=\"float32\")\n",
    "    \n",
    "    # Compute the convolution.\n",
    "    for i in range(img_w):\n",
    "        for j in range(img_h):\n",
    "            output[i][j] = np.sum(img_pad[i:i+ker_w, j:j+ker_h]*kernel)\n",
    "    \n",
    "    return output\n",
    "\n",
    "img = cv2.imread(img_source, cv2.IMREAD_GRAYSCALE)\n",
    "\n",
    "# Change the filter here.\n",
    "kernel = np.asarray([[-1, -1, 1],\n",
    "                     [-1, -1, 1],\n",
    "                     [-1, -1, 1]])\n",
    "\n",
    "# Compute the feature map.\n",
    "convolved = convolve(img, kernel)\n",
    "\n",
    "plt.imshow(img, cmap='gray', interpolation='nearest', vmin=0, vmax=255)\n",
    "plt.show()\n",
    "\n",
    "plt.imshow(convolved, cmap='gray', interpolation='nearest', vmin=0, vmax=255)\n",
    "plt.show()\n",
    "print(convolved)"
   ]
  },
  {
   "cell_type": "markdown",
   "metadata": {
    "id": "h2KPM9J4bnsJ"
   },
   "source": [
    "<details><summary>Click here for the solution</summary>\n",
    "    \n",
    "## Solution:    \n",
    "    \n",
    "```python\n",
    "# Vertical\n",
    "kernel = np.asarray([[-1, 0, +1],\n",
    "                     [-1, 0, +1],\n",
    "                     [-1, 0, +1]])\n",
    "\n",
    "# vertical.\n",
    "kernel = np.asarray([[-1, -1, 1],\n",
    "                     [-1, -1, 1],\n",
    "                     [-1, -1, 1]])\n",
    "\n",
    "# horizontal.\n",
    "kernel = np.asarray([[+1, +1, +1],\n",
    "                     [ 0,  0,  0],\n",
    "                     [-1, -1, -1]])\n",
    "\n",
    "```\n",
    "\n",
    "</details>"
   ]
  },
  {
   "cell_type": "markdown",
   "metadata": {
    "id": "YFyuL0uNb7sG"
   },
   "source": [
    "In addition, Convolutional Neural Networks contain so-called pooling layers. Unnecessary information is discarded here.\n",
    "Calculate the output of a 2x2 Max Pooling Layer for the following input:\n",
    "\n",
    "$$\\begin{bmatrix} 0.8 & 0.2 & 0.4 & 0.2\\\\ 0.9 & 0.5 & -0.4 & 0.2 \\\\ 0.1 & 0.1 & -0.6 & -0.4 \\\\ -0.2 & 0.9 & -0.3 & 0.6 \\end{bmatrix}$$"
   ]
  },
  {
   "cell_type": "markdown",
   "metadata": {
    "id": "fQgNdJuQcKAi"
   },
   "source": [
    "<details><summary>Click here for the solution</summary>\n",
    "    \n",
    "## Solution:    \n",
    "    \n",
    "\n",
    "\n",
    "$$\\begin{bmatrix} 0.9 & 0.4 \\\\ 0.9 & 0.6 \\end{bmatrix}$$\n",
    "\n",
    "</details>"
   ]
  },
  {
   "cell_type": "markdown",
   "metadata": {
    "id": "sMpHRQHncUue"
   },
   "source": [
    "The following shows how to implement a Convolutional Neural Network using Keras."
   ]
  },
  {
   "cell_type": "code",
   "execution_count": null,
   "metadata": {
    "id": "Rr3IoeYKcAe_"
   },
   "outputs": [],
   "source": [
    "from keras import backend as K\n",
    "from keras.layers import Dense, Dropout, Flatten\n",
    "from keras.layers import Conv2D, MaxPooling2D\n",
    "\n",
    "if K.image_data_format() == 'channels_first':\n",
    "    x_train_reshaped = x_train.reshape(x_train.shape[0], 1, img_rows, img_cols)\n",
    "    x_test_reshaped = x_test.reshape(x_test.shape[0], 1, img_rows, img_cols)\n",
    "    input_shape = (1, img_rows, img_cols)\n",
    "else:\n",
    "    x_train_reshaped = x_train.reshape(x_train.shape[0], img_rows, img_cols, 1)\n",
    "    x_test_reshaped = x_test.reshape(x_test.shape[0], img_rows, img_cols, 1)\n",
    "    input_shape = (img_rows, img_cols, 1)\n",
    "\n",
    "x_train_reshaped = normalize_data(x_train_reshaped)\n",
    "x_test_reshaped = normalize_data(x_test_reshaped)\n",
    "\n",
    "# train with less data (takes too long otherwise)\n",
    "x_train_small = x_train_reshaped[:6000,:]\n",
    "y_train_small = y_train_one_hot[:6000,:]\n",
    "print(x_train_small.shape)\n",
    "\n",
    "model = Sequential()\n",
    "model.add(Conv2D(32, kernel_size=(5, 5),\n",
    "                 activation='relu',\n",
    "                 input_shape=input_shape))\n",
    "model.add(Conv2D(64, (5, 5), activation='relu'))\n",
    "model.add(MaxPooling2D(pool_size=(2, 2)))\n",
    "model.add(Dropout(0.25))\n",
    "model.add(Flatten())\n",
    "model.add(Dense(128, activation='relu'))\n",
    "model.add(Dropout(0.5))\n",
    "model.add(Dense(num_classes, activation='softmax'))\n",
    "model.summary()\n",
    "\n",
    "model.compile(\n",
    "    optimizer=\"adadelta\",\n",
    "    loss='categorical_crossentropy',\n",
    "    metrics=['acc'])\n",
    "\n",
    "history = fit_model(model, x_train_small, y_train_small)\n",
    "evaluate_model(model, history, x_test_reshaped, y_test_one_hot)"
   ]
  },
  {
   "cell_type": "markdown",
   "metadata": {
    "id": "eeXm_WgEcdWy"
   },
   "source": [
    "Apply the model"
   ]
  },
  {
   "cell_type": "code",
   "execution_count": null,
   "metadata": {
    "id": "FbO0PjIrcfZe"
   },
   "outputs": [],
   "source": [
    "input_form = \"\"\"\n",
    "<table>\n",
    "<td style=\"border-style: none;\">\n",
    "<div style=\"border: solid 2px #666; width: 143px; height: 144px;\">\n",
    "<canvas width=\"140\" height=\"140\"></canvas>\n",
    "</div></td>\n",
    "<td style=\"border-style: none;\">\n",
    "<button onclick=\"clear_value()\">Clear</button>\n",
    "<button onclick=\"classify_digit()\">Classify</button>\n",
    "</td>\n",
    "</table>\n",
    "\"\"\"\n",
    "\n",
    "javascript = '''\n",
    "<script type=\"text/Javascript\">\n",
    "    var pixels = [];\n",
    "    for (var i = 0; i < 28*28; i++) pixels[i] = 0;\n",
    "    var click = 0;\n",
    "\n",
    "    var canvas = document.querySelector(\"canvas\");\n",
    "    canvas.addEventListener(\"mousemove\", function(e){\n",
    "        if (e.buttons == 1) {\n",
    "            click = 1;\n",
    "            canvas.getContext(\"2d\").fillStyle = \"rgb(0,0,0)\";\n",
    "            canvas.getContext(\"2d\").fillRect(e.offsetX, e.offsetY, 8, 8);\n",
    "            x = Math.floor(e.offsetY * 0.2);\n",
    "            y = Math.floor(e.offsetX * 0.2) + 1;\n",
    "            for (var dy = 0; dy < 2; dy++){\n",
    "                for (var dx = 0; dx < 2; dx++){\n",
    "                    if ((x + dx < 28) && (y + dy < 28)){\n",
    "                        pixels[(y+dy)+(x+dx)*28] = 1;\n",
    "                    }\n",
    "                }\n",
    "            }\n",
    "        } else {\n",
    "            if (click == 1) set_value();\n",
    "            click = 0;\n",
    "        }\n",
    "    });\n",
    "    \n",
    "    function set_value(){\n",
    "        var result = \"\";\n",
    "        for (var i = 0; i < 28*28; i++) result += pixels[i] + \",\";\n",
    "        var kernel = IPython.notebook.kernel;\n",
    "        kernel.execute(\"image = [\" + result + \"]\");\n",
    "    }\n",
    "    \n",
    "    function clear_value(){\n",
    "        canvas.getContext(\"2d\").fillStyle = \"rgb(255,255,255)\";\n",
    "        canvas.getContext(\"2d\").fillRect(0, 0, 140, 140);\n",
    "        for (var i = 0; i < 28*28; i++) pixels[i] = 0;\n",
    "    }\n",
    "    \n",
    "    function classify_digit() {\n",
    "        IPython.notebook.execute_cells([IPython.notebook.get_selected_index()+1])\n",
    "    }\n",
    "</script>\n",
    "'''\n",
    "\n",
    "from IPython.display import HTML\n",
    "HTML(input_form + javascript)"
   ]
  },
  {
   "cell_type": "markdown",
   "metadata": {
    "id": "aLGuHuxAlKLR"
   },
   "source": [
    "The code below does currently not work in Colab. Try it in Jupyter. Or tell us your solution :). \n"
   ]
  },
  {
   "cell_type": "code",
   "execution_count": null,
   "metadata": {
    "id": "gO2bLjgpcixI"
   },
   "outputs": [],
   "source": [
    "img_array = np.array(image)\n",
    "img_array = img_array.reshape(1, 28, 28, 1)\n",
    "predictions = model.predict(img_array)\n",
    "\n",
    "%matplotlib inline \n",
    "fig = plt.figure(figsize=(4,2))\n",
    "subplot = fig.add_subplot(1,1,1)\n",
    "subplot.set_xticks(range(10))\n",
    "subplot.set_xlim(-0.5,9.5)\n",
    "subplot.set_ylim(0,1)\n",
    "subplot.bar(range(10), predictions[0], align='center')\n",
    "fig.show()"
   ]
  },
  {
   "cell_type": "markdown",
   "metadata": {
    "id": "1Dni5uI-cmd2"
   },
   "source": [
    "Note: The code with the Convolutional Neural Network must be executed first, so that this sign will work."
   ]
  },
  {
   "cell_type": "code",
   "execution_count": null,
   "metadata": {
    "id": "39ntH5_JckXd"
   },
   "outputs": [],
   "source": []
  }
 ],
 "metadata": {
  "colab": {
   "collapsed_sections": [],
   "name": "exercise_en.ipynb",
   "provenance": []
  },
  "kernelspec": {
   "display_name": "Python 3 (ipykernel)",
   "language": "python",
   "name": "python3"
  },
  "language_info": {
   "codemirror_mode": {
    "name": "ipython",
    "version": 3
   },
   "file_extension": ".py",
   "mimetype": "text/x-python",
   "name": "python",
   "nbconvert_exporter": "python",
   "pygments_lexer": "ipython3",
   "version": "3.8.8"
  },
  "varInspector": {
   "cols": {
    "lenName": 16,
    "lenType": 16,
    "lenVar": 40
   },
   "kernels_config": {
    "python": {
     "delete_cmd_postfix": "",
     "delete_cmd_prefix": "del ",
     "library": "var_list.py",
     "varRefreshCmd": "print(var_dic_list())"
    },
    "r": {
     "delete_cmd_postfix": ") ",
     "delete_cmd_prefix": "rm(",
     "library": "var_list.r",
     "varRefreshCmd": "cat(var_dic_list()) "
    }
   },
   "types_to_exclude": [
    "module",
    "function",
    "builtin_function_or_method",
    "instance",
    "_Feature"
   ],
   "window_display": false
  }
 },
 "nbformat": 4,
 "nbformat_minor": 1
}
