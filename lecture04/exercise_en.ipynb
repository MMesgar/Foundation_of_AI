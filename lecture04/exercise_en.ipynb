{
  "nbformat": 4,
  "nbformat_minor": 0,
  "metadata": {
    "colab": {
      "name": "exercise_en.ipynb",
      "provenance": []
    },
    "kernelspec": {
      "name": "python3",
      "display_name": "Python 3"
    },
    "language_info": {
      "name": "python"
    }
  },
  "cells": [
    {
      "cell_type": "markdown",
      "source": [
        "# Exercise: Uniformed Search\n",
        "\n",
        "Version: SoSe 2022\n",
        "\n",
        "Estimated time needed: 90 minutes\n",
        "\n",
        "Author: Mohamed Abdelmagied\n",
        "______"
      ],
      "metadata": {
        "id": "6jTOupXtlKEq"
      }
    },
    {
      "cell_type": "markdown",
      "source": [
        "# Objectives\n",
        "\n",
        "After completing this exercise you will be able to:\n",
        "\n",
        " - Draw a state graph and use it to analyze the state space of a problem\n",
        " - use uninformed search algorithms to find possible solutions within the state space of a problem\n",
        " -understand runtime complexity and use it to analyze different algorithms\n",
        " -implement BFS, DFS, and iterative deepening in python"
      ],
      "metadata": {
        "id": "IHuJsugrla2Y"
      }
    },
    {
      "cell_type": "markdown",
      "source": [
        "# Task 1\n",
        "\n",
        "According to Russel and Norvig, Algorithm performance is evaluated in four ways. Name these four methods (Russel and Norvig English version: Page 71)"
      ],
      "metadata": {
        "id": "_Sw8Q8VPp-OP"
      }
    },
    {
      "cell_type": "markdown",
      "source": [
        "<details><summary>Click here for the solution</summary>\n",
        "\n",
        "- Completeness: Is the algorithm guaranteed to find a solution when there is one?\n",
        "- Optimality: Does the strategy find the optimal solution?\n",
        "- Time complexity: How long does it take to find a solution?\n",
        "- Space complexity: How much memory is needed to perform the search?\n",
        "\n",
        "</details>"
      ],
      "metadata": {
        "id": "5GAK8wLJrRUT"
      }
    },
    {
      "cell_type": "markdown",
      "source": [
        "# Task 2\n",
        "\n",
        "Choose the correct answer (Russel and Norvig English version: page 75)\n",
        "\n",
        "_____________________ expands the node n with the **lowest path cost**\n",
        "\n",
        "\n",
        "1. Breadth-First Search\n",
        "2. Uniform-cost search\n",
        "3. Depth First Search\n"
      ],
      "metadata": {
        "id": "pGPaoUPmr8rY"
      }
    },
    {
      "cell_type": "markdown",
      "source": [
        "<details><summary>Click here for the solution</summary>\n",
        "\n",
        "- Correct: Uniform-cost search\n",
        "- wrong: BFS expands the shallowest node and DFS expands the deepest node\n",
        "\n",
        "</details>"
      ],
      "metadata": {
        "id": "6LL7BnFZtGDD"
      }
    },
    {
      "cell_type": "markdown",
      "source": [
        "# Task 3\n",
        "\n",
        "Russel and Norvig introduces depth-limited search as an alternative to Depth-first search to solve the infinite path problem(Page 77). Solve the following question:\n",
        "\n",
        "1. Is a depth-limited search problem always complete?\n",
        "2. How many nodes are expanded in depth-limited search at limit=d in the worst case? (Do not use O-Notation)"
      ],
      "metadata": {
        "id": "6rcyX5LWtwx5"
      }
    },
    {
      "cell_type": "markdown",
      "source": [
        "<details><summary>Click here for the solution</summary>\n",
        "\n",
        "1. No, it is not always complete because if we chose a limit $l<d$ such that d is the depth at which the goal state exists, the algorithm will terminate before reaching the goal state\n",
        "\n",
        "2. Using the equation from the lecture the depth in the worst case would be d and taking the branching factor to be b.\n",
        "\n",
        "Answer: 1+b+$b^2$+$b^3$+...+$b^d$\n",
        "\n",
        "</details>"
      ],
      "metadata": {
        "id": "ZcXcse1lvCOc"
      }
    },
    {
      "cell_type": "markdown",
      "source": [
        "# Task 4.1\n",
        "\n",
        "You want to measure exactly one liter of water, but only have two buckets available that hold 5 and 3 liters of water. Formulate the problem as a search, i.e. formulate the state space (states), initial state, goal, possible actions, and the successor function. Draw the state graph. Ignore transitions that remain in the same state, e.g. Empty an empty bucket."
      ],
      "metadata": {
        "id": "KbCvh9dIp_hF"
      }
    },
    {
      "cell_type": "markdown",
      "source": [
        "<details><summary>Click here for the solution</summary>\n",
        "\n",
        "- Representation of states: how much water has been filled in both buckets. The first number is how much water is in the 5-litre bucket, the second number is how much water is in the 3-litre bucket. \n",
        "  * If both buckets are empty: (0,0)\n",
        "  * If both buckets are full: (5,3)\n",
        "- Initial state: (0,0)\n",
        "- Target state: (x,1) or (1,x)\n",
        "- Actions: When transferring water from one bucket to another, some of the water can be retained in the previous bucket (thus, not all of its water is transferred to the next bucket), or it may also overflow.\n",
        "  * Filling: (5,0), (0,3), (5,3)\n",
        "  * Emptying: (-5,0), (0,-3), (-5,-3)\n",
        "  * Transferring: (vol_1 + vol_2, -vol_2), (-vol_1, vol_2 + vol_1)\n",
        "- Successor function: State + Action = State\n",
        "-possible solution of state graph:\n",
        "\n",
        "![Bild](https://raw.githubusercontent.com/MMesgar/Foundation_of_AI/master/lecture04/images/waterBuckets.jpg)\n",
        "\n",
        "</details>"
      ],
      "metadata": {
        "id": "8FrlfVwXqi27"
      }
    },
    {
      "cell_type": "markdown",
      "source": [
        "# Task 4.2\n",
        "\n",
        "Given the problem description by the map of Romania. You want to travel from Fagaras to Pitesti. The initial state and the goal state must be adjusted accordingly.\n",
        "1. Note the possible order of the nodes you create with Breadth-first search and expand until you find a path.\n",
        "2. Note the possible order of the nodes that you create with Depth-first search and expand until you find a path.\n",
        "\n",
        "![](https://raw.githubusercontent.com/MMesgar/Foundation_of_AI/master/lecture04/images/Karte_Romania.png)"
      ],
      "metadata": {
        "id": "esAr4yGk03_u"
      }
    },
    {
      "cell_type": "markdown",
      "source": [
        "<details><summary>Click here for the solution</summary>\n",
        "\n",
        "1. **Possible solution**: Fagaras, Sibiu, Bucharest, Oradea, Arad, Rimnicu Vilcea, Pitesti\n",
        "2.  **Possible solution**: Fagaras, Bucharest, Pitesti\n",
        "\n",
        "</details>"
      ],
      "metadata": {
        "id": "NRZDuXrJ1wEP"
      }
    },
    {
      "cell_type": "markdown",
      "source": [
        "#Task 5: O-Notation"
      ],
      "metadata": {
        "id": "1LLyOMJz2bR7"
      }
    },
    {
      "cell_type": "markdown",
      "source": [
        "#Task 5.1\n",
        "\n",
        "Provide an estimate of the runtime complexity that is as accurate as possible.\n",
        "\n",
        "|Equation    |              O(?)     \n",
        "|:-|:-|\n",
        "|111|\n",
        "|56n + 7426265|\n",
        "|$(56n+4n)^2$+$n^3$|\n",
        "|logn + logloglogn|"
      ],
      "metadata": {
        "id": "PLnUeFlw2gr-"
      }
    },
    {
      "cell_type": "markdown",
      "source": [
        "<details><summary>Click here for the solution</summary>\n",
        "\n",
        "Equation           |       O(?)     \n",
        "-------------------|-------------------             \n",
        "111                |       O(1)     \n",
        "56n + 7426265      |       O(n)     \n",
        "$(56n+4n)^2$ +$n^3$|       O($n^3$) \n",
        "logn + logloglogn  |       O(logn)\n",
        " \n",
        "</details>"
      ],
      "metadata": {
        "id": "ABxPwA4h3SnC"
      }
    },
    {
      "cell_type": "markdown",
      "source": [
        "# Task 5.2\n",
        "\n",
        "Given the following python code. Can you deduce its runtime complexity?\n",
        "\n",
        "```python\n",
        "def foo(n):\n",
        "  if n<=1:\n",
        "    return 1\n",
        "  return foo(n-1)+foo(n-1)\n",
        "  ```"
      ],
      "metadata": {
        "id": "n7bzk3a1-Vtv"
      }
    },
    {
      "cell_type": "markdown",
      "source": [
        "<details><summary>Click here for the solution</summary>\n",
        "\n",
        "The algorithm basically \"touches\" on each node in a recursive tree once and produces its children which are two for each node other than the leaves. So if there are x nodes in the recursive tree the complexity would be\n",
        "O(x). So now we need some function that maps that parameter n to the number of nodes of the tree \n",
        "we can consider the recursive tree of this function at n=4:\n",
        "\n",
        "![](https://raw.githubusercontent.com/MMesgar/Foundation_of_AI/master/lecture04/images/recursiveTree.jpg)\n",
        "\n",
        "The tree would have depth n and each node will have 2 children, this means that each level would have twice as many nodes as the previous level\n",
        "This means for the first level we would have 1 node or $2^0$. In the second level we would have 2 nodes($2^1$) for the third there would be 4($2^2$) and so on. If we sum up the nodes from all layers we would have $2^0$+$2^1$+$2^2$+...+$2^(n-1)$=$2^n$. Therefore, the runtime complexity will be O($2^n$).\n",
        "\n",
        "\n",
        "\n",
        "\n",
        "\n",
        "</details>"
      ],
      "metadata": {
        "id": "CylU8qYj_EXA"
      }
    },
    {
      "cell_type": "markdown",
      "source": [
        "# Task 6.1\n",
        "\n",
        "In the 8 queens problem, 8 queens should be placed on the board in such a way that they cannot beat each other. Implement with the given representation of the board a test whether a selected queen is in conflict with others or not. We simplify to 5 queens"
      ],
      "metadata": {
        "id": "mEajGWuDFRUV"
      }
    },
    {
      "cell_type": "markdown",
      "source": [
        "8 queens problem:\n",
        "\n",
        "\n",
        "![](https://raw.githubusercontent.com/MMesgar/Foundation_of_AI/master/lecture04/images/eight_queens.png)"
      ],
      "metadata": {
        "id": "cojddqRuFcSz"
      }
    },
    {
      "cell_type": "code",
      "source": [
        "import random\n",
        "\n",
        "\n",
        "#A function that formats the board correctly when printing it \n",
        "def print_board(board):\n",
        "    #Write your code here\n",
        "\n",
        "    return -1\n",
        "\n",
        "\n",
        "#Give the column of the queen that is positioned in the given row\n",
        "def get_queen_col(board, row):\n",
        "  \n",
        "    for i in range(len(board[row])):\n",
        "      #Uncomment the if statement and enter the indices for the position to be checked\n",
        "      #if board[][] == 1:\n",
        "        \n",
        "        #return the column where the queen is found\n",
        "        return -1\n",
        "      \n",
        "\n",
        "#Check if the tile in row and col actually exists \n",
        "#(Use it to prevent IndexOutOfBoundsExceptions when checking lines)\n",
        "def valid_tile(board, row, col):\n",
        "\n",
        "    #Assign the number of rows and columns\n",
        "    num_rows = None\n",
        "    num_cols = None\n",
        "    \n",
        "    #Assign a boolean expression to check the validity of row and col\n",
        "    valid_row = None\n",
        "    valid_col = None\n",
        "    \n",
        "    #Return a boolean expression that validates row and col\n",
        "    return -1 \n",
        "\n",
        "\n",
        "#Check a line for other queens\n",
        "def check_line(board, row, col, dir_x, dir_y):\n",
        "    while valid_tile(board, row + dir_y, col + dir_x):\n",
        "        #update row with the corresponding direction parameter\n",
        "        row = None\n",
        "        #update col with the corresponding direction parameter\n",
        "        col = None\n",
        "        \n",
        "        print(\"Checking position ({:d}, {:d})\".format(row, col))\n",
        "        #uncomment the if statement and enter the position to be checked(Do not uncomment the line above the return statement)\n",
        "        #if board[][] == 1:\n",
        "            #print(\"Found conflict at position ({:d}, {:d})\".format(row, col))\n",
        "\n",
        "            #return a boolean value for found conflict\n",
        "            #return -1\n",
        "\n",
        "    #return a boolean value for no conflict found    \n",
        "    return -1\n",
        "\n",
        "\n",
        "#Check if the queen's position is actually valid\n",
        "def is_valid_position(board, row):\n",
        "    #Get the queens's column\n",
        "    col = None\n",
        "    \n",
        "    #write an if statement to check the queen's column for conflicts\n",
        "    \n",
        "    \n",
        "    #write an if statement to check the first diagonal for conflicts\n",
        "    \n",
        "    \n",
        "    #write an if statement to check the second diagonal for conflicts\n",
        "    \n",
        "    #modify return statement for no conflicts found\n",
        "    return -1\n",
        "\n",
        "\n",
        "size = 5\n",
        "board = [[0 for i in range(size)] for j in range(size)]\n",
        "for i in range(size):\n",
        "    j = random.randint(0, size-1)\n",
        "    board[i][j] = 1\n",
        "\n",
        "\"\"\"\n",
        "1. Schritt\n",
        "0. [0, 0, 0, 0, 0]\n",
        "1. [0, 0, 0, 0, 0]\n",
        "2. [0, 0, 0, 0, 0]\n",
        "3. [0, 0, 0, 0, 0]\n",
        "4. [0, 0, 0, 0, 0]\n",
        "\n",
        "2. Schritt\n",
        "\"1\" wird zufällig platziert/\"1\" is randomly placed\n",
        "\"\"\"\n",
        "    \n",
        "    \n",
        "print_board(board)\n",
        "print(\"Valid position?\", is_valid_position(board, 2))"
      ],
      "metadata": {
        "id": "PY2I01bDFwzG"
      },
      "execution_count": null,
      "outputs": []
    },
    {
      "cell_type": "markdown",
      "source": [
        "<details><summary>Click here for the solution</summary>\n",
        "\n",
        "```python\n",
        "import random\n",
        "\n",
        "\n",
        "#A function that formats the board correctly when printing it \n",
        "def print_board(board):\n",
        "    for row in board:\n",
        "        print(row)\n",
        "\n",
        "\n",
        "#Give the column of the queen that is positioned in the given row\n",
        "def get_queen_col(board, row):\n",
        "    for i in range(len(board[row])):\n",
        "        if board[row][i] == 1:\n",
        "            return i\n",
        "        \n",
        "\n",
        "#Check if the tile in row and col actually exists \n",
        "#(Use it to prevent IndexOutOfBoundsExceptions when checking lines)\n",
        "def valid_tile(board, row, col):\n",
        "    num_rows = len(board)\n",
        "    num_cols = len(board[0])\n",
        "    \n",
        "    valid_row = row >= 0 and row < num_rows\n",
        "    valid_col = col >= 0 and col < num_cols\n",
        "    \n",
        "    return  valid_row and valid_col \n",
        "\n",
        "\n",
        "#Check a line for other queens\n",
        "def check_line(board, row, col, dir_x, dir_y):\n",
        "    while valid_tile(board, row + dir_y, col + dir_x):\n",
        "        row += dir_y\n",
        "        col += dir_x\n",
        "        \n",
        "        print(\"Checking position ({:d}, {:d})\".format(row, col))\n",
        "        if board[row][col] == 1:\n",
        "            print(\"Found conflict at position ({:d}, {:d})\".format(row, col))\n",
        "            return True\n",
        "        \n",
        "    return False\n",
        "\n",
        "\n",
        "#Check if the queen's position is actually valid\n",
        "def is_valid_position(board, row):\n",
        "    col = get_queen_col(board, row)\n",
        "    \n",
        "    #Check the queen's column\n",
        "    if check_line(board, row, col, 0, 1) or check_line(board, row, col, 0, -1):\n",
        "        return False\n",
        "    \n",
        "    #Check the first diagonal line\n",
        "    if check_line(board, row, col, -1, -1) or check_line(board, row, col, 1, 1):\n",
        "        return False\n",
        "    \n",
        "    #Check the second diagonal line\n",
        "    if check_line(board, row, col, -1, 1) or check_line(board, row, col, 1, -1):\n",
        "        return False\n",
        "    \n",
        "    return True\n",
        "\n",
        "\n",
        "size = 5\n",
        "board = [[0 for i in range(size)] for j in range(size)]\n",
        "for i in range(size):\n",
        "    j = random.randint(0, size-1)\n",
        "    board[i][j] = 1\n",
        "\n",
        "\"\"\"\n",
        "1. Schritt\n",
        "0. [0, 0, 0, 0, 0]\n",
        "1. [0, 0, 0, 0, 0]\n",
        "2. [0, 0, 0, 0, 0]\n",
        "3. [0, 0, 0, 0, 0]\n",
        "4. [0, 0, 0, 0, 0]\n",
        "\n",
        "2. Schritt\n",
        "\"1\" wird zufällig platziert/\"1\" is randomly placed\n",
        "\"\"\"\n",
        "    \n",
        "    \n",
        "print_board(board)\n",
        "print(\"Valid position?\", is_valid_position(board, 2))\n",
        "```\n",
        "\n",
        "</details>"
      ],
      "metadata": {
        "id": "T0NU4Uy1M9LA"
      }
    },
    {
      "cell_type": "markdown",
      "source": [
        "# Task 6.2\n",
        "\n",
        "Below you will find code for Breadth-first search and Depth-first search. A search space is defined and then the two search strategies are applied to the problem.\n",
        "* What are the results of the two strategies?\n",
        "* After each iteration, let each stack or queue be output. Go through the output step by step and make sure you understand the algorithm.\n",
        "* Compare: how often is the main loop (Time Complexity) run through? How many nodes are kept in memory at maximum (Space Complexity)?\n",
        "* Now experiment with different target nodes and compare the differences."
      ],
      "metadata": {
        "id": "M8i40QGSNw5O"
      }
    },
    {
      "cell_type": "code",
      "source": [
        "import collections\n",
        "\n",
        "def bfs(graph, root, goal):\n",
        "    seen = set([root])\n",
        "    queue = collections.deque([root])\n",
        "    while queue:\n",
        "        print(\"Queue: \", queue)\n",
        "        vertex = queue.popleft()\n",
        "        print(\"Expand: \", vertex)\n",
        "        if vertex == goal:\n",
        "            break\n",
        "        for node in graph[vertex]:\n",
        "            if node not in seen:\n",
        "                seen.add(node)\n",
        "                queue.append(node)\n",
        "\n",
        "def dfs(graph, root, goal):\n",
        "    seen = set([root])\n",
        "    stack = [root]\n",
        "    while stack:\n",
        "        print(\"Stack: \", stack)\n",
        "        vertex = stack.pop()\n",
        "        print(\"Expand: \", vertex)\n",
        "        if vertex == goal:\n",
        "            break\n",
        "        for node in graph[vertex]:\n",
        "            if node not in seen:\n",
        "                seen.add(node)\n",
        "                stack.append(node)\n",
        "\n",
        "graph = {1: [2, 3], 2: [4, 5], 3: [6,7,8], 4: [], 5: [], 6: [], 7: [], 8: []} \n",
        "\n",
        "print(\"BFS\")\n",
        "bfs(graph, 1, 8)\n",
        "print()\n",
        "print(\"DFS\")\n",
        "dfs(graph, 1, 8)"
      ],
      "metadata": {
        "id": "a9kD9fb6O8e2"
      },
      "execution_count": null,
      "outputs": []
    },
    {
      "cell_type": "markdown",
      "source": [
        "At the target node 8:\n",
        "\n",
        "1. What are the results of both strategies?\n",
        "2. Compare how often the main for-loop is executed in both cases (time complexity). How many nodes are kept in the memory at most?\n"
      ],
      "metadata": {
        "id": "pPLCCovTPRRy"
      }
    },
    {
      "cell_type": "markdown",
      "source": [
        "<details><summary>Click here for the solution</summary>\n",
        "\n",
        "1. BFS = 1,2,3,4,5,6,7,8; DFS = 1,3,8\n",
        "2. BFS(time) = 8, BFS(space) = 5; DFS(time) = 3, DFS(space) = 4\n",
        "\n",
        "</details>"
      ],
      "metadata": {
        "id": "IDWUzo4SP0Q6"
      }
    },
    {
      "cell_type": "markdown",
      "source": [
        "### Example from Lecture"
      ],
      "metadata": {
        "id": "D17Kl77xQaOv"
      }
    },
    {
      "cell_type": "code",
      "source": [
        "graphFromLecture = {\n",
        "    \"A\": [\"B\",\"C\"],\n",
        "    \"B\": [\"D\",\"E\"],\n",
        "    \"C\": [\"F\",\"G\"],\n",
        "    \"D\": [\"H\",\"I\"],\n",
        "    \"E\": [\"J\",\"K\"],\n",
        "    \"F\": [], \"G\": [], \"H\": [], \"I\": [], \"J\": [], \"K\": []\n",
        "} \n",
        "\n",
        "print(\"DFS\")\n",
        "dfs(graphFromLecture, \"A\", \"K\")"
      ],
      "metadata": {
        "id": "KpkbSFQ9Qgjb"
      },
      "execution_count": null,
      "outputs": []
    },
    {
      "cell_type": "markdown",
      "source": [
        "#Task 6.3\n",
        "\n",
        "What do you need to change to implement iterative deepening?"
      ],
      "metadata": {
        "id": "_Jor8FwfSOhA"
      }
    },
    {
      "cell_type": "code",
      "source": [
        "def iterative_deepening(graph, root, goal, limit):\n",
        "    print(\"----------- Limit:\", limit, \"-----------\")\n",
        "    seen = set([root])\n",
        "    stack = [root]\n",
        "    depth = 0\n",
        "    directory = None # keeps track of nodes and their depth(Initialize the directory with the root at depth 0)\n",
        "    while stack:\n",
        "        print(\"Stack: \", stack)\n",
        "        vertex = stack.pop()\n",
        "        print(\"Expand: \", vertex)\n",
        "        monitoring = None #specify the list of the nodes at the current depth\n",
        "        if vertex not in monitoring: # means that depth has changed (the search is going back up one level)\n",
        "            #change the value of depth accordingly\n",
        "            depth = None\n",
        "        if vertex == goal:\n",
        "            print(\"Gefunden bei Tiefe: \", depth)\n",
        "            break\n",
        "        if len(graph[vertex]) > 0 and depth < limit: # If the vertex has children and it can still afford to go a level deeper\n",
        "            for node in graph[vertex]:\n",
        "                if node not in seen:\n",
        "                    #add node to set of seen nodes\n",
        "                    \n",
        "                    #append node to stack\n",
        "                    \n",
        "                    if depth+1 not in directory.keys():\n",
        "                        #initialize the list of node on the new depth\n",
        "                        directory[depth+1] = None\n",
        "                    else:\n",
        "                        #add node to the list of nodes at the new depth\n",
        "                        directory[depth+1].add(None)\n",
        "        depth += 1\n",
        "    if vertex != goal: #last vertex in stack and goal was not found\n",
        "        print(\"Nicht gefunden.\")\n",
        "        #increment the limit\n",
        "        newlimit = None\n",
        "        #call the iterative deepening function with the new limit\n",
        "        \n",
        "print(\"Iterative Deepening\")\n",
        "iterative_deepening(graph, 1, 5, 0)"
      ],
      "metadata": {
        "id": "sLLlK8f2Sicq"
      },
      "execution_count": null,
      "outputs": []
    },
    {
      "cell_type": "markdown",
      "source": [
        "<details><summary>Click here for the solution</summary>\n",
        "\n",
        "```python\n",
        "def iterative_deepening(graph, root, goal, limit):\n",
        "    print(\"----------- Limit:\", limit, \"-----------\")\n",
        "    seen = set([root])\n",
        "    stack = [root]\n",
        "    depth = 0\n",
        "    directory = {0: {root}} # keeps track of nodes and their depth\n",
        "    while stack:\n",
        "        print(\"Stack: \", stack)\n",
        "        vertex = stack.pop()\n",
        "        print(\"Expand: \", vertex)\n",
        "        monitoring = directory[depth]\n",
        "        if vertex not in monitoring: # means that depth has changed (the search is going back up one level)\n",
        "            depth -= 1\n",
        "        if vertex == goal:\n",
        "            print(\"Gefunden bei Tiefe: \", depth)\n",
        "            break\n",
        "        if len(graph[vertex]) > 0 and depth < limit: # If the vertex has children and it can still afford to go a level deeper\n",
        "            for node in graph[vertex]:\n",
        "                if node not in seen:\n",
        "                    seen.add(node)\n",
        "                    stack.append(node)\n",
        "                    if depth+1 not in directory.keys():\n",
        "                        directory[depth+1] = {node}\n",
        "                    else:\n",
        "                        directory[depth+1].add(node)\n",
        "            depth += 1\n",
        "    if vertex != goal:\n",
        "        print(\"Nicht gefunden.\")\n",
        "        newlimit = limit + 1\n",
        "        iterative_deepening(graph, root, goal, newlimit)\n",
        "        \n",
        "print(\"Iterative Deepening\")\n",
        "iterative_deepening(graph, 1, 5, 0)\n",
        "``` \n",
        "\n",
        "</details>"
      ],
      "metadata": {
        "id": "RUzOPLFOrxQD"
      }
    },
    {
      "cell_type": "markdown",
      "source": [
        "Alternative approach using recursive DFS and without an explicit stack."
      ],
      "metadata": {
        "id": "CMTnlA6brMCU"
      }
    },
    {
      "cell_type": "code",
      "source": [
        "def dfs_alt(graph, current, goal, seen, depth):\n",
        "    \"\"\" Rekursive Variante der Tiefensuche \"\"\"\n",
        "    print(\"Check node\", current)\n",
        "    if current == goal:\n",
        "        return [goal]\n",
        "    seen.add(current)\n",
        "    \n",
        "    print(\"Remaining steps:\", depth)\n",
        "    \n",
        "    # Expand the current node\n",
        "    if depth > 0:\n",
        "        for node in graph[current]:\n",
        "            # print(seen)\n",
        "            print(\"Expand node:\", current, \"Next Nodes:\", graph[current], end=\" \")\n",
        "            if node not in seen:\n",
        "                path = dfs_alt(graph, node, goal, seen, depth-1)\n",
        "                if path:\n",
        "                    return [current] + path\n",
        "    return []\n",
        "        \n",
        "    \n",
        "def iddfs(graph, root, goal, max_depth):\n",
        "    \n",
        "    # Äußere Schleife, bei welcher die maximale Suchtiefe sukzessive erhöht wird\n",
        "    for i in range(0, max_depth+1):\n",
        "        print(\"NEXT ITERATION: Max depth\", i, \"#\"*20)\n",
        "        seen = set()\n",
        "        path = dfs_alt(graph, root, goal, seen,  i)\n",
        "        if path:\n",
        "            return path\n",
        "        print(\"####\")\n",
        "        \n",
        "print(\"\\nSolution path:\", iddfs(graph, 1, 5, 10))"
      ],
      "metadata": {
        "id": "tSuii8v8sMJ8"
      },
      "execution_count": null,
      "outputs": []
    },
    {
      "cell_type": "markdown",
      "source": [
        "\n",
        "## Thank you for completing this lab!\n",
        "\n",
        "______\n",
        "\n",
        "\n",
        "## Other Contributors\n",
        "\n",
        "N/A"
      ],
      "metadata": {
        "id": "jxMx0_zisjwR"
      }
    }
  ]
}