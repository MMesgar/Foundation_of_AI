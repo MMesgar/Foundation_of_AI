{
  "cells": [
    {
      "cell_type": "markdown",
      "metadata": {
        "id": "VCbb9gEpCv9Y"
      },
      "source": [
        "# Übung: Uninformierte Suche\n",
        "\n",
        "Stand: SoSe 2022\n",
        "\n",
        "Geschätzte benötigte Zeit: 60 Minuten\n",
        "\n",
        "Autor: Mohamed Abdelmagied\n",
        "\n",
        "Abgabe: Freitag, 13.05.2022 (23:55 Uhr)\n",
        "\n",
        "______"
      ]
    },
    {
      "cell_type": "markdown",
      "metadata": {
        "id": "eKFDohlR0TQK",
        "lang": "en"
      },
      "source": [
        "## Hausübung"
      ]
    },
    {
      "cell_type": "markdown",
      "metadata": {
        "id": "EA-Y0wYZ0Yq4"
      },
      "source": [
        "### Abgaberichtlinien\n",
        "* Jede Hausübung bringt maximal 10 Hausaufgabenpunkte. 10 Hausaufgabenpunkte entsprechen einem Klausurpunkt.\n",
        "* Im Laufe des Semesters kann es zusätzliche Bonuspunkte (= 1 Klausurpunkt) für Hausübungen geben, in Form von z.B. Challenges, weitere Informationen folgen bei den betreffenden Hausübungen.\n",
        "* Die Abgabe erfolgt in Zweier- oder Viererteams. **Einzelabgaben werden nicht gewertet**. Die Teammitglieder müssen nicht in derselben Übungsgruppe sein. Bei Problemen bzw. Einzelfällen hinsichtlich dieser Richtlinie kontaktieren Sie einen Tutor.\n",
        "* In der Abgabe müssen alle Teammitglieder mit **Namen und Matrikelnummern gut sichtbar** genannt werden.\n",
        "* Es muss immer nur **ein Teammitglied der Gruppe abgeben**. Sollten aus Versehen mehrere Abgaben der selben Übung erfolgen, kommunizieren Sie dies **zeitnah** an einen Tutor, ansonsten wird die erste korrigierte Abgabe gewertet.\n",
        "* Die Abgabe soll als Jupyter-Notebook erfolgen (.ipynb). Abgaben in einem **anderen Format werden nicht gewertet**. Bei Problemen hinsichtlich dieser Richtlinie kontaktieren Sie einen Tutor.\n",
        "* Es ist nicht nötig, den Präsenzübungsteil in der Abgabe mit abzugeben. Es wird lediglich der Hausübungsteil gewertet.\n",
        "* Wenn Sie Bilder in der Hausaufgaben abgeben wollen, fügen Sie diese folgendermaßen ein: Laden Sie das entsprechende Bild bei Google Drive hoch. Klicken Sie per Rechtsklick auf das Bild. Klicken Sie auf \"Link abrufen\". Setzen Sie die Zugangsberechtigung auf \"Jeder, der über den Link verfügt\". Kopieren Sie den Link. Erstellen Sie eine Textzelle im Notebook in der Sie das Bild einfügen möchten. Fügen Sie den Link folgendermaßen ein: ``![Bildbeschreibung]``(Link hier einfügen, in diesen Klammern). Ändern Sie den Link folgendermaßen: Von \"https://drive.google.com/file/d/XXXXX/view?usp=sharing\" zu \"https://drive.google.com/uc?id=XXXXX\". XXXXX bezeichnet in diesem Fall die individuelle ID, die in Ihrem Link vorkommt."
      ]
    },
    {
      "cell_type": "markdown",
      "metadata": {
        "lang": "de",
        "id": "Lvmog-uACv9c"
      },
      "source": [
        "**Empfehlung: Zum Zeichnen von Diagrammen einschließlich des Zustandsgraphen können Sie draw.io verwenden, ein Online-Tool zum Zeichnen von Diagrammen**\n",
        "\n",
        "https://app.diagrams.net/"
      ]
    },
    {
      "cell_type": "markdown",
      "metadata": {
        "lang": "de",
        "id": "vErFu3kCCv9d"
      },
      "source": [
        "# Aufgabe 1.1\n",
        "### 4 Hausaufgabenpunkte\n",
        "*Ein Bauer will einen Kohlkopf, seine Schafe und seinen Hund per Schiff über die Ruhr von Duisburg nach Mülheim bringen.*\n",
        "* Das Boot am Ufer kann jedoch außer dem Bauern nur ein Tier oder den Kohl aufnehmen. \n",
        "* Nur der Bauer kann das Boot bedienen und der Hund darf nicht mit dem Schaf oder das Schaf mit dem Kohl allein auf einer Seite gelassen werden.*\n",
        "\n",
        "Legen Sie eine Abfolge von Bootstouren fest, mit denen der Kohl, die Schafe, der Bauer und sein Hund auf der anderen Seite des Flusses ankommen, ohne gegen die oben genannten Bedingungen zu verstoßen.\n",
        "\n",
        " Formulieren Sie das Problem als Suchproblem wie folgt:\n",
        " - Geben Sie die Darstellung der Zustände an\n",
        " - Bestimmen Sie den Anfangszustand und den Zielzustand.\n",
        " - Mögliche Aktionen sowie die Nachfolgefunktion festlegen\n",
        " - Zeichnen Sie den Zustandsgraphen\n",
        "\n",
        "Begründen Sie kurz, warum Sie sicher / nicht sicher sind, dass der gefundene Weg die erforderliche Mindestanzahl an Flussüberquerungen aufweist.\n",
        "\n",
        "Hinweis: Sie müssen auch Deadlocks (Zustände, die das Problem nicht lösen) in Ihren Zustandsgraphen aufnehmen"
      ]
    },
    {
      "cell_type": "markdown",
      "metadata": {
        "lang": "de",
        "id": "guh2cX2SCv9e"
      },
      "source": [
        "**Bitte geben Sie Ihre Lösung in diese Zelle ein und fügen Sie ein Bild des Zustandsgraphen gemäß den Einreichungsrichtlinien ein**"
      ]
    },
    {
      "cell_type": "markdown",
      "metadata": {
        "lang": "de",
        "id": "uyEJ8sWACv9f"
      },
      "source": [
        "# Aufgabe 2.1\n",
        "\n",
        "### 3 Hausaufgabenpunkte\n",
        "\n",
        "Unten sehen Sie einen Ausschnitt aus dem Duisburger U-Bahn-Netz.\n",
        "\n",
        "Formalisieren Sie das Netzwerk als Suchbaum mit Duisburg Hbf als Anfangszustand. Betrachten Sie die folgenden Vereinfachungen:\n",
        "\n",
        "* Parallele Linien werden als einfache Verbindung interpretiert.\n",
        "* Der Abstand zwischen zwei benachbarten Stationen ist immer gleich.\n",
        "\n",
        "Stellen Sie den Suchbaum als Datenstruktur in Python dar. Orientieren Sie sich an obigem Code.\n",
        "\n",
        "![U-Bahn Duisburg](https://raw.githubusercontent.com/MMesgar/Foundation_of_AI/master/lecture04/images/Duisburg_UBahn_Ausschnitt.png)"
      ]
    },
    {
      "cell_type": "markdown",
      "metadata": {
        "lang": "de",
        "id": "NRMa3zOrCv9g"
      },
      "source": [
        "**Bitte importieren Sie hier das Bild für den Suchbaum**"
      ]
    },
    {
      "cell_type": "code",
      "execution_count": null,
      "metadata": {
        "id": "LP4_VUqS675U"
      },
      "outputs": [],
      "source": [
        "#Represent the tree as a data structure in python\n",
        "graph=None\n",
        "print(graph)"
      ]
    },
    {
      "cell_type": "markdown",
      "metadata": {
        "lang": "de",
        "id": "Khy90pEeCv9h"
      },
      "source": [
        "# Aufgabe 2.2\n",
        "### 3 Hausaufgabenpunkte\n",
        "*Sie wollen wissen, welche U-Bahn-Stationen Sie auf dem Weg vom Hauptbahnhof zum Zoo passieren müssen.*\n",
        "* Führen Sie eine Breitensuche durch und geben Sie den Inhalt der Warteschlange für jede Iteration an.\n",
        "* Führen Sie eine Tiefensuche durch und geben Sie den Inhalt des Stacks für jede Iteration an.\n",
        "* Wenn es Ihnen nicht gelingt, das Problem zu implementieren, können Sie Stack und Queue auch manuell berechnen. Kommentieren Sie in diesem Fall jeden Schritt."
      ]
    },
    {
      "cell_type": "code",
      "execution_count": null,
      "metadata": {
        "id": "jMaF4j5H743Y"
      },
      "outputs": [],
      "source": [
        "def bfs(graph,root,goal):\n",
        "  #write your code here\n",
        "\n",
        "  return -1\n",
        "\n",
        "def dfs(graph,root,goal):\n",
        "  #write your code here\n",
        "\n",
        "  return -1\n",
        "\n",
        "print(\"BFS\")\n",
        "bfs(graph,\"Duisburg Hbf\",\"Zoo/Uni\")\n",
        "print()\n",
        "print(\"DFS\")\n",
        "dfs(graph,\"Duisburg Hbf\",\"Zoo/Uni\")"
      ]
    },
    {
      "cell_type": "markdown",
      "metadata": {
        "lang": "de",
        "id": "jjHzgiFxCv9i"
      },
      "source": [
        "**Berechnen Sie den Stapel und die Warteschlange optional manuell in dieser Zelle**"
      ]
    },
    {
      "cell_type": "markdown",
      "metadata": {
        "lang": "de",
        "id": "5wFeFXStCv9j"
      },
      "source": [
        "## Vielen Dank, dass Sie dieses Lab abgeschlossen haben!\n",
        "\n",
        "______\n",
        "\n",
        "\n",
        "## Andere Mitwirkende\n",
        "\n",
        "N / A"
      ]
    }
  ],
  "metadata": {
    "colab": {
      "name": "homework_de.ipynb",
      "provenance": []
    },
    "kernelspec": {
      "display_name": "Python 3 (ipykernel)",
      "language": "python",
      "name": "python3"
    },
    "language_info": {
      "codemirror_mode": {
        "name": "ipython",
        "version": 3
      },
      "file_extension": ".py",
      "mimetype": "text/x-python",
      "name": "python",
      "nbconvert_exporter": "python",
      "pygments_lexer": "ipython3",
      "version": "3.10.4"
    },
    "nbTranslate": {
      "displayLangs": [
        "de"
      ],
      "hotkey": "alt-t",
      "langInMainMenu": true,
      "sourceLang": "en",
      "targetLang": "de",
      "useGoogleTranslate": true
    }
  },
  "nbformat": 4,
  "nbformat_minor": 0
}