{
  "cells": [
    {
      "cell_type": "markdown",
      "metadata": {
        "lang": "de",
        "id": "TfYQ6O3vACj_"
      },
      "source": [
        "# Übung: Uniformierte Suche\n",
        "\n",
        "Stand: SoSe 2022\n",
        "\n",
        "Geschätzte benötigte Zeit: 90 Minuten\n",
        "\n",
        "Autor: Mohamed Abdeelmagied\n",
        "______"
      ]
    },
    {
      "cell_type": "markdown",
      "metadata": {
        "lang": "de",
        "id": "GKCK_jwWACkD"
      },
      "source": [
        "# Ziele\n",
        "\n",
        "Nach Abschluss dieser Übung können Sie:\n",
        "\n",
        " - Zeichnen Sie einen Zustandsgraphen und verwenden Sie ihn, um den Zustandsraum eines Problems zu analysieren\n",
        " - Verwenden Sie uninformierte Suchalgorithmen, um mögliche Lösungen innerhalb des Zustandsraums eines Problems zu finden\n",
        " -Laufzeitkomplexität verstehen und zur Analyse verschiedener Algorithmen verwenden\n",
        " - Implementieren Sie BFS, DFS und iterative Vertiefung in Python"
      ]
    },
    {
      "cell_type": "markdown",
      "metadata": {
        "lang": "de",
        "id": "hbUOwxFsACkG"
      },
      "source": [
        "# Aufgabe 1\n",
        "\n",
        "Laut Russel und Norvig wird die Leistung von Algorithmen auf vier Arten bewertet. Nennen Sie diese vier Methoden (Russel und Norvig Englische Version: Seite 71)"
      ]
    },
    {
      "cell_type": "markdown",
      "metadata": {
        "lang": "de",
        "id": "UO1TqfVTACkH"
      },
      "source": [
        "<details><summary>Klicken Sie hier für die Lösung</summary>\n",
        "\n",
        "- Vollständigkeit: Findet der Algorithmus garantiert eine Lösung, wenn es eine gibt?\n",
        "- Optimalität: Findet die Strategie die optimale Lösung?\n",
        "- Zeitkomplexität: Wie lange dauert es, eine Lösung zu finden?\n",
        "- Speicherplatzkomplexität: Wie viel Speicher wird benötigt, um die Suche durchzuführen?\n",
        "\n",
        "</details>"
      ]
    },
    {
      "cell_type": "markdown",
      "metadata": {
        "lang": "de",
        "id": "niZ2v9i2ACkJ"
      },
      "source": [
        "# Aufgabe 2\n",
        "\n",
        "Wählen Sie die richtige Antwort (Russel und Norvig englische Version: Seite 75)\n",
        "\n",
        "_____________________ erweitert den Knoten n mit den **geringsten Pfadkosten**\n",
        "\n",
        "\n",
        "1. Breitensuche\n",
        "2. uniforme Kostensuche\n",
        "3. Tiefensuche"
      ]
    },
    {
      "cell_type": "markdown",
      "metadata": {
        "lang": "de",
        "id": "fLxsNnQNACkK"
      },
      "source": [
        "<details><summary>Klicken Sie hier für die Lösung</summary>\n",
        "\n",
        "- Richtig: uniforme Kostensuche\n",
        "- falsch: BFS erweitert den flachsten Knoten und DFS erweitert den tiefsten Knoten\n",
        "\n",
        "</details>"
      ]
    },
    {
      "cell_type": "markdown",
      "metadata": {
        "lang": "en",
        "id": "KbPsT5BQACkM"
      },
      "source": [
        "# Aufgabe 3\n",
        "\n",
        "Russel und Norvig führen die tiefenbegrenzte Suche als Alternative zur Tiefensuche ein, um das Problem der unendlichen Pfade zu lösen (Seite 77). Löse folgende Frage:\n",
        "\n",
        "1. Ist ein tiefenbegrenztes Suchproblem immer vollständig?\n",
        "2. Wie viele Knoten werden bei der tiefenbegrenzten Suche bei limit=d im schlimmsten Fall expandiert? (Keine O-Notation verwenden)"
      ]
    },
    {
      "cell_type": "markdown",
      "metadata": {
        "lang": "de",
        "id": "YEG_AtUNACkN"
      },
      "source": [
        "<details><summary>Klicken Sie hier für die Lösung</summary>\n",
        "\n",
        "1. Nein, es ist nicht immer vollständig, denn wenn wir einen Grenzwert $l<d$ wählen, bei dem d die Tiefe ist, in der der Zielzustand existiert, wird der Algorithmus terminieren, bevor er den Zielzustand erreicht\n",
        "\n",
        "2. Unter Verwendung der Gleichung aus der Vorlesung wäre die Tiefe im schlimmsten Fall d und der Verzweigungsfaktor sei b.\n",
        "\n",
        "Antwort: 1+b+$b^2$+$b^3$+...+$b^d$\n",
        "\n",
        "</details>"
      ]
    },
    {
      "cell_type": "markdown",
      "metadata": {
        "lang": "de",
        "id": "iUP_5ia9ACkO"
      },
      "source": [
        "# Aufgabe 4.1\n",
        "\n",
        "Sie möchten genau einen Liter Wasser abmessen, haben aber nur zwei Eimer zur Verfügung, die 5 und 3 Liter Wasser fassen. Formulieren Sie das Problem als Suche, d. h. formulieren Sie Zustandsraum (Zustände), Anfangszustand, Ziel, mögliche Aktionen und die Nachfolgerfunktion. Zeichnen Sie den Zustandsgraphen. Ignorieren Sie Transitionen, die im selben Zustand bleiben, z. Leeren Sie einen leeren Eimer."
      ]
    },
    {
      "cell_type": "markdown",
      "metadata": {
        "lang": "de",
        "id": "ZrZ9rsP9ACkQ"
      },
      "source": [
        "<details><summary>Klicken Sie hier für die Lösung</summary>\n",
        "\n",
        "- Darstellung von Zuständen: wie viel Wasser wurde in beide Eimer gefüllt. Die erste Zahl gibt an, wie viel Wasser sich im 5-Liter-Eimer befindet, die zweite Zahl gibt an, wie viel Wasser sich im 3-Liter-Eimer befindet.\n",
        "  *Wenn beide Eimer leer sind: (0,0)* Wenn beide Eimer voll sind: (5,3)\n",
        "- Anfangszustand: (0,0)\n",
        "- Zielzustand: (x,1) oder (1,x)\n",
        "- Aktionen: Beim Umfüllen von Wasser von einem Eimer in einen anderen kann ein Teil des Wassers im vorherigen Eimer zurückgehalten werden (daher wird nicht das gesamte Wasser in den nächsten Eimer umgefüllt) oder es kann auch überlaufen.\n",
        "  \n",
        "  * Füllung: (5,0), (0,3), (5,3)\n",
        "  * Entleerung: (-5,0), (0,-3), (-5,-3)\n",
        "  * Übertragung: (vol_1 + vol_2, -vol_2), (-vol_1, vol_2 + vol_1)\n",
        "- Nachfolgefunktion: Zustand + Aktion = Zustand\n",
        "-mögliche Lösung des Zustandsgraphen:\n",
        "\n",
        "![Bild](https://raw.githubusercontent.com/MMesgar/Foundation_of_AI/master/lecture04/images/waterBuckets.jpg)\n",
        "\n",
        "</details>"
      ]
    },
    {
      "cell_type": "markdown",
      "metadata": {
        "lang": "de",
        "id": "B7bGzfsgACkR"
      },
      "source": [
        "# Aufgabe 4.2\n",
        "\n",
        "Angesichts der Problembeschreibung durch die Karte von Rumänien. Sie wollen von Fagaras nach Pitesti reisen. Der Anfangszustand und der Zielzustand müssen entsprechend angepasst werden.\n",
        "1. Beachten Sie die mögliche Reihenfolge der Knoten, die Sie mit der Breitensuche erstellen, und erweitern Sie, bis Sie einen Pfad finden.\n",
        "2. Beachten Sie die mögliche Reihenfolge der Knoten, die Sie mit der Tiefensuche erstellen, und erweitern Sie, bis Sie einen Pfad finden.\n",
        "\n",
        "![](https://raw.githubusercontent.com/MMesgar/Foundation_of_AI/master/lecture04/images/Karte_Romania.png)"
      ]
    },
    {
      "cell_type": "markdown",
      "metadata": {
        "lang": "de",
        "id": "CK_yT1gQACkS"
      },
      "source": [
        "<details><summary>Klicken Sie hier für die Lösung</summary>\n",
        "\n",
        "1. **Mögliche Lösung**: Fagaras, Sibiu, Bukarest, Oradea, Arad, Rimnicu Vilcea, Pitesti\n",
        "2. **Mögliche Lösung**: Fagaras, Bukarest, Pitesti\n",
        "\n",
        "</details>"
      ]
    },
    {
      "cell_type": "markdown",
      "metadata": {
        "lang": "de",
        "id": "3BWVGkyUACkT"
      },
      "source": [
        "# Aufgabe 5: O-Notation"
      ]
    },
    {
      "cell_type": "markdown",
      "metadata": {
        "id": "PLnUeFlw2gr-",
        "lang": "en"
      },
      "source": [
        "# Aufgabe 5.1\n",
        "\n",
        "Geben Sie eine möglichst genaue Schätzung der Laufzeitkomplexität an.\n",
        "\n",
        "|Equation    |              O(?)     \n",
        "|:-|:-|\n",
        "|111|\n",
        "|56n + 7426265|\n",
        "|$(56n+4n)^2$+$n^3$|\n",
        "|logn + logloglogn|"
      ]
    },
    {
      "cell_type": "markdown",
      "metadata": {
        "id": "ABxPwA4h3SnC"
      },
      "source": [
        "<details><summary>Klicken Sie hier für die Lösung</summary>\n",
        "\n",
        "Equation           |       O(?)     \n",
        "-------------------|-------------------             \n",
        "111                |       O(1)     \n",
        "56n + 7426265      |       O(n)     \n",
        "$(56n+4n)^2$ +$n^3$|       O($n^3$) \n",
        "logn + logloglogn  |       O(logn)\n",
        " \n",
        "</details>"
      ]
    },
    {
      "cell_type": "markdown",
      "metadata": {
        "id": "n7bzk3a1-Vtv",
        "lang": "en"
      },
      "source": [
        "# Aufgabe 5.2\n",
        "\n",
        "Angesichts des folgenden Python-Codes. Können Sie seine Laufzeitkomplexität ableiten?\n",
        "\n",
        "```python\n",
        "def foo(n):\n",
        "  if n<=1:\n",
        "    return 1\n",
        "  return foo(n-1)+foo(n-1)\n",
        "  ```"
      ]
    },
    {
      "cell_type": "markdown",
      "metadata": {
        "lang": "de",
        "id": "vWGBvkCIACkW"
      },
      "source": [
        "<details><summary>Klicken Sie hier für die Lösung</summary>\n",
        "\n",
        "Der Algorithmus \"berührt\" grundsätzlich jeden Knoten in einem rekursiven Baum einmal und erzeugt seine Kinder, die zwei für jeden Knoten außer den Blättern sind. Wenn es also x Knoten im rekursiven Baum gibt, wäre die Komplexität\n",
        "Ochse). Also brauchen wir jetzt eine Funktion, die diesen Parameter n auf die Anzahl der Knoten des Baums abbildet\n",
        "wir können den rekursiven Baum dieser Funktion bei n=4 betrachten:\n",
        "\n",
        "![](https://raw.githubusercontent.com/MMesgar/Foundation_of_AI/master/lecture04/images/recursiveTree.jpg)\n",
        "\n",
        "Der Baum hätte die Tiefe n und jeder Knoten hätte 2 Kinder, was bedeutet, dass jede Ebene doppelt so viele Knoten hätte wie die vorherige Ebene\n",
        "Das bedeutet für die erste Ebene hätten wir 1 Knoten oder $2^0$. In der zweiten Ebene hätten wir 2 Knoten ($2^1$) für die dritte wären es 4 ($2^2$) und so weiter. Wenn wir die Knoten aller Schichten zusammenfassen, hätten wir $2^0$+$2^1$+$2^2$+...+$2^(n-1)$=$2^n$. Daher ist die Laufzeitkomplexität O($2^n$).\n",
        "\n",
        "\n",
        "\n",
        "\n",
        "\n",
        "</details>"
      ]
    },
    {
      "cell_type": "markdown",
      "metadata": {
        "lang": "de",
        "id": "m-APEUMpACkX"
      },
      "source": [
        "# Aufgabe 6.1\n",
        "\n",
        "Beim 8-Damen-Problem sollen 8 Damen so auf dem Brett platziert werden, dass sie sich nicht gegenseitig schlagen können. Führen Sie mit der gegebenen Darstellung des Brettes einen Test durch, ob eine gewählte Dame im Konflikt mit anderen steht oder nicht. Wir vereinfachen auf 5 Damen"
      ]
    },
    {
      "cell_type": "markdown",
      "metadata": {
        "lang": "de",
        "id": "9Tsmm1NvACkY"
      },
      "source": [
        "8-Damen-Problem:\n",
        "\n",
        "\n",
        "![](https://raw.githubusercontent.com/MMesgar/Foundation_of_AI/master/lecture04/images/eight_queens.png)"
      ]
    },
    {
      "cell_type": "code",
      "execution_count": null,
      "metadata": {
        "id": "PY2I01bDFwzG"
      },
      "outputs": [],
      "source": [
        "import random\n",
        "\n",
        "\n",
        "#A function that formats the board correctly when printing it \n",
        "def print_board(board):\n",
        "    #Write your code here\n",
        "\n",
        "    return -1\n",
        "\n",
        "\n",
        "#Give the column of the queen that is positioned in the given row\n",
        "def get_queen_col(board, row):\n",
        "  \n",
        "    for i in range(len(board[row])):\n",
        "      #Uncomment the if statement and enter the indices for the position to be checked\n",
        "      #if board[][] == 1:\n",
        "        \n",
        "        #return the column where the queen is found\n",
        "        return -1\n",
        "      \n",
        "\n",
        "#Check if the tile in row and col actually exists \n",
        "#(Use it to prevent IndexOutOfBoundsExceptions when checking lines)\n",
        "def valid_tile(board, row, col):\n",
        "\n",
        "    #Assign the number of rows and columns\n",
        "    num_rows = None\n",
        "    num_cols = None\n",
        "    \n",
        "    #Assign a boolean expression to check the validity of row and col\n",
        "    valid_row = None\n",
        "    valid_col = None\n",
        "    \n",
        "    #Return a boolean expression that validates row and col\n",
        "    return -1 \n",
        "\n",
        "\n",
        "#Check a line for other queens\n",
        "def check_line(board, row, col, dir_x, dir_y):\n",
        "    while valid_tile(board, row + dir_y, col + dir_x):\n",
        "        #update row with the corresponding direction parameter\n",
        "        row = None\n",
        "        #update col with the corresponding direction parameter\n",
        "        col = None\n",
        "        \n",
        "        print(\"Checking position ({:d}, {:d})\".format(row, col))\n",
        "        #uncomment the if statement and enter the position to be checked(Do not uncomment the line above the return statement)\n",
        "        #if board[][] == 1:\n",
        "            #print(\"Found conflict at position ({:d}, {:d})\".format(row, col))\n",
        "\n",
        "            #return a boolean value for found conflict\n",
        "            #return -1\n",
        "\n",
        "    #return a boolean value for no conflict found    \n",
        "    return -1\n",
        "\n",
        "\n",
        "#Check if the queen's position is actually valid\n",
        "def is_valid_position(board, row):\n",
        "    #Get the queens's column\n",
        "    col = None\n",
        "    \n",
        "    #write an if statement to check the queen's column for conflicts\n",
        "    \n",
        "    \n",
        "    #write an if statement to check the first diagonal for conflicts\n",
        "    \n",
        "    \n",
        "    #write an if statement to check the second diagonal for conflicts\n",
        "    \n",
        "    #modify return statement for no conflicts found\n",
        "    return -1\n",
        "\n",
        "\n",
        "size = 5\n",
        "board = [[0 for i in range(size)] for j in range(size)]\n",
        "for i in range(size):\n",
        "    j = random.randint(0, size-1)\n",
        "    board[i][j] = 1\n",
        "\n",
        "\"\"\"\n",
        "1. Schritt\n",
        "0. [0, 0, 0, 0, 0]\n",
        "1. [0, 0, 0, 0, 0]\n",
        "2. [0, 0, 0, 0, 0]\n",
        "3. [0, 0, 0, 0, 0]\n",
        "4. [0, 0, 0, 0, 0]\n",
        "\n",
        "2. Schritt\n",
        "\"1\" wird zufällig platziert/\"1\" is randomly placed\n",
        "\"\"\"\n",
        "    \n",
        "    \n",
        "print_board(board)\n",
        "print(\"Valid position?\", is_valid_position(board, 2))"
      ]
    },
    {
      "cell_type": "markdown",
      "metadata": {
        "id": "T0NU4Uy1M9LA"
      },
      "source": [
        "<details><summary>Click here for the solution</summary>\n",
        "\n",
        "```python\n",
        "import random\n",
        "\n",
        "\n",
        "#A function that formats the board correctly when printing it \n",
        "def print_board(board):\n",
        "    for row in board:\n",
        "        print(row)\n",
        "\n",
        "\n",
        "#Give the column of the queen that is positioned in the given row\n",
        "def get_queen_col(board, row):\n",
        "    for i in range(len(board[row])):\n",
        "        if board[row][i] == 1:\n",
        "            return i\n",
        "        \n",
        "\n",
        "#Check if the tile in row and col actually exists \n",
        "#(Use it to prevent IndexOutOfBoundsExceptions when checking lines)\n",
        "def valid_tile(board, row, col):\n",
        "    num_rows = len(board)\n",
        "    num_cols = len(board[0])\n",
        "    \n",
        "    valid_row = row >= 0 and row < num_rows\n",
        "    valid_col = col >= 0 and col < num_cols\n",
        "    \n",
        "    return  valid_row and valid_col \n",
        "\n",
        "\n",
        "#Check a line for other queens\n",
        "def check_line(board, row, col, dir_x, dir_y):\n",
        "    while valid_tile(board, row + dir_y, col + dir_x):\n",
        "        row += dir_y\n",
        "        col += dir_x\n",
        "        \n",
        "        print(\"Checking position ({:d}, {:d})\".format(row, col))\n",
        "        if board[row][col] == 1:\n",
        "            print(\"Found conflict at position ({:d}, {:d})\".format(row, col))\n",
        "            return True\n",
        "        \n",
        "    return False\n",
        "\n",
        "\n",
        "#Check if the queen's position is actually valid\n",
        "def is_valid_position(board, row):\n",
        "    col = get_queen_col(board, row)\n",
        "    \n",
        "    #Check the queen's column\n",
        "    if check_line(board, row, col, 0, 1) or check_line(board, row, col, 0, -1):\n",
        "        return False\n",
        "    \n",
        "    #Check the first diagonal line\n",
        "    if check_line(board, row, col, -1, -1) or check_line(board, row, col, 1, 1):\n",
        "        return False\n",
        "    \n",
        "    #Check the second diagonal line\n",
        "    if check_line(board, row, col, -1, 1) or check_line(board, row, col, 1, -1):\n",
        "        return False\n",
        "    \n",
        "    return True\n",
        "\n",
        "\n",
        "size = 5\n",
        "board = [[0 for i in range(size)] for j in range(size)]\n",
        "for i in range(size):\n",
        "    j = random.randint(0, size-1)\n",
        "    board[i][j] = 1\n",
        "\n",
        "\"\"\"\n",
        "1. Schritt\n",
        "0. [0, 0, 0, 0, 0]\n",
        "1. [0, 0, 0, 0, 0]\n",
        "2. [0, 0, 0, 0, 0]\n",
        "3. [0, 0, 0, 0, 0]\n",
        "4. [0, 0, 0, 0, 0]\n",
        "\n",
        "2. Schritt\n",
        "\"1\" wird zufällig platziert/\"1\" is randomly placed\n",
        "\"\"\"\n",
        "    \n",
        "    \n",
        "print_board(board)\n",
        "print(\"Valid position?\", is_valid_position(board, 2))\n",
        "```\n",
        "\n",
        "</details>"
      ]
    },
    {
      "cell_type": "markdown",
      "metadata": {
        "lang": "de",
        "id": "1Hm1-8sJACkb"
      },
      "source": [
        "# Aufgabe 6.2\n",
        "\n",
        "Unten finden Sie Code für die Breitensuche und die Tiefensuche. Ein Suchraum wird definiert und dann werden die beiden Suchstrategien auf das Problem angewendet.\n",
        "* Was sind die Ergebnisse der beiden Strategien?\n",
        "* Lassen Sie nach jeder Iteration jeden Stapel oder jede Warteschlange ausgeben. Gehen Sie die Ausgabe Schritt für Schritt durch und vergewissern Sie sich, dass Sie den Algorithmus verstehen.\n",
        "* Vergleiche: Wie oft wird die Hauptschleife (Time Complexity) durchlaufen? Wie viele Knoten werden maximal im Speicher gehalten (Space Complexity)?\n",
        "* Experimentieren Sie nun mit verschiedenen Zielknoten und vergleichen Sie die Unterschiede."
      ]
    },
    {
      "cell_type": "code",
      "execution_count": null,
      "metadata": {
        "id": "a9kD9fb6O8e2"
      },
      "outputs": [],
      "source": [
        "import collections\n",
        "\n",
        "def bfs(graph, root, goal):\n",
        "    seen = set([root])\n",
        "    queue = collections.deque([root])\n",
        "    while queue:\n",
        "        print(\"Queue: \", queue)\n",
        "        vertex = queue.popleft()\n",
        "        print(\"Expand: \", vertex)\n",
        "        if vertex == goal:\n",
        "            break\n",
        "        for node in graph[vertex]:\n",
        "            if node not in seen:\n",
        "                seen.add(node)\n",
        "                queue.append(node)\n",
        "\n",
        "def dfs(graph, root, goal):\n",
        "    seen = set([root])\n",
        "    stack = [root]\n",
        "    while stack:\n",
        "        print(\"Stack: \", stack)\n",
        "        vertex = stack.pop()\n",
        "        print(\"Expand: \", vertex)\n",
        "        if vertex == goal:\n",
        "            break\n",
        "        for node in graph[vertex]:\n",
        "            if node not in seen:\n",
        "                seen.add(node)\n",
        "                stack.append(node)\n",
        "\n",
        "graph = {1: [2, 3], 2: [4, 5], 3: [6,7,8], 4: [], 5: [], 6: [], 7: [], 8: []} \n",
        "\n",
        "print(\"BFS\")\n",
        "bfs(graph, 1, 8)\n",
        "print()\n",
        "print(\"DFS\")\n",
        "dfs(graph, 1, 8)"
      ]
    },
    {
      "cell_type": "markdown",
      "metadata": {
        "lang": "de",
        "id": "lecJeXTcACkd"
      },
      "source": [
        "Am Zielknoten 8:\n",
        "\n",
        "1. Was sind die Ergebnisse beider Strategien?\n",
        "2. Vergleichen Sie, wie oft die Haupt-for-Schleife in beiden Fällen ausgeführt wird (Zeitkomplexität). Wie viele Knoten werden maximal im Speicher gehalten?"
      ]
    },
    {
      "cell_type": "markdown",
      "metadata": {
        "id": "IDWUzo4SP0Q6"
      },
      "source": [
        "<details><summary>Click here for the solution</summary>\n",
        "\n",
        "1. BFS = 1,2,3,4,5,6,7,8; DFS = 1,3,8\n",
        "2. BFS(time) = 8, BFS(space) = 5; DFS(time) = 3, DFS(space) = 4\n",
        "\n",
        "</details>"
      ]
    },
    {
      "cell_type": "markdown",
      "metadata": {
        "lang": "de",
        "id": "cLPKZoEZACke"
      },
      "source": [
        "### Beispiel aus Vorlesung"
      ]
    },
    {
      "cell_type": "code",
      "execution_count": null,
      "metadata": {
        "id": "KpkbSFQ9Qgjb"
      },
      "outputs": [],
      "source": [
        "graphFromLecture = {\n",
        "    \"A\": [\"B\",\"C\"],\n",
        "    \"B\": [\"D\",\"E\"],\n",
        "    \"C\": [\"F\",\"G\"],\n",
        "    \"D\": [\"H\",\"I\"],\n",
        "    \"E\": [\"J\",\"K\"],\n",
        "    \"F\": [], \"G\": [], \"H\": [], \"I\": [], \"J\": [], \"K\": []\n",
        "} \n",
        "\n",
        "print(\"DFS\")\n",
        "dfs(graphFromLecture, \"A\", \"K\")"
      ]
    },
    {
      "cell_type": "markdown",
      "metadata": {
        "lang": "de",
        "id": "is-ru-9WACkf"
      },
      "source": [
        "# Aufgabe 6.3\n",
        "\n",
        "Was müssen Sie ändern, um die iterative Vertiefung zu implementieren?"
      ]
    },
    {
      "cell_type": "code",
      "execution_count": null,
      "metadata": {
        "id": "sLLlK8f2Sicq"
      },
      "outputs": [],
      "source": [
        "def iterative_deepening(graph, root, goal, limit):\n",
        "    print(\"----------- Limit:\", limit, \"-----------\")\n",
        "    seen = set([root])\n",
        "    stack = [root]\n",
        "    depth = 0\n",
        "    directory = None # keeps track of nodes and their depth(Initialize the directory with the root at depth 0)\n",
        "    while stack:\n",
        "        print(\"Stack: \", stack)\n",
        "        vertex = stack.pop()\n",
        "        print(\"Expand: \", vertex)\n",
        "        monitoring = None #specify the list of the nodes at the current depth\n",
        "        if vertex not in monitoring: # means that depth has changed (the search is going back up one level)\n",
        "            #change the value of depth accordingly\n",
        "            depth = None\n",
        "        if vertex == goal:\n",
        "            print(\"Gefunden bei Tiefe: \", depth)\n",
        "            break\n",
        "        if len(graph[vertex]) > 0 and depth < limit: # If the vertex has children and it can still afford to go a level deeper\n",
        "            for node in graph[vertex]:\n",
        "                if node not in seen:\n",
        "                    #add node to set of seen nodes\n",
        "                    \n",
        "                    #append node to stack\n",
        "                    \n",
        "                    if depth+1 not in directory.keys():\n",
        "                        #initialize the list of node on the new depth\n",
        "                        directory[depth+1] = None\n",
        "                    else:\n",
        "                        #add node to the list of nodes at the new depth\n",
        "                        directory[depth+1].add(None)\n",
        "        depth += 1\n",
        "    if vertex != goal: #last vertex in stack and goal was not found\n",
        "        print(\"Nicht gefunden.\")\n",
        "        #increment the limit\n",
        "        newlimit = None\n",
        "        #call the iterative deepening function with the new limit\n",
        "        \n",
        "print(\"Iterative Deepening\")\n",
        "iterative_deepening(graph, 1, 5, 0)"
      ]
    },
    {
      "cell_type": "markdown",
      "metadata": {
        "id": "RUzOPLFOrxQD"
      },
      "source": [
        "<details><summary>Click here for the solution</summary>\n",
        "\n",
        "```python\n",
        "def iterative_deepening(graph, root, goal, limit):\n",
        "    print(\"----------- Limit:\", limit, \"-----------\")\n",
        "    seen = set([root])\n",
        "    stack = [root]\n",
        "    depth = 0\n",
        "    directory = {0: {root}} # keeps track of nodes and their depth\n",
        "    while stack:\n",
        "        print(\"Stack: \", stack)\n",
        "        vertex = stack.pop()\n",
        "        print(\"Expand: \", vertex)\n",
        "        monitoring = directory[depth]\n",
        "        if vertex not in monitoring: # means that depth has changed (the search is going back up one level)\n",
        "            depth -= 1\n",
        "        if vertex == goal:\n",
        "            print(\"Gefunden bei Tiefe: \", depth)\n",
        "            break\n",
        "        if len(graph[vertex]) > 0 and depth < limit: # If the vertex has children and it can still afford to go a level deeper\n",
        "            for node in graph[vertex]:\n",
        "                if node not in seen:\n",
        "                    seen.add(node)\n",
        "                    stack.append(node)\n",
        "                    if depth+1 not in directory.keys():\n",
        "                        directory[depth+1] = {node}\n",
        "                    else:\n",
        "                        directory[depth+1].add(node)\n",
        "            depth += 1\n",
        "    if vertex != goal:\n",
        "        print(\"Nicht gefunden.\")\n",
        "        newlimit = limit + 1\n",
        "        iterative_deepening(graph, root, goal, newlimit)\n",
        "        \n",
        "print(\"Iterative Deepening\")\n",
        "iterative_deepening(graph, 1, 5, 0)\n",
        "``` \n",
        "\n",
        "</details>"
      ]
    },
    {
      "cell_type": "markdown",
      "metadata": {
        "lang": "de",
        "id": "3hrpZ17EACkh"
      },
      "source": [
        "Alternativer Ansatz mit rekursivem DFS und ohne expliziten Stack."
      ]
    },
    {
      "cell_type": "code",
      "execution_count": null,
      "metadata": {
        "id": "tSuii8v8sMJ8"
      },
      "outputs": [],
      "source": [
        "def dfs_alt(graph, current, goal, seen, depth):\n",
        "    \"\"\" Rekursive Variante der Tiefensuche \"\"\"\n",
        "    print(\"Check node\", current)\n",
        "    if current == goal:\n",
        "        return [goal]\n",
        "    seen.add(current)\n",
        "    \n",
        "    print(\"Remaining steps:\", depth)\n",
        "    \n",
        "    # Expand the current node\n",
        "    if depth > 0:\n",
        "        for node in graph[current]:\n",
        "            # print(seen)\n",
        "            print(\"Expand node:\", current, \"Next Nodes:\", graph[current], end=\" \")\n",
        "            if node not in seen:\n",
        "                path = dfs_alt(graph, node, goal, seen, depth-1)\n",
        "                if path:\n",
        "                    return [current] + path\n",
        "    return []\n",
        "        \n",
        "    \n",
        "def iddfs(graph, root, goal, max_depth):\n",
        "    \n",
        "    # Äußere Schleife, bei welcher die maximale Suchtiefe sukzessive erhöht wird\n",
        "    for i in range(0, max_depth+1):\n",
        "        print(\"NEXT ITERATION: Max depth\", i, \"#\"*20)\n",
        "        seen = set()\n",
        "        path = dfs_alt(graph, root, goal, seen,  i)\n",
        "        if path:\n",
        "            return path\n",
        "        print(\"####\")\n",
        "        \n",
        "print(\"\\nSolution path:\", iddfs(graph, 1, 5, 10))"
      ]
    },
    {
      "cell_type": "markdown",
      "metadata": {
        "lang": "de",
        "id": "PaQPAmxFACki"
      },
      "source": [
        "## Vielen Dank, dass Sie dieses Lab abgeschlossen haben!\n",
        "\n",
        "______\n",
        "\n",
        "\n",
        "## Andere Mitwirkende\n",
        "\n",
        "N / A"
      ]
    }
  ],
  "metadata": {
    "colab": {
      "name": "exercise_de.ipynb",
      "provenance": []
    },
    "kernelspec": {
      "display_name": "Python 3 (ipykernel)",
      "language": "python",
      "name": "python3"
    },
    "language_info": {
      "codemirror_mode": {
        "name": "ipython",
        "version": 3
      },
      "file_extension": ".py",
      "mimetype": "text/x-python",
      "name": "python",
      "nbconvert_exporter": "python",
      "pygments_lexer": "ipython3",
      "version": "3.10.4"
    },
    "nbTranslate": {
      "displayLangs": [
        "de"
      ],
      "hotkey": "alt-t",
      "langInMainMenu": true,
      "sourceLang": "en",
      "targetLang": "de",
      "useGoogleTranslate": true
    }
  },
  "nbformat": 4,
  "nbformat_minor": 0
}