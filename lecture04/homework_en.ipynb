{
  "nbformat": 4,
  "nbformat_minor": 0,
  "metadata": {
    "colab": {
      "name": "homework_en.ipynb",
      "provenance": []
    },
    "kernelspec": {
      "name": "python3",
      "display_name": "Python 3"
    },
    "language_info": {
      "name": "python"
    }
  },
  "cells": [
    {
      "cell_type": "markdown",
      "source": [
        "# Exercise: Uninformed Search\n",
        "\n",
        "Version: SoSe 2022\n",
        "\n",
        "Estimated time needed: 60 minutes\n",
        "\n",
        "Author: Mohamed Abdelmagied\n",
        "\n",
        "Deadline : Friday, 13.05.2022 (11:55 p.m.)\n",
        "\n",
        "______"
      ],
      "metadata": {
        "id": "FcZHE-ymyiSj"
      }
    },
    {
      "cell_type": "markdown",
      "source": [
        "# Homework"
      ],
      "metadata": {
        "id": "eKFDohlR0TQK"
      }
    },
    {
      "cell_type": "markdown",
      "source": [
        "### Submission guidelines\n",
        "* You can reach up to 10 homework points for every homework submission. 10 homework points correspond to one exam point.\n",
        "* In the course of the semester, there will be extra bonus points (where each bonus point equals to one exam point) for the homeworks. These will be given in the form of e.g. challenges inside the homeworks. More information will be given in the corresponding homeworks.\n",
        "* The submission has to be done by a team of two to four people. **Individual submissions will not be graded**. The team members do not have to attend the same exercise group. If there are any problems regarding this guideline, please reach out to a tutor.\n",
        "* Please state the **name and matriculation number of all team members** in every submission **clearly**.\n",
        "* Only **one team member should submit** the homework. If more than one version of the same homework is submitted by accident (submitted by more than one group member), please reach out to a tutor **as soon as possible**. Otherwise, the first submitted homework will be graded.\n",
        "* The submission must be in a Jupyter Notebook format (.ipynb). Submissions in **other formats will not be graded**. If there are any problems regarding this guideline, please reach out to a tutor.\n",
        "* It is not necessary to also submit the part of the exercise discussed by the tutor, please only submit the homework part.\n",
        "* If you want to insert pictures in your homework, insert them like this: Uplaod the picture to Google Drive. Right click on it. Click on \"Get shareable link\". Set the accessibility to \"Anyone with link\". Copy the link. Create a text cell where you want to insert the picture. Insert the link as follows: ``![picture description]``(insert link here, inside these brackets). Change the link as follows: From \"https://drive.google.com/file/d/XXXXX/view?usp=sharing\" to \"https://drive.google.com/uc?id=XXXXX\". XXXXX describes the individual ID, which will be in your link."
      ],
      "metadata": {
        "id": "EA-Y0wYZ0Yq4"
      }
    },
    {
      "cell_type": "markdown",
      "source": [
        "**Recommendation: For drawing diagrams including the state graph, you could use draw.io which is an online tool for drawing diagrams**\n",
        "\n",
        "https://app.diagrams.net/\n",
        "\n"
      ],
      "metadata": {
        "id": "I1ItuhSS2xg8"
      }
    },
    {
      "cell_type": "markdown",
      "source": [
        "# Task 1.1\n",
        "### 4 homework points\n",
        "*A farmer wants to take a cabbage, his sheep and his dog across the Ruhr from Duisburg to Mülheim by boat.*\n",
        "* *The boat on the shore, however, can accommodate only one animal or the cabbage besides the farmer.*\n",
        "* *Only the farmer can operate the boat and the dog can not be left alone with the sheep or the sheep with the cabbage alone on one side.*\n",
        "\n",
        "Determine a sequence of boat tours with which the cabbage, the sheep, the farmer, and his dog arrive on the other side of the river without violating the above conditions.\n",
        "\n",
        " Formulate the problem as a search problem as following:\n",
        " - Specify the representation of the states\n",
        " - Determine the initial state and the target state.\n",
        " - Specify possible actions as well as the successor function\n",
        " - Draw the state graph\n",
        "\n",
        "Give a brief explanation as to why you are certain / not certain that the path found has the minimum number of river crossings required.\n",
        "\n",
        "Note : You have to also include deadlocks(states that fail the problem) within your state graph"
      ],
      "metadata": {
        "id": "YM121ey00hoE"
      }
    },
    {
      "cell_type": "markdown",
      "source": [
        "**Please enter Enter your solution in this cell and insert an image of the state graph according to the submission guidelines**"
      ],
      "metadata": {
        "id": "siLtJfq82P9R"
      }
    },
    {
      "cell_type": "markdown",
      "source": [
        "# Task 2.1\n",
        "\n",
        "### 3 homework points\n",
        "\n",
        "Below you can see a section of the Duisburg subway network.\n",
        "\n",
        "Formalize the network as a search tree with Duisburg Hbf as the initial state. Consider the following simplifications: \n",
        "\n",
        "* *Parallel lines are interpreted as a simple connection.*\n",
        "* *The distance between two adjacent stations is always the same.*\n",
        "\n",
        "*Represent the search tree as a data structure in python. Orient yourself by the code above.*\n",
        "\n",
        "![U-Bahn Duisburg](https://raw.githubusercontent.com/MMesgar/Foundation_of_AI/master/lecture04/images/Duisburg_UBahn_Ausschnitt.png)"
      ],
      "metadata": {
        "id": "juh5VNia3nAC"
      }
    },
    {
      "cell_type": "markdown",
      "source": [
        "**Please import the image for the search tree here**"
      ],
      "metadata": {
        "id": "hFj0UdGv6wqW"
      }
    },
    {
      "cell_type": "code",
      "source": [
        "#Represent the tree as a data structure in python\n",
        "graph=None\n",
        "print(graph)"
      ],
      "metadata": {
        "id": "LP4_VUqS675U"
      },
      "execution_count": null,
      "outputs": []
    },
    {
      "cell_type": "markdown",
      "source": [
        "# Task 2.2\n",
        "### 3 Homework Points\n",
        "*You want to find out which subway stations you have to pass when travelling from the main station to the zoo.*\n",
        "* *Perform a Breadth-first search and specify the contents of the queue for each iteration.*\n",
        "* Perform a Depth-first search and specify the contents of the stack for each iteration.\n",
        "* If you do not succeed in implementing the problem, you can also manually calculate the stack and queue. In this case, comment on each step."
      ],
      "metadata": {
        "id": "jZbQOgTH7cNV"
      }
    },
    {
      "cell_type": "code",
      "source": [
        "def bfs(graph,root,goal):\n",
        "  #write your code here\n",
        "\n",
        "  return -1\n",
        "\n",
        "def dfs(graph,root,goal):\n",
        "  #write your code here\n",
        "\n",
        "  return -1\n",
        "\n",
        "print(\"BFS\")\n",
        "bfs(graph,\"Duisburg Hbf\",\"Zoo/Uni\")\n",
        "print()\n",
        "print(\"DFS\")\n",
        "dfs(graph,\"Duisburg Hbf\",\"Zoo/Uni\")"
      ],
      "metadata": {
        "id": "jMaF4j5H743Y"
      },
      "execution_count": null,
      "outputs": []
    },
    {
      "cell_type": "markdown",
      "source": [
        "**Optionally calculate the stack and queue manually in this cell**"
      ],
      "metadata": {
        "id": "daICFDt39Q2a"
      }
    },
    {
      "cell_type": "markdown",
      "source": [
        "\n",
        "## Thank you for completing this lab!\n",
        "\n",
        "______\n",
        "\n",
        "\n",
        "## Other Contributors\n",
        "\n",
        "N/A"
      ],
      "metadata": {
        "id": "KIlpQQOd9rkx"
      }
    }
  ]
}