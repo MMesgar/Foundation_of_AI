{
  "cells": [
    {
      "cell_type": "markdown",
      "metadata": {
        "id": "SQIrIUoJWqiO"
      },
      "source": [
        "# Exercise: Introduction to Python \n",
        "\n",
        "Version: SoSe 2022\n",
        "\n",
        "Estimated time needed: 90 minutes\n",
        "\n",
        "Author: Mohamed Abdelmagied"
      ]
    },
    {
      "cell_type": "markdown",
      "metadata": {
        "id": "0sZTXXoeWqiT"
      },
      "source": [
        "# Objectives\n",
        "\n",
        "After completing this exercise you will be able to:\n",
        "\n",
        " - conduct basic programming operations in Python\n",
        " - use lists and dictionaries \n",
        " - Learn about control structures in Python\n",
        " - import modules in Python\n",
        " - define and call functions"
      ]
    },
    {
      "cell_type": "markdown",
      "source": [
        "#Task1\n",
        "\n",
        "True or False:\n",
        "\n",
        "- One of the early challenges for AI was the researchers' lack of understanding of 'computational complexity'."
      ],
      "metadata": {
        "id": "tUXrWAz6dEUh"
      }
    },
    {
      "cell_type": "markdown",
      "source": [
        "solution:\n",
        "\n",
        "True- Early AI systems like Microworlds tried out different combinations of steps until a solution was found, it was believed by the researchers that scaling up to larger problems was a matter of faster hardware, however, due to the intractability of a lot of AI problems this was not the case"
      ],
      "metadata": {
        "id": "RnDvZiGLgorM"
      }
    },
    {
      "cell_type": "markdown",
      "source": [
        "# Task 2\n",
        "\n",
        "Choose the correct answer:\n",
        "\n",
        "..... are general purpose search mechanisms trying to strings together elementary reasoning steps to find complete solutions:\n",
        "\n",
        " - Knowledge-based systems\n",
        " - weak methods\n",
        " - Expert systems"
      ],
      "metadata": {
        "id": "gFWOeRMEh5KB"
      }
    },
    {
      "cell_type": "markdown",
      "source": [
        "solution:\n",
        "- Correct: weak methods- Although they are general purpose mechanisms, they fail to scale up to larger problems. \n",
        "- Wrong: Knowledge-based systems and expert systems are not general purpose as they use large domain specific knowledge to solve specific hard problems"
      ],
      "metadata": {
        "id": "gpPAAsucjNJ4"
      }
    },
    {
      "cell_type": "markdown",
      "source": [
        "# Task 3\n",
        "Mention 3 fields in which AI is currently used (Hint: Read Russel and Norvig 1.4)"
      ],
      "metadata": {
        "id": "lA44RTVTkaJ9"
      }
    },
    {
      "cell_type": "markdown",
      "source": [
        "possible solution:\n",
        "\n",
        "- Autonomous planning and scheduling\n",
        "- Game playing\n",
        "- Autonomous control\n",
        "- Diagnosis\n",
        "- Logistics planning\n",
        "- Robotics\n",
        "- Language understanding and problem solving"
      ],
      "metadata": {
        "id": "0m4cFvdGmdij"
      }
    },
    {
      "cell_type": "markdown",
      "metadata": {
        "id": "_f8vD71BWqiV"
      },
      "source": [
        "# Simple Sequences"
      ]
    },
    {
      "cell_type": "markdown",
      "metadata": {
        "id": "lUZMjrcWWqiW"
      },
      "source": [
        "A simple sequence of instructions is the most basic program you can write.\n",
        "The simplest sequence is one containing a single command.\n",
        "We will try out some of these now."
      ]
    },
    {
      "cell_type": "code",
      "execution_count": null,
      "metadata": {
        "id": "IfUrajoxWqiW",
        "outputId": "19baac17-bb5a-4e5d-daaf-d87539ce9143"
      },
      "outputs": [
        {
          "name": "stdout",
          "output_type": "stream",
          "text": [
            "Hello there!\n"
          ]
        }
      ],
      "source": [
        "print('Hello there!')"
      ]
    },
    {
      "cell_type": "markdown",
      "metadata": {
        "id": "JFsZKFPVWqiX"
      },
      "source": [
        "## Arithmetic Operators"
      ]
    },
    {
      "cell_type": "markdown",
      "metadata": {
        "id": "2CugezNqWqiY"
      },
      "source": [
        "It's not just strings that can be printed:"
      ]
    },
    {
      "cell_type": "code",
      "execution_count": null,
      "metadata": {
        "id": "v-KB7uU3WqiY",
        "outputId": "de1ca9d3-8b90-4a4a-a074-accca933752b"
      },
      "outputs": [
        {
          "name": "stdout",
          "output_type": "stream",
          "text": [
            "11\n"
          ]
        }
      ],
      "source": [
        "print(6 + 5)"
      ]
    },
    {
      "cell_type": "markdown",
      "metadata": {
        "id": "IT1FVXuXWqiZ"
      },
      "source": [
        "Use some other arithmetic operators:\n",
        "* sum (+)\n",
        "* subtract (-)\n",
        "* multiply (*)\n",
        "* divide (/) <br>\n",
        "\n",
        "\n",
        "Combine multiple expressions like:"
      ]
    },
    {
      "cell_type": "code",
      "execution_count": null,
      "metadata": {
        "id": "T2ufEcVCWqia",
        "outputId": "c5c249d7-7c68-4e36-cdc2-1b444cbc79f3"
      },
      "outputs": [
        {
          "name": "stdout",
          "output_type": "stream",
          "text": [
            "6.0\n"
          ]
        }
      ],
      "source": [
        "print(((8 * 4) + (7 - 3)) / (2 + 4))"
      ]
    },
    {
      "cell_type": "markdown",
      "metadata": {
        "id": "BgPXfAR7Wqib"
      },
      "source": [
        "Experiment and you will soon get the idea (note: \",\" separates elements in a print statement):"
      ]
    },
    {
      "cell_type": "code",
      "execution_count": null,
      "metadata": {
        "id": "KGY0tvtHWqib",
        "outputId": "81f61b9f-a404-49e2-fc83-1a59bb5cf300"
      },
      "outputs": [
        {
          "name": "stdout",
          "output_type": "stream",
          "text": [
            "The total is:  68\n"
          ]
        }
      ],
      "source": [
        "print('The total is: ', 23 + 45)"
      ]
    },
    {
      "cell_type": "markdown",
      "metadata": {
        "id": "gOOhymeQWqic"
      },
      "source": [
        "Take a few minutes to try it out (try to sum up two strings, multiply some strings with numbers)."
      ]
    },
    {
      "cell_type": "code",
      "execution_count": null,
      "metadata": {
        "id": "oB2kugCdWqic",
        "outputId": "f73e3948-e707-46ac-a62e-5d42ea3b85e6"
      },
      "outputs": [
        {
          "name": "stdout",
          "output_type": "stream",
          "text": [
            "sum of 34 and 56 is  90\n",
            "99 - 100 =  -1\n",
            "abcabcabcabcabc\n",
            "UniDuE\n",
            "Uni DuE\n",
            "Uni DuE Uni DuE Uni DuE \n"
          ]
        }
      ],
      "source": [
        "print('sum of 34 and 56 is ', 34 + 56)\n",
        "print('99 - 100 = ', 99 - 100)\n",
        "print(5 * 'abc')\n",
        "print('Uni' + 'DuE')\n",
        "print('Uni ' + 'DuE')\n",
        "print(3 * ('Uni ' + 'DuE '))"
      ]
    },
    {
      "cell_type": "markdown",
      "metadata": {
        "id": "C73G1w6yWqic"
      },
      "source": [
        "## Variables\n",
        "In programming terms we can create instances of data types and assign them to variables.\n",
        "A variable is a reference to a specific area somewhere in the computers memory. These areas hold the data.\n",
        "e.g."
      ]
    },
    {
      "cell_type": "code",
      "execution_count": null,
      "metadata": {
        "id": "pPejb6JSWqid",
        "outputId": "b1878d8f-2bf7-42ed-9177-109805282d81"
      },
      "outputs": [
        {
          "name": "stdout",
          "output_type": "stream",
          "text": [
            "I study in Duisburg\n",
            "I study in Duisburg\n"
          ]
        }
      ],
      "source": [
        "town = 'Duisburg'\n",
        "print('I study in', town)\n",
        "print(\"I study in \" + town)"
      ]
    },
    {
      "cell_type": "markdown",
      "metadata": {
        "id": "JsHwYg9fWqid"
      },
      "source": [
        "In Python a variable takes the type of the data assigned to it. It will keep that type and you will be warned if you try to mix data in strange ways - like trying to add a string to a number. We can change the type of data that a variable points to by reassigning the variable."
      ]
    },
    {
      "cell_type": "code",
      "execution_count": null,
      "metadata": {
        "id": "ntOwSLPqWqie",
        "outputId": "1dd91d3b-1886-43cb-8610-600a6e893d91"
      },
      "outputs": [
        {
          "name": "stdout",
          "output_type": "stream",
          "text": [
            "7\n",
            "14\n",
            "Seven\n",
            "SevenSeven\n"
          ]
        }
      ],
      "source": [
        "q = 7\n",
        "# q is now a number\n",
        "print(q)\n",
        "print(q + q)\n",
        "\n",
        "q = \"Seven\"\n",
        "# reassign q to a string\n",
        "print(q)\n",
        "print(q + q)"
      ]
    },
    {
      "cell_type": "markdown",
      "metadata": {
        "id": "dziC0F7gWqie"
      },
      "source": [
        "## Comparison Operators\n",
        "Assume variable a holds 10 and variable b holds 20 then:"
      ]
    },
    {
      "cell_type": "markdown",
      "metadata": {
        "id": "HA4iYC7DWqif"
      },
      "source": [
        "| Operator | Description | Example         \n",
        "|:-|:------------- | :-----------------\n",
        "|==|Checks if the value of two operands are equal or not, if yes then condition becomes true.|(a == b) is not true.\n",
        "|!=|Checks if the value of two operands are equal or not, if values are not equal then condition becomes true.|(a != b) is true.\n",
        "|<>|Checks if the value of two operands are equal or not, if values are not equal then condition becomes true.|(a <> b) is true. This is similar to != operator.\n",
        "|/>|Checks if the value of left operand is greater than the value of right operand, if yes then condition becomes true.|(a > b) is not true.\n",
        "|<|Checks if the value of left operand is less than the value of right operand, if yes then condition becomes true.|(a < b) is true.\n",
        "|/>=|Checks if the value of two operands are equal or not, if values are not equal then condition becomes true.|(a >= b) is not true.\n",
        "|<=|Checks if the value of left operand is less than or equal to the value of right operand, if yes then condition becomes true.|(a <= b) is true."
      ]
    },
    {
      "cell_type": "markdown",
      "metadata": {
        "id": "ZB5BheA-Wqif"
      },
      "source": [
        "Take a few minutes to try it out (e.g. ```me = �your name�```). Use already learned operators."
      ]
    },
    {
      "cell_type": "code",
      "execution_count": null,
      "metadata": {
        "id": "YTmekW3FWqif",
        "outputId": "2c55c417-a32d-4b38-c24b-620afe7b7a0b"
      },
      "outputs": [
        {
          "name": "stdout",
          "output_type": "stream",
          "text": [
            "Otto Normalverbaucher\n"
          ]
        }
      ],
      "source": [
        "me = 'Otto'\n",
        "last_name = 'Normalverbaucher'\n",
        "print (me + \" \" + last_name)"
      ]
    },
    {
      "cell_type": "code",
      "execution_count": null,
      "metadata": {
        "id": "6SojRGH6Wqig",
        "outputId": "eaa97d42-b539-4fc6-cde9-28602c41e8d3"
      },
      "outputs": [
        {
          "name": "stdout",
          "output_type": "stream",
          "text": [
            "I am 20\n"
          ]
        }
      ],
      "source": [
        "me = 20\n",
        "print ('I am', me)"
      ]
    },
    {
      "cell_type": "code",
      "execution_count": null,
      "metadata": {
        "id": "XOtRT4aLWqig",
        "outputId": "f1332dbe-950d-4e80-efef-d3e58716eb55"
      },
      "outputs": [
        {
          "name": "stdout",
          "output_type": "stream",
          "text": [
            "True\n"
          ]
        }
      ],
      "source": [
        "word1 = 'one'\n",
        "word2 = 'two'\n",
        "print (word1 != word2)"
      ]
    },
    {
      "cell_type": "code",
      "execution_count": null,
      "metadata": {
        "id": "qitjGD_zWqih",
        "outputId": "f1c179f3-4a12-402e-b245-5af8995bebf3"
      },
      "outputs": [
        {
          "name": "stdout",
          "output_type": "stream",
          "text": [
            "False\n"
          ]
        }
      ],
      "source": [
        "x = 47\n",
        "y = 53\n",
        "print (x >= y)"
      ]
    },
    {
      "cell_type": "markdown",
      "metadata": {
        "id": "5VYyhpL4Wqih"
      },
      "source": [
        "## Slice Operator\n",
        "Subsets of strings can be taken using the slice operator (```[x]``` and ```[x:y]``` ) with indexes starting at 0 in the beginning of the string and working their way from -1 at the end. For example:\n",
        "</div>"
      ]
    },
    {
      "cell_type": "code",
      "execution_count": null,
      "metadata": {
        "id": "WsS-fJLaWqii",
        "outputId": "6b7c22cb-3594-482c-c1a3-089e57aac79c"
      },
      "outputs": [
        {
          "name": "stdout",
          "output_type": "stream",
          "text": [
            "Hello World!\n",
            "H\n",
            "llo\n",
            "llo World!\n"
          ]
        }
      ],
      "source": [
        "str = 'Hello World!'\n",
        "print (str)\n",
        "# Prints complete string\n",
        "\n",
        "print (str[0])\n",
        "# Prints first character of the string\n",
        "\n",
        "print (str[2:5])\n",
        "# Prints characters starting from 3rd to 6th\n",
        "\n",
        "print (str[2:])\n",
        "# Prints string starting from 3rd character"
      ]
    },
    {
      "cell_type": "markdown",
      "metadata": {
        "id": "qriyxc9HWqii"
      },
      "source": [
        "<div class=\"task_description\">\n",
        "    <i class=\"task\">Task 4.1:</i>\n",
        "\n",
        "Solve the tasks below:<br>\n",
        "1. Write your first name, last name, then your complete name (using the already existing variables for the latter) and then print out your complete name 20 times. Use the operators you got to know.\n",
        "</div>"
      ]
    },
    {
      "cell_type": "code",
      "execution_count": null,
      "metadata": {
        "id": "jR_NxGdrWqij",
        "outputId": "46218814-9fa1-4e57-8ce0-12a8ceb1f2be"
      },
      "outputs": [
        {
          "name": "stdout",
          "output_type": "stream",
          "text": [
            "Erika MustermannErika MustermannErika MustermannErika MustermannErika MustermannErika MustermannErika MustermannErika MustermannErika MustermannErika MustermannErika MustermannErika MustermannErika MustermannErika MustermannErika MustermannErika MustermannErika MustermannErika MustermannErika MustermannErika Mustermann\n"
          ]
        }
      ],
      "source": [
        "# for example\n",
        "first_name = 'Erika'\n",
        "last_name = 'Mustermann'\n",
        "complete_name = first_name + \" \" + last_name\n",
        "print (20*complete_name)"
      ]
    },
    {
      "cell_type": "markdown",
      "metadata": {
        "id": "6EVgKsgPWqij"
      },
      "source": [
        "2. Calculate for how long you have lived (in days) since your birth date (assuming one year has 365 days and one month has 31 days)."
      ]
    },
    {
      "cell_type": "code",
      "execution_count": null,
      "metadata": {
        "id": "XpwENNGZWqij",
        "outputId": "64190d55-3dfd-405a-e6c6-fb9273fe66cb"
      },
      "outputs": [
        {
          "name": "stdout",
          "output_type": "stream",
          "text": [
            "14345\n"
          ]
        }
      ],
      "source": [
        "# for example the date of birth is 01.01.1980 and today is 18.04.2019\n",
        "days = (2019 - 1980)*365 + (4 - 1)*31 + (18 - 1)\n",
        "print (days)"
      ]
    },
    {
      "cell_type": "markdown",
      "metadata": {
        "id": "_-ZpeTZpWqik"
      },
      "source": [
        "3. Let b be 27 and c 49. Show in Python that b is less than c."
      ]
    },
    {
      "cell_type": "code",
      "execution_count": null,
      "metadata": {
        "id": "XBsIS-WMWqil",
        "outputId": "767b118e-3465-47ac-96d9-9278e1ddbcd4"
      },
      "outputs": [
        {
          "name": "stdout",
          "output_type": "stream",
          "text": [
            "True\n"
          ]
        }
      ],
      "source": [
        "b = 27\n",
        "c = 49\n",
        "print (b < c)"
      ]
    },
    {
      "cell_type": "markdown",
      "metadata": {
        "id": "JBf5nKHNWqin"
      },
      "source": [
        "# List Comprehension"
      ]
    },
    {
      "cell_type": "markdown",
      "metadata": {
        "id": "dFbmzNC_Wqin"
      },
      "source": [
        "Lists are what they seem - a list of values. Each one of them is numbered, starting from zero - the first one\n",
        "is numbered zero, the second 1, the third 2, etc. You can remove values from the list, and add new values to the end.<br>\n",
        "\n",
        "Example: "
      ]
    },
    {
      "cell_type": "code",
      "execution_count": 2,
      "metadata": {
        "id": "lJqyltPfWqio"
      },
      "outputs": [],
      "source": [
        "names = [\"Otto\", \"Erika\", \"Max\", \"Julia\", \"Paul\"]"
      ]
    },
    {
      "cell_type": "markdown",
      "metadata": {
        "id": "TUe4or9AWqio"
      },
      "source": [
        "You recall values from lists like you do with strings. "
      ]
    },
    {
      "cell_type": "code",
      "execution_count": null,
      "metadata": {
        "id": "dogHm9pPWqio",
        "outputId": "e9cfc211-d714-458f-c725-09cd4daee4c6"
      },
      "outputs": [
        {
          "name": "stdout",
          "output_type": "stream",
          "text": [
            "Max\n",
            "['Otto', 'Erika']\n"
          ]
        }
      ],
      "source": [
        "# print name of 3rd person\n",
        "print(names[2])\n",
        "\n",
        "# print 1st and 2nd name\n",
        "# this is called splicing an array\n",
        "print(names[0:2])"
      ]
    },
    {
      "cell_type": "markdown",
      "metadata": {
        "id": "msgsCJBUWqio"
      },
      "source": [
        "To add a value to a list, you use the ```append()``` function. To add \"Heinz\" to the list you would do this:"
      ]
    },
    {
      "cell_type": "code",
      "execution_count": null,
      "metadata": {
        "id": "TJCGGUxOWqip",
        "outputId": "8b167be5-b3d2-42bf-be95-ec73a8896893"
      },
      "outputs": [
        {
          "name": "stdout",
          "output_type": "stream",
          "text": [
            "['Otto', 'Erika', 'Max', 'Julia', 'Paul', 'Heinz']\n"
          ]
        }
      ],
      "source": [
        "names.append(\"Heinz\")\n",
        "print(names)"
      ]
    },
    {
      "cell_type": "markdown",
      "metadata": {
        "id": "dM4usrmwWqip"
      },
      "source": [
        "To remove a value from a list, you would do this:"
      ]
    },
    {
      "cell_type": "code",
      "execution_count": null,
      "metadata": {
        "id": "Apv_HIEzWqip",
        "outputId": "1d5bda3d-59f6-46f2-f552-66d92ca07150"
      },
      "outputs": [
        {
          "name": "stdout",
          "output_type": "stream",
          "text": [
            "['Otto', 'Max', 'Julia', 'Paul', 'Heinz']\n"
          ]
        }
      ],
      "source": [
        "del names[1]\n",
        "#deletes the 2nd name\n",
        "print(names)"
      ]
    },
    {
      "cell_type": "markdown",
      "metadata": {
        "id": "-ArbljX_Wqiq"
      },
      "source": [
        "Let there be another list which contains last names. To concatenate the two lists you would do this:"
      ]
    },
    {
      "cell_type": "code",
      "execution_count": 3,
      "metadata": {
        "colab": {
          "base_uri": "https://localhost:8080/"
        },
        "id": "Il6juq6-Wqiq",
        "outputId": "392f69e2-3b9b-4b34-af0c-aee22c9545f3"
      },
      "outputs": [
        {
          "output_type": "stream",
          "name": "stdout",
          "text": [
            "['Otto', 'Erika', 'Max', 'Julia', 'Paul', 'Normalverbraucher', 'Mustermann', 'Schulz', 'Mueller', 'Schmidt']\n"
          ]
        }
      ],
      "source": [
        "lastnames = [\"Normalverbraucher\", \"Mustermann\", \"Schulz\", \"Mueller\", \"Schmidt\"]\n",
        "print(names + lastnames)"
      ]
    },
    {
      "cell_type": "markdown",
      "metadata": {
        "id": "vCCx7Y7yWqiq"
      },
      "source": [
        "Finally, we can determine the length of a list by using the built-in ```len()``` function:"
      ]
    },
    {
      "cell_type": "code",
      "execution_count": null,
      "metadata": {
        "scrolled": true,
        "id": "Rhz3ohqEWqir",
        "outputId": "645c0dc2-0cc6-43bb-bb88-55088c9b593b"
      },
      "outputs": [
        {
          "name": "stdout",
          "output_type": "stream",
          "text": [
            "5\n"
          ]
        }
      ],
      "source": [
        "print(len(names))"
      ]
    },
    {
      "cell_type": "markdown",
      "metadata": {
        "id": "OD7VVHCNWqir"
      },
      "source": [
        "# Branches and Loops\n",
        "\n",
        "Gives you more control over your programs."
      ]
    },
    {
      "cell_type": "markdown",
      "metadata": {
        "id": "5pwWk6d4Wqir"
      },
      "source": [
        "## The 'if' statement"
      ]
    },
    {
      "cell_type": "markdown",
      "metadata": {
        "id": "uF4D3eL-Wqir"
      },
      "source": [
        "The syntax of the if...elif statement is:\n",
        "````py\n",
        "if expression1:\n",
        "    statement(s)\n",
        "elif expression2:\n",
        "    statement(s)\n",
        "elif expression3:\n",
        "    statement(s)\n",
        "else:\n",
        "    statement(s)\n",
        "````"
      ]
    },
    {
      "cell_type": "markdown",
      "metadata": {
        "id": "A4dsXpCQWqis"
      },
      "source": [
        "However the else and elif (else + �new� if) parts are optional.<br>\n",
        "Example:"
      ]
    },
    {
      "cell_type": "code",
      "execution_count": null,
      "metadata": {
        "id": "CzVmUB-6Wqis",
        "outputId": "5e477cc4-af0f-4443-8197-7f938a897a27"
      },
      "outputs": [
        {
          "name": "stdout",
          "output_type": "stream",
          "text": [
            "highway\n"
          ]
        }
      ],
      "source": [
        "little_traffic = True\n",
        "if (little_traffic):\n",
        "    print ('highway')\n",
        "else:\n",
        "    print ('federal and country roads')"
      ]
    },
    {
      "cell_type": "markdown",
      "metadata": {
        "id": "TZajju_fWqis"
      },
      "source": [
        "## The 'while' loop \n",
        "The while loop is one of the looping constructs available in Python. It continues until the expression becomes false. This expression has to be a logical expression and must return either a 'True' or a 'False' value.<br>\n",
        "The syntax of the while loop is:"
      ]
    },
    {
      "cell_type": "markdown",
      "metadata": {
        "id": "0Srpr20hWqit"
      },
      "source": [
        "```py\n",
        "while expression:\n",
        "    statement(s)\n",
        "```"
      ]
    },
    {
      "cell_type": "markdown",
      "metadata": {
        "id": "tuRTIdAsWqit"
      },
      "source": [
        "Example:"
      ]
    },
    {
      "cell_type": "code",
      "execution_count": null,
      "metadata": {
        "id": "MkmcJMAkWqit",
        "outputId": "bf1bc196-68bc-4ef7-9f23-578b22171132"
      },
      "outputs": [
        {
          "name": "stdout",
          "output_type": "stream",
          "text": [
            "The count is: 0\n",
            "The count is: 1\n",
            "The count is: 2\n",
            "The count is: 3\n",
            "The count is: 4\n",
            "The count is: 5\n",
            "The count is: 6\n",
            "The count is: 7\n",
            "The count is: 8\n"
          ]
        }
      ],
      "source": [
        "count = 0\n",
        "while (count < 9):\n",
        "    print ('The count is:', count)\n",
        "    count = count + 1"
      ]
    },
    {
      "cell_type": "markdown",
      "metadata": {
        "id": "TvVdASGKWqit"
      },
      "source": [
        "The block here, consisting of the print and increment statements, is executed repeatedly until the count is less than 9. With each iteration, the current value of the index count is displayed and then increased by 1."
      ]
    },
    {
      "cell_type": "markdown",
      "metadata": {
        "id": "xI6nMyvGWqit"
      },
      "source": [
        "## The 'for' loop \n",
        "The for loop in Python has the ability to iterate over the items of any sequence, such as a list or a\n",
        "string. The syntax of the loop look is:"
      ]
    },
    {
      "cell_type": "markdown",
      "metadata": {
        "id": "uq2to2y4Wqit"
      },
      "source": [
        "````py\n",
        "for item in list:\n",
        "    statements(s)\n",
        "````"
      ]
    },
    {
      "cell_type": "markdown",
      "metadata": {
        "id": "iw9anFN1Wqit"
      },
      "source": [
        "If a sequence contains an expression list, it is evaluated first. Then, the first item in the sequence is assigned to the iterating variable 'item'. Next, the statements block is executed. Each item in the list is assigned to 'item',\n",
        "and the statements(s) block is executed until the entire sequence is exhausted. <br>\n",
        "Example:"
      ]
    },
    {
      "cell_type": "code",
      "execution_count": null,
      "metadata": {
        "id": "T4HMMe4UWqiu",
        "outputId": "6c663cb4-dc01-4da2-ca0a-a988c1ea7629"
      },
      "outputs": [
        {
          "name": "stdout",
          "output_type": "stream",
          "text": [
            "Current Letter : P\n",
            "Current Letter : y\n",
            "Current Letter : t\n",
            "Current Letter : h\n",
            "Current Letter : o\n",
            "Current Letter : n\n",
            "Current fruit : banana\n",
            "Current fruit : apple\n",
            "Current fruit : mango\n"
          ]
        }
      ],
      "source": [
        "# First Example\n",
        "for letter in 'Python': \n",
        "    print ('Current Letter :', letter)\n",
        "\n",
        "# Second Example\n",
        "fruits = ['banana', 'apple', 'mango']\n",
        "for fruit in fruits: \n",
        "    print ('Current fruit :', fruit)"
      ]
    },
    {
      "cell_type": "markdown",
      "metadata": {
        "id": "W5hFbsRQWqiu"
      },
      "source": [
        "## Combination of loops and branches"
      ]
    },
    {
      "cell_type": "markdown",
      "metadata": {
        "id": "opuqK2exWqiu"
      },
      "source": [
        "General Syntax:\n",
        "```py\n",
        "[ expression for item in list if conditional ]\n",
        "```\n",
        "equivalent to\n",
        "```py\n",
        "for item in list:\n",
        "    if conditional:\n",
        "        expression\n",
        "```"
      ]
    },
    {
      "cell_type": "markdown",
      "metadata": {
        "id": "InsZpDgdWqiv"
      },
      "source": [
        "Below you can see further examples, starting with a simple iteration over a number. We can only  iterate over sets, so we need the range() function."
      ]
    },
    {
      "cell_type": "code",
      "execution_count": null,
      "metadata": {
        "id": "DQPEHoilWqiv",
        "outputId": "10a6b303-b1c4-48d4-8a05-1d65f860a194"
      },
      "outputs": [
        {
          "data": {
            "text/plain": [
              "[0, 1, 2, 3, 4, 5, 6, 7, 8, 9]"
            ]
          },
          "execution_count": 36,
          "metadata": {},
          "output_type": "execute_result"
        }
      ],
      "source": [
        "[i for i in range(10)]"
      ]
    },
    {
      "cell_type": "markdown",
      "metadata": {
        "id": "YavahHnoWqiv"
      },
      "source": [
        "Use a condition to filter to even numbers."
      ]
    },
    {
      "cell_type": "code",
      "execution_count": null,
      "metadata": {
        "id": "kGEPmoCFWqiv",
        "outputId": "269e06ca-0311-412a-96b1-eeeab02c8769"
      },
      "outputs": [
        {
          "data": {
            "text/plain": [
              "[0, 2, 4, 6, 8]"
            ]
          },
          "execution_count": 37,
          "metadata": {},
          "output_type": "execute_result"
        }
      ],
      "source": [
        "[i for i in range(10) if i % 2 == 0]"
      ]
    },
    {
      "cell_type": "markdown",
      "metadata": {
        "id": "LH-R6DpTWqiw"
      },
      "source": [
        "You can also modify the result of the iteration."
      ]
    },
    {
      "cell_type": "code",
      "execution_count": null,
      "metadata": {
        "id": "Pu-w5Y1pWqiw",
        "outputId": "cefcf43a-d42b-42da-d2e5-1ee0d398672b"
      },
      "outputs": [
        {
          "data": {
            "text/plain": [
              "[0, 1, 4, 9, 16, 25, 36, 49, 64, 81]"
            ]
          },
          "execution_count": 38,
          "metadata": {},
          "output_type": "execute_result"
        }
      ],
      "source": [
        "[i**2 for i in range(10)]"
      ]
    },
    {
      "cell_type": "markdown",
      "metadata": {
        "id": "TlrfPbYIWqiw"
      },
      "source": [
        "Working with strings:"
      ]
    },
    {
      "cell_type": "code",
      "execution_count": null,
      "metadata": {
        "id": "I_nRPBuAWqiw",
        "outputId": "39cc4445-98ca-4677-f77c-4ecb76df5908"
      },
      "outputs": [
        {
          "name": "stdout",
          "output_type": "stream",
          "text": [
            "['This', 'is', 'an', 'example']\n"
          ]
        }
      ],
      "source": [
        "words = \"This is an example\".split()\n",
        "print(words)"
      ]
    },
    {
      "cell_type": "markdown",
      "metadata": {
        "id": "mMoDfG1nWqix"
      },
      "source": [
        "A string can be accessed like a list."
      ]
    },
    {
      "cell_type": "code",
      "execution_count": null,
      "metadata": {
        "id": "04rSbvZcWqix",
        "outputId": "c4bd01fb-8363-4cd1-8c72-351ca57e6e6f"
      },
      "outputs": [
        {
          "data": {
            "text/plain": [
              "['T', 'i', 'a', 'e']"
            ]
          },
          "execution_count": 40,
          "metadata": {},
          "output_type": "execute_result"
        }
      ],
      "source": [
        "[word[0] for word in words]"
      ]
    },
    {
      "cell_type": "markdown",
      "metadata": {
        "id": "IspwJ37qWqix"
      },
      "source": [
        "We can modify each of the resulting elements..."
      ]
    },
    {
      "cell_type": "code",
      "execution_count": null,
      "metadata": {
        "id": "KSj8fMM5Wqix",
        "outputId": "eb1136e0-9993-4e7f-aabc-aa3aa781cf87"
      },
      "outputs": [
        {
          "data": {
            "text/plain": [
              "['THIS', 'IS', 'AN', 'EXAMPLE']"
            ]
          },
          "execution_count": 41,
          "metadata": {},
          "output_type": "execute_result"
        }
      ],
      "source": [
        "[word.upper() for word in words]"
      ]
    },
    {
      "cell_type": "markdown",
      "metadata": {
        "id": "bRnwZolSWqiy"
      },
      "source": [
        "...or use a function on each element"
      ]
    },
    {
      "cell_type": "code",
      "execution_count": null,
      "metadata": {
        "id": "Vbo83RikWqiy",
        "outputId": "b94e1512-ccb5-4bc2-9bfe-2cb391621232"
      },
      "outputs": [
        {
          "data": {
            "text/plain": [
              "[4, 2, 2, 7]"
            ]
          },
          "execution_count": 42,
          "metadata": {},
          "output_type": "execute_result"
        }
      ],
      "source": [
        "[len(token) for token in words]"
      ]
    },
    {
      "cell_type": "markdown",
      "metadata": {
        "id": "bXgHAqciWqiy"
      },
      "source": [
        "Another example for using conditions/filters:"
      ]
    },
    {
      "cell_type": "code",
      "execution_count": null,
      "metadata": {
        "scrolled": true,
        "id": "KqX7ohRUWqiy",
        "outputId": "251a11ec-1fd7-4b72-99d9-4b8c9a9c16f2"
      },
      "outputs": [
        {
          "data": {
            "text/plain": [
              "['is', 'an']"
            ]
          },
          "execution_count": 43,
          "metadata": {},
          "output_type": "execute_result"
        }
      ],
      "source": [
        "[word for word in words if len(word) < 4]"
      ]
    },
    {
      "cell_type": "markdown",
      "metadata": {
        "id": "eKpckCfSWqiz"
      },
      "source": [
        "<div class=\"task_description\">\n",
        "    <i class=\"task\">Task 5.1:</i><br>\n",
        "Create a list with the following elements (in brackets is given the data type):\n",
        "</div>\n",
        "\n",
        "\n",
        "123(integer), me(string), 42(integer), like(string) easy(string), Python(string), 21.0(real number), twenty(string)\n"
      ]
    },
    {
      "cell_type": "markdown",
      "metadata": {
        "id": "ImbvarnfWqiz"
      },
      "source": [
        "1. Print out the complete list"
      ]
    },
    {
      "cell_type": "code",
      "execution_count": null,
      "metadata": {
        "id": "lGDkk0-5Wqiz",
        "outputId": "427fb371-cddc-42fe-cb58-012d4a74da47"
      },
      "outputs": [
        {
          "name": "stdout",
          "output_type": "stream",
          "text": [
            "[123, 'me', 42, 'like', 'easy', 'Python', 21.0, 'twenty']\n"
          ]
        }
      ],
      "source": [
        "list = [123, 'me', 42, 'like', 'easy', 'Python', 21.0, 'twenty']\n",
        "print (list)"
      ]
    },
    {
      "cell_type": "markdown",
      "metadata": {
        "id": "X7QDwRIdWqi0"
      },
      "source": [
        "2. Print out elements starting from 3rd to 6th"
      ]
    },
    {
      "cell_type": "code",
      "execution_count": null,
      "metadata": {
        "id": "K0CX639KWqi0",
        "outputId": "69d10918-0015-4533-8566-3b932742287a"
      },
      "outputs": [
        {
          "name": "stdout",
          "output_type": "stream",
          "text": [
            "[42, 'like', 'easy', 'Python']\n"
          ]
        }
      ],
      "source": [
        "print (list[2:6])"
      ]
    },
    {
      "cell_type": "markdown",
      "metadata": {
        "id": "9odkmR9hWqi0"
      },
      "source": [
        "3. Add to the list elements: quickly(string) and 12.1(real number). Print out the last three elements. Use the function 'len()' for the latter."
      ]
    },
    {
      "cell_type": "code",
      "execution_count": null,
      "metadata": {
        "id": "tO8npMDPWqi1",
        "outputId": "dd5fcb7d-0fc8-42e3-8e1b-14aa7c477c19"
      },
      "outputs": [
        {
          "name": "stdout",
          "output_type": "stream",
          "text": [
            "['twenty', 'quickly', 12.1]\n"
          ]
        }
      ],
      "source": [
        "list.append('quickly')\n",
        "list.append(12.1)\n",
        "print (list[len(list)-3:len(list)])"
      ]
    },
    {
      "cell_type": "markdown",
      "metadata": {
        "id": "88fFS0toWqi1"
      },
      "source": [
        "4. Delete the fifth element of this list and print out the length of the double list."
      ]
    },
    {
      "cell_type": "code",
      "execution_count": null,
      "metadata": {
        "id": "OoHPoIOqWqi1",
        "outputId": "bc83f021-4875-4304-9693-ef71b91fd30f"
      },
      "outputs": [
        {
          "name": "stdout",
          "output_type": "stream",
          "text": [
            "18\n"
          ]
        }
      ],
      "source": [
        "del list[4]\n",
        "print (len(2 * list))"
      ]
    },
    {
      "cell_type": "markdown",
      "metadata": {
        "id": "txV4LdCCWqi1"
      },
      "source": [
        "<div class=\"task_description\">\n",
        "    <i class=\"task\">Task 5.2:</i><br>\n",
        "</div>\n"
      ]
    },
    {
      "cell_type": "markdown",
      "metadata": {
        "id": "j0Zn-6iQWqi1"
      },
      "source": [
        "1. Iterate over all elements of the list, which consist  of the following elements: 25, \"Berlin\", \"large\", 575.2, \"mango\", \"Snappy\" and print out all these elements."
      ]
    },
    {
      "cell_type": "code",
      "execution_count": null,
      "metadata": {
        "id": "LgRBU2rAWqi1",
        "outputId": "d717887d-6e4c-41e3-9b26-9af6fe33bd82"
      },
      "outputs": [
        {
          "name": "stdout",
          "output_type": "stream",
          "text": [
            "25\n",
            "Berlin\n",
            "large\n",
            "575.2\n",
            "mango\n",
            "Snappy\n"
          ]
        }
      ],
      "source": [
        "list = [25, 'Berlin', 'large', 575.2, 'mango', 'Snappy']\n",
        "for element in list:\n",
        "    print (element)"
      ]
    },
    {
      "cell_type": "markdown",
      "metadata": {
        "id": "HJVePdzFWqi2"
      },
      "source": [
        "2. Print out all even numbers numbers from 0(inclusively) to 14(exclusively)."
      ]
    },
    {
      "cell_type": "code",
      "execution_count": null,
      "metadata": {
        "id": "3PNkPbf2Wqi2",
        "outputId": "7de828fd-2c42-45d8-f109-0feb1197f596"
      },
      "outputs": [
        {
          "name": "stdout",
          "output_type": "stream",
          "text": [
            "0\n",
            "2\n",
            "4\n",
            "6\n",
            "8\n",
            "10\n",
            "12\n"
          ]
        }
      ],
      "source": [
        "counter = 0\n",
        "while counter < 14:\n",
        "    print(counter)\n",
        "    counter = counter + 2"
      ]
    },
    {
      "cell_type": "markdown",
      "metadata": {
        "id": "Aqjs4piAWqi4"
      },
      "source": [
        "3. Given two integer numbers b and c find the maximum of these two numbers and print the name of the maximum. In case b equals c print 'b and c are equal'. You can test your program with following data:\n",
        "\n",
        "    1. b = 6, c = 9\n",
        "    2. b = 4, c = 4\n",
        "    3. b= 23, c = 2"
      ]
    },
    {
      "cell_type": "code",
      "execution_count": null,
      "metadata": {
        "id": "RjnSc4x5Wqi5",
        "outputId": "5635c46d-eabf-4b87-81c8-3fd6a3ebbcc2"
      },
      "outputs": [
        {
          "name": "stdout",
          "output_type": "stream",
          "text": [
            "c is the maximum\n"
          ]
        }
      ],
      "source": [
        "b = 6\n",
        "c = 9\n",
        "if b < c:\n",
        "    print ('c is the maximum')\n",
        "elif b == c:\n",
        "    print ('b and c are equal')\n",
        "else:\n",
        "    print ('b is the maximum')"
      ]
    },
    {
      "cell_type": "markdown",
      "metadata": {
        "id": "6SiVg_IuWqi5"
      },
      "source": [
        "4. Create a list name_lastname so that each name from earlier on is followed by the corresponding last name. You want your solution to be: <br>\n",
        "```['Otto', 'Normalverbraucher', 'Max', 'Mustermann', 'Julia', 'Schulz', 'Paul', 'Mueller', 'Heinz', 'Schmidt']```"
      ]
    },
    {
      "cell_type": "code",
      "execution_count": 4,
      "metadata": {
        "colab": {
          "base_uri": "https://localhost:8080/"
        },
        "id": "-VpsZWSlWqi6",
        "outputId": "44f88f55-c3fe-4520-dc49-c59f633bdf63"
      },
      "outputs": [
        {
          "output_type": "stream",
          "name": "stdout",
          "text": [
            "['Otto', 'Normalverbraucher', 'Max', 'Mustermann', 'Julia', 'Schulz', 'Paul', 'Mueller', 'Heinz', 'Schmidt']\n"
          ]
        }
      ],
      "source": [
        "names=[\"Otto\", \"Max\", \"Julia\", \"Paul\", \"Heinz\"]\n",
        "lastnames=[\"Normalverbraucher\", \"Mustermann\", \"Schulz\", \"Mueller\", \"Schmidt\"]\n",
        "name_lastname=[]\n",
        "i=0\n",
        "for name in names:\n",
        "    name_lastname.append(names[i])\n",
        "    name_lastname.append(lastnames[i])\n",
        "    i+=1\n",
        "print(name_lastname)"
      ]
    },
    {
      "cell_type": "markdown",
      "metadata": {
        "id": "dMiTskbtWqi6"
      },
      "source": [
        "Alternatively, use the ```zip()``` method, but note that it yields a slightly different result (maybe even more useful):"
      ]
    },
    {
      "cell_type": "code",
      "execution_count": 5,
      "metadata": {
        "colab": {
          "base_uri": "https://localhost:8080/"
        },
        "id": "pstL3ZgxWqi7",
        "outputId": "7428e999-d015-4511-9633-12ecec70edcd"
      },
      "outputs": [
        {
          "output_type": "execute_result",
          "data": {
            "text/plain": [
              "[('Otto', 'Normalverbraucher'),\n",
              " ('Max', 'Mustermann'),\n",
              " ('Julia', 'Schulz'),\n",
              " ('Paul', 'Mueller'),\n",
              " ('Heinz', 'Schmidt')]"
            ]
          },
          "metadata": {},
          "execution_count": 5
        }
      ],
      "source": [
        "[elem for elem in zip(names, lastnames)]"
      ]
    },
    {
      "cell_type": "markdown",
      "metadata": {
        "id": "Yhs_E3K_Wqi7"
      },
      "source": [
        "<div class=\"task_description\">\n",
        "    <i class=\"task\">Task 5.3:</i><br>\n",
        "Consider the following text: \"Today it's nice weather. Is it not nice today :-) ?\"\n",
        "Print the following information of the given text:\n",
        "</div>\n"
      ]
    },
    {
      "cell_type": "markdown",
      "metadata": {
        "id": "KNgbxt1kWqi7"
      },
      "source": [
        "1. What is the length of this text?"
      ]
    },
    {
      "cell_type": "code",
      "execution_count": null,
      "metadata": {
        "id": "Kb54ezsvWqi7",
        "outputId": "c22d5479-21ea-4c0d-a3dd-6cca83995a38"
      },
      "outputs": [
        {
          "name": "stdout",
          "output_type": "stream",
          "text": [
            "51\n"
          ]
        }
      ],
      "source": [
        "text = \"Today it's nice weather. Is it not nice today :-) ?\"\n",
        "print (len(text))"
      ]
    },
    {
      "cell_type": "markdown",
      "metadata": {
        "id": "HZYjT7RkWqi8"
      },
      "source": [
        "2. Represent this text as a list of tokens."
      ]
    },
    {
      "cell_type": "code",
      "execution_count": null,
      "metadata": {
        "id": "1t3nF59pWqi8"
      },
      "outputs": [],
      "source": [
        "tokens = text.split()"
      ]
    },
    {
      "cell_type": "markdown",
      "metadata": {
        "id": "vmjkBB1_Wqi8"
      },
      "source": [
        "3. Concatenate the fifth to eighth element with the last five elements"
      ]
    },
    {
      "cell_type": "code",
      "execution_count": null,
      "metadata": {
        "id": "Skc_EGngWqi8",
        "outputId": "753e00bd-89e6-48cb-e414-2fa389a2c59a"
      },
      "outputs": [
        {
          "name": "stdout",
          "output_type": "stream",
          "text": [
            "y it:-) ?\n"
          ]
        }
      ],
      "source": [
        "print (text[4 : 8] + text[len(text)-5 : len(text)])"
      ]
    },
    {
      "cell_type": "markdown",
      "metadata": {
        "id": "tROJI4ssWqi9"
      },
      "source": [
        "How many times does the letter \"i\" appear in the text? How much is this as a percentage of the total number of\n",
        "letters in this text?"
      ]
    },
    {
      "cell_type": "code",
      "execution_count": null,
      "metadata": {
        "id": "DRdoRuxcWqi9",
        "outputId": "55be5628-608d-40b2-f1cb-90b22bbf13a1"
      },
      "outputs": [
        {
          "name": "stdout",
          "output_type": "stream",
          "text": [
            "4\n",
            "7.8431372549019605 %\n",
            "7 %\n"
          ]
        }
      ],
      "source": [
        "i_counter = 0\n",
        "for letter in text:\n",
        "    if letter == 'i':\n",
        "        i_counter = i_counter + 1\n",
        "print (i_counter)\n",
        "print ((i_counter * 100.0 / len(text)), '%') # as real number\n",
        "print ((i_counter * 100 // len(text)), '%') # as integer"
      ]
    },
    {
      "cell_type": "markdown",
      "metadata": {
        "id": "7qMiJeiuWqi-"
      },
      "source": [
        "<div class=\"task_description\">\n",
        "    <i class=\"task\">Task 5.4:</i><br>\n",
        "Given a list of elements (defined below).\n",
        "Print out the longest element of this list and its length.\n",
        "</div>"
      ]
    },
    {
      "cell_type": "code",
      "execution_count": null,
      "metadata": {
        "id": "MaB8hZX4Wqi-",
        "outputId": "dada5e37-7606-4d22-84eb-122ff2f0d9b7"
      },
      "outputs": [
        {
          "name": "stdout",
          "output_type": "stream",
          "text": [
            "the longest element is: weather\n",
            "the length of weather is 7\n"
          ]
        }
      ],
      "source": [
        "tokens = \"I like the weather in autumn, how it's cold and crips and sunny and fresh.\".split()\n",
        "\n",
        "max_length = 0\n",
        "longest_element = ''\n",
        "for item in tokens:\n",
        "    if len(item) > max_length:\n",
        "        max_length = len(item)\n",
        "        longest_element = item\n",
        "print('the longest element is:', longest_element)\n",
        "print('the length of', longest_element, 'is', max_length)"
      ]
    },
    {
      "cell_type": "code",
      "execution_count": null,
      "metadata": {
        "id": "Tgtt8vL5Wqi-",
        "outputId": "4065ea6f-d0b2-4e36-8361-27dfd4dfabf3"
      },
      "outputs": [
        {
          "name": "stdout",
          "output_type": "stream",
          "text": [
            "weather has length 7\n"
          ]
        }
      ],
      "source": [
        "# alternative way of doing the same\n",
        "max_length, longest_element = max([(len(x),x) for x in tokens])\n",
        "print(longest_element + \" has length \" + str(max_length))"
      ]
    },
    {
      "cell_type": "markdown",
      "metadata": {
        "id": "5pDqppEzWqjA"
      },
      "source": [
        "### Functions"
      ]
    },
    {
      "cell_type": "markdown",
      "metadata": {
        "id": "ffAA-h5nWqjA"
      },
      "source": [
        "As you already know, Python gives you many built-in functions like ```print()```, ```len()``` etc. but you can also create your own functions. These functions are called user-defined functions.\n",
        "\n",
        "Functions are little self-contained programs that perform a specific task, which you can incorporate into your own, larger programs. After you have created a function, you can use it at any time, in any place. This saves time and without repetitions of code your programm will be more readable for other people.\n",
        "\n",
        "We start with the keyword ```def``` which is followed by the name of the function and the indicator for the function's arguments. We list the arguments giving them the names that will be used in the definition of the function. These names have nothing to do with any name that may appear outside the function definition. The line ends with a colon and what follows, the definition of the function, is indented.\n",
        "This indented block carries the actual working of the function.\n",
        "\n",
        "By using the keyword ```return``` (which can only be used in a function) the calculated value is returned."
      ]
    },
    {
      "cell_type": "markdown",
      "metadata": {
        "id": "xAMEUXkDWqjB"
      },
      "source": [
        "Below you can see a function which, given a list, prints out the total length of elements in the list."
      ]
    },
    {
      "cell_type": "code",
      "execution_count": null,
      "metadata": {
        "id": "bJRJC7egWqjB",
        "outputId": "d186c471-34dc-4e11-c559-c2119602c474"
      },
      "outputs": [
        {
          "data": {
            "text/plain": [
              "7"
            ]
          },
          "execution_count": 22,
          "metadata": {},
          "output_type": "execute_result"
        }
      ],
      "source": [
        "def total_length(list):\n",
        "    sum = 0\n",
        "    for element in list:\n",
        "        sum = sum + len(element)\n",
        "    return sum\n",
        "\n",
        "total_length(['123', 'xyz', 'a'])"
      ]
    },
    {
      "cell_type": "markdown",
      "metadata": {
        "id": "8mdXogNAWqjB"
      },
      "source": [
        "One more example: This function finds the length of the longest element in a list."
      ]
    },
    {
      "cell_type": "code",
      "execution_count": null,
      "metadata": {
        "id": "FRfHoHvQWqjC",
        "outputId": "63c24ebc-5305-434b-cea4-cf4eb4432302"
      },
      "outputs": [
        {
          "data": {
            "text/plain": [
              "12"
            ]
          },
          "execution_count": 23,
          "metadata": {},
          "output_type": "execute_result"
        }
      ],
      "source": [
        "def longest_element(list):\n",
        "    longest = len(list[0]) # initializes the length of the longest element as the length of the first element\n",
        "    for element in list:\n",
        "        if len(element) > longest:\n",
        "            longest = len(element)\n",
        "    return longest\n",
        "\n",
        "longest_element([\"Python\",\"GKI\",\"Introduction\"])"
      ]
    },
    {
      "cell_type": "markdown",
      "metadata": {
        "id": "YqngxmjBWqjC"
      },
      "source": [
        "### Import\n",
        "Suppose we have written a really useful function that we want to use in many different scripts.\n",
        "We can, of course, just copy the function's definition from one script to another. However, if we change the function definition in one script we have to repeat the edit in all our scripts.\n",
        "What we want is a mechanism to use a single definition in multiple scripts. This is called 'importing the function'.\n",
        "The import of only one function can cause problems, so it is better to import a module with this function. A module is a file consisting of Python code. It can define functions, variables and classes."
      ]
    },
    {
      "cell_type": "markdown",
      "metadata": {
        "id": "QX9A7fwaWqjC"
      },
      "source": [
        "#### The import statement:\n",
        "You can use any Python source file as a module by executing an import statement in some other Python source file. 'import' has the following syntax:\n",
        "```py\n",
        "import module1[, module2[,... moduleN]\n",
        "```"
      ]
    },
    {
      "cell_type": "markdown",
      "metadata": {
        "id": "vQ7g9KcFWqjC"
      },
      "source": [
        "#### The from...import statement\n",
        "Python's 'from...import' statement lets you import specific attributes from a module into the current namespace:\n",
        "```py\n",
        "from modname import name1[, name2[, ... nameN]]\n",
        "```"
      ]
    },
    {
      "cell_type": "markdown",
      "metadata": {
        "id": "AdDVE4mGWqjD"
      },
      "source": [
        "#### The from...import * statement: \n",
        "It is also possible to import all names from a module into the current namespace by using the following import statement:\n",
        "```py\n",
        "from modname import *\n",
        "```"
      ]
    },
    {
      "cell_type": "markdown",
      "metadata": {
        "id": "QvefRGD7WqjD"
      },
      "source": [
        "<div class=\"task_description\">\n",
        "    <i class=\"task\">Task 6.1:</i>\n",
        "Given two integer numbers b and c find the minimum of these two numbers and print the name of the minimum. In case b equals c print 'b and c are equal'. Write a function to solve this task: You can test your program with following data:\n",
        "\n",
        "   1. b = 6, c = 9\n",
        "   2. b = 4, c = 4\n",
        "   3. b= 23, c = 2\n",
        "</div>"
      ]
    },
    {
      "cell_type": "code",
      "execution_count": null,
      "metadata": {
        "id": "mdDdbBHcWqjD",
        "outputId": "51977d0b-9d59-46b9-d024-9c12f2d9f39d"
      },
      "outputs": [
        {
          "name": "stdout",
          "output_type": "stream",
          "text": [
            "b is the minimum\n",
            "b and c are equal\n",
            "c is the minimum\n"
          ]
        }
      ],
      "source": [
        "def min(b,c):\n",
        "    if b < c:\n",
        "        print ('b is the minimum')\n",
        "    elif b == c:\n",
        "        print ('b and c are equal')\n",
        "    else:\n",
        "        print ('c is the minimum')\n",
        "\n",
        "min(6, 9) # 1.\n",
        "min(4, 4) # 2.\n",
        "min(23, 2) # 3."
      ]
    },
    {
      "cell_type": "markdown",
      "metadata": {
        "id": "0LR38rFRWqjE"
      },
      "source": [
        "<div class=\"task_description\">\n",
        "    <i class=\"task\">Task 6.2:</i><br>\n",
        "Given is a list print out the total length of the list's elements.\n",
        "For example: total_length([\"123\", \"xyz\", 'a']) returns 7.\n",
        "</div>"
      ]
    },
    {
      "cell_type": "code",
      "execution_count": null,
      "metadata": {
        "id": "3mm9CwwlWqjE",
        "outputId": "816c657f-fdc2-4b07-be24-cac3b6d9db5d"
      },
      "outputs": [
        {
          "name": "stdout",
          "output_type": "stream",
          "text": [
            "7\n"
          ]
        }
      ],
      "source": [
        "def total_length(list):\n",
        "    sum = 0\n",
        "    for element in list:\n",
        "        sum = sum + len(element)\n",
        "    return sum\n",
        "print (total_length([\"123\",\"xyz\",\"a\"]))"
      ]
    },
    {
      "cell_type": "markdown",
      "metadata": {
        "id": "j4gvnH8oWqjE"
      },
      "source": [
        "<div class=\"task_description\">\n",
        "    <i class=\"task\">Task 6.3:</i><br>\n",
        "</div>\n",
        "\n",
        "Given is a list with integer and real numbers. Define a function that returns a list with only positive\n",
        "numbers."
      ]
    },
    {
      "cell_type": "code",
      "execution_count": null,
      "metadata": {
        "id": "vFoJ82yPWqjF",
        "outputId": "afa01b8e-9171-4ddb-adf5-cbd6490231bc"
      },
      "outputs": [
        {
          "name": "stdout",
          "output_type": "stream",
          "text": [
            "[3, 2.4]\n"
          ]
        }
      ],
      "source": [
        "def positive(a_list):\n",
        "    answer = []\n",
        "    for a in a_list:\n",
        "        if a > 0:\n",
        "            answer.append(a)\n",
        "    return answer\n",
        "print (positive([3,-3,2.4,-0.1]))"
      ]
    },
    {
      "cell_type": "markdown",
      "metadata": {
        "id": "BrYviu6OWqjF"
      },
      "source": [
        "Define a function that returns how many times the letter \"s\" appears in the text (don't use any built-in functions). How much is this as a percentage of the total number of letters in this text (print it out)?"
      ]
    },
    {
      "cell_type": "code",
      "execution_count": null,
      "metadata": {
        "id": "ehnN7mnCWqjF",
        "outputId": "4c856dc7-879d-4523-a465-0b441ed1d11f"
      },
      "outputs": [
        {
          "name": "stdout",
          "output_type": "stream",
          "text": [
            "The s's make up 15.789473684210526 % of the text\n",
            "3\n"
          ]
        }
      ],
      "source": [
        "def s_occur(text):\n",
        "    s_counter = 0\n",
        "    for letter in text:\n",
        "        if letter == 's':\n",
        "            s_counter = s_counter + 1\n",
        "    print (\"The s's make up\", (s_counter * 100 / len(text)), '%',\"of the text\")\n",
        "    return s_counter\n",
        "print (s_occur(\"This is a test text\"))"
      ]
    },
    {
      "cell_type": "markdown",
      "metadata": {
        "id": "KcGcLUWbWqjF"
      },
      "source": [
        "<div class=\"task_description\">\n",
        "    <i class=\"task\">Task 6.4:</i><br>\n",
        "Solve the tasks below:\n",
        "</div>\n"
      ]
    },
    {
      "cell_type": "markdown",
      "metadata": {
        "id": "viqoKwyjWqjF"
      },
      "source": [
        "1. Define a function that returns the length of the longest word of text. (Hint: e.g. with a for loop you can iterate over the words of the text.)"
      ]
    },
    {
      "cell_type": "code",
      "execution_count": null,
      "metadata": {
        "id": "eHyo1ItDWqjG",
        "outputId": "ac8f2ae4-b527-4869-f853-9b2f6930155e"
      },
      "outputs": [
        {
          "name": "stdout",
          "output_type": "stream",
          "text": [
            "4\n"
          ]
        }
      ],
      "source": [
        "def max_length(text):\n",
        "    max = 0\n",
        "    for item in text.split():\n",
        "        if len(item) > max:\n",
        "            max = len(item)\n",
        "    return max\n",
        "print(max_length(\"This is a test text\"))"
      ]
    },
    {
      "cell_type": "markdown",
      "metadata": {
        "id": "FetoCiIsWqjH"
      },
      "source": [
        "2. Define a function that prints \"Yes\" when the text has more than 20,000 tokens and the length of the longest word is at least 10 characters. Otherwise return \"No\". (Hint: You can use the function from the previous task.)"
      ]
    },
    {
      "cell_type": "code",
      "execution_count": null,
      "metadata": {
        "id": "KFnyyfLAWqjH",
        "outputId": "896b9c66-04ca-4527-99e3-33a991aa5304"
      },
      "outputs": [
        {
          "name": "stdout",
          "output_type": "stream",
          "text": [
            "No\n",
            "None\n"
          ]
        }
      ],
      "source": [
        "def yes_or_no(text):\n",
        "    if len(text) > 20000 and max_length(text) >= 10:\n",
        "        print (\"Yes\")\n",
        "    else:\n",
        "        print (\"No\")\n",
        "print(yes_or_no(\"This is a test text\"))"
      ]
    },
    {
      "cell_type": "markdown",
      "metadata": {
        "id": "-6Lktaf4WqjI"
      },
      "source": [
        "3. Define a function that prints out all tokens of a text. Use a ```for``` loop."
      ]
    },
    {
      "cell_type": "code",
      "execution_count": null,
      "metadata": {
        "id": "5BkXCMBFWqjI",
        "outputId": "5791d721-b6c5-4010-b8a9-0a2631bcfa1f"
      },
      "outputs": [
        {
          "name": "stdout",
          "output_type": "stream",
          "text": [
            "This\n",
            "is\n",
            "a\n",
            "test\n",
            "text\n"
          ]
        }
      ],
      "source": [
        "def print_out(text):\n",
        "    for item in text.split():\n",
        "        print(item)\n",
        "        \n",
        "print_out(\"This is a test text\")"
      ]
    },
    {
      "cell_type": "markdown",
      "source": [
        "Congratulations! You are now done with the first exercise of GKI.\n",
        "\n",
        "______\n",
        "\n",
        "## Author\n",
        "\n",
        "Mohsen Mesgar\n",
        "\n",
        "## Other Contributors\n",
        "\n",
        "N/A"
      ],
      "metadata": {
        "id": "4ANeQ4wosa1p"
      }
    }
  ],
  "metadata": {
    "kernelspec": {
      "display_name": "Python 3",
      "language": "python",
      "name": "python3"
    },
    "language_info": {
      "codemirror_mode": {
        "name": "ipython",
        "version": 3
      },
      "file_extension": ".py",
      "mimetype": "text/x-python",
      "name": "python",
      "nbconvert_exporter": "python",
      "pygments_lexer": "ipython3",
      "version": "3.7.1"
    },
    "varInspector": {
      "cols": {
        "lenName": 16,
        "lenType": 16,
        "lenVar": 40
      },
      "kernels_config": {
        "python": {
          "delete_cmd_postfix": "",
          "delete_cmd_prefix": "del ",
          "library": "var_list.py",
          "varRefreshCmd": "print(var_dic_list())"
        },
        "r": {
          "delete_cmd_postfix": ") ",
          "delete_cmd_prefix": "rm(",
          "library": "var_list.r",
          "varRefreshCmd": "cat(var_dic_list()) "
        }
      },
      "types_to_exclude": [
        "module",
        "function",
        "builtin_function_or_method",
        "instance",
        "_Feature"
      ],
      "window_display": false
    },
    "colab": {
      "name": "exercise.ipynb",
      "provenance": []
    }
  },
  "nbformat": 4,
  "nbformat_minor": 0
}