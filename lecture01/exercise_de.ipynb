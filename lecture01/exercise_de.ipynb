{
 "cells": [
  {
   "cell_type": "markdown",
   "metadata": {
    "lang": "de"
   },
   "source": [
    "# Übung: Einführung in Python\n",
    "\n",
    "Stand: SoSe 2022\n",
    "\n",
    "Geschätzte benötigte Zeit: 90 Minuten\n",
    "\n",
    "Autor: Mohamed Abdelmagied und Dr. Mohsen Mesgar"
   ]
  },
  {
   "cell_type": "markdown",
   "metadata": {
    "lang": "de"
   },
   "source": [
    "# Ziele\n",
    "\n",
    "Nach Abschluss dieser Übung können Sie:\n",
    "\n",
    " - grundlegende Programmieroperationen in Python durchführen\n",
    " - Verwenden Sie Listen und lernen Sie einige ihrer Funktionen kennen\n",
    " - Lernen Sie Kontrollstrukturen in Python kennen\n",
    " - Module in Python importieren\n",
    " - Funktionen definieren und aufrufen"
   ]
  },
  {
   "cell_type": "markdown",
   "metadata": {
    "lang": "de"
   },
   "source": [
    "**Erinnerung: Bitte laden Sie diese Übung auf [Google Colab](https://colab.research.google.com/) hoch, damit Sie an den Aufgaben arbeiten können**"
   ]
  },
  {
   "cell_type": "markdown",
   "metadata": {
    "lang": "de"
   },
   "source": [
    "# Aufgabe 1\n",
    "\n",
    "**Richtig** oder **Falsch**:\n",
    "\n",
    "- Eine der frühen Herausforderungen für die KI war das mangelnde Verständnis der Forscher für „Berechenbarkeit und Komplexität“."
   ]
  },
  {
   "cell_type": "markdown",
   "metadata": {
    "lang": "de"
   },
   "source": [
    "<details><summary>Klicken Sie hier für die Lösung</summary>\n",
    "\n",
    "## Lösung:\n",
    "\n",
    "Richtig – Frühe KI-Systeme wie Microworlds probierten verschiedene Kombinationen von Schritten aus, bis eine Lösung gefunden wurde. Die Forscher glaubten jedoch, dass die Skalierung auf größere Probleme eine Frage schnellerer Hardware sei, aufgrund der Unlösbarkeit vieler KI-Probleme dies war nicht der Fall.\n",
    "\n",
    "</details>"
   ]
  },
  {
   "cell_type": "markdown",
   "metadata": {
    "lang": "de"
   },
   "source": [
    "# Aufgabe 2\n",
    "\n",
    "**Füllen Sie die Lücke aus den gegebenen Möglichkeiten aus:**\n",
    "\n",
    "..... sind allgemeine Suchmechanismen, die versuchen, elementare Argumentationsschritte aneinanderzureihen, um vollständige Lösungen zu finden\n",
    "\n",
    " - Wissensbasierte Systeme\n",
    " - schwache Methoden\n",
    " - Expertensysteme"
   ]
  },
  {
   "cell_type": "markdown",
   "metadata": {
    "lang": "de"
   },
   "source": [
    "<details><summary>Klicken Sie hier für die Lösung</summary>\n",
    "\n",
    "## Lösung:\n",
    "\n",
    "- Richtig: schwache Methoden - Obwohl es sich um Allzweckmechanismen handelt, können sie nicht auf größere Probleme skaliert werden.\n",
    "- Falsch: Wissensbasierte Systeme und Expertensysteme sind nicht für allgemeine Zwecke geeignet, da sie umfangreiches domänenspezifisches Wissen verwenden, um spezifische schwierige Probleme zu lösen\n",
    "\n",
    "</details>"
   ]
  },
  {
   "cell_type": "markdown",
   "metadata": {
    "lang": "de"
   },
   "source": [
    "# Aufgabe 3\n",
    "**Erwähnen Sie 3 Bereiche, in denen KI derzeit verwendet wird (Tipp: Lesen Sie Russel und Norvig 1.4)**"
   ]
  },
  {
   "cell_type": "markdown",
   "metadata": {
    "lang": "de"
   },
   "source": [
    "<details><summary>Klicken Sie hier für die Lösung</summary>\n",
    "\n",
    "## Lösung\n",
    "\n",
    "- Autonome Planung und Terminierung\n",
    "- Spiele spielen\n",
    "- Autonome Steuerung\n",
    "- Diagnose\n",
    "- Logistikplanung\n",
    "- Robotik\n",
    "- Sprachverständnis und Problemlösung\n",
    "\n",
    "</details>"
   ]
  },
  {
   "cell_type": "markdown",
   "metadata": {
    "lang": "de"
   },
   "source": [
    "# Aufgabe 4\n",
    "\n",
    "## Einfache Sequenzen"
   ]
  },
  {
   "cell_type": "markdown",
   "metadata": {
    "lang": "de"
   },
   "source": [
    "Eine einfache Abfolge von Anweisungen ist das grundlegendste Programm, das Sie schreiben können.\n",
    "Die einfachste Sequenz ist eine, die einen einzigen Befehl enthält.\n",
    "Einige davon werden wir jetzt ausprobieren."
   ]
  },
  {
   "cell_type": "code",
   "execution_count": null,
   "metadata": {
    "id": "IfUrajoxWqiW",
    "outputId": "fc6d8c00-e098-4e4e-d69b-ef0917fb6ab2"
   },
   "outputs": [
    {
     "name": "stdout",
     "output_type": "stream",
     "text": [
      "Hello there!\n"
     ]
    }
   ],
   "source": [
    "print('Hello there!')"
   ]
  },
  {
   "cell_type": "markdown",
   "metadata": {
    "lang": "de"
   },
   "source": [
    "## Rechenzeichen"
   ]
  },
  {
   "cell_type": "markdown",
   "metadata": {
    "lang": "de"
   },
   "source": [
    "Es sind nicht nur Zeichenfolgen, die gedruckt werden können:"
   ]
  },
  {
   "cell_type": "code",
   "execution_count": null,
   "metadata": {
    "id": "v-KB7uU3WqiY"
   },
   "outputs": [],
   "source": [
    "print(6 + 5)"
   ]
  },
  {
   "cell_type": "markdown",
   "metadata": {
    "lang": "de"
   },
   "source": [
    "Verwenden Sie einige andere arithmetische Operatoren:\n",
    "* Summe (+)\n",
    "* subtrahieren (-)\n",
    "* multiplizieren (*)\n",
    "* teile (/) <br>\n",
    "\n",
    "\n",
    "Kombinieren Sie mehrere Ausdrücke wie:"
   ]
  },
  {
   "cell_type": "code",
   "execution_count": null,
   "metadata": {
    "id": "T2ufEcVCWqia"
   },
   "outputs": [],
   "source": [
    "print(((8 * 4) + (7 - 3)) / (2 + 4))"
   ]
  },
  {
   "cell_type": "markdown",
   "metadata": {
    "lang": "de"
   },
   "source": [
    "Experimentieren Sie und Sie werden bald auf die Idee kommen (Hinweis: \",\" trennt Elemente in einer Druckanweisung):"
   ]
  },
  {
   "cell_type": "code",
   "execution_count": null,
   "metadata": {
    "id": "KGY0tvtHWqib"
   },
   "outputs": [],
   "source": [
    "print('The total is: ', 23 + 45)"
   ]
  },
  {
   "cell_type": "markdown",
   "metadata": {
    "lang": "de"
   },
   "source": [
    "Nehmen Sie sich ein paar Minuten Zeit, um es auszuprobieren (versuchen Sie, zwei Zeichenfolgen zu summieren, multiplizieren Sie einige Zeichenfolgen mit Zahlen)."
   ]
  },
  {
   "cell_type": "code",
   "execution_count": null,
   "metadata": {
    "id": "oB2kugCdWqic"
   },
   "outputs": [],
   "source": [
    "print('sum of 34 and 56 is ', 34 + 56)\n",
    "print('99 - 100 = ', 99 - 100)\n",
    "print(5 * 'abc')\n",
    "print('Uni' + 'DuE')\n",
    "print('Uni ' + 'DuE')\n",
    "print(3 * ('Uni ' + 'DuE '))"
   ]
  },
  {
   "cell_type": "markdown",
   "metadata": {
    "lang": "de"
   },
   "source": [
    "## Variablen\n",
    "Programmiertechnisch können wir Instanzen von Datentypen erstellen und diese Variablen zuweisen.\n",
    "Eine Variable ist ein Verweis auf einen bestimmten Bereich irgendwo im Computerspeicher. Diese Bereiche enthalten die Daten.\n",
    "z.B."
   ]
  },
  {
   "cell_type": "code",
   "execution_count": null,
   "metadata": {
    "id": "pPejb6JSWqid"
   },
   "outputs": [],
   "source": [
    "town = 'Duisburg'\n",
    "print('I study in', town)\n",
    "print(\"I study in \" + town)"
   ]
  },
  {
   "cell_type": "markdown",
   "metadata": {
    "lang": "de"
   },
   "source": [
    "In Python nimmt eine Variable den Typ der ihr zugewiesenen Daten an. Es behält diesen Typ bei und Sie werden gewarnt, wenn Sie versuchen, Daten auf seltsame Weise zu mischen - wie z. B. der Versuch, eine Zeichenfolge zu einer Zahl hinzuzufügen. Wir können den Datentyp ändern, auf den eine Variable zeigt, indem wir die Variable neu zuweisen."
   ]
  },
  {
   "cell_type": "code",
   "execution_count": null,
   "metadata": {
    "id": "ntOwSLPqWqie"
   },
   "outputs": [],
   "source": [
    "q = 7\n",
    "# q is now a number\n",
    "print(q)\n",
    "print(q + q)\n",
    "\n",
    "q = \"Seven\"\n",
    "# reassign q to a string\n",
    "print(q)\n",
    "print(q + q)"
   ]
  },
  {
   "cell_type": "markdown",
   "metadata": {
    "lang": "de"
   },
   "source": [
    "## Vergleichsoperatoren\n",
    "Angenommen, Variable a enthält 10 und Variable b enthält 20, dann gilt:"
   ]
  },
  {
   "cell_type": "markdown",
   "metadata": {
    "id": "HA4iYC7DWqif"
   },
   "source": [
    "| Operator | Description | Example         \n",
    "|:-|:------------- | :-----------------\n",
    "|==|Checks if the value of two operands are equal or not, if yes then condition becomes true.|(a == b) is not true.\n",
    "|!=|Checks if the value of two operands are equal or not, if values are not equal then condition becomes true.|(a != b) is true.\n",
    "|<>|Checks if the value of two operands are equal or not, if values are not equal then condition becomes true.|(a <> b) is true. This is similar to != operator.\n",
    "|/>|Checks if the value of left operand is greater than the value of right operand, if yes then condition becomes true.|(a > b) is not true.\n",
    "|<|Checks if the value of left operand is less than the value of right operand, if yes then condition becomes true.|(a < b) is true.\n",
    "|/>=|Checks if the value of two operands are equal or not, if values are not equal then condition becomes true.|(a >= b) is not true.\n",
    "|<=|Checks if the value of left operand is less than or equal to the value of right operand, if yes then condition becomes true.|(a <= b) is true."
   ]
  },
  {
   "cell_type": "markdown",
   "metadata": {
    "lang": "de"
   },
   "source": [
    "Nehmen Sie sich ein paar Minuten Zeit, um es auszuprobieren (z. B. ```me = >>>Ihr Name<<<```). Verwenden Sie bereits erlernte Operatoren."
   ]
  },
  {
   "cell_type": "code",
   "execution_count": null,
   "metadata": {
    "id": "YTmekW3FWqif"
   },
   "outputs": [],
   "source": [
    "me = 'Otto'\n",
    "last_name = 'Normalverbaucher'\n",
    "print (me + \" \" + last_name)"
   ]
  },
  {
   "cell_type": "code",
   "execution_count": null,
   "metadata": {
    "id": "6SojRGH6Wqig"
   },
   "outputs": [],
   "source": [
    "me = 20\n",
    "print ('I am', me)"
   ]
  },
  {
   "cell_type": "code",
   "execution_count": null,
   "metadata": {
    "id": "XOtRT4aLWqig"
   },
   "outputs": [],
   "source": [
    "word1 = 'one'\n",
    "word2 = 'two'\n",
    "print (word1 != word2)"
   ]
  },
  {
   "cell_type": "code",
   "execution_count": null,
   "metadata": {
    "id": "qitjGD_zWqih"
   },
   "outputs": [],
   "source": [
    "x = 47\n",
    "y = 53\n",
    "print (x >= y)"
   ]
  },
  {
   "cell_type": "markdown",
   "metadata": {
    "lang": "de"
   },
   "source": [
    "## Slice-Operator\n",
    "Mit dem Slice-Operator (```[x]``` und ```[x:y]``` ) können Teilmengen von Strings genommen werden, wobei die Indizes am Anfang des Strings bei 0 beginnen und sich von - 1 am Ende. Zum Beispiel:\n",
    "</div>"
   ]
  },
  {
   "cell_type": "code",
   "execution_count": null,
   "metadata": {
    "id": "WsS-fJLaWqii"
   },
   "outputs": [],
   "source": [
    "str = 'Hello World!'\n",
    "print (str)\n",
    "# Prints complete string\n",
    "\n",
    "print (str[0])\n",
    "# Prints first character of the string\n",
    "\n",
    "print (str[2:5])\n",
    "# Prints characters starting from 3rd to 6th\n",
    "\n",
    "print (str[2:])\n",
    "# Prints string starting from 3rd character"
   ]
  },
  {
   "cell_type": "markdown",
   "metadata": {
    "lang": "de"
   },
   "source": [
    "## Aufgabe 4.1:\n",
    "\n",
    "**Schreiben Sie Ihren Vornamen, Nachnamen, dann Ihren vollständigen Namen (unter Verwendung der bereits vorhandenen Variablen für letzteren) und drucken Sie dann Ihren vollständigen Namen 20 Mal aus. Verwenden Sie die Operatoren, die Sie kennengelernt haben.**"
   ]
  },
  {
   "cell_type": "code",
   "execution_count": null,
   "metadata": {
    "id": "xmHN8ZQZaxe1"
   },
   "outputs": [],
   "source": [
    "# write your code here\n"
   ]
  },
  {
   "cell_type": "markdown",
   "metadata": {
    "id": "jR_NxGdrWqij"
   },
   "source": [
    "<details><summary>Click here for the solution</summary>\n",
    "    \n",
    "```python\n",
    "# for example\n",
    "first_name = 'Erika'\n",
    "last_name = 'Mustermann'\n",
    "complete_name = first_name + \" \" + last_name\n",
    "print(20*complete_name)\n",
    "```\n",
    "</details>"
   ]
  },
  {
   "cell_type": "markdown",
   "metadata": {
    "lang": "de"
   },
   "source": [
    "## Aufgabe 4.2:\n",
    "**Berechnen Sie, wie lange Sie (in Tagen) seit Ihrem Geburtsdatum gelebt haben (unter der Annahme, dass ein Jahr 365 Tage und ein Monat 31 Tage hat).**"
   ]
  },
  {
   "cell_type": "code",
   "execution_count": null,
   "metadata": {
    "id": "govexaT7axe4"
   },
   "outputs": [],
   "source": [
    "# Write your code here\n"
   ]
  },
  {
   "cell_type": "markdown",
   "metadata": {
    "id": "XpwENNGZWqij"
   },
   "source": [
    "<details><summary>Click here for the solution</summary>\n",
    "    \n",
    "```python\n",
    "# for example the date of birth is 01.01.1980 and today is 18.04.2019\n",
    "days = (2019 - 1980)*365 + (4 - 1)*31 + (18 - 1)\n",
    "print (days)\n",
    "```\n",
    "</details>"
   ]
  },
  {
   "cell_type": "markdown",
   "metadata": {
    "lang": "de"
   },
   "source": [
    "## Aufgabe 4.3\n",
    "**B sei 27 und c 49. Gib True zurück, wenn b kleiner als c ist.**"
   ]
  },
  {
   "cell_type": "code",
   "execution_count": null,
   "metadata": {
    "id": "XxFu1K0-axe7"
   },
   "outputs": [],
   "source": [
    "# write your code here\n"
   ]
  },
  {
   "cell_type": "markdown",
   "metadata": {
    "id": "XBsIS-WMWqil"
   },
   "source": [
    "<details><summary>Click here for the solution</summary>\n",
    "\n",
    "```python\n",
    "b = 27\n",
    "c = 49\n",
    "print (b < c)\n",
    "```\n",
    "\n",
    "</details>"
   ]
  },
  {
   "cell_type": "markdown",
   "metadata": {
    "id": "JBf5nKHNWqin",
    "lang": "en"
   },
   "source": [
    "# Aufgabe 5: \n",
    "\n",
    "## List Comprehension"
   ]
  },
  {
   "cell_type": "markdown",
   "metadata": {
    "lang": "de"
   },
   "source": [
    "Listen sind, was sie scheinen – eine Liste von Werten. Jeder von ihnen ist nummeriert, beginnend bei Null - der erste\n",
    "ist mit Null nummeriert, die zweite mit 1, die dritte mit 2 usw. Sie können Werte aus der Liste entfernen und der end.<br> neue Werte hinzufügen\n",
    "\n",
    "Beispiel:"
   ]
  },
  {
   "cell_type": "code",
   "execution_count": null,
   "metadata": {
    "id": "lJqyltPfWqio"
   },
   "outputs": [],
   "source": [
    "names = [\"Otto\", \"Erika\", \"Max\", \"Julia\", \"Paul\"]"
   ]
  },
  {
   "cell_type": "markdown",
   "metadata": {
    "lang": "de"
   },
   "source": [
    "Sie rufen Werte aus Listen wie bei Strings ab."
   ]
  },
  {
   "cell_type": "code",
   "execution_count": null,
   "metadata": {
    "id": "dogHm9pPWqio"
   },
   "outputs": [],
   "source": [
    "# print name of 3rd person\n",
    "print(names[2])\n",
    "\n",
    "# print 1st and 2nd name\n",
    "# this is called splicing an array\n",
    "print(names[0:2])"
   ]
  },
  {
   "cell_type": "markdown",
   "metadata": {
    "lang": "de"
   },
   "source": [
    "Um einer Liste einen Wert hinzuzufügen, verwenden Sie die Funktion ```append()```. Um „Heinz“ zur Liste hinzuzufügen, gehen Sie wie folgt vor:"
   ]
  },
  {
   "cell_type": "code",
   "execution_count": null,
   "metadata": {
    "id": "TJCGGUxOWqip"
   },
   "outputs": [],
   "source": [
    "names.append(\"Heinz\")\n",
    "print(names)"
   ]
  },
  {
   "cell_type": "markdown",
   "metadata": {
    "lang": "de"
   },
   "source": [
    "Um einen Wert aus einer Liste zu entfernen, gehen Sie wie folgt vor:"
   ]
  },
  {
   "cell_type": "code",
   "execution_count": null,
   "metadata": {
    "id": "Apv_HIEzWqip"
   },
   "outputs": [],
   "source": [
    "del names[1]\n",
    "#deletes the 2nd name\n",
    "print(names)"
   ]
  },
  {
   "cell_type": "markdown",
   "metadata": {
    "lang": "de"
   },
   "source": [
    "Lassen Sie es eine andere Liste geben, die Nachnamen enthält. Um die beiden Listen zu verketten, würden Sie Folgendes tun:"
   ]
  },
  {
   "cell_type": "code",
   "execution_count": null,
   "metadata": {
    "id": "Il6juq6-Wqiq"
   },
   "outputs": [],
   "source": [
    "lastnames = [\"Normalverbraucher\", \"Mustermann\", \"Schulz\", \"Mueller\", \"Schmidt\"]\n",
    "print(names + lastnames)"
   ]
  },
  {
   "cell_type": "markdown",
   "metadata": {
    "lang": "de"
   },
   "source": [
    "Schließlich können wir die Länge einer Liste bestimmen, indem wir die eingebaute Funktion ```len()``` verwenden:"
   ]
  },
  {
   "cell_type": "code",
   "execution_count": null,
   "metadata": {
    "id": "Rhz3ohqEWqir"
   },
   "outputs": [],
   "source": [
    "print(len(names))"
   ]
  },
  {
   "cell_type": "markdown",
   "metadata": {
    "lang": "de"
   },
   "source": [
    "# Verzweigungen und Schleifen\n",
    "\n",
    "Gibt Ihnen mehr Kontrolle über Ihre Programme."
   ]
  },
  {
   "cell_type": "markdown",
   "metadata": {
    "lang": "de"
   },
   "source": [
    "## Die ``if``-Anweisung"
   ]
  },
  {
   "cell_type": "markdown",
   "metadata": {
    "id": "uF4D3eL-Wqir"
   },
   "source": [
    "The syntax of the if...elif statement is:\n",
    "````py\n",
    "if expression1:\n",
    "    statement(s)\n",
    "elif expression2:\n",
    "    statement(s)\n",
    "elif expression3:\n",
    "    statement(s)\n",
    "else:\n",
    "    statement(s)\n",
    "````"
   ]
  },
  {
   "cell_type": "markdown",
   "metadata": {
    "lang": "de"
   },
   "source": [
    "Die Teile else und elif (else + 'new' if) sind jedoch optional.<br>\n",
    "Beispiel:"
   ]
  },
  {
   "cell_type": "code",
   "execution_count": null,
   "metadata": {
    "id": "CzVmUB-6Wqis",
    "outputId": "71e0597e-83f6-4ab0-8f4b-298236cfaa6b"
   },
   "outputs": [
    {
     "name": "stdout",
     "output_type": "stream",
     "text": [
      "highway\n"
     ]
    }
   ],
   "source": [
    "little_traffic = True\n",
    "if (little_traffic):\n",
    "    print ('highway')\n",
    "else:\n",
    "    print ('federal and country roads')"
   ]
  },
  {
   "cell_type": "markdown",
   "metadata": {
    "lang": "de"
   },
   "source": [
    "## Die ``while``-Schleife\n",
    "Die While-Schleife ist eines der in Python verfügbaren Schleifenkonstrukte. Sie wird fortgesetzt, bis der Ausdruck falsch wird. Dieser Ausdruck muss ein logischer Ausdruck sein und entweder einen „wahren“ oder einen „falschen“ Wert zurückgeben.<br>\n",
    "Die Syntax der While-Schleife lautet:"
   ]
  },
  {
   "cell_type": "markdown",
   "metadata": {
    "id": "0Srpr20hWqit"
   },
   "source": [
    "```py\n",
    "while expression:\n",
    "    statement(s)\n",
    "```"
   ]
  },
  {
   "cell_type": "markdown",
   "metadata": {
    "lang": "de"
   },
   "source": [
    "Beispiel:"
   ]
  },
  {
   "cell_type": "code",
   "execution_count": null,
   "metadata": {
    "id": "MkmcJMAkWqit",
    "outputId": "92383da2-4251-4460-e353-9d2f4b194b68"
   },
   "outputs": [
    {
     "name": "stdout",
     "output_type": "stream",
     "text": [
      "The count is: 0\n",
      "The count is: 1\n",
      "The count is: 2\n",
      "The count is: 3\n",
      "The count is: 4\n",
      "The count is: 5\n",
      "The count is: 6\n",
      "The count is: 7\n",
      "The count is: 8\n"
     ]
    }
   ],
   "source": [
    "count = 0\n",
    "while (count < 9):\n",
    "    print ('The count is:', count)\n",
    "    count = count + 1"
   ]
  },
  {
   "cell_type": "markdown",
   "metadata": {
    "lang": "de"
   },
   "source": [
    "Der Block hier, bestehend aus den Anweisungen print und increment, wird wiederholt ausgeführt, bis der Zählerstand kleiner als 9 ist. Bei jeder Iteration wird der aktuelle Wert des Indexzählers angezeigt und dann um 1 erhöht."
   ]
  },
  {
   "cell_type": "markdown",
   "metadata": {
    "lang": "de"
   },
   "source": [
    "## Die ``for``-Schleife\n",
    "Die for-Schleife in Python hat die Fähigkeit, über die Elemente einer beliebigen Sequenz zu iterieren, z. B. eine Liste oder a\n",
    "Schnur. Die Syntax des Loop-Looks lautet:"
   ]
  },
  {
   "cell_type": "markdown",
   "metadata": {
    "id": "uq2to2y4Wqit"
   },
   "source": [
    "````python\n",
    "for item in list:\n",
    "    statements(s)\n",
    "````"
   ]
  },
  {
   "cell_type": "markdown",
   "metadata": {
    "lang": "de"
   },
   "source": [
    "Wenn eine Sequenz eine Ausdrucksliste enthält, wird diese zuerst ausgewertet. Dann wird das erste Element in der Sequenz der Iterationsvariablen „Element“ zugewiesen. Als nächstes wird der Anweisungsblock ausgeführt. Jeder Artikel in der Liste ist 'Artikel' zugeordnet,\n",
    "und der Anweisungsblock wird ausgeführt, bis die gesamte Sequenz erschöpft ist. <br>\n",
    "Beispiel:"
   ]
  },
  {
   "cell_type": "code",
   "execution_count": null,
   "metadata": {
    "id": "T4HMMe4UWqiu"
   },
   "outputs": [],
   "source": [
    "# First Example\n",
    "for letter in 'Python': \n",
    "    print ('Current Letter :', letter)\n",
    "\n",
    "# Second Example\n",
    "fruits = ['banana', 'apple', 'mango']\n",
    "for fruit in fruits: \n",
    "    print ('Current fruit :', fruit)"
   ]
  },
  {
   "cell_type": "markdown",
   "metadata": {
    "lang": "de"
   },
   "source": [
    "## Kombination aus Schleifen und Verzweigungen"
   ]
  },
  {
   "cell_type": "markdown",
   "metadata": {
    "id": "opuqK2exWqiu"
   },
   "source": [
    "General Syntax:\n",
    "```py\n",
    "[ expression for item in list if conditional ]\n",
    "```\n",
    "equivalent to\n",
    "```py\n",
    "for item in list:\n",
    "    if conditional:\n",
    "        expression\n",
    "```"
   ]
  },
  {
   "cell_type": "markdown",
   "metadata": {
    "lang": "de"
   },
   "source": [
    "Unten sehen Sie weitere Beispiele, beginnend mit einer einfachen Iteration über eine Zahl. Wir können nur über Mengen iterieren, also brauchen wir die Funktion range()."
   ]
  },
  {
   "cell_type": "code",
   "execution_count": null,
   "metadata": {
    "id": "DQPEHoilWqiv"
   },
   "outputs": [],
   "source": [
    "[i for i in range(10)]"
   ]
  },
  {
   "cell_type": "markdown",
   "metadata": {
    "lang": "de"
   },
   "source": [
    "Verwenden Sie eine Bedingung, um nach geraden Zahlen zu filtern."
   ]
  },
  {
   "cell_type": "code",
   "execution_count": null,
   "metadata": {
    "id": "kGEPmoCFWqiv"
   },
   "outputs": [],
   "source": [
    "[i for i in range(10) if i % 2 == 0]"
   ]
  },
  {
   "cell_type": "markdown",
   "metadata": {
    "lang": "de"
   },
   "source": [
    "Sie können auch das Ergebnis der Iteration ändern."
   ]
  },
  {
   "cell_type": "code",
   "execution_count": null,
   "metadata": {
    "id": "Pu-w5Y1pWqiw"
   },
   "outputs": [],
   "source": [
    "[i**2 for i in range(10)]"
   ]
  },
  {
   "cell_type": "markdown",
   "metadata": {
    "lang": "de"
   },
   "source": [
    "Arbeiten mit strings:"
   ]
  },
  {
   "cell_type": "code",
   "execution_count": null,
   "metadata": {
    "id": "I_nRPBuAWqiw"
   },
   "outputs": [],
   "source": [
    "words = \"This is an example\".split()\n",
    "print(words)"
   ]
  },
  {
   "cell_type": "markdown",
   "metadata": {
    "lang": "de"
   },
   "source": [
    "Auf einen String kann wie auf eine Liste zugegriffen werden."
   ]
  },
  {
   "cell_type": "code",
   "execution_count": null,
   "metadata": {
    "id": "04rSbvZcWqix"
   },
   "outputs": [],
   "source": [
    "[word[0] for word in words]"
   ]
  },
  {
   "cell_type": "markdown",
   "metadata": {
    "lang": "de"
   },
   "source": [
    "Wir können jedes der resultierenden Elemente ändern ..."
   ]
  },
  {
   "cell_type": "code",
   "execution_count": null,
   "metadata": {
    "id": "KSj8fMM5Wqix"
   },
   "outputs": [],
   "source": [
    "[word.upper() for word in words]"
   ]
  },
  {
   "cell_type": "markdown",
   "metadata": {
    "lang": "de"
   },
   "source": [
    "...oder verwenden Sie eine Funktion für jedes Element"
   ]
  },
  {
   "cell_type": "code",
   "execution_count": null,
   "metadata": {
    "id": "Vbo83RikWqiy"
   },
   "outputs": [],
   "source": [
    "[len(token) for token in words]"
   ]
  },
  {
   "cell_type": "markdown",
   "metadata": {
    "lang": "de"
   },
   "source": [
    "Ein weiteres Beispiel für die Verwendung von Bedingungen/Filtern:"
   ]
  },
  {
   "cell_type": "code",
   "execution_count": null,
   "metadata": {
    "id": "KqX7ohRUWqiy"
   },
   "outputs": [],
   "source": [
    "[word for word in words if len(word) < 4]"
   ]
  },
  {
   "cell_type": "markdown",
   "metadata": {
    "lang": "de"
   },
   "source": [
    "## Aufgabe 5.1"
   ]
  },
  {
   "cell_type": "markdown",
   "metadata": {
    "lang": "de"
   },
   "source": [
    "**Erstellen Sie eine Liste mit folgenden Elementen (in Klammern ist der Datentyp angegeben):\n",
    "123 (Ganzzahl), me (String), 42 (Ganzzahl), like (String) easy (String), Python (String), 21.0 (reelle Zahl), zwanzig (String). Drucken Sie dann die Liste aus.**"
   ]
  },
  {
   "cell_type": "code",
   "execution_count": null,
   "metadata": {
    "id": "TXmlV-8haxfS"
   },
   "outputs": [],
   "source": [
    "# Write your code here\n"
   ]
  },
  {
   "cell_type": "markdown",
   "metadata": {
    "id": "lGDkk0-5Wqiz"
   },
   "source": [
    "<details><summary>Click here for the solution</summary>\n",
    "\n",
    "```python\n",
    "list = [123, 'me', 42, 'like', 'easy', 'Python', 21.0, 'twenty']\n",
    "print (list)\n",
    "```\n",
    "\n",
    "</details>"
   ]
  },
  {
   "cell_type": "markdown",
   "metadata": {
    "lang": "de"
   },
   "source": [
    "## Aufgabe 5.2\n",
    "**Elemente beginnend mit dem 3. bis 6.** ausdrucken"
   ]
  },
  {
   "cell_type": "code",
   "execution_count": null,
   "metadata": {
    "id": "K0CX639KWqi0"
   },
   "outputs": [],
   "source": [
    "# Write your code here\n"
   ]
  },
  {
   "cell_type": "markdown",
   "metadata": {
    "id": "EZi8jNM_b2By"
   },
   "source": [
    "<details><summary>Click here for the solution</summary>\n",
    "\n",
    "```python\n",
    "print (list[2:6])\n",
    "```\n",
    "\n",
    "</details>"
   ]
  },
  {
   "cell_type": "markdown",
   "metadata": {
    "lang": "de"
   },
   "source": [
    "## Aufgabe5.3:\n",
    "**Zu den Listenelementen hinzufügen: quick(string) und 12.1(reelle Zahl). Drucken Sie die letzten drei Elemente aus. Verwenden Sie für letzteres die Funktion 'len()'.**"
   ]
  },
  {
   "cell_type": "code",
   "execution_count": null,
   "metadata": {
    "id": "tO8npMDPWqi1"
   },
   "outputs": [],
   "source": [
    "# Write your code here\n"
   ]
  },
  {
   "cell_type": "markdown",
   "metadata": {
    "id": "71N32DkjdVm5"
   },
   "source": [
    "<details><summary>Click here for the solution</summary>\n",
    "\n",
    "```python\n",
    "list.append('quickly')\n",
    "list.append(12.1)\n",
    "print (list[len(list)-3:len(list)])\n",
    "```\n",
    "\n",
    "</details>"
   ]
  },
  {
   "cell_type": "markdown",
   "metadata": {
    "lang": "de"
   },
   "source": [
    "## Aufgabe 5.4\n",
    "**Lösche das fünfte Element dieser Liste und gib die Länge der doppelten Liste aus.**"
   ]
  },
  {
   "cell_type": "code",
   "execution_count": null,
   "metadata": {
    "id": "OoHPoIOqWqi1"
   },
   "outputs": [],
   "source": [
    "# Write your code here\n"
   ]
  },
  {
   "cell_type": "markdown",
   "metadata": {
    "id": "FKn5IHr9dzdv"
   },
   "source": [
    "<details><summary>Click here for the solution</summary>\n",
    "\n",
    "```python\n",
    "del list[4]\n",
    "print (len(2 * list))\n",
    "```\n",
    "\n",
    "</details>"
   ]
  },
  {
   "cell_type": "markdown",
   "metadata": {
    "lang": "de"
   },
   "source": [
    "## Aufgabe 5.5\n",
    "**Iterieren Sie über alle Elemente der Liste, die aus folgenden Elementen bestehen: 25, \"Berlin\", \"large\", 575.2, \"mango\", \"Snappy\" und geben Sie alle diese Elemente aus.**"
   ]
  },
  {
   "cell_type": "code",
   "execution_count": null,
   "metadata": {
    "id": "LgRBU2rAWqi1"
   },
   "outputs": [],
   "source": [
    "# Write your code here\n"
   ]
  },
  {
   "cell_type": "markdown",
   "metadata": {
    "id": "16vTls8WeJk-"
   },
   "source": [
    "<details><summary>Click here for the solution</summary>\n",
    "\n",
    "```python\n",
    "list = [25, 'Berlin', 'large', 575.2, 'mango', 'Snappy']\n",
    "for element in list:\n",
    "    print (element)\n",
    "```\n",
    "\n",
    "</details>"
   ]
  },
  {
   "cell_type": "markdown",
   "metadata": {
    "lang": "de"
   },
   "source": [
    "## Aufgabe 5.6.\n",
    "**Drucken Sie alle geraden Zahlen von 0 (einschließlich) bis 14 (ausschließlich).**"
   ]
  },
  {
   "cell_type": "code",
   "execution_count": null,
   "metadata": {
    "id": "3PNkPbf2Wqi2"
   },
   "outputs": [],
   "source": [
    "# Write your code here\n"
   ]
  },
  {
   "cell_type": "markdown",
   "metadata": {
    "id": "6tBjJLMVegXz"
   },
   "source": [
    "<details><summary>Click here for the solution</summary>\n",
    "\n",
    "```python\n",
    "counter = 0\n",
    "while counter < 14:\n",
    "    print(counter)\n",
    "    counter = counter + 2\n",
    "```\n",
    "\n",
    "</details>"
   ]
  },
  {
   "cell_type": "markdown",
   "metadata": {
    "lang": "de"
   },
   "source": [
    "## Aufgabe 5.7\n",
    "**Wenn zwei ganze Zahlen b und c gegeben sind, finden Sie das Maximum dieser beiden Zahlen und geben Sie den Namen des Maximums aus. Falls b gleich c ist, drucke 'b und c sind gleich'. Sie können Ihr Programm mit folgenden Daten testen:**\n",
    "\n",
    "```\n",
    "    1. b = 6, c = 9\n",
    "    2. b = 4, c = 4\n",
    "    3. b = 23, c = 2\n",
    "```"
   ]
  },
  {
   "cell_type": "code",
   "execution_count": null,
   "metadata": {
    "id": "RjnSc4x5Wqi5"
   },
   "outputs": [],
   "source": [
    "# Write your code here\n"
   ]
  },
  {
   "cell_type": "markdown",
   "metadata": {
    "id": "n4BQrkJRe51P"
   },
   "source": [
    "<details><summary>Click here for the solution</summary>\n",
    "\n",
    "```python\n",
    "b = 6\n",
    "c = 9\n",
    "if b < c:\n",
    "    print ('c is the maximum')\n",
    "elif b == c:\n",
    "    print ('b and c are equal')\n",
    "else:\n",
    "    print ('b is the maximum')\n",
    "```\n",
    "\n",
    "</details>"
   ]
  },
  {
   "cell_type": "markdown",
   "metadata": {
    "lang": "de"
   },
   "source": [
    "## Aufgabe 5.8\n",
    "**Erstellen Sie eine Liste name_lastname, sodass auf jeden Namen von früher der entsprechende Nachname folgt. Ihre Lösung soll sein:**\n",
    "```['Otto', 'Normalverbraucher', 'Max', 'Mustermann', 'Julia', 'Schulz', 'Paul', 'Müller', 'Heinz', 'Schmidt']```"
   ]
  },
  {
   "cell_type": "code",
   "execution_count": null,
   "metadata": {
    "id": "-3QkcZlcf1Vk"
   },
   "outputs": [],
   "source": [
    "# Write your code here\n"
   ]
  },
  {
   "cell_type": "markdown",
   "metadata": {
    "id": "5mYBpEPhf4x3"
   },
   "source": [
    "<details><summary>Click here for the solution</summary>\n",
    "\n",
    "```python\n",
    "names=[\"Otto\", \"Max\", \"Julia\", \"Paul\", \"Heinz\"]\n",
    "lastnames=[\"Normalverbraucher\", \"Mustermann\", \"Schulz\", \"Müller\", \"Schmidt\"]\n",
    "name_lastname=[]\n",
    "i=0\n",
    "for name in names:\n",
    "    name_lastname.append(names[i])\n",
    "    name_lastname.append(lastnames[i])\n",
    "    i+=1\n",
    "print(name_lastname)\n",
    "```\n",
    "\n",
    "</details>"
   ]
  },
  {
   "cell_type": "markdown",
   "metadata": {
    "lang": "de"
   },
   "source": [
    "Verwenden Sie alternativ die Methode ```zip()```, aber beachten Sie, dass sie ein etwas anderes Ergebnis liefert (vielleicht sogar noch nützlicher):"
   ]
  },
  {
   "cell_type": "code",
   "execution_count": null,
   "metadata": {
    "id": "pstL3ZgxWqi7"
   },
   "outputs": [],
   "source": [
    "# Write your code here\n"
   ]
  },
  {
   "cell_type": "markdown",
   "metadata": {
    "id": "BazAvCa0gBUK"
   },
   "source": [
    "<details><summary>Click here for the solution</summary>\n",
    "\n",
    "```python\n",
    "[elem for elem in zip(names, lastnames)]\n",
    "```\n",
    "\n",
    "</details>"
   ]
  },
  {
   "cell_type": "markdown",
   "metadata": {
    "lang": "de"
   },
   "source": [
    "## Aufgabe 5.9\n",
    "**Betrachten Sie den folgenden Text: ``\"Heute ist schönes Wetter. Ist es heute nicht schön :-) ?\"``\n",
    "Drucken Sie die folgenden Informationen des angegebenen Textes:**"
   ]
  },
  {
   "cell_type": "markdown",
   "metadata": {
    "lang": "de"
   },
   "source": [
    "**1. Wie lang ist dieser Text?**"
   ]
  },
  {
   "cell_type": "code",
   "execution_count": null,
   "metadata": {
    "id": "Kb54ezsvWqi7"
   },
   "outputs": [],
   "source": [
    "# Write your code here\n"
   ]
  },
  {
   "cell_type": "markdown",
   "metadata": {
    "id": "AhL6mqHIgTAr"
   },
   "source": [
    "<details><summary>Click here for the solution</summary>\n",
    "\n",
    "```python\n",
    "text = \"Today it's nice weather. Is it not nice today :-) ?\"\n",
    "print (len(text))\n",
    "```\n",
    "\n",
    "</details>"
   ]
  },
  {
   "cell_type": "markdown",
   "metadata": {
    "lang": "de"
   },
   "source": [
    "**2. Stellen Sie diesen Text als Liste von Tokens dar.**"
   ]
  },
  {
   "cell_type": "code",
   "execution_count": null,
   "metadata": {
    "id": "1t3nF59pWqi8"
   },
   "outputs": [],
   "source": [
    "# Write your code here\n"
   ]
  },
  {
   "cell_type": "markdown",
   "metadata": {
    "id": "SD_-oQvagudT"
   },
   "source": [
    "<details><summary>Click here for the solution</summary>\n",
    "\n",
    "```python\n",
    "tokens = text.split()\n",
    "```\n",
    "\n",
    "</details>"
   ]
  },
  {
   "cell_type": "markdown",
   "metadata": {
    "lang": "de"
   },
   "source": [
    "**3. Verketten Sie das fünfte bis achte Element mit den letzten fünf Elementen**"
   ]
  },
  {
   "cell_type": "code",
   "execution_count": null,
   "metadata": {
    "id": "Skc_EGngWqi8"
   },
   "outputs": [],
   "source": [
    "# Write your code here\n"
   ]
  },
  {
   "cell_type": "markdown",
   "metadata": {
    "id": "AjJMtbNZg7D-"
   },
   "source": [
    "<details><summary>Click here for the solution</summary>\n",
    "\n",
    "```python\n",
    "print (text[4 : 8] + text[len(text)-5 : len(text)])\n",
    "```\n",
    "\n",
    "</details>"
   ]
  },
  {
   "cell_type": "markdown",
   "metadata": {
    "lang": "de"
   },
   "source": [
    "**4. Wie oft kommt der Buchstabe „i“ im Text vor? Wie viel ist dies als Prozentsatz der Gesamtzahl von\n",
    "Buchstaben in diesem Text?**"
   ]
  },
  {
   "cell_type": "code",
   "execution_count": null,
   "metadata": {
    "id": "DRdoRuxcWqi9"
   },
   "outputs": [],
   "source": [
    "# Write your code here\n"
   ]
  },
  {
   "cell_type": "markdown",
   "metadata": {
    "id": "Vot4cihJhN5d"
   },
   "source": [
    "<details><summary>Click here for the solution</summary>\n",
    "\n",
    "```python\n",
    "i_counter = 0\n",
    "for letter in text:\n",
    "    if letter == 'i':\n",
    "        i_counter = i_counter + 1\n",
    "print (i_counter)\n",
    "print ((i_counter * 100.0 / len(text)), '%') # as real number\n",
    "print ((i_counter * 100 // len(text)), '%') # as integer\n",
    "```\n",
    "\n",
    "</details>"
   ]
  },
  {
   "cell_type": "markdown",
   "metadata": {
    "lang": "de"
   },
   "source": [
    "## Aufgabe 5.10\n",
    "**Gegeben ist eine Liste von Elementen (unten definiert).\n",
    "Das längste Element dieser Liste und seine Länge ausgeben.**"
   ]
  },
  {
   "cell_type": "code",
   "execution_count": 1,
   "metadata": {
    "id": "MaB8hZX4Wqi-"
   },
   "outputs": [],
   "source": [
    "tokens = \"I like the weather in autumn, how it's cold and crips and sunny and fresh.\".split()\n"
   ]
  },
  {
   "cell_type": "code",
   "execution_count": 4,
   "metadata": {},
   "outputs": [],
   "source": [
    "# Write your code here\n"
   ]
  },
  {
   "cell_type": "markdown",
   "metadata": {
    "id": "fdCgeFpXhkFL"
   },
   "source": [
    "<details><summary>Click here for the solution</summary>\n",
    "\n",
    "```python\n",
    "\n",
    "max_length = 0\n",
    "longest_element = ''\n",
    "for item in tokens:\n",
    "    if len(item) > max_length:\n",
    "        max_length = len(item)\n",
    "        longest_element = item\n",
    "print('the longest element is:', longest_element)\n",
    "print('the length of', longest_element, 'is', max_length)\n",
    "```\n",
    "Alternative way of doing the same\n",
    "\n",
    "```python\n",
    "max_length, longest_element = max([(len(x),x) for x in tokens])\n",
    "print(longest_element + \" has length \" + str(max_length))\n",
    "```\n",
    "</details>"
   ]
  },
  {
   "cell_type": "markdown",
   "metadata": {
    "lang": "de"
   },
   "source": [
    "# Aufgabe 6:\n",
    "\n",
    "## Funktionen"
   ]
  },
  {
   "cell_type": "markdown",
   "metadata": {
    "lang": "de"
   },
   "source": [
    "Wie Sie bereits wissen, bietet Ihnen Python viele eingebaute Funktionen wie ```print()```, ```len()``` usw., aber Sie können auch Ihre eigenen Funktionen erstellen. Diese Funktionen werden benutzerdefinierte Funktionen genannt.\n",
    "\n",
    "Funktionen sind kleine eigenständige Programme, die eine bestimmte Aufgabe ausführen, die Sie in Ihre eigenen, größeren Programme einbauen können. Nachdem Sie eine Funktion erstellt haben, können Sie sie jederzeit und überall verwenden. Das spart Zeit und ohne Codewiederholungen wird Ihr Programm für andere besser lesbar.\n",
    "\n",
    "Wir beginnen mit dem Schlüsselwort ```def```, gefolgt vom Namen der Funktion und dem Indikator für die Argumente der Funktion. Wir listen die Argumente auf und geben ihnen die Namen, die in der Definition der Funktion verwendet werden. Diese Namen haben nichts mit Namen zu tun, die außerhalb der Funktionsdefinition vorkommen können. Die Zeile endet mit einem Doppelpunkt und das Folgende, die Definition der Funktion, ist eingerückt.\n",
    "Dieser eingerückte Block trägt die eigentliche Arbeitsweise der Funktion.\n",
    "\n",
    "Mit dem Schlüsselwort ```return``` (das nur in einer Funktion verwendet werden kann) wird der berechnete Wert zurückgegeben."
   ]
  },
  {
   "cell_type": "markdown",
   "metadata": {
    "lang": "de"
   },
   "source": [
    "Unten sehen Sie eine Funktion, die bei einer gegebenen Liste die Gesamtlänge der Elemente in der Liste ausdruckt."
   ]
  },
  {
   "cell_type": "code",
   "execution_count": null,
   "metadata": {
    "id": "bJRJC7egWqjB"
   },
   "outputs": [],
   "source": [
    "def total_length(list):\n",
    "    sum = 0\n",
    "    for element in list:\n",
    "        sum = sum + len(element)\n",
    "    return sum\n",
    "\n",
    "total_length(['123', 'xyz', 'a'])"
   ]
  },
  {
   "cell_type": "markdown",
   "metadata": {
    "lang": "de"
   },
   "source": [
    "Noch ein Beispiel: Diese Funktion findet die Länge des längsten Elements in einer Liste."
   ]
  },
  {
   "cell_type": "code",
   "execution_count": null,
   "metadata": {
    "id": "FRfHoHvQWqjC"
   },
   "outputs": [],
   "source": [
    "def longest_element(list):\n",
    "    longest = len(list[0]) # initializes the length of the longest element as the length of the first element\n",
    "    for element in list:\n",
    "        if len(element) > longest:\n",
    "            longest = len(element)\n",
    "    return longest\n",
    "\n",
    "longest_element([\"Python\",\"GKI\",\"Introduction\"])"
   ]
  },
  {
   "cell_type": "markdown",
   "metadata": {
    "lang": "de"
   },
   "source": [
    "## Importieren\n",
    "Angenommen, wir haben eine wirklich nützliche Funktion geschrieben, die wir in vielen verschiedenen Skripten verwenden möchten.\n",
    "Wir können natürlich die Definition der Funktion einfach von einem Skript in ein anderes kopieren. Wenn wir jedoch die Funktionsdefinition in einem Skript ändern, müssen wir die Bearbeitung in allen unseren Skripten wiederholen.\n",
    "Was wir wollen, ist ein Mechanismus, um eine einzelne Definition in mehreren Skripten zu verwenden. Dies wird als „Importieren der Funktion“ bezeichnet.\n",
    "Der Import von nur einer Funktion kann Probleme bereiten, daher ist es besser, ein Modul mit dieser Funktion zu importieren. Ein Modul ist eine Datei, die aus Python-Code besteht. Es kann Funktionen, Variablen und Klassen definieren."
   ]
  },
  {
   "cell_type": "markdown",
   "metadata": {
    "lang": "de"
   },
   "source": [
    "### Die Import-Anweisung:\n",
    "Sie können jede Python-Quelldatei als Modul verwenden, indem Sie eine import-Anweisung in einer anderen Python-Quelldatei ausführen. 'Import' hat die folgende Syntax:\n",
    "\n",
    "```py\n",
    "import modul1[, modul2[,... modulN]\n",
    "```"
   ]
  },
  {
   "cell_type": "markdown",
   "metadata": {
    "lang": "de"
   },
   "source": [
    "#### ```python from...import```-Anweisung\n",
    "Mit der 'from...import'-Anweisung von Python können Sie bestimmte Attribute aus einem Modul in den aktuellen Namensraum importieren:\n",
    "\n",
    "```py\n",
    "from modname import name1[, name2[, ... nameN]]\n",
    "```"
   ]
  },
  {
   "cell_type": "markdown",
   "metadata": {
    "lang": "de"
   },
   "source": [
    "#### Die ```from...import *```-Anweisung:\n",
    "Es ist auch möglich, alle Namen aus einem Modul in den aktuellen Namensraum zu importieren, indem Sie die folgende Import-Anweisung verwenden:\n",
    "\n",
    "```py\n",
    "from modname import*\n",
    "```"
   ]
  },
  {
   "cell_type": "markdown",
   "metadata": {
    "lang": "de"
   },
   "source": [
    "# Aufgabe 6.1"
   ]
  },
  {
   "cell_type": "markdown",
   "metadata": {
    "lang": "de"
   },
   "source": [
    "**Wenn zwei ganze Zahlen b und c gegeben sind, finden Sie das Minimum dieser beiden Zahlen und geben Sie den Namen des Minimums aus. Falls b gleich c ist, drucke 'b und c sind gleich'. Schreiben Sie eine Funktion zur Lösung dieser Aufgabe: Sie können Ihr Programm mit folgenden Daten testen:**\n",
    "\n",
    "```\n",
    "   1. b = 6, c = 9\n",
    "   2. b = 4, c = 4\n",
    "   3. b = 23, c = 2\n",
    "```"
   ]
  },
  {
   "cell_type": "code",
   "execution_count": 32,
   "metadata": {
    "id": "mdDdbBHcWqjD"
   },
   "outputs": [],
   "source": [
    "# Write your code here\n",
    "def min(b,c):\n",
    "    \n",
    "    # complete the body of the function\n",
    "    \n",
    "    return None"
   ]
  },
  {
   "cell_type": "code",
   "execution_count": 8,
   "metadata": {},
   "outputs": [],
   "source": [
    "# Use the following input to check the correctness of your code\n",
    "min(6, 9) # 1.\n",
    "min(4, 4) # 2.\n",
    "min(23, 2) # 3."
   ]
  },
  {
   "cell_type": "markdown",
   "metadata": {
    "id": "X0-M1-Vywxx4"
   },
   "source": [
    "<details><summary>Click here for the solution</summary>\n",
    "\n",
    "```python\n",
    "def min(b,c):\n",
    "    if b < c:\n",
    "        print ('b is the minimum')\n",
    "    elif b == c:\n",
    "        print ('b and c are equal')\n",
    "    else:\n",
    "        print ('c is the minimum')\n",
    "\n",
    "min(6, 9) # 1.\n",
    "min(4, 4) # 2.\n",
    "min(23, 2) # 3.\n",
    "```\n",
    "\n",
    "</details>"
   ]
  },
  {
   "cell_type": "markdown",
   "metadata": {
    "lang": "de"
   },
   "source": [
    "## Aufgabe 6.2\n",
    "**Gegeben ist ein Listenausdruck, der die Gesamtlänge der Elemente der Liste ausgibt.\n",
    "Beispiel: total_length([\"123\", \"xyz\", 'a']) gibt 7.** zurück"
   ]
  },
  {
   "cell_type": "code",
   "execution_count": 9,
   "metadata": {
    "id": "3mm9CwwlWqjE"
   },
   "outputs": [
    {
     "name": "stdout",
     "output_type": "stream",
     "text": [
      "0\n"
     ]
    }
   ],
   "source": [
    "# Write your code here\n",
    "def total_length(l):\n",
    "    \n",
    "    sum = 0\n",
    "    \n",
    "    # complete the body of the function\n",
    "    \n",
    "    return sum\n",
    "    \n",
    "print (total_length([\"123\",\"xyz\",\"a\"]))"
   ]
  },
  {
   "cell_type": "markdown",
   "metadata": {
    "id": "u7gcq-CwxXoL"
   },
   "source": [
    "<details><summary>Click here for the solution</summary>\n",
    "\n",
    "```python\n",
    "def total_length(l):\n",
    "    sum = 0\n",
    "    for element in l:\n",
    "        sum = sum + len(element)\n",
    "    return sum\n",
    "print (total_length([\"123\",\"xyz\",\"a\"])).\n",
    "```\n",
    "\n",
    "</details>"
   ]
  },
  {
   "cell_type": "markdown",
   "metadata": {
    "lang": "de"
   },
   "source": [
    "## Aufgabe 6.3\n",
    "**Gegeben ist eine Liste mit ganzen und reellen Zahlen. Definieren Sie eine Funktion, die eine Liste nur mit positiven Zahlen zurückgibt.**"
   ]
  },
  {
   "cell_type": "code",
   "execution_count": 11,
   "metadata": {
    "id": "vFoJ82yPWqjF"
   },
   "outputs": [],
   "source": [
    "# Write your code here\n",
    "def positive(a_list):\n",
    "    answer = []\n",
    "    \n",
    "    # Complete the body of the function\n",
    "    \n",
    "    return answer"
   ]
  },
  {
   "cell_type": "code",
   "execution_count": 12,
   "metadata": {},
   "outputs": [
    {
     "name": "stdout",
     "output_type": "stream",
     "text": [
      "[]\n"
     ]
    }
   ],
   "source": [
    "print (positive([3,-3,2.4,-0.1]))"
   ]
  },
  {
   "cell_type": "markdown",
   "metadata": {
    "id": "WVL2aMYayAYT"
   },
   "source": [
    "<details><summary>Click here for the solution</summary>\n",
    "\n",
    "```python\n",
    "def positive(a_list):\n",
    "    answer = []\n",
    "    for a in a_list:\n",
    "        if a > 0:\n",
    "            answer.append(a)\n",
    "    return answer\n",
    "print (positive([3,-3,2.4,-0.1]))\n",
    "```\n",
    "\n",
    "</details>"
   ]
  },
  {
   "cell_type": "markdown",
   "metadata": {
    "lang": "de"
   },
   "source": [
    "**Definieren Sie eine Funktion, die zurückgibt, wie oft ein eingegebener Buchstabe im Text vorkommt (verwenden Sie keine eingebauten Funktionen). Wie viel ist das in Prozent der Gesamtzahl der Buchstaben in diesem Text (ausdrucken)?**"
   ]
  },
  {
   "cell_type": "code",
   "execution_count": 15,
   "metadata": {
    "id": "ehnN7mnCWqjF"
   },
   "outputs": [],
   "source": [
    "# Write your code here\n",
    "def s_occur(text, input_letter):\n",
    "    s_counter = 0\n",
    "    \n",
    "    # complete the body of the function\n",
    "    \n",
    "    print (f\"The {input_letter} make up  {(s_counter * 100 / len(text))} of the text\")\n",
    "    \n",
    "    return s_counter"
   ]
  },
  {
   "cell_type": "code",
   "execution_count": null,
   "metadata": {},
   "outputs": [],
   "source": [
    "print (s_occur(\"This is a test text\"))"
   ]
  },
  {
   "cell_type": "markdown",
   "metadata": {
    "id": "QQgyDXOsyPjk"
   },
   "source": [
    "<details><summary>Click here for the solution</summary>\n",
    "\n",
    "```python\n",
    "def s_occur(text, input_letter):\n",
    "    s_counter = 0\n",
    "    \n",
    "    for letter in text:\n",
    "        if letter == input_letter:\n",
    "            s_counter = s_counter + 1\n",
    "            \n",
    "    print (\"The s's make up\", (s_counter * 100 / len(text)), '%',\"of the text\")\n",
    "    return s_counter\n",
    "print (s_occur(\"This is a test text\"))\n",
    "```\n",
    "\n",
    "</details>"
   ]
  },
  {
   "cell_type": "markdown",
   "metadata": {
    "lang": "de"
   },
   "source": [
    "## Aufgabe 6.4"
   ]
  },
  {
   "cell_type": "markdown",
   "metadata": {
    "lang": "de"
   },
   "source": [
    "**1. Definieren Sie eine Funktion, die die Länge des längsten Textworts zurückgibt. (Hinweis: z. B. mit einer for-Schleife können Sie über die Wörter des Textes iterieren.)**"
   ]
  },
  {
   "cell_type": "code",
   "execution_count": 19,
   "metadata": {
    "id": "eHyo1ItDWqjG"
   },
   "outputs": [],
   "source": [
    "# Write your code here\n",
    "def max_length(text):\n",
    "    \n",
    "    max_len = 0\n",
    "    \n",
    "    # complete the body of the function\n",
    "    \n",
    "    \n",
    "    return max_len"
   ]
  },
  {
   "cell_type": "code",
   "execution_count": 20,
   "metadata": {},
   "outputs": [
    {
     "name": "stdout",
     "output_type": "stream",
     "text": [
      "0\n"
     ]
    }
   ],
   "source": [
    "print(max_length(\"This is a test text\"))"
   ]
  },
  {
   "cell_type": "markdown",
   "metadata": {
    "id": "c31rNriqzwTm"
   },
   "source": [
    "<details><summary>Click here for the solution</summary>\n",
    "\n",
    "```python\n",
    "def max_length(text):\n",
    "    max_len = 0\n",
    "    for item in text.split():\n",
    "        if len(item) > max_len:\n",
    "            max_len = len(item)\n",
    "    return max_len\n",
    "\n",
    "print(max_length(\"This is a test text\"))\n",
    "```\n",
    "\n",
    "</details>"
   ]
  },
  {
   "cell_type": "markdown",
   "metadata": {
    "lang": "de"
   },
   "source": [
    "**2. Definieren Sie eine Funktion, die \"Ja\" ausgibt, wenn der Text mehr als 20.000 Token enthält und die Länge des längsten Worts mindestens 10 Zeichen beträgt. Geben Sie andernfalls \"Nein\" zurück. (Hinweis: Sie können die Funktion aus der vorherigen Aufgabe verwenden.)**"
   ]
  },
  {
   "cell_type": "code",
   "execution_count": 26,
   "metadata": {
    "id": "KFnyyfLAWqjH"
   },
   "outputs": [],
   "source": [
    "# Write your code here\n",
    "def yes_or_no(text):\n",
    "    # complete the body of the function\n",
    "    return None"
   ]
  },
  {
   "cell_type": "code",
   "execution_count": 27,
   "metadata": {},
   "outputs": [
    {
     "name": "stdout",
     "output_type": "stream",
     "text": [
      "None\n"
     ]
    }
   ],
   "source": [
    "print(yes_or_no(\"This is a test text\"))"
   ]
  },
  {
   "cell_type": "markdown",
   "metadata": {
    "id": "gJV4GvpA0TnT"
   },
   "source": [
    "<details><summary>Click here for the solution</summary>\n",
    "\n",
    "```python\n",
    "def yes_or_no(text):\n",
    "    if len(text) > 20000 and max_length(text) >= 10:\n",
    "        print (\"Yes\")\n",
    "    else:\n",
    "        print (\"No\")\n",
    "print(yes_or_no(\"This is a test text\"))\n",
    "```\n",
    "\n",
    "</details>"
   ]
  },
  {
   "cell_type": "markdown",
   "metadata": {
    "lang": "de"
   },
   "source": [
    "**3. Definieren Sie eine Funktion, die alle Tokens eines Textes ausgibt. Verwenden Sie eine ```for```-Schleife.**"
   ]
  },
  {
   "cell_type": "code",
   "execution_count": 30,
   "metadata": {
    "id": "5BkXCMBFWqjI"
   },
   "outputs": [],
   "source": [
    "# Write your code here     \n",
    "def print_out(text):\n",
    "    # complete the body of the function\n",
    "    return None"
   ]
  },
  {
   "cell_type": "code",
   "execution_count": 31,
   "metadata": {},
   "outputs": [],
   "source": [
    "print_out(\"This is a test text\")"
   ]
  },
  {
   "cell_type": "markdown",
   "metadata": {
    "id": "fb5Pxjbr0uND"
   },
   "source": [
    "<details><summary>Click here for the solution</summary>\n",
    "\n",
    "```python\n",
    "def print_out(text):\n",
    "    for item in text.split():\n",
    "        print(item)\n",
    "        \n",
    "print_out(\"This is a test text\")\n",
    "```\n",
    "\n",
    "</details>"
   ]
  },
  {
   "cell_type": "markdown",
   "metadata": {
    "lang": "de"
   },
   "source": [
    "# Vielen Dank, dass Sie diese Übung abgeschlossen haben\n",
    "\n",
    "______\n",
    "\n",
    "\n",
    "## Andere Mitwirkende\n",
    "\n",
    "N / A"
   ]
  }
 ],
 "metadata": {
  "colab": {
   "name": "exercise_en.ipynb",
   "provenance": []
  },
  "kernelspec": {
   "display_name": "Python 3 (ipykernel)",
   "language": "python",
   "name": "python3"
  },
  "language_info": {
   "codemirror_mode": {
    "name": "ipython",
    "version": 3
   },
   "file_extension": ".py",
   "mimetype": "text/x-python",
   "name": "python",
   "nbconvert_exporter": "python",
   "pygments_lexer": "ipython3",
   "version": "3.10.4"
  },
  "nbTranslate": {
   "displayLangs": [
    "de"
   ],
   "hotkey": "alt-t",
   "langInMainMenu": true,
   "sourceLang": "en",
   "targetLang": "de",
   "useGoogleTranslate": true
  },
  "varInspector": {
   "cols": {
    "lenName": 16,
    "lenType": 16,
    "lenVar": 40
   },
   "kernels_config": {
    "python": {
     "delete_cmd_postfix": "",
     "delete_cmd_prefix": "del ",
     "library": "var_list.py",
     "varRefreshCmd": "print(var_dic_list())"
    },
    "r": {
     "delete_cmd_postfix": ") ",
     "delete_cmd_prefix": "rm(",
     "library": "var_list.r",
     "varRefreshCmd": "cat(var_dic_list()) "
    }
   },
   "types_to_exclude": [
    "module",
    "function",
    "builtin_function_or_method",
    "instance",
    "_Feature"
   ],
   "window_display": false
  }
 },
 "nbformat": 4,
 "nbformat_minor": 1
}
