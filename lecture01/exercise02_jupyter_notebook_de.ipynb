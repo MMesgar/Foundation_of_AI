{
 "cells": [
  {
   "cell_type": "markdown",
   "metadata": {
    "lang": "de"
   },
   "source": [
    "# Übung: Jupyter Notebook\n",
    "\n",
    "Stand: SoSe 2022\n",
    "\n",
    "Geschätzte benötigte Zeit: 15 Minuten\n",
    "\n",
    "Autor: Dr. Mohsen Mesgar und Mohamed Abdelmagied\n",
    "\n",
    "______"
   ]
  },
  {
   "cell_type": "markdown",
   "metadata": {
    "lang": "de"
   },
   "source": [
    "# Ziele\n",
    "\n",
    "Nach Abschluss dieser Übung können Sie:\n",
    "\n",
    " - Markdown-Zellen im Jupyter-Notebook verwenden\n",
    " - Verwenden Sie Codezellen im Jupyter-Notebook\n",
    " - Führen Sie beide Zellentypen aus und verstehen Sie den Unterschied zwischen ihnen\n",
    " - die Grundlagen der Markdown-Sprache verstehen und eine Druckanweisung in Python schreiben"
   ]
  },
  {
   "cell_type": "markdown",
   "metadata": {
    "lang": "de"
   },
   "source": [
    "**Erinnerung: Bitte laden Sie diese Übung auf [Google Colab](https://colab.research.google.com/) hoch, damit Sie an den Aufgaben arbeiten können**"
   ]
  },
  {
   "cell_type": "markdown",
   "metadata": {
    "lang": "de"
   },
   "source": [
    "# Aufgabe 1\n",
    "\n",
    "In Zellen in Python schreiben wir Text oder Code. In Jupyter Notebook von Colab gibt es zwei Arten von Zellen. Es gibt eine Code-Zelle und eine Text-/Markdown-Zelle.\n",
    "\n",
    "In Jupyter Notebook von Colab können mit dem Befehl Einfügen -> Codezelle/Textzelle neue Zellen unterhalb der aktuellen Zelle eingefügt werden. Standardmäßig ist eine Zelle nach der Erstellung eine Codezelle. (Tastaturkürzel: Klicken Sie auf eine Zelle und drücken Sie dann \"a\", um eine Zelle darüber zu erstellen, oder drücken Sie \"b\", um eine Zelle darunter zu erstellen.)\n",
    "\n",
    " Sie können eine Zelle erstellen und dann ihre Position umschalten, indem Sie den Aufwärtspfeil auf der rechten Seite der Zelle im Befehlsmodus (Tastenkürzel: STRG+MK) oder den Abwärtspfeil (Tastenkürzel: STRG+MJ) verwenden. Um eine Zelle zu löschen, wählen Sie sie einfach aus die entsprechende Zelle und entfernen Sie diese über Bearbeiten -> Zellen löschen. (Tastenkürzel: Klicken Sie auf die Zelle und drücken Sie dann zweimal \"d\").\n",
    " \n",
    "  Lassen Sie uns nun unsere erste Textzelle und Codezelle einfügen. Nachdem Sie beide Zellen erstellt haben, verschieben Sie die Textzelle über diese Aufgabenzelle und löschen Sie dann den Code und die Markdown-Zelle"
   ]
  },
  {
   "cell_type": "markdown",
   "metadata": {
    "lang": "de"
   },
   "source": [
    "# Aufgabe 2\n",
    "\n",
    "Die Markdown-Sprache ist eine Auszeichnungssprache (Obermenge von HTML), die zur Textformatierung in verschiedenen Kontexten verwendet wird. In Jupyter Notebook verwenden wir Markdown-Zellen, um Text im selben Dokument wie Python-Code zu formatieren, was bei der Dokumentation des Codes hilft. Tatsächlich verwendet der gesamte Text, der bisher in diesem Notizbuch geschrieben wurde, Markdown-Zellen.\n",
    "\n",
    "Nachdem Sie nun verstanden haben, was die Markdown-Sprache ist, ist es an der Zeit, Ihre erste Markdown-Zelle zu erstellen. Gehen Sie in Ihrem Jupyter-Notebook wie folgt vor:\n",
    "\n",
    "1. Klicken Sie auf **Einfügen** und wählen Sie dann Textzelle aus\n",
    "1. Schreiben Sie in die neue leere Zelle # Hello world\n",
    "1. Schreiben Sie in eine andere Zeile ## Hello world\n",
    "1. Schreiben Sie in eine weitere Zeile einfach Hello world\n",
    "\n",
    "Sehen Sie den Unterschied?"
   ]
  },
  {
   "cell_type": "markdown",
   "metadata": {
    "lang": "de"
   },
   "source": [
    "# Aufgabe 3\n",
    "\n",
    "Jetzt wissen Sie, was eine **Markdown/Text**-Zelle ist, aber Sie wissen wahrscheinlich nicht, wie man sie benutzt. Lassen Sie uns kurz den Markdown-Leitfaden von **colab** durchgehen, um die allgemeinen Strukturen in Markdown zu verstehen.\n",
    "\n",
    "https://colab.research.google.com/notebooks/markdown_guide.ipynb#scrollTo=Lhfnlq1Surtk"
   ]
  },
  {
   "cell_type": "markdown",
   "metadata": {
    "lang": "de"
   },
   "source": [
    "# Aufgabe 4\n",
    "\n",
    "In den letzten 2 Aufgaben haben wir etwas über Markdown-Zellen gelernt. Aber Sie müssen noch etwas Python-Code in Ihr Notizbuch schreiben. Hier kommen Codezellen ins Spiel. Alles, was Sie tun müssen, ist, erneut zu **insert** zu gehen, aber wählen Sie diesmal die Codezelle, schreiben Sie Ihre erste Python-Anweisung wie folgt:\n",
    "\n",
    "```Python\n",
    "print(\"Hello world\")\n",
    "```\n",
    "\n",
    "Nachdem Sie die Anweisung geschrieben haben, müssen Sie die Zelle ausführen, indem Sie entweder die Schaltfläche „Ausführen“ auf der linken Seite der Zelle drücken oder Befehl+Eingabe (Mac) oder Umschalt+Eingabe (andere Computer) drücken."
   ]
  },
  {
   "cell_type": "markdown",
   "metadata": {
    "lang": "de"
   },
   "source": [
    "# Aufgabe 5\n",
    "\n",
    "Codezellen in Jupyter Notebook haben eine sehr wichtige Funktion. Auf Variablen / Funktionen / importierte Bibliotheken einer Codezelle kann in allen nachfolgenden Codezellen zugegriffen werden.\n",
    "\n",
    " Die Ausgabe einer Codezelle kann über „Cell -> Current Outputs -> Clear“ gelöscht werden. Wenn Sie die Ausgabe aller Zellen löschen möchten, können Sie dies über ``Cell -> All Output -> Clear`` tun.\n",
    " \n",
    " Versuchen Sie Folgendes an den beiden Codezellen Zelle 1 und Zelle 2:\n",
    " \n",
    "  1. Führen Sie Cell 1 und Cell 2 nacheinander aus.\n",
    "  2. Ändern Sie den Wert von \"Variable\" auf 16 und führen Sie dann Zelle 2 aus.\n",
    "  3. *Ändern Sie den Wert von \"Variable\" auf 17 und führen Sie Zelle 1 und Zelle 2 nacheinander aus.*"
   ]
  },
  {
   "cell_type": "code",
   "execution_count": null,
   "metadata": {
    "id": "kPmTA7rtF6PU"
   },
   "outputs": [],
   "source": [
    "#cell 1\n",
    "variable=15"
   ]
  },
  {
   "cell_type": "code",
   "execution_count": null,
   "metadata": {
    "id": "9gs2mbnGF8Mo"
   },
   "outputs": [],
   "source": [
    "#cell2\n",
    "print(variable)"
   ]
  },
  {
   "cell_type": "markdown",
   "metadata": {
    "lang": "de"
   },
   "source": [
    "## Vielen Dank, dass Sie diese Übung abgeschlossen haben!\n",
    "\n",
    "______\n",
    "\n",
    "\n",
    "## Andere Mitwirkende\n",
    "\n",
    "N / A"
   ]
  }
 ],
 "metadata": {
  "colab": {
   "collapsed_sections": [],
   "name": "jupyter_notebook_en.ipynb",
   "provenance": []
  },
  "kernelspec": {
   "display_name": "Python 3 (ipykernel)",
   "language": "python",
   "name": "python3"
  },
  "language_info": {
   "codemirror_mode": {
    "name": "ipython",
    "version": 3
   },
   "file_extension": ".py",
   "mimetype": "text/x-python",
   "name": "python",
   "nbconvert_exporter": "python",
   "pygments_lexer": "ipython3",
   "version": "3.10.4"
  },
  "nbTranslate": {
   "displayLangs": [
    "de"
   ],
   "hotkey": "alt-t",
   "langInMainMenu": true,
   "sourceLang": "en",
   "targetLang": "de",
   "useGoogleTranslate": true
  },
  "varInspector": {
   "cols": {
    "lenName": 16,
    "lenType": 16,
    "lenVar": 40
   },
   "kernels_config": {
    "python": {
     "delete_cmd_postfix": "",
     "delete_cmd_prefix": "del ",
     "library": "var_list.py",
     "varRefreshCmd": "print(var_dic_list())"
    },
    "r": {
     "delete_cmd_postfix": ") ",
     "delete_cmd_prefix": "rm(",
     "library": "var_list.r",
     "varRefreshCmd": "cat(var_dic_list()) "
    }
   },
   "types_to_exclude": [
    "module",
    "function",
    "builtin_function_or_method",
    "instance",
    "_Feature"
   ],
   "window_display": false
  }
 },
 "nbformat": 4,
 "nbformat_minor": 1
}
