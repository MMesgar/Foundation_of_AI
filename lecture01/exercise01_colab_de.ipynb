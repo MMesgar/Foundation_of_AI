{
 "cells": [
  {
   "cell_type": "markdown",
   "metadata": {
    "lang": "de"
   },
   "source": [
    "# Übung: Google Colab\n",
    "\n",
    "Stand: SoSe 2022\n",
    "\n",
    "Geschätzte benötigte Zeit: 10 Minuten\n",
    "\n",
    "Autor: Dr. Mohsen Mesgar\n",
    "\n",
    "---"
   ]
  },
  {
   "cell_type": "markdown",
   "metadata": {
    "lang": "de"
   },
   "source": [
    "# Ziele\n",
    "\n",
    "Nach Abschluss dieses Labs können Sie:\n",
    "\n",
    " - Führen Sie ein Jupyter-Notebook auf Colab aus"
   ]
  },
  {
   "cell_type": "markdown",
   "metadata": {
    "lang": "de"
   },
   "source": [
    "## Einführung\n",
    "\n",
    "Colab ist eine Cloud-Umgebung von Google. Sie können es ganz einfach verwenden, um Python-Codes ohne Softwareinstallation auszuführen. Um diesen Cloud-Dienst zu nutzen, benötigen Sie lediglich einen Computer mit Internetverbindung. Da Google diesen netten Service anbietet, erwartet es, ein Google-Konto zu erstellen. Nichts anderes ist erforderlich."
   ]
  },
  {
   "cell_type": "markdown",
   "metadata": {
    "lang": "de"
   },
   "source": [
    "## Anmerkung:\n",
    "Für diesen Kurs benötigen wir nur die **kostenlose Version** von Colab."
   ]
  },
  {
   "cell_type": "markdown",
   "metadata": {
    "lang": "de"
   },
   "source": [
    "# Lasst uns beginnen\n",
    "\n",
    "\n",
    "- Öffnen Sie den folgenden Link in Ihrem Webbrowser auf Ihrem Computer.\n",
    "\n",
    "https://colab.research.google.com/\n",
    "\n",
    "\n",
    "- Melden Sie sich mit Ihrem Google-Konto beim Dienst an. Die Anmeldeschaltfläche befindet sich in der oberen rechten Ecke.\n",
    "\n",
    "\n",
    "- Klicken Sie oben links auf der Seite auf „Datei“. Dann \"neues Notizbuch\"."
   ]
  },
  {
   "cell_type": "markdown",
   "metadata": {
    "lang": "de"
   },
   "source": [
    "**Ausgabe**\n",
    "\n",
    "Die Umgebung, die Sie in Ihrem Browser sehen, heißt Jupyter Notebook. Es ist eine interaktive Umgebung, um ein Programm in Python und einigen weiteren Programmiersprachen zu schreiben. Der Hauptvorteil von Jupyter-Notizbüchern besteht darin, dass Sie Text mit unterschiedlichem Stil und Ihre Python-Codes in einer Datei kombinieren können. Wir überlassen weitere Informationen zu Jupyter-Notebooks für eine andere Übung."
   ]
  },
  {
   "cell_type": "markdown",
   "metadata": {
    "lang": "en"
   },
   "source": [
    "# Try Out Colab: \"Hello World\""
   ]
  },
  {
   "cell_type": "markdown",
   "metadata": {
    "lang": "de"
   },
   "source": [
    "Probieren Sie das Colab aus, um zu sehen, wie es funktioniert.\n",
    "\n",
    "- Kopieren Sie den folgenden Python-Code\n",
    "\n",
    "```python\n",
    "print(\"Hello world\")\n",
    "```\n",
    "\n",
    "- Öffnen Sie Ihr Jupyter-Notebook in Colab.\n",
    "\n",
    "- Fügen Sie es in die Zelle ein.\n",
    "\n",
    "- Führen Sie die Zelle aus\n",
    "\n",
    "    - Verwenden Sie \"Comand + Enter\" (auf Mac) oder \"CTRL + Enter\" (auf anderen Computern) auf Ihrer Tastatur\n",
    "    \n",
    "    - Verwenden Sie das kleine Dreieck neben der Zelle."
   ]
  },
  {
   "cell_type": "markdown",
   "metadata": {},
   "source": [
    "**Output**\n",
    "\n",
    "![hello_world](./images/hello_world.png)\n"
   ]
  },
  {
   "cell_type": "markdown",
   "metadata": {
    "lang": "en"
   },
   "source": [
    "## Save a Notebook"
   ]
  },
  {
   "cell_type": "markdown",
   "metadata": {
    "lang": "de"
   },
   "source": [
    "Um Ihr Jupyter-Notebook zu speichern, ist es besser, Ihrem Notebook einen repräsentativen Namen zu geben. Klicken Sie dazu einfach auf den Namen des Notizbuchs in Colab (links oben auf der Seite und benennen Sie die Datei dann um).\n",
    "\n",
    "Um das Notizbuch zu speichern, können Sie zu „Datei > Speichern“ gehen. Dadurch wird Ihr Notizbuch in der aktuellen Sitzung gespeichert. Sie können Ihr Notizbuch stattdessen in Ihrem Google Drive speichern, indem Sie „Datei > Kopie in Drive speichern“ wählen. Sie können Ihr Notizbuch auch in Ihrem Github speichern. durch ``Datei > Kopie in Github speichern``.\n",
    "\n",
    "Um das Notebook auf Ihren lokalen Rechner herunterzuladen, verwenden Sie „Datei > Herunterladen > .ipynb herunterladen“."
   ]
  },
  {
   "cell_type": "markdown",
   "metadata": {
    "lang": "de"
   },
   "source": [
    "Benennen Sie Ihr Notebook jetzt in „hello_world.ipynb“ um und laden Sie es dann auf Ihren Computer herunter."
   ]
  },
  {
   "cell_type": "markdown",
   "metadata": {
    "lang": "en"
   },
   "source": [
    "## Upload a Notebook to Colab"
   ]
  },
  {
   "cell_type": "markdown",
   "metadata": {
    "lang": "de"
   },
   "source": [
    "Nehmen wir an, Sie haben ein Jupyter-Notebook auf Ihrem lokalen Computer. Beispielsweise geben wir Ihnen für eine Übung oder Hausaufgabe ein Notizbuch und Sie speichern es auf Ihrem lokalen Computer.\n",
    "Um dieses Notizbuch zu öffnen und zu bearbeiten, KÖNNEN Sie die Datei in Colab hochladen. Dann sind Sie bereit zu gehen.\n",
    "\n",
    "Wie lade ich hoch?\n",
    "\n",
    "- Colab öffnen (https://colab.research.google.com/)"
   ]
  },
  {
   "cell_type": "markdown",
   "metadata": {},
   "source": [
    "![upload_ipynb](./images/upload_ipynb.png)"
   ]
  },
  {
   "cell_type": "markdown",
   "metadata": {
    "lang": "de"
   },
   "source": [
    "- Wählen Sie ein Notebook von Ihrem lokalen Computer aus. Es sollte die Erweiterung „.ipynb“ haben. Wählen Sie zum Beispiel die Datei „hello_world.ipynb“ aus\n",
    " \n",
    " - Sie sollten den Inhalt der Datei sehen."
   ]
  },
  {
   "cell_type": "markdown",
   "metadata": {
    "lang": "de"
   },
   "source": [
    "Nachdem Sie die Datei geöffnet haben, können Sie sie ausführen. Können Sie zum Beispiel einen Code schreiben, der Ihren Namen ausgibt?\n",
    "\n",
    "```Python\n",
    "print(\" ??? \")\n",
    "\n",
    "```\n",
    "\n",
    "Ersetzen ??? mit deinem Namen."
   ]
  },
  {
   "cell_type": "markdown",
   "metadata": {
    "lang": "de"
   },
   "source": [
    "## Vielen Dank, dass Sie dieses Lab abgeschlossen haben!\n",
    "\n",
    "______\n",
    "\n",
    "## Andere Mitwirkende\n",
    "\n",
    "N / A"
   ]
  },
  {
   "cell_type": "code",
   "execution_count": null,
   "metadata": {},
   "outputs": [],
   "source": []
  }
 ],
 "metadata": {
  "kernelspec": {
   "display_name": "Python 3 (ipykernel)",
   "language": "python",
   "name": "python3"
  },
  "language_info": {
   "codemirror_mode": {
    "name": "ipython",
    "version": 3
   },
   "file_extension": ".py",
   "mimetype": "text/x-python",
   "name": "python",
   "nbconvert_exporter": "python",
   "pygments_lexer": "ipython3",
   "version": "3.7.13"
  },
  "nbTranslate": {
   "displayLangs": [
    "de"
   ],
   "hotkey": "alt-t",
   "langInMainMenu": true,
   "sourceLang": "en",
   "targetLang": "de",
   "useGoogleTranslate": true
  },
  "varInspector": {
   "cols": {
    "lenName": 16,
    "lenType": 16,
    "lenVar": 40
   },
   "kernels_config": {
    "python": {
     "delete_cmd_postfix": "",
     "delete_cmd_prefix": "del ",
     "library": "var_list.py",
     "varRefreshCmd": "print(var_dic_list())"
    },
    "r": {
     "delete_cmd_postfix": ") ",
     "delete_cmd_prefix": "rm(",
     "library": "var_list.r",
     "varRefreshCmd": "cat(var_dic_list()) "
    }
   },
   "types_to_exclude": [
    "module",
    "function",
    "builtin_function_or_method",
    "instance",
    "_Feature"
   ],
   "window_display": false
  }
 },
 "nbformat": 4,
 "nbformat_minor": 2
}
