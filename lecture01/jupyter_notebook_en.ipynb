{
  "cells": [
    {
      "cell_type": "markdown",
      "metadata": {
        "id": "S7crQ-uu6_TU"
      },
      "source": [
        "# Exercise: Jupyter Notebook \n",
        "\n",
        "Version: SoSe 2022\n",
        "\n",
        "Estimated time needed: 10 minutes\n",
        "\n",
        "Author: Mohamed Abdelmagied\n",
        "\n",
        "______"
      ]
    },
    {
      "cell_type": "markdown",
      "metadata": {
        "id": "zoUhCWZZ6_Tg"
      },
      "source": [
        "# Objectives\n",
        "\n",
        "After completing this exercise you will be able to:\n",
        "\n",
        " - use markdown cells in jupyter notebook\n",
        " - use code cells in jupyter notebook\n",
        " - Run both type of cells and understand the difference between them\n",
        " - understand the basics of the markdown language and write a print statement in python"
      ]
    },
    {
      "cell_type": "markdown",
      "source": [
        "# Task 1\n",
        "\n",
        "Markdown language is a markup language(superset of HTML), which is used for text formatting in different contexts. In Jupyter Notebook we use markdown cell to format text in the same document as python code which helps with the documentation of the code. In fact, all text written so far in this notebook is using markdown cells.\n",
        "\n",
        "Now that you understand what markdown language is, it is time to create your first markdown cell. In your jupyter notebook, do the following:\n",
        "\n",
        "1. click on **insert** and then choose text cell\n",
        "1. In the new empty cell, write # Hello world\n",
        "1. In another line, write ## Hello world\n",
        "1. In yet another line, write just Hello world\n",
        "\n",
        "Do you see the difference?"
      ],
      "metadata": {
        "id": "jg209COY9_lS"
      }
    },
    {
      "cell_type": "markdown",
      "source": [
        "# Task 2 \n",
        "\n",
        "Now you know what a **markdown/text** cell is, but you probably don't know how to use it. Let's go quickly through **colab's** markdown guide in order to understand the general structures in markdown."
      ],
      "metadata": {
        "id": "SeX1bbIlCh0M"
      }
    },
    {
      "cell_type": "markdown",
      "source": [
        "# Task 3\n",
        "\n",
        "In the past 2 tasks, we learned about markdown cells. But you still need to write some python code in you notebook. This is where code cells come in to play. All you need to do is go to **insert** again but this time choose code cell, write your first python statement as follows:\n",
        "\n",
        "print(\"hello world\")\n",
        "\n",
        "After writing the statement, you need to run the cell either by pressing the run button on the left side of the cell or hitting command+enter (Mac) or Shift+enter (other machines)"
      ],
      "metadata": {
        "id": "1v_Xgs4iEKUr"
      }
    },
    {
      "cell_type": "code",
      "source": [
        "print(\"hello world\")"
      ],
      "metadata": {
        "colab": {
          "base_uri": "https://localhost:8080/"
        },
        "id": "yfysqk77GODA",
        "outputId": "d3f63483-22ba-4290-aa3d-759f06d194c8"
      },
      "execution_count": 1,
      "outputs": [
        {
          "output_type": "stream",
          "name": "stdout",
          "text": [
            "hello world\n"
          ]
        }
      ]
    },
    {
      "cell_type": "markdown",
      "metadata": {
        "id": "vShVNHEC6_Tu"
      },
      "source": [
        "\n",
        "Congratulations! You are now familiar with the basics of jupyter notebook. It's time to learn more about python\n",
        "\n",
        "______\n",
        "\n",
        "## Author\n",
        "\n",
        "Mohsen Mesgar\n",
        "\n",
        "## Other Contributors\n",
        "\n",
        "N/A"
      ]
    },
    {
      "cell_type": "code",
      "execution_count": 1,
      "metadata": {
        "id": "ivJIfKEX6_Tz"
      },
      "outputs": [],
      "source": [
        ""
      ]
    }
  ],
  "metadata": {
    "kernelspec": {
      "display_name": "Python 3",
      "language": "python",
      "name": "python3"
    },
    "language_info": {
      "codemirror_mode": {
        "name": "ipython",
        "version": 3
      },
      "file_extension": ".py",
      "mimetype": "text/x-python",
      "name": "python",
      "nbconvert_exporter": "python",
      "pygments_lexer": "ipython3",
      "version": "3.7.1"
    },
    "varInspector": {
      "cols": {
        "lenName": 16,
        "lenType": 16,
        "lenVar": 40
      },
      "kernels_config": {
        "python": {
          "delete_cmd_postfix": "",
          "delete_cmd_prefix": "del ",
          "library": "var_list.py",
          "varRefreshCmd": "print(var_dic_list())"
        },
        "r": {
          "delete_cmd_postfix": ") ",
          "delete_cmd_prefix": "rm(",
          "library": "var_list.r",
          "varRefreshCmd": "cat(var_dic_list()) "
        }
      },
      "types_to_exclude": [
        "module",
        "function",
        "builtin_function_or_method",
        "instance",
        "_Feature"
      ],
      "window_display": false
    },
    "colab": {
      "name": "exercise_template.ipynb",
      "provenance": [],
      "collapsed_sections": []
    }
  },
  "nbformat": 4,
  "nbformat_minor": 0
}