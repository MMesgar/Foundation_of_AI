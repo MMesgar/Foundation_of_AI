{
 "cells": [
  {
   "cell_type": "markdown",
   "metadata": {
    "id": "at4bnPXjtWAD"
   },
   "source": [
    "# Exercise: Local Search\n",
    "\n",
    "Version: SoSe 2022\n",
    "\n",
    "Estimated time needed: 90 minutes\n",
    "\n",
    "Author: Mohamed Abdelmagied\n",
    "\n",
    "Deadline : Friday, 27.05.2022 (11:55 p.m.)\n",
    "\n",
    "______"
   ]
  },
  {
   "cell_type": "markdown",
   "metadata": {
    "id": "C7ngJO_Bto4q"
   },
   "source": [
    "# Homework"
   ]
  },
  {
   "cell_type": "markdown",
   "metadata": {
    "id": "zZFjeQ2ftseM"
   },
   "source": [
    "### Submission guidelines\n",
    "* You can reach up to 10 homework points for every homework submission. 10 homework points correspond to one exam point.\n",
    "* In the course of the semester, there will be extra bonus points (where each bonus point equals to one exam point) for the homeworks. These will be given in the form of e.g. challenges inside the homeworks. More information will be given in the corresponding homeworks.\n",
    "* The submission has to be done by a team of two to four people. **Individual submissions will not be graded**. The team members do not have to attend the same exercise group. If there are any problems regarding this guideline, please reach out to a tutor.\n",
    "* Please state the **name and matriculation number of all team members** in every submission **clearly**.\n",
    "* Only **one team member should submit** the homework. If more than one version of the same homework is submitted by accident (submitted by more than one group member), please reach out to a tutor **as soon as possible**. Otherwise, the first submitted homework will be graded.\n",
    "* The submission must be in a Jupyter Notebook format (.ipynb). Submissions in **other formats will not be graded**. If there are any problems regarding this guideline, please reach out to a tutor.\n",
    "* It is not necessary to also submit the part of the exercise discussed by the tutor, please only submit the homework part.\n",
    "* If you want to insert pictures in your homework, insert them like this: Upload the picture to Google Drive. Right click on it. Click on \"Get shareable link\". Set the accessibility to \"Anyone with link\". Copy the link. Create a text cell where you want to insert the picture. Insert the link as follows: ``![picture description]``(insert link here, inside these brackets). Change the link as follows: From \"https://drive.google.com/file/d/XXXXX/view?usp=sharing\" to \"https://drive.google.com/uc?id=XXXXX\". XXXXX describes the individual ID, which will be in your link."
   ]
  },
  {
   "cell_type": "markdown",
   "metadata": {
    "id": "cLia6J-Kumaa"
   },
   "source": [
    "### Additional Guidelines\n",
    "\n",
    "For Task 2:\n",
    "* No external libraries may be used that implement a solver directly, but libraries with auxiliary functions may be used. If in doubt, ask one of the tutors.\n",
    "* With this task, you also take part in the challenge at the same time.\n",
    "* Note that we will test for the challenge on unknown data. Be careful to not adapt your algorithm too much to the given map.\n",
    "* Copied code from online sources will be evaluated with 0 points and will not participate in the challenge.\n"
   ]
  },
  {
   "cell_type": "markdown",
   "metadata": {
    "id": "X-5XNw2Jvgrn"
   },
   "source": [
    "# Task 1: 2 Homework Points\n",
    "\n",
    "Determine the traveling time with the strategy \"Greedy-Best-First\" using the map example for 6 cities. The starting point is E. Also note the order in which the nodes are visited.\n",
    "\n",
    "This exercise can be implemented or can be solved manually.\n",
    "\n",
    "![](https://raw.githubusercontent.com/MMesgar/Foundation_of_AI/master/lecture06/images/tsp_6towns.png)"
   ]
  },
  {
   "cell_type": "markdown",
   "metadata": {
    "id": "Sm4hOWNUwpVd"
   },
   "source": [
    "**Insert your solution below this cell**"
   ]
  },
  {
   "cell_type": "markdown",
   "metadata": {
    "id": "3R-VXjUexJ4J"
   },
   "source": [
    "# Task 2: 8 Homework points"
   ]
  },
  {
   "cell_type": "markdown",
   "metadata": {
    "id": "NndA9HroxMle"
   },
   "source": [
    "### Task 2.1: 6 Homework Points\n",
    "Create a Python implementation based on the code below that solves the TSP problem on the Germany tour (see tour variable in the code below). The task counts as solved if the length of the German tour does not exceed 11.000. \n",
    "In addition to the implementation, print out the solution (the tour with minimum cost) as well as its length.\n",
    "\n",
    "Note: Every city can only be once on the tour\n"
   ]
  },
  {
   "cell_type": "code",
   "execution_count": null,
   "metadata": {
    "id": "rY1ioTiVzNob"
   },
   "outputs": [],
   "source": [
    "import matplotlib.pyplot as plt\n",
    "from math import radians, cos, sin, asin, sqrt\n",
    "from itertools import permutations\n",
    "from random import shuffle, randrange\n",
    "import pandas\n",
    "\n",
    "\n",
    "def tour_length(cities, tour):\n",
    "    \"\"\"The total of distances between each pair of consecutive cities in the tour.\n",
    "    This includes the last-to-first, distance(tour[-1], tour[0])\"\"\"\n",
    "    return sum(get_dist(cities, tour[i - 1], tour[i]) \n",
    "               for i in range(len(tour)))\n",
    "\n",
    "def is_valid_tour(tour, gold):\n",
    "    if (len(tour) != len(gold)):\n",
    "        print(\"Not the same number of cities as in reference:\", len(tour), len(gold))\n",
    "        return False\n",
    "    \n",
    "    t1 = set(tour)\n",
    "    t2 = set(gold)\n",
    "    diff = t1 ^ t2\n",
    "    if (len(diff) > 0):\n",
    "        print(\"Spurious cities in tour:\", diff)\n",
    "        return False\n",
    "    \n",
    "    return True\n",
    "\n",
    "def plot_tour(cities, tour, style='bo-'): \n",
    "    \"\"\"Plot every city and link in the tour, and highlight start city.\"\"\"\n",
    "    print(\"{} cities ⇒ tour length {:.0f}\".format(len(tour), tour_length(cities, tour)))\n",
    "\n",
    "    plt.figure(figsize=(10,10))\n",
    "    start = tour[0:1]\n",
    "    plot_segment(cities, tour + start, style)\n",
    "    plot_segment(cities, start, 'rD') # start city is red Diamond.\n",
    "    \n",
    "def plot_segment(cities, segment, style='bo-'):\n",
    "    \"\"\"Plot every city and link in the segment.\"\"\"\n",
    "    plt.plot([X(cities, i) for i in segment], [Y(cities, i)*1.4 for i in segment], style, clip_on=False)\n",
    "    plt.axis('scaled')\n",
    "    plt.axis('off')\n",
    "    \n",
    "def X(cities, i): \n",
    "    \"\"\"X coordinate.\"\"\"\n",
    "    return cities.loc[i,'lng']\n",
    "\n",
    "def Y(cities, i): \n",
    "    \"\"\"Y coordinate.\"\"\"\n",
    "    return cities.loc[i,'lat']\n",
    "\n",
    "def get_dist(cities, i, j):\n",
    "    \"\"\"Compute the distance between two citites from their longitude and latitude values\"\"\"\n",
    "\n",
    "    lat1 = cities.loc[i,'lat']\n",
    "    lng1 = cities.loc[i,'lng']\n",
    "    lat2 = cities.loc[j,'lat']\n",
    "    lng2 = cities.loc[j,'lng']\n",
    "    \n",
    "    r = 6371 # radius of the earth in km\n",
    "    lat1=radians(lat1)\n",
    "    lat2=radians(lat2)\n",
    "    lat_dif=lat2-lat1\n",
    "    lng_dif=radians(lng2-lng1)\n",
    "    a=sin(lat_dif/2.0)**2+cos(lat1)*cos(lat2)*sin(lng_dif/2.0)**2\n",
    "    d=2*r*asin(sqrt(a))\n",
    "    \n",
    "    return d\n",
    "\n",
    "# data from https://simplemaps.com/data/de-cities\n",
    "cities = pandas.read_csv('https://raw.githubusercontent.com/zesch/lang-tech-teaching-public/master/gki/notebooks/data/tsp/de.csv')\n",
    "\n",
    "tour = [x for x in list(cities.index.values)]\n",
    "\n",
    "# tour in order of the city IDs\n",
    "plot_tour(cities, tour)"
   ]
  },
  {
   "cell_type": "markdown",
   "metadata": {
    "id": "E3rV8J1azd-c"
   },
   "source": [
    "**Insert your solution below this cell**"
   ]
  },
  {
   "cell_type": "markdown",
   "metadata": {
    "id": "OFdTxO0Pzkn1"
   },
   "source": [
    "### Task 2.2: 2 Homework points\n",
    "\n",
    "Discuss your code in Task 2.1, explaining the approach to solving the problem as well as all functions implemented."
   ]
  },
  {
   "cell_type": "markdown",
   "metadata": {
    "id": "5hriAnV00CGY"
   },
   "source": [
    "**Insert your solution in this cell**"
   ]
  },
  {
   "cell_type": "markdown",
   "metadata": {
    "id": "yh-GceEC0S29"
   },
   "source": [
    "Note: An additional exam bonus point is awarded to the five best-placed teams to achieve the shortest possible driving time. The final results will be presented on Moodle."
   ]
  },
  {
   "cell_type": "markdown",
   "metadata": {
    "id": "SNElklNE0Vrr"
   },
   "source": [
    "\n",
    "## Thank you for completing this lab!\n",
    "\n",
    "______\n",
    "\n",
    "\n",
    "## Other Contributors\n",
    "\n",
    "N/A"
   ]
  }
 ],
 "metadata": {
  "colab": {
   "name": "Homework06.ipynb",
   "provenance": []
  },
  "kernelspec": {
   "display_name": "Python 3 (ipykernel)",
   "language": "python",
   "name": "python3"
  },
  "language_info": {
   "codemirror_mode": {
    "name": "ipython",
    "version": 3
   },
   "file_extension": ".py",
   "mimetype": "text/x-python",
   "name": "python",
   "nbconvert_exporter": "python",
   "pygments_lexer": "ipython3",
   "version": "3.10.4"
  },
  "nbTranslate": {
   "displayLangs": [
    "*"
   ],
   "hotkey": "alt-t",
   "langInMainMenu": true,
   "sourceLang": "en",
   "targetLang": "fr",
   "useGoogleTranslate": true
  }
 },
 "nbformat": 4,
 "nbformat_minor": 1
}
