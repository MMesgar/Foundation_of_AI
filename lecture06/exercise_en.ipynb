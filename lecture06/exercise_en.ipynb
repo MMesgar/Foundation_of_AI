{
 "cells": [
  {
   "cell_type": "markdown",
   "metadata": {
    "id": "5iph1ENrEYtR"
   },
   "source": [
    "# Exercise: Local Search\n",
    "\n",
    "Version: SoSe 2022\n",
    "\n",
    "Estimated time needed: 60 minutes\n",
    "\n",
    "Author: Mohamed Abdelmagied\n",
    "______"
   ]
  },
  {
   "cell_type": "markdown",
   "metadata": {
    "id": "8Hsp4ZRmGbvb"
   },
   "source": [
    "# Objectives\n",
    "\n",
    "- understand and analyze local search algorithms\n",
    "- understand the difference between local search and informed search algorithms\n",
    "- understand and analyze different instances of the tsp problem\n",
    "- implement a python solver for the tsp problem using informed search or local search algorithm\n",
    "\n",
    "\n"
   ]
  },
  {
   "cell_type": "markdown",
   "metadata": {
    "id": "0V6E07RpltvA"
   },
   "source": [
    "# Task 1\n",
    "\n",
    "True or False:\n",
    "\n",
    "A hill-climbing algorithm would always find a way out of a plateau."
   ]
  },
  {
   "cell_type": "markdown",
   "metadata": {
    "id": "W-oKHQo0nOQf"
   },
   "source": [
    "<details><summary>Click here for the solution</summary>\n",
    "\n",
    "False. A plateau is a flat area of the state-space landscape. It can be a flat local maximum, from which no uphill exit exists.\n",
    "</details>"
   ]
  },
  {
   "cell_type": "markdown",
   "metadata": {
    "id": "A_w68wT_nw8A"
   },
   "source": [
    "# Task 2\n",
    "\n",
    "Consider the 8-queens problem. What is a typical state formulation when using local search algorithms?"
   ]
  },
  {
   "cell_type": "markdown",
   "metadata": {
    "id": "dzY5_I2voKtx"
   },
   "source": [
    "<details><summary>Click here for the solution</summary>\n",
    "\n",
    "A complete-state formulation, where each state has 8-queens on board, one per column.\n",
    "</details>"
   ]
  },
  {
   "cell_type": "markdown",
   "metadata": {
    "id": "MTfERqKPon37"
   },
   "source": [
    "# Task 3\n",
    "\n",
    "Name the 5 steps of a genetic algorithm."
   ]
  },
  {
   "cell_type": "markdown",
   "metadata": {
    "id": "1JgkI8DQpF7J"
   },
   "source": [
    "<details><summary>Click here for the solution</summary>\n",
    "\n",
    "- initial population\n",
    "- fitness evaluation\n",
    "- selection\n",
    "- crossover\n",
    "- mutation\n",
    "</details>"
   ]
  },
  {
   "cell_type": "markdown",
   "metadata": {
    "id": "i8dwJQo7IRNs"
   },
   "source": [
    "# The TSP Problem\n",
    "\n",
    "Finding the shortest route has a large number of practical applications, e.g. navigation systems or the control of soldering robots.\n",
    "The \"Traveling Salesperson Problem\" specifies the number of cities (nodes) connected by roads (edges). The task is to develop an algorithm that visits all cities on the shortest possible route (See Homework notebook). Each city can be visited any number of times and every street can be used as often as you like.\n",
    "Cities are named with IDs from 0 ... N-1, where N is the number of cities. A tour always starts in the city with the ID 0 and ends there."
   ]
  },
  {
   "cell_type": "markdown",
   "metadata": {
    "id": "eBXqYrlQJYtq"
   },
   "source": [
    "Possibly suitable algorithms for the problem:\n",
    "\n",
    "* Brute force\n",
    "* Greedy best-first search\n",
    "* Simulated Annealing\n",
    "* Genetic Algorithms\n",
    "* Ant colony optimization"
   ]
  },
  {
   "cell_type": "markdown",
   "metadata": {
    "id": "RrTJOMMTRas4"
   },
   "source": [
    "# Task 4"
   ]
  },
  {
   "cell_type": "markdown",
   "metadata": {
    "id": "BaQlRISARfQV"
   },
   "source": [
    "![Tsp_5](https://raw.githubusercontent.com/MMesgar/Foundation_of_AI/master/lecture06/images/tsp_5towns.png)\n",
    "\n",
    "\n"
   ]
  },
  {
   "cell_type": "markdown",
   "metadata": {
    "id": "Hauwo52OR0_E"
   },
   "source": [
    "## Task 4.1\n",
    "\n",
    "Consider the example with five cities in the image above. To visually differentiate the travel times, cities are coded with letters instead of numbers.\n",
    "\n",
    "1. Calculate the travel time on the \"naive\" route [A, B, C, D, E, A].\n",
    "2. Determine manually the travel time using a \"greedy-best first\" algorithm.\n",
    "3. Calculate the number of possible routes (= permutations) for this map."
   ]
  },
  {
   "cell_type": "markdown",
   "metadata": {
    "id": "iSz-nJlSVjVG"
   },
   "source": [
    "<details><summary>Click here for the solution</summary>\n",
    "\n",
    "1. 10 + 100 + 8 +   3 + 7 = 128\n",
    "2.  5 +   3 + 2 + 100 + 6 = 116 for the route [A, D, E, B, C, A]\n",
    "3. n!, but if the starting city is fixed: (n-1)!, 5! = 120 or 4! = 24 (The complexity would be O(n!) = 120 here)\n",
    "\n",
    "</details>"
   ]
  },
  {
   "cell_type": "markdown",
   "metadata": {
    "id": "d61zEgiqV3Zf"
   },
   "source": [
    "# Task 4.2\n",
    "\n",
    "Imagine bigger maps of sizes 10, 15, 20, and 100. How many possible permutations for the brute-force method are there? Is the brute-force method a sensible strategy?"
   ]
  },
  {
   "cell_type": "markdown",
   "metadata": {
    "id": "nw0s-yNVWWqq"
   },
   "source": [
    "<details><summary>Click here for the solution</summary>\n",
    "\n",
    "| n | n!|\n",
    "| --- | --- |\n",
    "| 10 | 3628800   |\n",
    "| 15 | $1,308 * 10^{12}$ |\n",
    "| 20 | $2,432 * 10^{18}$ |\n",
    "| 100 | $9,332 * 10^{157}$ |\n",
    "    \n",
    "* There are so many permutations for a small number of cities, so it is not a good idea\n",
    "\n",
    "</details>"
   ]
  },
  {
   "cell_type": "markdown",
   "metadata": {
    "id": "0p3Nwe13Z75f"
   },
   "source": [
    "# Task 5"
   ]
  },
  {
   "cell_type": "markdown",
   "metadata": {
    "id": "E1uSPzWSXIb1"
   },
   "source": [
    "Consider a genetic algorithm that uses chromosomes of the form x=abcdefgh with a fixed length of 8 genes. Each gene can be any digit from 0 to 9. Let the fitness of the individual x be calculated as:\n",
    "\n",
    "$f(x)=(a+b)(c+d)+(e+f)(g+h)$\n",
    "\n",
    "Let the initial population consist of four individuals with the following chromosomes:\n",
    "\n",
    "- $x1=65413532$\n",
    "- $x2=87126601$\n",
    "- $x3=23921285$\n",
    "- $x4=41852094$"
   ]
  },
  {
   "cell_type": "markdown",
   "metadata": {
    "id": "sRtGjHZkZ_OM"
   },
   "source": [
    "## Task 5.1\n",
    "\n",
    "Evaluate the fitness of each individual and sort them based on their fitness."
   ]
  },
  {
   "cell_type": "markdown",
   "metadata": {
    "id": "laWN4Z7OaNnF"
   },
   "source": [
    "<details><summary>Click here for the solution</summary>\n",
    "\n",
    "$f(x1)=11*5+8*5=95$\n",
    "$f(x2)=15*3+12*1=57$\n",
    "$f(x3)=5*11+3*13=94$\n",
    "$f(x4)=5*13+2*13=91$\n",
    "\n",
    "sorting=x1,x3,x4,x2\n",
    "</details>"
   ]
  },
  {
   "cell_type": "markdown",
   "metadata": {
    "id": "OsBMDtEQbKgF"
   },
   "source": [
    "## Task 5.2\n",
    "\n",
    "Cross the fittest 2 individuals using one point crossover at the middle point"
   ]
  },
  {
   "cell_type": "markdown",
   "metadata": {
    "id": "iNCWT5sxcAnS"
   },
   "source": [
    "<details><summary>Click here for the solution</summary>\n",
    "\n",
    "- $x5=65411285$\n",
    "- $x6=23923532$\n",
    "\n",
    "</details>"
   ]
  },
  {
   "cell_type": "markdown",
   "metadata": {
    "id": "vNYMlVXRcXAG"
   },
   "source": [
    "## Task 5.3\n",
    "\n",
    "Cross the second and third fittest individuals using a two-point crossover (points b and f)."
   ]
  },
  {
   "cell_type": "markdown",
   "metadata": {
    "id": "anWrbr4McpCs"
   },
   "source": [
    "<details><summary>Click here for the solution</summary>\n",
    "\n",
    "- $x7=21852085$\n",
    "- $x8=43921294$\n",
    "\n",
    "</details>"
   ]
  },
  {
   "cell_type": "markdown",
   "metadata": {
    "id": "LtxX_k6ec6td"
   },
   "source": [
    "## Task 5.4\n",
    "\n",
    "Considering the initial population and conditions of the problem. Find the chromosome that would give the maximum of the evaluation function."
   ]
  },
  {
   "cell_type": "markdown",
   "metadata": {
    "id": "TsxtNZuJd0CW"
   },
   "source": [
    "<details><summary>Click here for the solution</summary>\n",
    "\n",
    "- $best=99999999$\n",
    "- $fitness=18*18+18*18=648$\n",
    "</details>"
   ]
  },
  {
   "cell_type": "markdown",
   "metadata": {
    "id": "Whqac-7FeoR-"
   },
   "source": [
    "## Task 5.5\n",
    "\n",
    "Looking at the initial population, is it possible to reach the best solution without using mutation?"
   ]
  },
  {
   "cell_type": "markdown",
   "metadata": {
    "id": "7bwxMGFDfASh"
   },
   "source": [
    "<details><summary>Click here for the solution</summary>\n",
    "\n",
    "No, it is not possible, since there are positions that don't contain any 9 in any chromosome of the initial population. \n",
    "\n",
    "</details>"
   ]
  },
  {
   "cell_type": "markdown",
   "metadata": {
    "id": "fD1V86yVfdBa"
   },
   "source": [
    "# Task 6\n",
    "\n",
    "We provide the following code. Try to get an overview of the functions."
   ]
  },
  {
   "cell_type": "code",
   "execution_count": null,
   "metadata": {
    "id": "8wo7udeXgoPV"
   },
   "outputs": [],
   "source": [
    "import matplotlib.pyplot as plt\n",
    "from math import radians, cos, sin, asin, sqrt\n",
    "from itertools import permutations\n",
    "from random import shuffle, randrange\n",
    "import pandas\n",
    "\n",
    "\n",
    "def tour_length(cities, tour):\n",
    "    \"\"\"The total of distances between each pair of consecutive cities in the tour.\n",
    "    This includes the last-to-first, distance(tour[-1], tour[0])\"\"\"\n",
    "    return sum(get_dist(cities, tour[i - 1], tour[i]) \n",
    "               for i in range(len(tour)))\n",
    "\n",
    "def is_valid_tour(tour, gold):\n",
    "    if (len(tour) != len(gold)):\n",
    "        print(\"Not the same number of cities as in reference:\", len(tour), len(gold))\n",
    "        return False\n",
    "    \n",
    "    t1 = set(tour)\n",
    "    t2 = set(gold)\n",
    "    diff = t1 ^ t2\n",
    "    if (len(diff) > 0):\n",
    "        print(\"Spurious cities in tour:\", diff)\n",
    "        return False\n",
    "    \n",
    "    return True\n",
    "\n",
    "def plot_tour(cities, tour, style='bo-'): \n",
    "    \"\"\"Plot every city and link in the tour, and highlight start city.\"\"\"\n",
    "    print(\"{} cities ⇒ tour length {:.0f}\".format(len(tour), tour_length(cities, tour)))\n",
    "\n",
    "    plt.figure(figsize=(10,10))\n",
    "    start = tour[0:1]\n",
    "    plot_segment(cities, tour + start, style)\n",
    "    plot_segment(cities, start, 'rD') # start city is red Diamond.\n",
    "    \n",
    "def plot_segment(cities, segment, style='bo-'):\n",
    "    \"\"\"Plot every city and link in the segment.\"\"\"\n",
    "    plt.plot([X(cities, i) for i in segment], [Y(cities, i)*1.4 for i in segment], style, clip_on=False)\n",
    "    plt.axis('scaled')\n",
    "    plt.axis('off')\n",
    "    \n",
    "def X(cities, i): \n",
    "    \"\"\"X coordinate.\"\"\"\n",
    "    return cities.loc[i,'lng']\n",
    "\n",
    "def Y(cities, i): \n",
    "    \"\"\"Y coordinate.\"\"\"\n",
    "    return cities.loc[i,'lat']\n",
    "\n",
    "def get_dist(cities, i, j):\n",
    "    \"\"\"Compute the distance between two citites from their longitude and latitude values\"\"\"\n",
    "\n",
    "    lat1 = cities.loc[i,'lat']\n",
    "    lng1 = cities.loc[i,'lng']\n",
    "    lat2 = cities.loc[j,'lat']\n",
    "    lng2 = cities.loc[j,'lng']\n",
    "    \n",
    "    r = 6371 # radius of the earth in km\n",
    "    lat1=radians(lat1)\n",
    "    lat2=radians(lat2)\n",
    "    lat_dif=lat2-lat1\n",
    "    lng_dif=radians(lng2-lng1)\n",
    "    a=sin(lat_dif/2.0)**2+cos(lat1)*cos(lat2)*sin(lng_dif/2.0)**2\n",
    "    d=2*r*asin(sqrt(a))\n",
    "    \n",
    "    return d\n",
    "\n",
    "# data from https://simplemaps.com/data/de-cities\n",
    "cities = pandas.read_csv('https://raw.githubusercontent.com/MMesgar/Foundation_of_AI/master/lecture06/data/de.csv')\n",
    "\n",
    "tour = [x for x in list(cities.index.values)]\n",
    "\n",
    "# tour in order of the city IDs\n",
    "plot_tour(cities, tour)"
   ]
  },
  {
   "cell_type": "markdown",
   "metadata": {
    "id": "VAuxJxdcgvCO"
   },
   "source": [
    "# Task 6.1\n",
    "\n",
    "Implement a solver that outputs randomly generated tours."
   ]
  },
  {
   "cell_type": "code",
   "execution_count": null,
   "metadata": {
    "id": "-kX9zCM_hB7I"
   },
   "outputs": [],
   "source": [
    "def random(cities, n):\n",
    "    tour = [x for x in list(cities.index.values)]\n",
    "    \n",
    "    # initialize min_tour with the initial tour and get its length\n",
    "    min_tour = None\n",
    "    min_tour_len = None\n",
    "    for i in range(n):\n",
    "        # Generate neighbours of the tour by shuffling the tour and update min_tour accordingly\n",
    "        shuffle(None)\n",
    "        tour_len = None\n",
    "        if tour_len < min_tour_len:\n",
    "            min_tour_len = None\n",
    "            min_tour = None\n",
    "            print(\"currently shortest: {:.0f}\".format(min_tour_len))\n",
    "\n",
    "\n",
    "    #return minimum tour\n",
    "    return -1\n",
    "\n",
    "random_tour = random(cities, 500)\n",
    "is_valid_tour(random_tour, tour)\n",
    "plot_tour(cities, random_tour)"
   ]
  },
  {
   "cell_type": "markdown",
   "metadata": {
    "id": "KtSaJnlxjg3B"
   },
   "source": [
    "<details><summary>Click here for the solution</summary>\n",
    "\n",
    "```python\n",
    "def random(cities, n):\n",
    "    tour = [x for x in list(cities.index.values)]\n",
    "    \n",
    "    min_tour = tour\n",
    "    min_tour_len = tour_length(cities, tour)\n",
    "    for i in range(n):\n",
    "        shuffle(tour)\n",
    "        tour_len = tour_length(cities, tour)\n",
    "        if tour_len < min_tour_len:\n",
    "            min_tour_len = tour_len\n",
    "            min_tour = list(tour)\n",
    "            print(\"currently shortest: {:.0f}\".format(min_tour_len))\n",
    "\n",
    "    return min_tour\n",
    "\n",
    "random_tour = random(cities, 500)\n",
    "is_valid_tour(random_tour, tour)\n",
    "plot_tour(cities, random_tour)          \n",
    "```\n",
    "\n",
    "</details>"
   ]
  },
  {
   "cell_type": "markdown",
   "metadata": {
    "id": "GNzbeufwjR3B"
   },
   "source": [
    "## Task 6.2\n",
    "\n",
    "Analyze the solver below. What strategy is being implemented in the function xyz?"
   ]
  },
  {
   "cell_type": "code",
   "execution_count": null,
   "metadata": {
    "id": "aycXP4wykGSO"
   },
   "outputs": [],
   "source": [
    "def xyz(cities, n):\n",
    "    # start with random tour\n",
    "    tour = [x for x in list(cities.index.values)]\n",
    "    \n",
    "    min_tour = tour\n",
    "    min_tour_len = tour_length(cities, tour)\n",
    "    # n rounds\n",
    "    for i in range(n):\n",
    "        tour = local_best(cities, min_tour)\n",
    "        tour_len = tour_length(cities, tour)\n",
    "        if tour_len < min_tour_len:\n",
    "            min_tour_len = tour_len\n",
    "            min_tour = list(tour)\n",
    "            print(\"currently shortest: {:.0f}\".format(min_tour_len))\n",
    "\n",
    "    return min_tour\n",
    "\n",
    "def local_best(cities, tour):\n",
    "    min_tour = tour\n",
    "    min_tour_len = tour_length(cities, tour)\n",
    "    for i in range(len(tour)-1):\n",
    "        # swap\n",
    "        tour[i], tour[i+1] = tour[i+1], tour[i]\n",
    "        tour_len = tour_length(cities, tour)\n",
    "        if tour_len < min_tour_len:\n",
    "            min_tour_len = tour_len\n",
    "            min_tour = list(tour)\n",
    "        # swap back\n",
    "        tour[i], tour[i+1] = tour[i+1], tour[i]\n",
    "            \n",
    "    return min_tour\n",
    "    \n",
    "new_tour = xyz(cities, 10)\n",
    "is_valid_tour(new_tour, tour)\n",
    "plot_tour(cities, new_tour)  "
   ]
  },
  {
   "cell_type": "markdown",
   "metadata": {
    "id": "f2ZLIkGOlE4Y"
   },
   "source": [
    "<details><summary>Click here for the solution</summary>\n",
    "\n",
    "It is an implementation of Hill Climbing. It starts with a random route and we will try to make local improvements on it by doing the best local optimization for n (10) times in total. \n",
    "\n",
    "</details>"
   ]
  },
  {
   "cell_type": "markdown",
   "metadata": {
    "id": "P1w16UPQlYmQ"
   },
   "source": [
    "## Thank you for completing this lab!\n",
    "\n",
    "______\n",
    "\n",
    "\n",
    "## Other Contributors\n",
    "\n",
    "N/A"
   ]
  }
 ],
 "metadata": {
  "colab": {
   "name": "exercise_en.ipynb",
   "provenance": []
  },
  "kernelspec": {
   "display_name": "Python 3 (ipykernel)",
   "language": "python",
   "name": "python3"
  },
  "language_info": {
   "codemirror_mode": {
    "name": "ipython",
    "version": 3
   },
   "file_extension": ".py",
   "mimetype": "text/x-python",
   "name": "python",
   "nbconvert_exporter": "python",
   "pygments_lexer": "ipython3",
   "version": "3.10.4"
  },
  "nbTranslate": {
   "displayLangs": [
    "*"
   ],
   "hotkey": "alt-t",
   "langInMainMenu": true,
   "sourceLang": "en",
   "targetLang": "fr",
   "useGoogleTranslate": true
  }
 },
 "nbformat": 4,
 "nbformat_minor": 1
}
