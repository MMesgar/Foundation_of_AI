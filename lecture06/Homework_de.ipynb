{
 "cells": [
  {
   "cell_type": "markdown",
   "metadata": {
    "lang": "de"
   },
   "source": [
    "# Übung: Lokale Suche\n",
    "\n",
    "Stand: SoSe 2022\n",
    "\n",
    "Geschätzte benötigte Zeit: 90 Minuten\n",
    "\n",
    "Autor: Mohamed Abdelmagied\n",
    "\n",
    "Deadline : Freitag, 27.05.2022 (23:55 Uhr)\n",
    "\n",
    "______"
   ]
  },
  {
   "cell_type": "markdown",
   "metadata": {
    "id": "C7ngJO_Bto4q"
   },
   "source": [
    "## Hausübung"
   ]
  },
  {
   "cell_type": "markdown",
   "metadata": {
    "id": "zZFjeQ2ftseM"
   },
   "source": [
    "### Abgaberichtlinien\n",
    "* Jede Hausübung bringt maximal 10 Hausaufgabenpunkte. 10 Hausaufgabenpunkte entsprechen einem Klausurpunkt.\n",
    "* Im Laufe des Semesters kann es zusätzliche Bonuspunkte (= 1 Klausurpunkt) für Hausübungen geben, in Form von z.B. Challenges, weitere Informationen folgen bei den betreffenden Hausübungen.\n",
    "* Die Abgabe erfolgt in Zweier- bis Viererteams. **Einzelabgaben werden nicht gewertet**. Die Teammitglieder müssen nicht in derselben Übungsgruppe sein. Bei Problemen bzw. Einzelfällen hinsichtlich dieser Richtlinie kontaktieren Sie einen Tutor.\n",
    "* In der Abgabe müssen alle Teammitglieder mit **Namen und Matrikelnummern gut sichtbar** genannt werden.\n",
    "* Es muss immer nur **ein Teammitglied der Gruppe abgeben**. Sollten aus Versehen mehrere Abgaben der selben Übung erfolgen, kommunizieren Sie dies **zeitnah** an einen Tutor, ansonsten wird die erste korrigierte Abgabe gewertet.\n",
    "* Die Abgabe soll als Jupyter-Notebook erfolgen (.ipynb). Abgaben in einem **anderen Format werden nicht gewertet**. Bei Problemen hinsichtlich dieser Richtlinie kontaktieren Sie einen Tutor.\n",
    "* Es ist nicht nötig, den Präsenzübungsteil in der Abgabe mit abzugeben. Es wird lediglich der Hausübungsteil gewertet.\n",
    "* Wenn Sie Bilder in der Hausaufgaben abgeben wollen, fügen Sie diese folgendermaßen ein: Laden Sie das entsprechende Bild bei Google Drive hoch. Klicken Sie per Rechtsklick auf das Bild. Klicken Sie auf \"Link abrufen\". Setzen Sie die Zugangsberechtigung auf \"Jeder, der über den Link verfügt\". Kopieren Sie den Link. Erstellen Sie eine Textzelle im Notebook in der Sie das Bild einfügen möchten. Fügen Sie den Link folgendermaßen ein: ``![Bildbeschreibung]``(Link hier einfügen, in diesen Klammern). Ändern Sie den Link folgendermaßen: Von \"https://drive.google.com/file/d/XXXXX/view?usp=sharing\" zu \"https://drive.google.com/uc?id=XXXXX\". XXXXX bezeichnet in diesem Fall die individuelle ID, die in Ihrem Link vorkommt."
   ]
  },
  {
   "cell_type": "markdown",
   "metadata": {
    "lang": "de"
   },
   "source": [
    "### Zusätzliche Richtlinien\n",
    "\n",
    "Für Aufgabe 2:\n",
    "\n",
    "* Es dürfen keine externen Bibliotheken verwendet werden, die einen Solver direkt implementieren, jedoch Bibliotheken mit Hilfsfunktionen.\n",
    "* Mit dieser Aufgabe nehmen Sie zeitgleich auch an der Challenge teil.\n",
    "* Beachten Sie, dass wir für die Challenge auf unbekannten Daten testen werden. Versuchen Sie daher, Ihren Algorithmus nicht zu sehr an die gegebene Karte anzupassen."
   ]
  },
  {
   "cell_type": "markdown",
   "metadata": {
    "id": "X-5XNw2Jvgrn"
   },
   "source": [
    "# Aufgabe 1: 2 Hausaufgabenpunkte\n",
    "\n",
    "Ermitteln Sie die Fahrtzeit mit der Strategie “Greedy-Best-First” anhand des Kartenbeispiels für 6\n",
    "Städte. Der Startpunkt ist E. Notieren Sie außerdem die Reihenfolge, in der die Knoten besucht\n",
    "werden. \n",
    "Diese Aufgabe kann implementiert werden oder manuell bearbeitet werden. \n",
    "\n",
    "![](https://raw.githubusercontent.com/MMesgar/Foundation_of_AI/master/lecture06/images/tsp_6towns.png)"
   ]
  },
  {
   "cell_type": "markdown",
   "metadata": {
    "lang": "de"
   },
   "source": [
    "**Fügen Sie Ihre Lösung unter dieser Zelle hinzu**"
   ]
  },
  {
   "cell_type": "markdown",
   "metadata": {
    "lang": "de"
   },
   "source": [
    "# Aufgabe 2: 8 Hausaufgabenpunkte"
   ]
  },
  {
   "cell_type": "markdown",
   "metadata": {
    "lang": "de"
   },
   "source": [
    "### Aufgabe 2.1: 6 Hausaufgabenpunkte\n",
    "Erstellen Sie eine Python-Implementierung basierend auf dem Code der Präsenzaufgabe. Die Aufgabe gilt als gelöst, wenn die Länge der Deutschland-Tour 11.000 nicht überschreitet. \n",
    "Geben Sie ergänzend zum Code Ihre Lösung des TSP-Problems für die Deutschland-Karte als Reihenfolge der besuchten Knoten (siehe Variable tour) ab.\n",
    "\n",
    "Hinweis: Jede Stadt kann nur einmal auf der Tour sein"
   ]
  },
  {
   "cell_type": "code",
   "execution_count": null,
   "metadata": {
    "id": "rY1ioTiVzNob"
   },
   "outputs": [],
   "source": [
    "import matplotlib.pyplot as plt\n",
    "from math import radians, cos, sin, asin, sqrt\n",
    "from itertools import permutations\n",
    "from random import shuffle, randrange\n",
    "import pandas\n",
    "\n",
    "\n",
    "def tour_length(cities, tour):\n",
    "    \"\"\"The total of distances between each pair of consecutive cities in the tour.\n",
    "    This includes the last-to-first, distance(tour[-1], tour[0])\"\"\"\n",
    "    return sum(get_dist(cities, tour[i - 1], tour[i]) \n",
    "               for i in range(len(tour)))\n",
    "\n",
    "def is_valid_tour(tour, gold):\n",
    "    if (len(tour) != len(gold)):\n",
    "        print(\"Not the same number of cities as in reference:\", len(tour), len(gold))\n",
    "        return False\n",
    "    \n",
    "    t1 = set(tour)\n",
    "    t2 = set(gold)\n",
    "    diff = t1 ^ t2\n",
    "    if (len(diff) > 0):\n",
    "        print(\"Spurious cities in tour:\", diff)\n",
    "        return False\n",
    "    \n",
    "    return True\n",
    "\n",
    "def plot_tour(cities, tour, style='bo-'): \n",
    "    \"\"\"Plot every city and link in the tour, and highlight start city.\"\"\"\n",
    "    print(\"{} cities ⇒ tour length {:.0f}\".format(len(tour), tour_length(cities, tour)))\n",
    "\n",
    "    plt.figure(figsize=(10,10))\n",
    "    start = tour[0:1]\n",
    "    plot_segment(cities, tour + start, style)\n",
    "    plot_segment(cities, start, 'rD') # start city is red Diamond.\n",
    "    \n",
    "def plot_segment(cities, segment, style='bo-'):\n",
    "    \"\"\"Plot every city and link in the segment.\"\"\"\n",
    "    plt.plot([X(cities, i) for i in segment], [Y(cities, i)*1.4 for i in segment], style, clip_on=False)\n",
    "    plt.axis('scaled')\n",
    "    plt.axis('off')\n",
    "    \n",
    "def X(cities, i): \n",
    "    \"\"\"X coordinate.\"\"\"\n",
    "    return cities.loc[i,'lng']\n",
    "\n",
    "def Y(cities, i): \n",
    "    \"\"\"Y coordinate.\"\"\"\n",
    "    return cities.loc[i,'lat']\n",
    "\n",
    "def get_dist(cities, i, j):\n",
    "    \"\"\"Compute the distance between two citites from their longitude and latitude values\"\"\"\n",
    "\n",
    "    lat1 = cities.loc[i,'lat']\n",
    "    lng1 = cities.loc[i,'lng']\n",
    "    lat2 = cities.loc[j,'lat']\n",
    "    lng2 = cities.loc[j,'lng']\n",
    "    \n",
    "    r = 6371 # radius of the earth in km\n",
    "    lat1=radians(lat1)\n",
    "    lat2=radians(lat2)\n",
    "    lat_dif=lat2-lat1\n",
    "    lng_dif=radians(lng2-lng1)\n",
    "    a=sin(lat_dif/2.0)**2+cos(lat1)*cos(lat2)*sin(lng_dif/2.0)**2\n",
    "    d=2*r*asin(sqrt(a))\n",
    "    \n",
    "    return d\n",
    "\n",
    "# data from https://simplemaps.com/data/de-cities\n",
    "cities = pandas.read_csv('https://raw.githubusercontent.com/zesch/lang-tech-teaching-public/master/gki/notebooks/data/tsp/de.csv')\n",
    "\n",
    "tour = [x for x in list(cities.index.values)]\n",
    "\n",
    "# tour in order of the city IDs\n",
    "plot_tour(cities, tour)"
   ]
  },
  {
   "cell_type": "markdown",
   "metadata": {
    "lang": "de"
   },
   "source": [
    "**Fügen Sie Ihre Lösung unter dieser Zelle hinzu**"
   ]
  },
  {
   "cell_type": "markdown",
   "metadata": {
    "lang": "de"
   },
   "source": [
    "### Aufgabe 2.2: 2 Hausaufgabenpunkte\n",
    "\n",
    "Besprechen Sie Ihren Code in Aufgabe 2.1 und erläutern Sie den Lösungsansatz sowie alle implementierten Funktionen."
   ]
  },
  {
   "cell_type": "markdown",
   "metadata": {
    "lang": "de"
   },
   "source": [
    "**Fügen Sie Ihre Lösung in diese Zelle ein**"
   ]
  },
  {
   "cell_type": "markdown",
   "metadata": {
    "id": "yh-GceEC0S29"
   },
   "source": [
    "Ein Extra-Klausurbonuspunkt wird an die fünf bestplazierten Teams vergeben, Ziel ist es eine möglichst geringe Fahrtzeit zu erreichen. Die Endergebnisse werden auf Moodle präsentiert."
   ]
  },
  {
   "cell_type": "markdown",
   "metadata": {
    "lang": "de"
   },
   "source": [
    "## Vielen Dank, dass Sie dieses Lab abgeschlossen haben!\n",
    "\n",
    "______\n",
    "\n",
    "\n",
    "## Andere Mitwirkende\n",
    "\n",
    "N / A"
   ]
  }
 ],
 "metadata": {
  "colab": {
   "name": "Homework06.ipynb",
   "provenance": []
  },
  "kernelspec": {
   "display_name": "Python 3 (ipykernel)",
   "language": "python",
   "name": "python3"
  },
  "language_info": {
   "codemirror_mode": {
    "name": "ipython",
    "version": 3
   },
   "file_extension": ".py",
   "mimetype": "text/x-python",
   "name": "python",
   "nbconvert_exporter": "python",
   "pygments_lexer": "ipython3",
   "version": "3.10.4"
  },
  "nbTranslate": {
   "displayLangs": [
    "de"
   ],
   "hotkey": "alt-t",
   "langInMainMenu": true,
   "sourceLang": "en",
   "targetLang": "de",
   "useGoogleTranslate": true
  }
 },
 "nbformat": 4,
 "nbformat_minor": 1
}
