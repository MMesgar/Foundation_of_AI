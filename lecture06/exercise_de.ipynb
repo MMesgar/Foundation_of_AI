{
 "cells": [
  {
   "cell_type": "markdown",
   "metadata": {
    "lang": "de"
   },
   "source": [
    "# Übung: Lokale Suche\n",
    "\n",
    "Stand: SoSe 2022\n",
    "\n",
    "Geschätzte benötigte Zeit: 60 Minuten\n",
    "\n",
    "Autor: Mohamed Abdelmagied\n",
    "______"
   ]
  },
  {
   "cell_type": "markdown",
   "metadata": {
    "lang": "de"
   },
   "source": [
    "# Ziele\n",
    "\n",
    "- lokale Suchalgorithmen verstehen und analysieren\n",
    "- den Unterschied zwischen lokaler Suche und informierten Suchalgorithmen verstehen\n",
    "- verschiedene Instanzen des tsp-Problems verstehen und analysieren\n",
    "- einen Python-Löser für das TSP-Problem mit informierter Suche oder lokalem Suchalgorithmus implementieren"
   ]
  },
  {
   "cell_type": "markdown",
   "metadata": {
    "lang": "de"
   },
   "source": [
    "# Aufgabe 1\n",
    "\n",
    "Richtig oder falsch:\n",
    "\n",
    "Ein Hill-Climbing-Algorithmus würde immer einen Weg aus einem Plateau heraus finden."
   ]
  },
  {
   "cell_type": "markdown",
   "metadata": {
    "lang": "de"
   },
   "source": [
    "<details><summary>Klicken Sie hier für die Lösung</summary>\n",
    "\n",
    "FALSCH. Ein Plateau ist ein flacher Bereich der Zustandsraumlandschaft. Es kann ein flaches lokales Maximum sein, von dem kein Aufwärtsausgang existiert.\n",
    "</details>"
   ]
  },
  {
   "cell_type": "markdown",
   "metadata": {
    "lang": "de"
   },
   "source": [
    "# Aufgabe 2\n",
    "\n",
    "Betrachten Sie das 8-Damen-Problem. Was ist eine typische Zustandsformulierung bei der Verwendung lokaler Suchalgorithmen?"
   ]
  },
  {
   "cell_type": "markdown",
   "metadata": {
    "lang": "de"
   },
   "source": [
    "<details><summary>Klicken Sie hier für die Lösung</summary>\n",
    "\n",
    "Eine vollständige Zustandsformulierung, bei der jeder Zustand 8 Damen an Bord hat, eine pro Spalte.\n",
    "</details>"
   ]
  },
  {
   "cell_type": "markdown",
   "metadata": {
    "lang": "de"
   },
   "source": [
    "# Aufgabe 3\n",
    "\n",
    "Nennen Sie die 5 Schritte eines genetischen Algorithmus."
   ]
  },
  {
   "cell_type": "markdown",
   "metadata": {
    "id": "1JgkI8DQpF7J",
    "lang": "en"
   },
   "source": [
    "<details><summary>Klicken Sie hier für die Lösung</summary>\n",
    "\n",
    "- initial population\n",
    "- fitness evaluation\n",
    "- selection\n",
    "- crossover\n",
    "- mutation\n",
    "</details>"
   ]
  },
  {
   "cell_type": "markdown",
   "metadata": {
    "id": "i8dwJQo7IRNs"
   },
   "source": [
    "## Das sogenannte TSP-Problem\n",
    "\n",
    "Das Finden einer kürzesten Reiseroute hat eine große Zahl praktischer Anwendungen wie z.B. bei Navigationssystemen\n",
    "oder der Steuerung von Lötrobotern. <br> Beim sogenannten “Traveling Salesperson Problem” werden eine Anzahl von\n",
    "Städten (Knoten) vorgegeben, die durch Straßen (edges) verbunden sind. Ihre Aufgabe ist es einen Algorithmus zu\n",
    "entwickeln, der alle Städte auf einer möglichst kurzen Route besucht. Jede Stadt muss dabei genau einmal besucht werden. \n",
    "Städte werden mit IDs von 0...N-1 benannt, wobei N die Anzahl der Städte ist. Eine Tour beginnt immer in der Stadt mit der ID 0 und endet dort auch."
   ]
  },
  {
   "cell_type": "markdown",
   "metadata": {
    "id": "eBXqYrlQJYtq"
   },
   "source": [
    "Möglicherweise geeignete Algorithmen für das Problem:\n",
    "\n",
    "* Brute force\n",
    "* Greedy best-first search\n",
    "* Simulated Annealing\n",
    "* Genetic Algorithms\n",
    "* Ant colony optimization"
   ]
  },
  {
   "cell_type": "markdown",
   "metadata": {
    "lang": "de"
   },
   "source": [
    "# Aufgabe 4"
   ]
  },
  {
   "cell_type": "markdown",
   "metadata": {
    "id": "BaQlRISARfQV"
   },
   "source": [
    "![Tsp_5](https://raw.githubusercontent.com/MMesgar/Foundation_of_AI/master/lecture06/images/tsp_5towns.png)\n",
    "\n",
    "\n"
   ]
  },
  {
   "cell_type": "markdown",
   "metadata": {
    "id": "Hauwo52OR0_E"
   },
   "source": [
    "## Aufgabe 4.1\n",
    "\n",
    "Betrachten Sie das Beispiel mit fünf Städten in Abb. 1. Zur visuellen Unterscheidung von den Fahrtzeiten sind Städte hier mit Buchstaben statt Zahlen kodiert.\n",
    "\n",
    "1. Berechnen Sie die Fahrtzeit auf der “naiven” Route [A, B, C, D, E, A].\n",
    "2. Ermitteln Sie händisch die Fahrtzeit mittels der Strategie “greedy best-first”.\n",
    "3. Berechnen Sie die Anzahl der möglichen Routen (= Permutationen) für diese Karte."
   ]
  },
  {
   "cell_type": "markdown",
   "metadata": {
    "id": "iSz-nJlSVjVG"
   },
   "source": [
    "<details><summary>Klicken Sie hier für die Lösung</summary>\n",
    "\n",
    "1. 10 + 100 + 8 +   3 + 7 = 128\n",
    "2.  5 +   3 + 2 + 100 + 6 = 116 auf der Route [A, D, E, B, C, A]\n",
    "3. n!, wenn Anfangstadt festgelegt ist (n-1)!, 5! = 120 oder 4! = 24 (Komplexität wäre hier O(n!) = 120)\n",
    "\n",
    "</details>"
   ]
  },
  {
   "cell_type": "markdown",
   "metadata": {
    "id": "d61zEgiqV3Zf"
   },
   "source": [
    "# Aufgabe 4.2\n",
    "\n",
    "Stellen Sie sich nun größere Karten der Größe 10, 15, 20, und 100 vor. Wie viele mögliche Permutationen gibt es? Ist die \"Brute-Force\" Methode eine sinnvolle Strategie?"
   ]
  },
  {
   "cell_type": "markdown",
   "metadata": {
    "id": "nw0s-yNVWWqq"
   },
   "source": [
    "<details><summary>Klicken Sie hier für die Lösung</summary>\n",
    "\n",
    "| n | n!|\n",
    "| --- | --- |\n",
    "| 10 | 3628800   |\n",
    "| 15 | $1,308 * 10^{12}$ |\n",
    "| 20 | $2,432 * 10^{18}$ |\n",
    "| 100 | $9,332 * 10^{157}$ |\n",
    "    \n",
    "* Bereits viele Permutationen bei wenigen Städten, eher nicht sinnvoll.\n",
    "\n",
    "</details>"
   ]
  },
  {
   "cell_type": "markdown",
   "metadata": {
    "lang": "de"
   },
   "source": [
    "# Aufgabe 5"
   ]
  },
  {
   "cell_type": "markdown",
   "metadata": {
    "lang": "de"
   },
   "source": [
    "Stellen Sie sich einen genetischen Algorithmus vor, der Chromosomen der Form x=abcdefgh mit einer festen Länge von 8 Genen verwendet. Jedes Gen kann eine beliebige Ziffer von 0 bis 9 sein. Lassen Sie die Fitness des Individuums x wie folgt berechnen:\n",
    "\n",
    "$f(x)=(a+b)(c+d)+(e+f)(g+h)$\n",
    "\n",
    "Die Anfangspopulation soll aus vier Individuen mit den folgenden Chromosomen bestehen:\n",
    "\n",
    "- $x1=65413532$\n",
    "- $x2=87126601$\n",
    "- $x3=23921285$\n",
    "- $x4=41852094$"
   ]
  },
  {
   "cell_type": "markdown",
   "metadata": {
    "lang": "de"
   },
   "source": [
    "## Aufgabe 5.1\n",
    "\n",
    "Bewerten Sie die Fitness jedes Einzelnen und sortieren Sie sie nach ihrer Fitness."
   ]
  },
  {
   "cell_type": "markdown",
   "metadata": {
    "lang": "de"
   },
   "source": [
    "<details><summary>Klicken Sie hier für die Lösung</summary>\n",
    "\n",
    "$f(x1)=11*5+8*5=95$\n",
    "$f(x2)=15*3+12*1=57$\n",
    "$f(x3)=5*11+3*13=94$\n",
    "$f(x4)=5*13+2*13=91$\n",
    "\n",
    "sortieren=x1,x3,x4,x2\n",
    "</details>"
   ]
  },
  {
   "cell_type": "markdown",
   "metadata": {
    "lang": "de"
   },
   "source": [
    "## Aufgabe 5.2\n",
    "\n",
    "Kreuzen Sie die fittesten 2 Chromosomen mit einem Punkt Crossover am Mittelpunkt"
   ]
  },
  {
   "cell_type": "markdown",
   "metadata": {
    "lang": "de"
   },
   "source": [
    "<details><summary>Klicken Sie hier für die Lösung</summary>\n",
    "\n",
    "- $x5=65411285$\n",
    "- $x6=23923532$\n",
    "\n",
    "</details>"
   ]
  },
  {
   "cell_type": "markdown",
   "metadata": {
    "lang": "de"
   },
   "source": [
    "## Aufgabe 5.3\n",
    "\n",
    "Kreuzen Sie die zweit- und dritt fittesten Personen mit einem Zweipunkt-Crossover (Punkte b und f)."
   ]
  },
  {
   "cell_type": "markdown",
   "metadata": {
    "lang": "de"
   },
   "source": [
    "<details><summary>Klicken Sie hier für die Lösung</summary>\n",
    "\n",
    "- $x7=21852085$\n",
    "- $x8=43921294$\n",
    "\n",
    "</details>"
   ]
  },
  {
   "cell_type": "markdown",
   "metadata": {
    "id": "LtxX_k6ec6td",
    "lang": "en"
   },
   "source": [
    "## Task 5.4\n",
    "\n",
    "Considering the initial population and conditions of the problem. Find the chromosome that would give the maximum of the evaluation function."
   ]
  },
  {
   "cell_type": "markdown",
   "metadata": {
    "lang": "de"
   },
   "source": [
    "## Aufgabe 5.4\n",
    "\n",
    "Betrachten Sie die Anfangspopulation und die Bedingungen des Problems. Finden Sie das Chromosom, das das Maximum der Bewertungsfunktion ergeben würde."
   ]
  },
  {
   "cell_type": "markdown",
   "metadata": {
    "lang": "de"
   },
   "source": [
    "<details><summary>Klicken Sie hier für die Lösung</summary>\n",
    "\n",
    "- $best=99999999$\n",
    "- $fitness=18*18+18*18=648$\n",
    "</details>"
   ]
  },
  {
   "cell_type": "markdown",
   "metadata": {
    "lang": "de"
   },
   "source": [
    "## Aufgabe 5.5\n",
    "\n",
    "Ist es mit Blick auf die Anfangspopulation möglich, die beste Lösung zu erreichen, ohne Mutationen zu verwenden?"
   ]
  },
  {
   "cell_type": "markdown",
   "metadata": {
    "lang": "de"
   },
   "source": [
    "<details><summary>Klicken Sie hier für die Lösung</summary>\n",
    "\n",
    "Nein, das ist nicht möglich, da es in jedem Chromosom der Anfangspopulation Positionen gibt, die keine 9 enthalten.\n",
    "\n",
    "</details>"
   ]
  },
  {
   "cell_type": "markdown",
   "metadata": {
    "id": "fD1V86yVfdBa"
   },
   "source": [
    "# Task 6\n",
    "\n",
    "Folgenden Code stellen wir zur Verfügung. Versuchen Sie sich einen Überblick über die Funktionen zu verschaffen."
   ]
  },
  {
   "cell_type": "code",
   "execution_count": null,
   "metadata": {
    "id": "8wo7udeXgoPV"
   },
   "outputs": [],
   "source": [
    "import matplotlib.pyplot as plt\n",
    "from math import radians, cos, sin, asin, sqrt\n",
    "from itertools import permutations\n",
    "from random import shuffle, randrange\n",
    "import pandas\n",
    "\n",
    "\n",
    "def tour_length(cities, tour):\n",
    "    \"\"\"The total of distances between each pair of consecutive cities in the tour.\n",
    "    This includes the last-to-first, distance(tour[-1], tour[0])\"\"\"\n",
    "    return sum(get_dist(cities, tour[i - 1], tour[i]) \n",
    "               for i in range(len(tour)))\n",
    "\n",
    "def is_valid_tour(tour, gold):\n",
    "    if (len(tour) != len(gold)):\n",
    "        print(\"Not the same number of cities as in reference:\", len(tour), len(gold))\n",
    "        return False\n",
    "    \n",
    "    t1 = set(tour)\n",
    "    t2 = set(gold)\n",
    "    diff = t1 ^ t2\n",
    "    if (len(diff) > 0):\n",
    "        print(\"Spurious cities in tour:\", diff)\n",
    "        return False\n",
    "    \n",
    "    return True\n",
    "\n",
    "def plot_tour(cities, tour, style='bo-'): \n",
    "    \"\"\"Plot every city and link in the tour, and highlight start city.\"\"\"\n",
    "    print(\"{} cities ⇒ tour length {:.0f}\".format(len(tour), tour_length(cities, tour)))\n",
    "\n",
    "    plt.figure(figsize=(10,10))\n",
    "    start = tour[0:1]\n",
    "    plot_segment(cities, tour + start, style)\n",
    "    plot_segment(cities, start, 'rD') # start city is red Diamond.\n",
    "    \n",
    "def plot_segment(cities, segment, style='bo-'):\n",
    "    \"\"\"Plot every city and link in the segment.\"\"\"\n",
    "    plt.plot([X(cities, i) for i in segment], [Y(cities, i)*1.4 for i in segment], style, clip_on=False)\n",
    "    plt.axis('scaled')\n",
    "    plt.axis('off')\n",
    "    \n",
    "def X(cities, i): \n",
    "    \"\"\"X coordinate.\"\"\"\n",
    "    return cities.loc[i,'lng']\n",
    "\n",
    "def Y(cities, i): \n",
    "    \"\"\"Y coordinate.\"\"\"\n",
    "    return cities.loc[i,'lat']\n",
    "\n",
    "def get_dist(cities, i, j):\n",
    "    \"\"\"Compute the distance between two citites from their longitude and latitude values\"\"\"\n",
    "\n",
    "    lat1 = cities.loc[i,'lat']\n",
    "    lng1 = cities.loc[i,'lng']\n",
    "    lat2 = cities.loc[j,'lat']\n",
    "    lng2 = cities.loc[j,'lng']\n",
    "    \n",
    "    r = 6371 # radius of the earth in km\n",
    "    lat1=radians(lat1)\n",
    "    lat2=radians(lat2)\n",
    "    lat_dif=lat2-lat1\n",
    "    lng_dif=radians(lng2-lng1)\n",
    "    a=sin(lat_dif/2.0)**2+cos(lat1)*cos(lat2)*sin(lng_dif/2.0)**2\n",
    "    d=2*r*asin(sqrt(a))\n",
    "    \n",
    "    return d\n",
    "\n",
    "# data from https://simplemaps.com/data/de-cities\n",
    "cities = pandas.read_csv('https://raw.githubusercontent.com/MMesgar/Foundation_of_AI/master/lecture06/data/de.csv')\n",
    "\n",
    "tour = [x for x in list(cities.index.values)]\n",
    "\n",
    "# tour in order of the city IDs\n",
    "plot_tour(cities, tour)"
   ]
  },
  {
   "cell_type": "markdown",
   "metadata": {
    "id": "VAuxJxdcgvCO"
   },
   "source": [
    "# Aufgabe 6.1\n",
    "\n",
    "Implementieren Sie einen Solver, der zufällig generierte Touren ausgibt."
   ]
  },
  {
   "cell_type": "code",
   "execution_count": null,
   "metadata": {
    "id": "-kX9zCM_hB7I"
   },
   "outputs": [],
   "source": [
    "def random(cities, n):\n",
    "    tour = [x for x in list(cities.index.values)]\n",
    "    \n",
    "    # initialize min_tour with the initial tour and get its length\n",
    "    min_tour = None\n",
    "    min_tour_len = None\n",
    "    for i in range(n):\n",
    "        # Generate neighbours of the tour by shuffling the tour and update min_tour accordingly\n",
    "        shuffle(None)\n",
    "        tour_len = None\n",
    "        if tour_len < min_tour_len:\n",
    "            min_tour_len = None\n",
    "            min_tour = None\n",
    "            print(\"currently shortest: {:.0f}\".format(min_tour_len))\n",
    "\n",
    "\n",
    "    #return minimum tour\n",
    "    return -1\n",
    "\n",
    "random_tour = random(cities, 500)\n",
    "is_valid_tour(random_tour, tour)\n",
    "plot_tour(cities, random_tour)"
   ]
  },
  {
   "cell_type": "markdown",
   "metadata": {
    "id": "KtSaJnlxjg3B"
   },
   "source": [
    "<details><summary>Klicken Sie hier für die Lösung</summary>\n",
    "\n",
    "```python\n",
    "def random(cities, n):\n",
    "    tour = [x for x in list(cities.index.values)]\n",
    "    \n",
    "    min_tour = tour\n",
    "    min_tour_len = tour_length(cities, tour)\n",
    "    for i in range(n):\n",
    "        shuffle(tour)\n",
    "        tour_len = tour_length(cities, tour)\n",
    "        if tour_len < min_tour_len:\n",
    "            min_tour_len = tour_len\n",
    "            min_tour = list(tour)\n",
    "            print(\"currently shortest: {:.0f}\".format(min_tour_len))\n",
    "\n",
    "    return min_tour\n",
    "\n",
    "random_tour = random(cities, 500)\n",
    "is_valid_tour(random_tour, tour)\n",
    "plot_tour(cities, random_tour)          \n",
    "```\n",
    "\n",
    "</details>"
   ]
  },
  {
   "cell_type": "markdown",
   "metadata": {
    "id": "GNzbeufwjR3B"
   },
   "source": [
    "## Aufgabe 6.2\n",
    "\n",
    "Analysieren Sie den untenstehenden Solver. Welche Strategie wird implementiert?"
   ]
  },
  {
   "cell_type": "code",
   "execution_count": null,
   "metadata": {
    "id": "aycXP4wykGSO"
   },
   "outputs": [],
   "source": [
    "def xyz(cities, n):\n",
    "    # start with random tour\n",
    "    tour = [x for x in list(cities.index.values)]\n",
    "    \n",
    "    min_tour = tour\n",
    "    min_tour_len = tour_length(cities, tour)\n",
    "    # n rounds\n",
    "    for i in range(n):\n",
    "        tour = local_best(cities, min_tour)\n",
    "        tour_len = tour_length(cities, tour)\n",
    "        if tour_len < min_tour_len:\n",
    "            min_tour_len = tour_len\n",
    "            min_tour = list(tour)\n",
    "            print(\"currently shortest: {:.0f}\".format(min_tour_len))\n",
    "\n",
    "    return min_tour\n",
    "\n",
    "def local_best(cities, tour):\n",
    "    min_tour = tour\n",
    "    min_tour_len = tour_length(cities, tour)\n",
    "    for i in range(len(tour)-1):\n",
    "        # swap\n",
    "        tour[i], tour[i+1] = tour[i+1], tour[i]\n",
    "        tour_len = tour_length(cities, tour)\n",
    "        if tour_len < min_tour_len:\n",
    "            min_tour_len = tour_len\n",
    "            min_tour = list(tour)\n",
    "        # swap back\n",
    "        tour[i], tour[i+1] = tour[i+1], tour[i]\n",
    "            \n",
    "    return min_tour\n",
    "    \n",
    "new_tour = xyz(cities, 10)\n",
    "is_valid_tour(new_tour, tour)\n",
    "plot_tour(cities, new_tour)  "
   ]
  },
  {
   "cell_type": "markdown",
   "metadata": {
    "id": "f2ZLIkGOlE4Y"
   },
   "source": [
    "<details><summary>Klicken Sie hier für die Lösung</summary>\n",
    "\n",
    "Es wird Hill-Climbing implementiert. Gestartet wird mit einer zufälligen Route und diese wird auf lokale Verbesserungsmöglichkeiten hin untersucht. Die beste lokale Optimierung wird durchgeführt. Insgesamt wird hier n (10) mal nach einer weiteren Verbesserung gesucht. \n",
    "</details>"
   ]
  },
  {
   "cell_type": "markdown",
   "metadata": {
    "id": "P1w16UPQlYmQ"
   },
   "source": [
    "## Vielen Dank, dass Sie dieses Lab abgeschlossen haben!\n",
    "\n",
    "______\n",
    "\n",
    "\n",
    "## Andere Mitwirkende\n",
    "\n",
    "N/A"
   ]
  }
 ],
 "metadata": {
  "colab": {
   "name": "exercise06.ipynb",
   "provenance": []
  },
  "kernelspec": {
   "display_name": "Python 3 (ipykernel)",
   "language": "python",
   "name": "python3"
  },
  "language_info": {
   "codemirror_mode": {
    "name": "ipython",
    "version": 3
   },
   "file_extension": ".py",
   "mimetype": "text/x-python",
   "name": "python",
   "nbconvert_exporter": "python",
   "pygments_lexer": "ipython3",
   "version": "3.10.4"
  },
  "nbTranslate": {
   "displayLangs": [
    "de"
   ],
   "hotkey": "alt-t",
   "langInMainMenu": true,
   "sourceLang": "en",
   "targetLang": "de",
   "useGoogleTranslate": true
  }
 },
 "nbformat": 4,
 "nbformat_minor": 1
}
