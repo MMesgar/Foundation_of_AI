{
 "cells": [
  {
   "cell_type": "markdown",
   "id": "62645554",
   "metadata": {},
   "source": [
    "# Homework: Uncertainty\n",
    "\n",
    "Version: SoSe 2022\n",
    "\n",
    "Estimated time needed: 60 minutes\n",
    "\n",
    "Author: Clara Siepmann\n",
    "\n",
    "Deadline : Friday, 03.06.2022 (11:55 p.m.)\n",
    "\n",
    "______"
   ]
  },
  {
   "cell_type": "markdown",
   "id": "97d9d9ac",
   "metadata": {},
   "source": [
    "### Submission guidelines\n",
    "* You can reach up to 10 homework points for every homework submission. 10 homework points correspond to one exam point.\n",
    "* In the course of the semester, there will be extra bonus points (where each bonus point equals to one exam point) for the homeworks. These will be given in the form of e.g. challenges inside the homeworks. More information will be given in the corresponding homeworks.\n",
    "* The submission has to be done by a team of two to four people. **Individual submissions will not be graded**. The team members do not have to attend the same exercise group. If there are any problems regarding this guideline, please reach out to a tutor.\n",
    "* Please state the **name and matriculation number of all team members** in every submission **clearly**.\n",
    "* Only **one team member should submit** the homework. If more than one version of the same homework is submitted by accident (submitted by more than one group member), please reach out to a tutor **as soon as possible**. Otherwise, the first submitted homework will be graded.\n",
    "* The submission must be in a Jupyter Notebook format (.ipynb). Submissions in **other formats will not be graded**. If there are any problems regarding this guideline, please reach out to a tutor.\n",
    "* It is not necessary to also submit the part of the exercise discussed by the tutor, please only submit the homework part.\n",
    "* If you want to insert pictures in your homework, insert them like this: Uplaod the picture to Google Drive. Right click on it. Click on \"Get shareable link\". Set the accessibility to \"Anyone with link\". Copy the link. Create a text cell where you want to insert the picture. Insert the link as follows: ``![picture description]``(insert link here, inside these brackets). Change the link as follows: From \"https://drive.google.com/file/d/XXXXX/view?usp=sharing\" to \"https://drive.google.com/uc?id=XXXXX\". XXXXX describes the individual ID, which will be in your link."
   ]
  },
  {
   "cell_type": "markdown",
   "id": "35197774",
   "metadata": {},
   "source": [
    "# Attention!\n",
    "\n",
    "If you only specify the probabilities in all exercises without the code, you get 0 points. If you do not know how to get started, it is best to do it step by step: try to represent the sample space. Then develop methods that determine the event space. Based on sample space and event space you can then calculate the probability.\n"
   ]
  },
  {
   "cell_type": "markdown",
   "id": "f40b5250",
   "metadata": {},
   "source": [
    "# General\n",
    "\n",
    "Below you find the functions from the exercise. You can use these for your solution."
   ]
  },
  {
   "cell_type": "code",
   "execution_count": 1,
   "id": "de1be3a2",
   "metadata": {},
   "outputs": [],
   "source": [
    "import itertools\n",
    "import random\n",
    "\n",
    "from math import factorial\n",
    "from fractions import Fraction\n",
    "\n",
    "def cross(A, B):\n",
    "    \"The set of ways of concatenating one item from collection A with one from B.\"\n",
    "    return {a + b \n",
    "            for a in A for b in B}\n",
    "\n",
    "def combos(items, n):\n",
    "    \"All combinations of n items; each combo as a concatenated str.\"\n",
    "    return {' '.join(combo) \n",
    "            for combo in itertools.combinations(items, n)}\n",
    "            \n",
    "def P(event, space): \n",
    "    \"The probability of an event, given a sample space of equiprobable outcomes.\"\n",
    "    return Fraction(len(event & space), \n",
    "                    len(space))\n",
    "\n",
    "def probStr(event, space):\n",
    "    prob = len(event & space) / len(space)\n",
    "    return \"P: {:.5f}\".format(prob)\n",
    "\n",
    "def choose(n, c):\n",
    "    \"Number of ways to choose c items from a list of n items.\"\n",
    "    return factorial(n) // (factorial(n - c) * factorial(c))"
   ]
  },
  {
   "cell_type": "markdown",
   "id": "ac7e3e07",
   "metadata": {},
   "source": [
    "# Task 1 (2 Points)\n",
    "There is a variant of rock-paper-scissors, which has become known through the series Big Bang Theory (see Fig. 2.). In this variant there are 5 symbols: scissors, stone, paper, lizard, spock.\n",
    "Scissors cuts paper, paper covers rock, rock crushes lizard, lizard poisons spock, spock smashes scissors, scissors decapitates lizard, lizard eats paper, paper disproves Spock, spock vaporizes rock and rock crushes scissors\n",
    "\n",
    "![Rock Paper Scissors Lizard Spock Diagram](https://upload.wikimedia.org/wikipedia/commons/thumb/f/fe/Rock_Paper_Scissors_Lizard_Spock_en.svg/800px-Rock_Paper_Scissors_Lizard_Spock_en.svg.png)\n",
    "\n",
    "*Picture from https://en.wikipedia.org/wiki/File:Rock_Paper_Scissors_Lizard_Spock_en.svg*\n",
    "\n",
    "You can find more infos here: http://www.samkass.com/theories/RPSSL.html\n",
    "\n",
    "\n",
    "Write annotated Python code that calculates the probability of a draw in the Big-Bang-Theory variant and in the original version. Use the code below & keep the outputs in the notebook. "
   ]
  },
  {
   "cell_type": "code",
   "execution_count": 2,
   "id": "68d493cc",
   "metadata": {},
   "outputs": [
    {
     "name": "stdout",
     "output_type": "stream",
     "text": [
      "Sample space Original:\n",
      " None\n",
      "\n",
      " Event space Original:\n",
      " None\n",
      "\n",
      "---------------------------------\n",
      "\n",
      "Sample space Big Bang Theory:\n",
      " None\n",
      "\n",
      " Event space Big Bang Theory:\n",
      " None\n",
      "\n",
      "---------------------------------\n",
      "\n",
      "Probability draw original: None\n",
      "\n",
      "Probability draw Big-Bang-Theory: None\n"
     ]
    }
   ],
   "source": [
    "# sample space for original version\n",
    "symbolsOriginal = {\"Schere \", \"Stein \", \"Papier \"}\n",
    "sampleSpaceOriginal = None\n",
    "# event space for original version\n",
    "eventSpaceOriginal = None\n",
    "\n",
    "print(\"Sample space Original:\\n\",sampleSpaceOriginal)\n",
    "print(\"\\n Event space Original:\\n\", eventSpaceOriginal)\n",
    "\n",
    "print(\"\\n---------------------------------\\n\")\n",
    "\n",
    "\n",
    "# sample space for Big Bang Theory Version\n",
    "symbolsBigBang = {\"scissors \", \"stone \", \"paper \", \"lizard \", \"spock \"}\n",
    "sampleSpaceBigBang = None\n",
    "# event space for Big Bang Theory Version\n",
    "eventSpaceBigBang = None\n",
    "\n",
    "print(\"Sample space Big Bang Theory:\\n\",sampleSpaceBigBang)\n",
    "print(\"\\n Event space Big Bang Theory:\\n\",eventSpaceBigBang)\n",
    "\n",
    "print(\"\\n---------------------------------\\n\")\n",
    "\n",
    "#probabiliy draw in original version\n",
    "#change probOriginal\n",
    "probOriginal=None \n",
    "print(\"Probability draw original:\", probOriginal)\n",
    "\n",
    "#probability draw in Big Bang Theory version\n",
    "#change probBBT\n",
    "probBigBang=None\n",
    "print(\"\\nProbability draw Big-Bang-Theory:\", probBigBang)\n"
   ]
  },
  {
   "cell_type": "markdown",
   "id": "c1e42647",
   "metadata": {},
   "source": [
    "# Task 2 (3 Points)\n",
    "\n",
    "An analysis software recognizes the faces of wanted persons in video footage with a probability of 93%. However, in 1% of cases, the software erroneously marks an unsuspecting person as being wanted. Security authorities expect that 10 wanted people will arrive at the airport on Thursday. The number of passengers per day is 10,000. <br>\n",
    "You can assume that all other people who arrive that day are unsuspicious. Write annotated Python code that calculates the following probabilities:\n",
    "\n",
    "* How many people will likely be mistaken as \"wanted\" by the software?\n",
    "* The software raises an alarm. What is the probability that a wanted person was actually discovered?\n",
    "\n",
    "Use the code below & keep the output in the notebook."
   ]
  },
  {
   "cell_type": "code",
   "execution_count": 3,
   "id": "4d820400",
   "metadata": {},
   "outputs": [
    {
     "name": "stdout",
     "output_type": "stream",
     "text": [
      "Number of guests which were searched wrongly:  None\n",
      "The the probability that a wanted person was actually discovered is:  None\n"
     ]
    }
   ],
   "source": [
    "# G : searched [P(G)]\n",
    "# NG : not searched [P(NG)]\n",
    "# GE : detected as suspicious [P(GE)]\n",
    "# NE : detected as not suspicious [P(NE)]\n",
    "# GE_G : detected as searched and is searched [P(GE|G)]\n",
    "# GE_NG : detected as searched but not searched[P(GE|NG)]\n",
    "# NE_G : detected as not searched but person is searched [P(NE|G)]\n",
    "# NE_NG : detected as not searched and person is not searched[P(NE|NG)]\n",
    "\n",
    "\n",
    "GE_G = 0.93 # in percentage\n",
    "GE_NG = 0.01 # in percentage\n",
    "guests = 10000\n",
    "suspicious = 10\n",
    "G = suspicious/guests # probability of suspicious persons\n",
    "NG = 1-G # probability of non suspicious persons\n",
    "NE_G = 1-GE_G # error suspicious\n",
    "NE_NG = 1-GE_NG # error non suspicious\n",
    "GE = GE_G*G + GE_NG*NG # Probability that someone will be searched\n",
    "\n",
    "#calculate the errors\n",
    "errors=None\n",
    "print(\"Number of guests which were searched wrongly: \", errors)\n",
    "\n",
    "#calculate the probability that a wanted person was actually discovered\n",
    "G_GE=None\n",
    "print(\"The the probability that a wanted person was actually discovered is: \", G_GE)\n",
    "\n"
   ]
  },
  {
   "cell_type": "markdown",
   "id": "e5519666",
   "metadata": {},
   "source": [
    "# Task 3 (5 Points)\n",
    "\n",
    "Anna draws 3 cards from a mixed skat game (7 to ace, 4 colors: hearts, diamonds, clubs, spades, 32 cards). Write annotated Python code that calculates the following probabilities:\n",
    "\n",
    "* The probability that Anna has three cards of the same color (e.g. Heart 7 / Heart Jack /Heart As)?\n",
    "* The probability that Anna has three cards of equal value (= different color, same value)?\n",
    "\n",
    "Use the code below & keep the output in the notebook."
   ]
  },
  {
   "cell_type": "code",
   "execution_count": 4,
   "id": "a5ee589a",
   "metadata": {},
   "outputs": [
    {
     "name": "stdout",
     "output_type": "stream",
     "text": [
      "Deck:\n",
      " [] \n",
      "\n",
      "Length deck:  0 \n",
      "\n",
      "The probability that Anna has 3 cards of the same color is:  None \n",
      "\n",
      "\n",
      "The probability that Anna has 3 cards with the same value is:  None \n",
      "\n",
      "\n"
     ]
    }
   ],
   "source": [
    "#remeber you can use the functions from above\n",
    "suits = {\"♥\",\"♠\",\"♦\",\"♣\"}\n",
    "ranks = {\"7\",\"8\",\"9\",\"10\",\"B\",\"D\",\"K\",\"A\"}\n",
    "#create the sample space\n",
    "deck  = []\n",
    "\n",
    "print(\"Deck:\\n\",deck,\"\\n\")\n",
    "#the deck should have a length of 32\n",
    "print(\"Length deck: \", len(deck),\"\\n\")\n",
    "\n",
    "#create all possible hands for Anna (3 cards)\n",
    "hands = None\n",
    "\n",
    "#probability that Anna has three cards of the same color\n",
    "#flush is the event space\n",
    "flush = None\n",
    "probFlush= None\n",
    "\n",
    "print(\"The probability that Anna has 3 cards of the same color is: \", probFlush, \"\\n\\n\")\n",
    "\n",
    "#probability that Anna has three cards of equal value\n",
    "#equalValue is the event space\n",
    "equalValue = None\n",
    "probEqualValue=None\n",
    "print(\"The probability that Anna has 3 cards with the same value is: \", probEqualValue, \"\\n\\n\")"
   ]
  },
  {
   "cell_type": "markdown",
   "id": "35dee28b",
   "metadata": {},
   "source": [
    "\n",
    "## Thank you for completing this lab!\n",
    "\n",
    "______\n",
    "\n",
    "\n",
    "## Other Contributors\n",
    "\n",
    "N/A"
   ]
  },
  {
   "cell_type": "code",
   "execution_count": null,
   "id": "9570a31c",
   "metadata": {},
   "outputs": [],
   "source": []
  }
 ],
 "metadata": {
  "kernelspec": {
   "display_name": "Python 3 (ipykernel)",
   "language": "python",
   "name": "python3"
  },
  "language_info": {
   "codemirror_mode": {
    "name": "ipython",
    "version": 3
   },
   "file_extension": ".py",
   "mimetype": "text/x-python",
   "name": "python",
   "nbconvert_exporter": "python",
   "pygments_lexer": "ipython3",
   "version": "3.8.8"
  }
 },
 "nbformat": 4,
 "nbformat_minor": 5
}
