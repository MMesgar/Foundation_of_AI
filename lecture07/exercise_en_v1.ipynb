{
 "cells": [
  {
   "cell_type": "markdown",
   "id": "98d155a3",
   "metadata": {},
   "source": [
    "# Exercise: Uncertainty\n",
    "\n",
    "Version: SoSe 2022\n",
    "\n",
    "Estimated time needed: 90 minutes\n",
    "\n",
    "Author: Clara Siepmann\n",
    "______"
   ]
  },
  {
   "cell_type": "markdown",
   "id": "1be4447b",
   "metadata": {},
   "source": [
    "# Objectives\n",
    "\n",
    "After completing this exercise, you will be able to:\n",
    "\n",
    "- implement basic concepts from probability \n"
   ]
  },
  {
   "cell_type": "markdown",
   "id": "1a6404d9",
   "metadata": {},
   "source": [
    "# General\n",
    "\n",
    "Before starting with the task, please run the code below\n"
   ]
  },
  {
   "cell_type": "code",
   "execution_count": 6,
   "id": "20eca04d",
   "metadata": {},
   "outputs": [],
   "source": [
    "import itertools\n",
    "import random\n",
    "\n",
    "from math import factorial\n",
    "from fractions import Fraction\n",
    "\n",
    "def cross(A, B):\n",
    "    \"The set of ways of concatenating one item from collection A with one from B.\"\n",
    "    return {a + b \n",
    "            for a in A for b in B}\n",
    "\n",
    "def combos(items, n):\n",
    "    \"All combinations of n items; each combo as a concatenated str.\"\n",
    "    return {' '.join(combo) \n",
    "            for combo in itertools.combinations(items, n)}\n",
    "            \n",
    "def P(event, space): \n",
    "    \"The probability of an event, given a sample space of equiprobable outcomes.\"\n",
    "    return Fraction(len(event & space), \n",
    "                    len(space))\n",
    "\n",
    "def probStr(event, space):\n",
    "    prob = len(event & space) / len(space)\n",
    "    return \"P: {:.5f}\".format(prob)\n",
    "\n",
    "def choose(n, c):\n",
    "    \"Number of ways to choose c items from a list of n items.\"\n",
    "    return factorial(n) // (factorial(n - c) * factorial(c))"
   ]
  },
  {
   "cell_type": "markdown",
   "id": "b65c7a1b",
   "metadata": {},
   "source": [
    "# Task 1\n",
    "\n",
    "Read the following statements and decide if they are right or wrong.\n",
    "\n",
    "A sample space is always discrete - right or wrong?"
   ]
  },
  {
   "cell_type": "markdown",
   "id": "e42dc1a8",
   "metadata": {},
   "source": [
    "<details><summary>Click here for the solution</summary>\n",
    "\n",
    "Wrong - We could also have something continous like body size\n",
    "</details>"
   ]
  },
  {
   "cell_type": "markdown",
   "id": "ef1fc4bb",
   "metadata": {},
   "source": [
    "If we assume a uniform distribution, we say each of the basic outcomes is equally likely."
   ]
  },
  {
   "cell_type": "markdown",
   "id": "9cd703d9",
   "metadata": {},
   "source": [
    "<details><summary>Click here for the solution</summary>\n",
    "\n",
    "Right\n",
    "</details>"
   ]
  },
  {
   "cell_type": "markdown",
   "id": "8b02e424",
   "metadata": {},
   "source": [
    "We never can use some prior knowledge to assume the probablity. "
   ]
  },
  {
   "cell_type": "markdown",
   "id": "7add14bd",
   "metadata": {},
   "source": [
    "<details><summary>Click here for the solution</summary>\n",
    "\n",
    "Wrong - We can use additional information to model the probability. This is called the posterior probability. \n",
    "</details>"
   ]
  },
  {
   "cell_type": "markdown",
   "id": "ff6eb207",
   "metadata": {},
   "source": [
    "A random variable describes the specific event space for each problem"
   ]
  },
  {
   "cell_type": "markdown",
   "id": "282c4ca4",
   "metadata": {},
   "source": [
    "<details><summary>Click here for the solution</summary>\n",
    "\n",
    "Wrong - the goal of a random variable is to not have to deal with specific events for each problem. Because of this the random variable is defined as a function: X: Ω => R<sup>n</sup> (commonly with n = I), where R is the set of real numbers\n",
    "</details>"
   ]
  },
  {
   "cell_type": "markdown",
   "id": "19a62700",
   "metadata": {},
   "source": [
    "The expectation is the mean of the random variable"
   ]
  },
  {
   "cell_type": "markdown",
   "id": "a9971b74",
   "metadata": {},
   "source": [
    "<details><summary>Click here for the solution</summary>\n",
    "\n",
    "Right\n",
    "</details>"
   ]
  },
  {
   "cell_type": "markdown",
   "id": "2a714c4b",
   "metadata": {},
   "source": [
    "The variance can be used to measure if the values of a random variable varies a lot"
   ]
  },
  {
   "cell_type": "markdown",
   "id": "1f341f17",
   "metadata": {},
   "source": [
    "<details><summary>Click here for the solution</summary>\n",
    "\n",
    "Right\n",
    "</details>"
   ]
  },
  {
   "cell_type": "markdown",
   "id": "15157522",
   "metadata": {},
   "source": [
    "# Task 2\n",
    "\n",
    "An urn contains 23 balls: 8 white, 6 blue, and 9 red. We select six balls at random (each possible selection is equally likely). \n",
    "\n",
    "## Task 2.1\n",
    "\n",
    "Change the code below, so that the sample space is represented. What is the size of the sample space?\n"
   ]
  },
  {
   "cell_type": "code",
   "execution_count": 7,
   "id": "c038836d",
   "metadata": {},
   "outputs": [
    {
     "name": "stdout",
     "output_type": "stream",
     "text": [
      "Balls in urn: 0\n",
      "\n",
      "Sample Space size: 0\n"
     ]
    }
   ],
   "source": [
    "# urn should represent the balls in the urn Tip: use one the methods from the code block above\n",
    "urn = \"\"\n",
    "print(\"Balls in urn: \" + str(len(urn)))\n",
    "print(urn)\n",
    "\n",
    "# sampleSpace should represent the sample space. Tip: use one of the methods from above \n",
    "sampleSpace = \"\"\n",
    "print(\"Sample Space size: \" + str(len(sampleSpace)))"
   ]
  },
  {
   "cell_type": "markdown",
   "id": "42d585dc",
   "metadata": {},
   "source": [
    "<details><summary>Click here for the solution</summary>\n",
    "\n",
    "```python\n",
    "    urn = cross('W', '12345678') | cross('B', '123456') | cross('R', '123456789') # | merges two sets\n",
    "    print(\"Balls in urn: \" + str(len(urn)))\n",
    "    print(urn)\n",
    "    \n",
    "    sampleSpace = combos(urn, 6)\n",
    "    print(\"Sample Space size: \" + str(len(sampleSpace)))\n",
    "```\n",
    "</details>"
   ]
  },
  {
   "cell_type": "markdown",
   "id": "2fb9a804",
   "metadata": {},
   "source": [
    "## Task 2.2 \n",
    "\n",
    "Return 10 random samples from the sample space above."
   ]
  },
  {
   "cell_type": "code",
   "execution_count": 8,
   "id": "31e76d22",
   "metadata": {},
   "outputs": [
    {
     "name": "stdout",
     "output_type": "stream",
     "text": [
      "A random sample: \n",
      "\n"
     ]
    }
   ],
   "source": [
    "print(\"A random sample: \")\n",
    "#Tip: use random\n",
    "print(\"\")"
   ]
  },
  {
   "cell_type": "markdown",
   "id": "045531b6",
   "metadata": {},
   "source": [
    "<details><summary>Click here for the solution</summary>\n",
    "\n",
    "```python\n",
    "    print(\"A random sample: \")\n",
    "    print(*random.sample(sampleSpace, 10), sep=\"\\n\")\n",
    "```\n",
    "</details>"
   ]
  },
  {
   "cell_type": "markdown",
   "id": "e8d9e02e",
   "metadata": {},
   "source": [
    "## Task 2.3\n",
    "\n",
    "How many ways of getting 6 red balls are there? Use the code below to answer the question."
   ]
  },
  {
   "cell_type": "code",
   "execution_count": 9,
   "id": "871ac879",
   "metadata": {},
   "outputs": [
    {
     "name": "stdout",
     "output_type": "stream",
     "text": [
      "How many ways of getting 6 red balls are there?\n",
      "0\n"
     ]
    }
   ],
   "source": [
    "red6 = {} #Use a set comprehension & sampleSpace from above\n",
    "print(\"How many ways of getting 6 red balls are there?\")\n",
    "print(len(red6))"
   ]
  },
  {
   "cell_type": "markdown",
   "id": "fa98e5cc",
   "metadata": {},
   "source": [
    "<details><summary>Click here for the solution</summary>\n",
    "\n",
    "```python\n",
    "    red6 = {s for s in sampleSpace if s.count('R') == 6}\n",
    "    print(\"How many ways of getting 6 red balls are there?\")\n",
    "    print(len(red6))\n",
    "```\n",
    "</details>"
   ]
  },
  {
   "cell_type": "markdown",
   "id": "23c5a1dd",
   "metadata": {},
   "source": [
    "## Task 2.4\n",
    "\n",
    "Calculate the probability of the following events:\n",
    "\n",
    "* Probability of all balls beeing red\n",
    "* Probability of 3 blue, 2 white, and 1 red ball\n",
    "* Probability of at least 4 white balls\n",
    "\n",
    "Use the code below"
   ]
  },
  {
   "cell_type": "code",
   "execution_count": 10,
   "id": "b3f286cb",
   "metadata": {},
   "outputs": [
    {
     "name": "stdout",
     "output_type": "stream",
     "text": [
      "Probability of selecting 6 red balls:\n",
      "None\n",
      "\n",
      " ---------- \n",
      "\n",
      "Probability of 3 blue, 2 white, and 1 red?\n",
      "None\n",
      "\n",
      " ---------- \n",
      "\n",
      "Probability of at least 4 white balls\n",
      "None\n"
     ]
    }
   ],
   "source": [
    "#Tip: take a look at the code block from the beginning\n",
    "print(\"Probability of selecting 6 red balls:\") \n",
    "prob6red=None\n",
    "print(prob6red)\n",
    "\n",
    "print(\"\\n ---------- \\n\")\n",
    "\n",
    "print(\"Probability of 3 blue, 2 white, and 1 red?\")\n",
    "b3w2r1 = {} #Have a look at how we defined red6\n",
    "probb3w2r1=None\n",
    "print(probb3w2r1)\n",
    "\n",
    "print(\"\\n ---------- \\n\")\n",
    "\n",
    "print(\"Probability of at least 4 white balls\")\n",
    "atLeast4 = {}\n",
    "probAtLeast4= None\n",
    "print(probAtLeast4)"
   ]
  },
  {
   "cell_type": "markdown",
   "id": "11afb5d2",
   "metadata": {},
   "source": [
    "<details><summary>Click here for the solution</summary>\n",
    "\n",
    "```python\n",
    "    print(\"Probability of selecting 6 red balls:\")\n",
    "    #We have multiple possibilities\n",
    "    prob6red= P(red6, sampleSpace)\n",
    "    print(\"#1 \",prob6red)\n",
    "    prob6red= Fraction(choose(9, 6), len(sampleSpace))\n",
    "    print(\"#2 \",prob6red)\n",
    "    prob6red= probStr(red6,sampleSpace)\n",
    "    print(\"#3 \",prob6red)\n",
    "    \n",
    "    print(\"\\n ---------- \\n\")\n",
    "    \n",
    "    print(\"Probability of 3 blue, 2 white, and 1 red?\")\n",
    "    b3w2r1 = {s for s in sampleSpace if s.count('B') == 3 and s.count('W') == 2 and s.count('R') == 1}\n",
    "    #Multiple options\n",
    "    probb3w2r1=P(b3w2r1, sampleSpace))\n",
    "    print(\"#1 \",probb3w2r1)\n",
    "    probb3w2r1=Fraction(choose(6, 3) * choose(8, 2) * choose(9, 1), len(sampleSpace))\n",
    "    print(\"#2 \",probb3w2r1)\n",
    "    probb3w2r1=probStr(b3w2r1, sampleSpace)\n",
    "    print(\"#3 \",probb3w2r1)\n",
    "    \n",
    "    print(\"\\n ---------- \\n\")\n",
    "    \n",
    "    print(\"Probability of at least 4 white balls\")\n",
    "    atLeast4 = {s for s in sampleSpace if s.count('W') >= 4}\n",
    "    probAtLeast4=P(atLeast4, sampleSpace)\n",
    "    print(\"#1 \",probAtLeast4)\n",
    "    probAtLeast4=probStr(atLeast4, sampleSpace)\n",
    "    print(\"#2 \",probAtLeast4)\n",
    "    \n",
    "    \n",
    "\n",
    "\n",
    "```\n",
    "</details>"
   ]
  },
  {
   "cell_type": "markdown",
   "id": "5fe39bd8",
   "metadata": {},
   "source": [
    "# Task 3\n",
    "\n",
    "## Task 3.1\n",
    "\n",
    "Anna and Otto are each rolling a dice 3 times. \n",
    "Anna wants to roll exactly one 3 and at least one 5. Otto wants to have a sum of exactly 9. Which probability is higher?\n",
    "\n",
    "Use the code below. First represent the sample space and then the event space. Remember you can use the methods we provided to you"
   ]
  },
  {
   "cell_type": "code",
   "execution_count": 11,
   "id": "1e74bde7",
   "metadata": {},
   "outputs": [
    {
     "name": "stdout",
     "output_type": "stream",
     "text": [
      "example from the sample space:  ['3', '2', '1']\n",
      "Anna:\n",
      "1/3    P: 0.33333 \n",
      "\n",
      "Otto:\n",
      "1/3    P: 0.33333\n"
     ]
    }
   ],
   "source": [
    "#representation of one dice\n",
    "D = {\"1\", \"2\", \"3\", \"4\", \"5\", \"6\"}\n",
    "\n",
    "# sample space, change the set three_dice to a meaningful representation of the sample space\n",
    "three_dice = {\"1\",\"2\",\"3\"} \n",
    "print(\"example from the sample space: \",random.sample(three_dice, 3))\n",
    "\n",
    "# event space for Anna, change it so that it represents the event space for Anna\n",
    "threeAndFive = {\"1\"}\n",
    "\n",
    "#event space for Otto, change it so that it represents the event space for Otto\n",
    "sum9 = {\"1\"}\n",
    "\n",
    "pAnna=P(threeAndFive, three_dice)\n",
    "pStrAnna=probStr(threeAndFive, three_dice)\n",
    "print(\"Anna:\")\n",
    "print(pAnna, \"  \", pStrAnna, \"\\n\")\n",
    "\n",
    "pOtto=P(sum9, three_dice)\n",
    "pStrOtto=probStr(sum9, three_dice)\n",
    "print(\"Otto:\")\n",
    "print(pOtto, \"  \", pStrOtto)\n"
   ]
  },
  {
   "cell_type": "markdown",
   "id": "c29e4d43",
   "metadata": {},
   "source": [
    "<details><summary>Click here for the solution</summary>\n",
    "\n",
    "```python\n",
    "    #representation of one dice\n",
    "    D = {\"1\", \"2\", \"3\", \"4\", \"5\", \"6\"}\n",
    "    \n",
    "    # sample space, change the set three_dice to a meaningful representation of the sample space\n",
    "    three_dice = cross(cross(D,D), D) \n",
    "    print(\"example from the sample space: \",random.sample(three_dice, 3))\n",
    "\n",
    "    # event space for Anna, change it so that it represents the event space for Anna\n",
    "    threeAndFive = {roll for roll in three_dice if roll.count('3') == 1 and roll.count('5') >= 1}\n",
    "\n",
    "    #event space for Otto, change it so that it represents the event space for Otto\n",
    "    sum9 = {roll for roll in three_dice if sum(int(dice) for dice in roll) == 9}\n",
    "\n",
    "    pAnna=P(threeAndFive, three_dice)\n",
    "    pStrAnna=probStr(threeAndFive, three_dice)\n",
    "    print(\"Anna:\")\n",
    "    print(pAnna, \"  \", pStrAnna, \"\\n\")\n",
    "\n",
    "    pOtto=P(sum9, three_dice)\n",
    "    pStrOtto=probStr(sum9, three_dice)\n",
    "    print(\"Otto:\")\n",
    "    print(pOtto, \"  \", pStrOtto)\n",
    "\n",
    "\n",
    "\n",
    "```\n",
    "The probability that Anna rolls exactly one three and at least one five is bigger.\n",
    "</details>"
   ]
  },
  {
   "cell_type": "markdown",
   "id": "4f924ba1",
   "metadata": {},
   "source": [
    "## Task 3.2\n",
    "Now Anna and Otto want to throw a coin twice after rolling twice, and then throw two more dice. Give three examples that are included in the sample space. Use the code below"
   ]
  },
  {
   "cell_type": "code",
   "execution_count": 12,
   "id": "bd78668e",
   "metadata": {},
   "outputs": [
    {
     "name": "stdout",
     "output_type": "stream",
     "text": [
      "None\n"
     ]
    }
   ],
   "source": [
    "#sample space two dices\n",
    "two_dice = cross(D, D)\n",
    "\n",
    "#one coin\n",
    "C = {\"H\", \"T\"}\n",
    "#sample space two coins\n",
    "coin = cross(C,C)\n",
    "\n",
    "#sample space for two dices & two coins\n",
    "diceAndCoin = {a+b+c for a in two_dice for b in coin for c in two_dice}\n",
    "\n",
    "#change threeExamples so that it includes 3 random examples from the sample space\n",
    "threeExamples=None\n",
    "print(threeExamples)"
   ]
  },
  {
   "cell_type": "markdown",
   "id": "b68720e7",
   "metadata": {},
   "source": [
    "<details><summary>Click here for the solution</summary>\n",
    "\n",
    "```python \n",
    "    #sample space two dices\n",
    "    two_dice = cross(D, D)\n",
    "\n",
    "    #one coin\n",
    "    C = {\"H\", \"T\"}\n",
    "    #sample space two coins\n",
    "    coin = cross(C,C)\n",
    "\n",
    "    #sample space for two dices & two coins\n",
    "    diceAndCoin = {a+b+c for a in two_dice for b in coin for c in two_dice}\n",
    "\n",
    "    #change threeExamples so that it includes 3 random examples from the sample space\n",
    "    threeExamples=random.sample(diceAndCoin, 3)\n",
    "    print(threeExamples)\n",
    "\n",
    "\n",
    "```\n",
    "\n",
    "</details>"
   ]
  },
  {
   "cell_type": "markdown",
   "id": "5f8dc2a7",
   "metadata": {},
   "source": [
    "## Task 3.3\n",
    "\n",
    "Now we want the event space for \"at least once number\". So the coin should show at least once number instead of head. Change the code so that this is the case"
   ]
  },
  {
   "cell_type": "code",
   "execution_count": 13,
   "id": "7aeb88e7",
   "metadata": {},
   "outputs": [
    {
     "data": {
      "text/plain": [
       "['2', '3', '1']"
      ]
     },
     "execution_count": 13,
     "metadata": {},
     "output_type": "execute_result"
    }
   ],
   "source": [
    "#Event space, change atLeastOne so that the event space is represented\n",
    "atLeastOne ={\"1\",\"2\",\"3\"}\n",
    "random.sample(atLeastOne, 3)"
   ]
  },
  {
   "cell_type": "markdown",
   "id": "23d16ced",
   "metadata": {},
   "source": [
    "<details><summary>Click here for the solution</summary>\n",
    "\n",
    "```python \n",
    "    atLeastOne ={a+b+c for a in two_dice for b in coin for c in two_dice if b!='HH'}\n",
    "    random.sample(atLeastOne, 3)\n",
    "\n",
    "\n",
    "```\n",
    "\n",
    "</details>"
   ]
  },
  {
   "cell_type": "markdown",
   "id": "cb621637",
   "metadata": {},
   "source": [
    "# Task 4\n",
    "\n",
    "In the game rock-paper-scissors two players each choose one of the three possible symbols scissors, stone and paper and then, on a command, simultaneously display it with their hand. The result will be rated as follows: The scissors cut the paper (scissors win), the paper wraps the stone (paper wins), and the stone makes the scissors dull (stone wins). If both players decide for the same symbol, the game is counted as a tie and repeated.\n",
    "\n",
    "## Task 4.1\n",
    "\n",
    "Define the sample space for rock-paper-scissors. Complete the code below.\n"
   ]
  },
  {
   "cell_type": "code",
   "execution_count": 14,
   "id": "e90802a5",
   "metadata": {},
   "outputs": [
    {
     "name": "stdout",
     "output_type": "stream",
     "text": [
      "set()\n"
     ]
    }
   ],
   "source": [
    "#start with the abstraction for one player.\n",
    "move={}\n",
    "\n",
    "rps=cross(move, move)\n",
    "print(rps)"
   ]
  },
  {
   "cell_type": "markdown",
   "id": "ce42e8d0",
   "metadata": {},
   "source": [
    "<details><summary>Click here for the solution</summary>\n",
    "\n",
    "```python \n",
    "    #start with the abstraction for one player.\n",
    "    move={\"r\",\"p\",\"s\"}\n",
    "\n",
    "    rps=cross(move, move)\n",
    "    print(rps)\n",
    "```\n",
    "\n",
    "</details>"
   ]
  },
  {
   "cell_type": "markdown",
   "id": "f248cda1",
   "metadata": {},
   "source": [
    "# Task 4.2\n",
    "\n",
    "What is the probability of winning if player 1 chooses stone?\n",
    "\n",
    "What is the probability of not losing if player 1 chooses stone?\n",
    "\n",
    "Use the code below."
   ]
  },
  {
   "cell_type": "code",
   "execution_count": 15,
   "id": "86c4ddde",
   "metadata": {},
   "outputs": [
    {
     "name": "stdout",
     "output_type": "stream",
     "text": [
      "{''}\n",
      "0\n",
      "1\n"
     ]
    }
   ],
   "source": [
    "#you can use the sample space from above.\n",
    "\n",
    "#probability of winning when choosing stone\n",
    "stoneMoves = {\"\"}\n",
    "print(stoneMoves)\n",
    "print(P({\"rs\"}, stoneMoves))\n",
    "\n",
    "#probability of not loosing when choosing stone, change x for something meaningful to calculate the probability\n",
    "x={\"\"}\n",
    "print(P(x, stoneMoves))"
   ]
  },
  {
   "cell_type": "markdown",
   "id": "0420c76a",
   "metadata": {},
   "source": [
    "<details><summary>Click here for the solution</summary>\n",
    "\n",
    "```python \n",
    "    #you can use the sample space from above.\n",
    "\n",
    "    #probability of winning when choosing stone\n",
    "    stoneMoves = {move for move in rps if move.startswith(\"r\")}\n",
    "    print(stoneMoves)\n",
    "    print(P({\"rs\"}, stoneMoves))\n",
    "\n",
    "    #probability of not loosing when choosing stone, \n",
    "    #change x for something meaningful to calculate the probability\n",
    "    x={\"rr\", \"rs\"}\n",
    "    print(P(x, stoneMoves))\n",
    "    \n",
    "    \n",
    "```\n",
    "\n",
    "</details>"
   ]
  },
  {
   "cell_type": "markdown",
   "id": "47a89cfa",
   "metadata": {},
   "source": [
    "# Task 4.3\n",
    "\n",
    "In one variant, there is the additional symbol well. Well loses against paper and wins against scissors and stone. How does this change the chances of winning? With which symbol is the probability of losing higher? Use the code below."
   ]
  },
  {
   "cell_type": "code",
   "execution_count": 16,
   "id": "9f254f69",
   "metadata": {},
   "outputs": [
    {
     "name": "stdout",
     "output_type": "stream",
     "text": [
      "{'pw', 'ww', 'sr', 'pr', 'sp', 'wp', 'ws', 'rp', 'pp', 'wr', 'rr', 'ps', 'sw', 'rs', 'rw', 'ss'}\n",
      "I loose with scissor:   0\n",
      "I loose with stone:    0\n",
      "I loose with paper:   0\n",
      "I loose with well:  0\n"
     ]
    }
   ],
   "source": [
    "move_ext = {\"r\", \"p\", \"s\", \"w\"}\n",
    "rpsw = cross(move_ext, move_ext)\n",
    "print(rpsw)\n",
    "\n",
    "#fill the event spaces so that the probability will be calculated.\n",
    "loosingScissor={\"\"}\n",
    "loosingStone={\"\"}\n",
    "loosingPaper={\"\"}\n",
    "loosingWell={\"\"}\n",
    "\n",
    "print(\"I loose with scissor:  \", P(loosingScissor, rpsw))\n",
    "print(\"I loose with stone:   \", P(loosingStone, rpsw))\n",
    "print(\"I loose with paper:  \", P(loosingPaper, rpsw))\n",
    "print(\"I loose with well: \", P(loosingWell, rpsw))"
   ]
  },
  {
   "cell_type": "markdown",
   "id": "9615f50d",
   "metadata": {},
   "source": [
    "<details><summary>Click here for the solution</summary>\n",
    "\n",
    "```python \n",
    "    move_ext = {\"r\", \"p\", \"s\", \"w\"}\n",
    "    rpsw = cross(move_ext, move_ext)\n",
    "    print(rpsw)\n",
    "\n",
    "    #fill the event spaces so that the probability will be calculated.\n",
    "    loosingScissor={\"sw\", \"sr\"}\n",
    "    loosingStone={\"rw\", \"rp\"}\n",
    "    loosingPaper={\"ps\"}\n",
    "    loosingWell={\"wp\"}\n",
    "\n",
    "    print(\"I loose with scissor:  \", P(loosingScissor, rpsw))\n",
    "    print(\"I loose with stone:   \", P(loosingStone, rpsw))\n",
    "    print(\"I loose with paper:  \", P(loosingPaper, rpsw))\n",
    "    print(\"I loose with well: \", P(loosingWell, rpsw))\n",
    "    \n",
    "    \n",
    "```\n",
    "\n",
    "</details>"
   ]
  },
  {
   "cell_type": "markdown",
   "id": "85e67e1d",
   "metadata": {},
   "source": [
    "# Task 5\n",
    "\n",
    "## Task 5.1\n",
    "\n",
    "In the statistics lecture last semester, there were two exams: a midterm exam and one at the end of the semester. 42% of the students passed the midterm exam. 25% have passed both exams. What percentage of those who passed the first exam also passed the second? Use the code below."
   ]
  },
  {
   "cell_type": "code",
   "execution_count": 17,
   "id": "16d22731",
   "metadata": {},
   "outputs": [
    {
     "name": "stdout",
     "output_type": "stream",
     "text": [
      "\n"
     ]
    }
   ],
   "source": [
    "# Multiplication rule: P(A,B) = P(B|A) * P(A)\n",
    "\n",
    "P_A = 0.42 \n",
    "P_AB = 0.25\n",
    "\n",
    "# Use the formula below to calculate the probability. P(B|A) is represented as P_BcA\n",
    "P_BcA = ''\n",
    "print(P_BcA)"
   ]
  },
  {
   "cell_type": "markdown",
   "id": "b09f8bdd",
   "metadata": {},
   "source": [
    "<details><summary>Click here for the solution</summary>\n",
    "\n",
    "```python \n",
    "    # Multiplication rule: P(A,B) = P(B|A) * P(A)\n",
    "\n",
    "    P_A = 0.42 \n",
    "    P_AB = 0.25\n",
    "\n",
    "    # Use the formula below to calculate the probability. P(B|A) is represented as P_BcA\n",
    "    P_BcA = P_AB/P_A\n",
    "    print(P_BcA)\n",
    "    \n",
    "    \n",
    "```\n",
    "\n",
    "</details>"
   ]
  },
  {
   "cell_type": "markdown",
   "id": "7bc71f08",
   "metadata": {},
   "source": [
    "## Task 5.2\n",
    "An HIV test gives a positive result with probability 98% when the patient is indeed affected by HIV, while it gives a negative result with 99% probability when the patient is not affected by HIV. Let’s assume that you belong to a low-risk group and have a prior probability of getting infected with HIV of 0.1%. You receive a positive test result.\n",
    "How likely is it that you have HIV? Use the code below."
   ]
  },
  {
   "cell_type": "code",
   "execution_count": 18,
   "id": "085e4bc8",
   "metadata": {},
   "outputs": [
    {
     "name": "stdout",
     "output_type": "stream",
     "text": [
      "\n",
      "\n"
     ]
    }
   ],
   "source": [
    "#prior probabilities\n",
    "\n",
    "#prior probabilities to have hiv\n",
    "P_hiv = 0.001 \n",
    "P_nohiv = 1 - P_hiv\n",
    "\n",
    "#prior probabilities for test results if patient has hiv\n",
    "P_pos_C_hiv = 0.98\n",
    "P_neg_C_hiv = 0.02\n",
    "\n",
    "#prior probabilites for test results if patient has no hiv\n",
    "P_neg_C_nohiv = 0.99 \n",
    "P_pos_C_nohiv = 0.01\n",
    "\n",
    "\n",
    "#Calculate the unconditional probability P_pos to get a positive test result\n",
    "P_pos = \"\"\n",
    "print(P_pos)\n",
    "\n",
    "#Calculate the probability that the patient has hiv\n",
    "P_hiv_C_pos = \"\"\n",
    "print(P_hiv_C_pos)"
   ]
  },
  {
   "cell_type": "markdown",
   "id": "d2ee49bc",
   "metadata": {},
   "source": [
    "<details><summary>Click here for the solution</summary>\n",
    "\n",
    "```python \n",
    "  #prior probabilities\n",
    "\n",
    "    #prior probabilities to have hiv\n",
    "    P_hiv = 0.001 \n",
    "    P_nohiv = 1 - P_hiv\n",
    "\n",
    "    #prior probabilities for test results if patient has hiv\n",
    "    P_pos_C_hiv = 0.98\n",
    "    P_neg_C_hiv = 0.02\n",
    "\n",
    "    #prior probabilites for test results if patient has no hiv\n",
    "    P_neg_C_nohiv = 0.99 \n",
    "    P_pos_C_nohiv = 0.01\n",
    "\n",
    "\n",
    "    #Calculate the unconditional probability P_pos to get a positive test result\n",
    "    P_pos = ((P_pos_C_hiv * P_hiv) + (P_pos_C_nohiv * P_nohiv))\n",
    "    print(P_pos)\n",
    "\n",
    "    #Calculate the probability that the patient has hiv\n",
    "    P_hiv_C_pos = (P_pos_C_hiv * P_hiv) / P_pos\n",
    "    print(P_hiv_C_pos)\n",
    "    \n",
    "    \n",
    "```\n",
    "    \n",
    "In probabilistic terms, we can formulate the problem as follows:<br> <br>\n",
    "$P(positive|HIV) = 0.98$  <br>\n",
    "$P(positive|NOHIV) = 1 – 0.99 = 0.01$<br>\n",
    "$P(HIV) = 0.001$<br>\n",
    "$P(NOHIV) = 1 – 0.001 = 0.999$<br><br>\n",
    "Furthermore, the unconditional probability of being found positive can be derived using the law of total probability:<br>\n",
    "$P(positive) = P(positive|HIV)P(HIV) + P(positive|NOHIV)P(NOHIV)$\n",
    "$= 0.98 ≈ 0.001 + 0.01 ≈ 0.999$<br>\n",
    "$= 0.00098 + 0.00999$<br>\n",
    "$= 0.01097$<br><br>\n",
    "\n",
    "Therefore, Bayes’ rule gives:<br><br>\n",
    "$P(HIV|positive) = \\frac{P(positive|HIV)P(HIV)}{P(positive)} $<br><br>\n",
    "$= \\frac{0.98 * 0.001}{0.01097} $ <br><br>\n",
    "$= \\frac{0.00098}{0.01097}≈ 0.08933 $ <br><br>\n",
    "\n",
    "\n",
    "Therefore, even if the test is conditionally very accurate, the unconditional probability of being affected by HIV when\n",
    "found positive is less than 10%!\n",
    "\n",
    "</details>"
   ]
  },
  {
   "cell_type": "markdown",
   "id": "1afb0570",
   "metadata": {},
   "source": [
    "## Task 5.3\n",
    "\n",
    "2 rounds of the game Rock, Paper, Scissors, Well are played. \n",
    "\n",
    "Use the code below to:\n",
    "\n",
    "* calculate the probability for player 1 to win two rounds\n",
    "* calculate the probability for player 1 to win the second round, if the first round is already won\n",
    "* decide which combination of symbols is the best to win both rounds\n",
    "\n"
   ]
  },
  {
   "cell_type": "code",
   "execution_count": 19,
   "id": "cc5adf08",
   "metadata": {
    "scrolled": true
   },
   "outputs": [
    {
     "name": "stdout",
     "output_type": "stream",
     "text": [
      "Chances for winning both: 0\n",
      "Chances for winning the second round after winning the first: 1\n",
      "Counter({None: 1})\n"
     ]
    }
   ],
   "source": [
    "from collections import Counter\n",
    "\n",
    "\n",
    "move = {\"r\", \"p\", \"s\" , \"w\"}\n",
    "won = {\"rs\",\"pr\",\"pw\",\"sp\",\"wr\",\"ws\"}\n",
    "\n",
    "#sample space\n",
    "rpsw = cross(cross(cross(move,move),move),move)\n",
    "\n",
    "#calculate the probability for player 1 to win two rounds, change winBoth\n",
    "winBoth = {\"\"}\n",
    "print(\"Chances for winning both:\", P(winBoth, rpsw))\n",
    "\n",
    "#calculate the probability for player 1 to win the second round, if the first round is already won\n",
    "#change rpswWonFirst & winSecond\n",
    "rpswWonFirst = {\"\"}\n",
    "winSecond = {\"\"}\n",
    "print(\"Chances for winning the second round after winning the first:\", P(winSecond, rpswWonFirst))\n",
    "\n",
    "#decide which combination of symbols is the best to win both rounds\n",
    "#change None to something meaningfull, so that you get all combinations where player 1 wins both matches\n",
    "best = []\n",
    "for e in winBoth:\n",
    "    best.append((None))\n",
    "\n",
    "print(Counter(best))"
   ]
  },
  {
   "cell_type": "markdown",
   "id": "2ff9dd0e",
   "metadata": {},
   "source": [
    "<details><summary>Click here for the solution</summary>\n",
    "\n",
    "```python \n",
    "   \n",
    "    from collections import Counter\n",
    "\n",
    "\n",
    "    move = {\"r\", \"p\", \"s\" , \"w\"}\n",
    "    won = {\"rs\",\"pr\",\"pw\",\"sp\",\"wr\",\"ws\"}\n",
    "\n",
    "    #sample space\n",
    "    rpsw = cross(cross(cross(move,move),move),move)\n",
    "\n",
    "    #calculate the probability for player 1 to win two rounds, change winBoth\n",
    "    winBoth = {a for a in rpsw for b in won for c in won if a==b+c}\n",
    "    print(\"Chances for winning both:\", P(winBoth, rpsw))\n",
    "\n",
    "    #calculate the probability for player 1 to win the second round, if the first round is already won\n",
    "    #change rpswWonFirst & winSecond\n",
    "    rpswWonFirst = {a for a in rpsw for b in won if a.startswith(b)}\n",
    "    winSecond = {a for a in rpswWonFirst for b in won for c in won if a==b+c}\n",
    "    print(\"Chances for winning the second round after winning the first:\", P(winSecond, rpswWonFirst))\n",
    "\n",
    "    #decide which combination of symbols is the best to win both rounds\n",
    "    #change None to something meaningfull, so that you get all combinations where player 1 wins both matches\n",
    "    best = []\n",
    "    for e in winBoth:\n",
    "        best.append((e[0],e[2]))\n",
    "\n",
    "    print(Counter(best))\n",
    "    \n",
    "```\n",
    "\n",
    "</details>"
   ]
  },
  {
   "cell_type": "markdown",
   "id": "1c577c3b",
   "metadata": {},
   "source": [
    "\n",
    "## Thank you for completing this lab!\n",
    "\n",
    "______\n",
    "\n",
    "\n",
    "## Other Contributors\n",
    "\n",
    "N/A"
   ]
  },
  {
   "cell_type": "code",
   "execution_count": null,
   "id": "9567da1d",
   "metadata": {},
   "outputs": [],
   "source": []
  }
 ],
 "metadata": {
  "kernelspec": {
   "display_name": "Python 3 (ipykernel)",
   "language": "python",
   "name": "python3"
  },
  "language_info": {
   "codemirror_mode": {
    "name": "ipython",
    "version": 3
   },
   "file_extension": ".py",
   "mimetype": "text/x-python",
   "name": "python",
   "nbconvert_exporter": "python",
   "pygments_lexer": "ipython3",
   "version": "3.8.8"
  }
 },
 "nbformat": 4,
 "nbformat_minor": 5
}
