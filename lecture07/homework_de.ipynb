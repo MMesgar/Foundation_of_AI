{
 "cells": [
  {
   "cell_type": "markdown",
   "id": "62645554",
   "metadata": {},
   "source": [
    "# Homework: Uncertainty\n",
    "\n",
    "Version: SoSe 2022\n",
    "\n",
    "Zeit: 60 Minuten\n",
    "\n",
    "Autor: Clara Siepmann\n",
    "\n",
    "Deadline : Friday, 03.06.2022 (11:55 p.m.)\n",
    "\n",
    "______"
   ]
  },
  {
   "cell_type": "markdown",
   "id": "97d9d9ac",
   "metadata": {},
   "source": [
    "### Abgaberichtlinien\n",
    "* Jede Hausübung bringt maximal 10 Hausaufgabenpunkte. 10 Hausaufgabenpunkte entsprechen einem Klausurpunkt.\n",
    "* Im Laufe des Semesters kann es zusätzliche Bonuspunkte (= 1 Klausurpunkt) für Hausübungen geben, in Form von z.B. Challenges, weitere Informationen folgen bei den betreffenden Hausübungen.\n",
    "* Die Abgabe erfolgt in Zweier- bis Viererteams. **Einzelabgaben werden nicht gewertet**. Die Teammitglieder müssen nicht in derselben Übungsgruppe sein. Bei Problemen bzw. Einzelfällen hinsichtlich dieser Richtlinie kontaktieren Sie einen Tutor.\n",
    "* In der Abgabe müssen alle Teammitglieder mit **Namen und Matrikelnummern gut sichtbar** genannt werden.\n",
    "* Es muss immer nur **ein Teammitglied der Gruppe abgeben**. Sollten aus Versehen mehrere Abgaben der selben Übung erfolgen, kommunizieren Sie dies **zeitnah** an einen Tutor, ansonsten wird die erste korrigierte Abgabe gewertet.\n",
    "* Die Abgabe soll als Jupyter-Notebook erfolgen (.ipynb). Abgaben in einem **anderen Format werden nicht gewertet**. Bei Problemen hinsichtlich dieser Richtlinie kontaktieren Sie einen Tutor.\n",
    "* Es ist nicht nötig, den Präsenzübungsteil in der Abgabe mit abzugeben. Es wird lediglich der Hausübungsteil gewertet.\n",
    "* Wenn Sie Bilder in der Hausaufgaben abgeben wollen, fügen Sie diese folgendermaßen ein: Laden Sie das entsprechende Bild bei Google Drive hoch. Klicken Sie per Rechtsklick auf das Bild. Klicken Sie auf \"Link abrufen\". Setzen Sie die Zugangsberechtigung auf \"Jeder, der über den Link verfügt\". Kopieren Sie den Link. Erstellen Sie eine Textzelle im Notebook in der Sie das Bild einfügen möchten. Fügen Sie den Link folgendermaßen ein: ``![Bildbeschreibung]``(Link hier einfügen, in diesen Klammern). Ändern Sie den Link folgendermaßen: Von \"https://drive.google.com/file/d/XXXXX/view?usp=sharing\" zu \"https://drive.google.com/uc?id=XXXXX\". XXXXX bezeichnet in diesem Fall die individuelle ID, die in Ihrem Link vorkommt."
   ]
  },
  {
   "cell_type": "markdown",
   "id": "35197774",
   "metadata": {},
   "source": [
    "# Achtung!\n",
    "\n",
    "Wenn Sie nur die Wahrscheinlichkeiten in allen Aufgaben angeben ohne den Code dazu, gibt es 0 Punkte. Wenn Sie nicht wissen, wie Sie anfangen sollen, gehen Sie am besten schrittweise vor: Versuchen Sie zunächst den Sample Space zu repräsentieren. Entwickeln Sie dann Methoden, die den Event Space ermitteln. Anhand von Sample Space und Event Space können Sie dann die Wahrscheinlichkeit berechnen. "
   ]
  },
  {
   "cell_type": "markdown",
   "id": "f40b5250",
   "metadata": {},
   "source": [
    "# Allgemein\n",
    "\n",
    "Unten finden Sie Methoden aus der Präsenzübung. Sie können diese für Ihre Lösung verwenden.\n"
   ]
  },
  {
   "cell_type": "code",
   "execution_count": 1,
   "id": "de1be3a2",
   "metadata": {},
   "outputs": [],
   "source": [
    "import itertools\n",
    "import random\n",
    "\n",
    "from math import factorial\n",
    "from fractions import Fraction\n",
    "\n",
    "def cross(A, B):\n",
    "    \"The set of ways of concatenating one item from collection A with one from B.\"\n",
    "    return {a + b \n",
    "            for a in A for b in B}\n",
    "\n",
    "def combos(items, n):\n",
    "    \"All combinations of n items; each combo as a concatenated str.\"\n",
    "    return {' '.join(combo) \n",
    "            for combo in itertools.combinations(items, n)}\n",
    "            \n",
    "def P(event, space): \n",
    "    \"The probability of an event, given a sample space of equiprobable outcomes.\"\n",
    "    return Fraction(len(event & space), \n",
    "                    len(space))\n",
    "\n",
    "def probStr(event, space):\n",
    "    prob = len(event & space) / len(space)\n",
    "    return \"P: {:.5f}\".format(prob)\n",
    "\n",
    "def choose(n, c):\n",
    "    \"Number of ways to choose c items from a list of n items.\"\n",
    "    return factorial(n) // (factorial(n - c) * factorial(c))"
   ]
  },
  {
   "cell_type": "markdown",
   "id": "ac7e3e07",
   "metadata": {},
   "source": [
    "# Task 1 (2 Punkte)\n",
    "Es gibt eine Variante von Schnick Schnack Schnuck, die durch die Serie Big Bang Theory bekannt geworden ist (siehe Abb. 2.). In dieser Variante gibt es 5 Symbole: Schere, Stein, Papier, Echse, Spock. Schere schneidet Papier, Papier bedeckt Stein, Stein zerquetscht Echse, Echse vergiftet Spock, Spock zertrümmert Schere, Schere köpft Echse, Echse frisst Papier, Papier widerlegt Spock, Spock verdampft Stein, und Stein macht die Schere stumpf. Diese Variante reduziert die Anzahl von Unentschieden.\n",
    "\n",
    "![Rock Paper Scissors Lizard Spock Diagram](https://upload.wikimedia.org/wikipedia/commons/thumb/f/fe/Rock_Paper_Scissors_Lizard_Spock_en.svg/800px-Rock_Paper_Scissors_Lizard_Spock_en.svg.png)\n",
    "\n",
    "*Picture from https://en.wikipedia.org/wiki/File:Rock_Paper_Scissors_Lizard_Spock_en.svg*\n",
    "\n",
    "Mehr Informationen finden Sie hier: http://www.samkass.com/theories/RPSSL.html\n",
    "\n",
    "\n",
    "Berechnen Sie die Wahrscheinlichkeit für ein Unentschieden in beiden Versionen. Nutzen Sie dafür den Coden unten. Schreiben Sie Kommentare und behalten den Output im Notebook."
   ]
  },
  {
   "cell_type": "code",
   "execution_count": 2,
   "id": "68d493cc",
   "metadata": {},
   "outputs": [
    {
     "name": "stdout",
     "output_type": "stream",
     "text": [
      "Sample space Original:\n",
      " None\n",
      "\n",
      " Event space Original:\n",
      " None\n",
      "\n",
      "---------------------------------\n",
      "\n",
      "Sample space Big Bang Theory:\n",
      " None\n",
      "\n",
      " Event space Big Bang Theory:\n",
      " None\n",
      "\n",
      "---------------------------------\n",
      "\n",
      "Probability draw original: None\n",
      "\n",
      "Probability draw Big-Bang-Theory: None\n"
     ]
    }
   ],
   "source": [
    "# sample space for original version\n",
    "symbolsOriginal = {\"Schere \", \"Stein \", \"Papier \"}\n",
    "sampleSpaceOriginal = None\n",
    "# event space for original version\n",
    "eventSpaceOriginal = None\n",
    "\n",
    "print(\"Sample space Original:\\n\",sampleSpaceOriginal)\n",
    "print(\"\\n Event space Original:\\n\", eventSpaceOriginal)\n",
    "\n",
    "print(\"\\n---------------------------------\\n\")\n",
    "\n",
    "\n",
    "# sample space for Big Bang Theory Version\n",
    "symbolsBigBang = {\"scissors \", \"stone \", \"paper \", \"lizard \", \"spock \"}\n",
    "sampleSpaceBigBang = None\n",
    "# event space for Big Bang Theory Version\n",
    "eventSpaceBigBang = None\n",
    "\n",
    "print(\"Sample space Big Bang Theory:\\n\",sampleSpaceBigBang)\n",
    "print(\"\\n Event space Big Bang Theory:\\n\",eventSpaceBigBang)\n",
    "\n",
    "print(\"\\n---------------------------------\\n\")\n",
    "\n",
    "#probabiliy draw in original version\n",
    "#change probOriginal\n",
    "probOriginal=None \n",
    "print(\"Probability draw original:\", probOriginal)\n",
    "\n",
    "#probability draw in Big Bang Theory version\n",
    "#change probBBT\n",
    "probBigBang=None\n",
    "print(\"\\nProbability draw Big-Bang-Theory:\", probBigBang)\n"
   ]
  },
  {
   "cell_type": "markdown",
   "id": "c1e42647",
   "metadata": {},
   "source": [
    "# Task 2 (3 Points)\n",
    "\n",
    "Eine Analysesoftware erkennt in Videoaufnahmen die Gesichter von gesuchten Personen mit einer Wahrscheinlichkeit von 93%. Allerdings markiert die Software in 1% aller Fälle eine unverdächtige Person irrtümlich als gesucht. Die Sicherheitsbehörden erwarten, dass am Donnerstag 10 gesuchte Personen am Flughafen ankommen werden. Das Personenaufkommen pro Tag liegt bei 10.000 Fluggästen.\n",
    "Sie können annehmen, dass alle anderen Personen, die an diesem Tag ankommen unverdächtig sind. Schreiben Sie kommentierten Python-Code, der die folgenden Wahrscheinlichkeiten berechnet:\n",
    "\n",
    "* Wie viele Personen wird die Software wahrscheinlich fälschlicherweise als “gesucht” markieren?\n",
    "* Die Software schlägt Alarm. Wie groß ist die Wahrscheinlichkeit dafür, dass tatsächlich eine gesuchte Person entdeckt wurde?\n",
    "\n",
    "Nutzen Sie den Code unten und behalten Sie den Output im Notebook."
   ]
  },
  {
   "cell_type": "code",
   "execution_count": 3,
   "id": "4d820400",
   "metadata": {},
   "outputs": [
    {
     "name": "stdout",
     "output_type": "stream",
     "text": [
      "Number of guests which were searched wrongly:  None\n",
      "The the probability that a wanted person was actually discovered is:  None\n"
     ]
    }
   ],
   "source": [
    "# G : searched [P(G)]\n",
    "# NG : not searched [P(NG)]\n",
    "# GE : detected as suspicious [P(GE)]\n",
    "# NE : detected as not suspicious [P(NE)]\n",
    "# GE_G : detected as searched and is searched [P(GE|G)]\n",
    "# GE_NG : detected as searched but not searched[P(GE|NG)]\n",
    "# NE_G : detected as not searched but person is searched [P(NE|G)]\n",
    "# NE_NG : detected as not searched and person is not searched[P(NE|NG)]\n",
    "\n",
    "\n",
    "GE_G = 0.93 # in percentage\n",
    "GE_NG = 0.01 # in percentage\n",
    "guests = 10000\n",
    "suspicious = 10\n",
    "G = suspicious/guests # probability of suspicious persons\n",
    "NG = 1-G # probability of non suspicious persons\n",
    "NE_G = 1-GE_G # error suspicious\n",
    "NE_NG = 1-GE_NG # error non suspicious\n",
    "GE = GE_G*G + GE_NG*NG # Probability that someone will be searched\n",
    "\n",
    "#calculate the errors\n",
    "errors=None\n",
    "print(\"Number of guests which were searched wrongly: \", errors)\n",
    "\n",
    "#calculate the probability that a wanted person was actually discovered\n",
    "G_GE=None\n",
    "print(\"The the probability that a wanted person was actually discovered is: \", G_GE)\n",
    "\n"
   ]
  },
  {
   "cell_type": "markdown",
   "id": "e5519666",
   "metadata": {},
   "source": [
    "# Task 3 (5 Points)\n",
    "\n",
    "Anna zieht 3 Karten von einem gemischten Skatspiel (7 bis Ass, 4 Farben: Herz, Karo, Kreuz, Pik, 32 Karten). Schreiben Sie kommentierten Python-Code, der die folgenden Wahrscheinlichkeiten berechnet:\n",
    "\n",
    "* Mit welcher Wahrscheinlichkeit hat Anna drei Karten mit gleicher Farbe (z.B. Herz 7/Herz Bube/Herz As)? \n",
    "* Mit welcher Wahrscheinlichkeit hat Anna drei Karten mit dem gleichen Wert (= unterschiedliche Farbe, gleicher Wert)? \n",
    "\n",
    "Nutzen Sie den Code unten und behalten Sie den Output im Notebook."
   ]
  },
  {
   "cell_type": "code",
   "execution_count": 4,
   "id": "a5ee589a",
   "metadata": {},
   "outputs": [
    {
     "name": "stdout",
     "output_type": "stream",
     "text": [
      "Deck:\n",
      " [] \n",
      "\n",
      "Length deck:  0 \n",
      "\n",
      "The probability that Anna has 3 cards of the same color is:  None \n",
      "\n",
      "\n",
      "The probability that Anna has 3 cards with the same value is:  None \n",
      "\n",
      "\n"
     ]
    }
   ],
   "source": [
    "#remeber you can use the functions from above\n",
    "suits = {\"♥\",\"♠\",\"♦\",\"♣\"}\n",
    "ranks = {\"7\",\"8\",\"9\",\"10\",\"B\",\"D\",\"K\",\"A\"}\n",
    "#create the sample space\n",
    "deck  = []\n",
    "\n",
    "print(\"Deck:\\n\",deck,\"\\n\")\n",
    "#the deck should have a length of 32\n",
    "print(\"Length deck: \", len(deck),\"\\n\")\n",
    "\n",
    "#create all possible hands for Anna (3 cards)\n",
    "hands = None\n",
    "\n",
    "#probability that Anna has three cards of the same color\n",
    "#flush is the event space\n",
    "flush = None\n",
    "probFlush= None\n",
    "\n",
    "print(\"The probability that Anna has 3 cards of the same color is: \", probFlush, \"\\n\\n\")\n",
    "\n",
    "#probability that Anna has three cards of equal value\n",
    "#equalValue is the event space\n",
    "equalValue = None\n",
    "probEqualValue=None\n",
    "print(\"The probability that Anna has 3 cards with the same value is: \", probEqualValue, \"\\n\\n\")"
   ]
  },
  {
   "cell_type": "markdown",
   "id": "35dee28b",
   "metadata": {},
   "source": [
    "\n",
    "## Vielen Dank für die Teilnahme an dieser Übung\n",
    "\n",
    "______\n",
    "\n",
    "\n",
    "## Andere Mitwirkende\n",
    "\n",
    "N/A"
   ]
  },
  {
   "cell_type": "code",
   "execution_count": null,
   "id": "9570a31c",
   "metadata": {},
   "outputs": [],
   "source": []
  }
 ],
 "metadata": {
  "kernelspec": {
   "display_name": "Python 3 (ipykernel)",
   "language": "python",
   "name": "python3"
  },
  "language_info": {
   "codemirror_mode": {
    "name": "ipython",
    "version": 3
   },
   "file_extension": ".py",
   "mimetype": "text/x-python",
   "name": "python",
   "nbconvert_exporter": "python",
   "pygments_lexer": "ipython3",
   "version": "3.8.8"
  }
 },
 "nbformat": 4,
 "nbformat_minor": 5
}
